{
 "cells": [
  {
   "cell_type": "code",
   "execution_count": 12,
   "id": "7d98ccea-fa3e-430a-ab78-601d0979dd39",
   "metadata": {},
   "outputs": [
    {
     "name": "stderr",
     "output_type": "stream",
     "text": [
      "Warning message:\n",
      "\"packages 'gggmap', 'mosaic' are not available (for R version 3.6.1)\"Warning message:\n",
      "\"dependency 'broom.helpers' is not available\"also installing the dependencies 'stringi', 'isoband', 'rlang', 'vctrs', 'cli', 'glue', 'pillar', 'tibble', 'tidyselect', 'purrr', 'stringr', 'patchwork', 'farver', 'ggplot2', 'dplyr', 'tidyr', 'ggstats', 'lifecycle', 'scales', 'igraph'\n",
      "\n",
      "Warning message:\n",
      "\"unable to access index for repository https://cran.r-project.org/bin/windows/contrib/3.6:\n",
      "  cannot open URL 'https://cran.r-project.org/bin/windows/contrib/3.6/PACKAGES'\"Packages which are only available in source form, and may need\n",
      "  compilation of C/C++/Fortran: 'stringi' 'isoband' 'rlang' 'vctrs'\n",
      "  'cli' 'glue' 'tibble' 'tidyselect' 'purrr' 'farver' 'dplyr' 'tidyr'\n",
      "  'scales' 'igraph'\n"
     ]
    },
    {
     "name": "stdout",
     "output_type": "stream",
     "text": [
      "  These will not be installed\n"
     ]
    },
    {
     "name": "stderr",
     "output_type": "stream",
     "text": [
      "installing the source packages 'pillar', 'stringr', 'patchwork', 'ggplot2', 'ggstats', 'lifecycle', 'GGally', 'treemap'\n",
      "\n",
      "Warning message in install.packages(c(\"GGally\", \"gggmap\", \"mosaic\", \"treemap\")):\n",
      "\"installation of package 'lifecycle' had non-zero exit status\"Warning message in install.packages(c(\"GGally\", \"gggmap\", \"mosaic\", \"treemap\")):\n",
      "\"installation of package 'pillar' had non-zero exit status\"Warning message in install.packages(c(\"GGally\", \"gggmap\", \"mosaic\", \"treemap\")):\n",
      "\"installation of package 'stringr' had non-zero exit status\"Warning message in install.packages(c(\"GGally\", \"gggmap\", \"mosaic\", \"treemap\")):\n",
      "\"installation of package 'ggplot2' had non-zero exit status\"Warning message in install.packages(c(\"GGally\", \"gggmap\", \"mosaic\", \"treemap\")):\n",
      "\"installation of package 'patchwork' had non-zero exit status\"Warning message in install.packages(c(\"GGally\", \"gggmap\", \"mosaic\", \"treemap\")):\n",
      "\"installation of package 'treemap' had non-zero exit status\"Warning message in install.packages(c(\"GGally\", \"gggmap\", \"mosaic\", \"treemap\")):\n",
      "\"installation of package 'ggstats' had non-zero exit status\"Warning message in install.packages(c(\"GGally\", \"gggmap\", \"mosaic\", \"treemap\")):\n",
      "\"installation of package 'GGally' had non-zero exit status\""
     ]
    }
   ],
   "source": [
    "install.packages(c('GGally','gggmap','mosaic','treemap'))"
   ]
  },
  {
   "cell_type": "code",
   "execution_count": 7,
   "id": "0ded1b51-813d-474f-ab47-4020c528aa82",
   "metadata": {},
   "outputs": [
    {
     "ename": "ERROR",
     "evalue": "Error in library(\"GGally\"): there is no package called 'GGally'\n",
     "output_type": "error",
     "traceback": [
      "Error in library(\"GGally\"): there is no package called 'GGally'\nTraceback:\n",
      "1. library(\"GGally\")"
     ]
    }
   ],
   "source": [
    "library('GGally')"
   ]
  },
  {
   "cell_type": "code",
   "execution_count": null,
   "id": "545e3cce-e569-4287-b260-c47a11712eb3",
   "metadata": {},
   "outputs": [],
   "source": []
  },
  {
   "cell_type": "code",
   "execution_count": null,
   "id": "58a57dc3-69e0-4aef-a0b4-108e77424736",
   "metadata": {},
   "outputs": [],
   "source": []
  }
 ],
 "metadata": {
  "kernelspec": {
   "display_name": "R",
   "language": "R",
   "name": "ir"
  },
  "language_info": {
   "codemirror_mode": "r",
   "file_extension": ".r",
   "mimetype": "text/x-r-source",
   "name": "R",
   "pygments_lexer": "r",
   "version": "3.6.1"
  }
 },
 "nbformat": 4,
 "nbformat_minor": 5
}
