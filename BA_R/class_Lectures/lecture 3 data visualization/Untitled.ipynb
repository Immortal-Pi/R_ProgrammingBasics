{
 "cells": [
  {
   "cell_type": "markdown",
   "id": "564a7a16-529a-467f-b375-94398b4eaf9f",
   "metadata": {},
   "source": [
    "# Data visualization using R"
   ]
  },
  {
   "cell_type": "code",
   "execution_count": 6,
   "id": "f1ff831b-1ba6-4288-8e1d-c904c568b28c",
   "metadata": {},
   "outputs": [
    {
     "ename": "ERROR",
     "evalue": "Error in parse(text = x, srcfile = src): <text>:1:7: unexpected symbol\n1: ! pip install\n          ^\n",
     "output_type": "error",
     "traceback": [
      "Error in parse(text = x, srcfile = src): <text>:1:7: unexpected symbol\n1: ! pip install\n          ^\nTraceback:\n"
     ]
    }
   ],
   "source": []
  },
  {
   "cell_type": "code",
   "execution_count": 7,
   "id": "60facd56-2c83-4e85-9ba7-1146f74ec96a",
   "metadata": {},
   "outputs": [
    {
     "name": "stderr",
     "output_type": "stream",
     "text": [
      "Warning message:\n",
      "\"dependency 'broom.helpers' is not available\"\n",
      "also installing the dependencies 'scales', 'ggplot2', 'ggstats'\n",
      "\n",
      "\n"
     ]
    },
    {
     "name": "stdout",
     "output_type": "stream",
     "text": [
      "\n",
      "  There are binary versions available but the source versions are later:\n",
      "         binary source needs_compilation\n",
      "scales    1.2.1  1.3.0              TRUE\n",
      "ggplot2   3.4.2  3.5.1             FALSE\n",
      "ggstats   0.3.0  0.6.0             FALSE\n",
      "GGally    2.1.2  2.2.1             FALSE\n",
      "ggmap     3.0.2  4.0.0             FALSE\n",
      "mosaic  1.8.4.2  1.9.1             FALSE\n",
      "treemap   2.4-3  2.4-4             FALSE\n",
      "\n",
      "  Binaries will be installed\n",
      "package 'scales' successfully unpacked and MD5 sums checked\n",
      "\n",
      "The downloaded binary packages are in\n",
      "\tC:\\Users\\26amr\\AppData\\Local\\Temp\\RtmpAJfzKl\\downloaded_packages\n"
     ]
    },
    {
     "name": "stderr",
     "output_type": "stream",
     "text": [
      "installing the source packages 'ggplot2', 'ggstats', 'GGally', 'ggmap', 'mosaic', 'treemap'\n",
      "\n",
      "\n",
      "Warning message in install.packages(c(\"GGally\", \"ggmap\", \"mosaic\", \"treemap\")):\n",
      "\"installation of package 'ggplot2' had non-zero exit status\"\n",
      "Warning message in install.packages(c(\"GGally\", \"ggmap\", \"mosaic\", \"treemap\")):\n",
      "\"installation of package 'ggstats' had non-zero exit status\"\n",
      "Warning message in install.packages(c(\"GGally\", \"ggmap\", \"mosaic\", \"treemap\")):\n",
      "\"installation of package 'treemap' had non-zero exit status\"\n",
      "Warning message in install.packages(c(\"GGally\", \"ggmap\", \"mosaic\", \"treemap\")):\n",
      "\"installation of package 'GGally' had non-zero exit status\"\n"
     ]
    }
   ],
   "source": [
    "install.packages(c(\"GGally\", \"ggmap\", \"mosaic\", \"treemap\"))"
   ]
  },
  {
   "cell_type": "code",
   "execution_count": 6,
   "id": "cf6ca46b-5976-4e30-8052-625d9af00235",
   "metadata": {},
   "outputs": [
    {
     "name": "stderr",
     "output_type": "stream",
     "text": [
      "also installing the dependencies 'farver', 'cli', 'rlang', 'vctrs', 'isoband', 'scales', 'glue', 'stringi'\n",
      "\n",
      "Warning message:\n",
      "\"unable to access index for repository https://cran.r-project.org/bin/windows/contrib/3.6:\n",
      "  cannot open URL 'https://cran.r-project.org/bin/windows/contrib/3.6/PACKAGES'\"Packages which are only available in source form, and may need\n",
      "  compilation of C/C++/Fortran: 'farver' 'cli' 'rlang' 'vctrs'\n",
      "  'isoband' 'scales' 'glue' 'stringi'\n"
     ]
    },
    {
     "name": "stdout",
     "output_type": "stream",
     "text": [
      "  These will not be installed\n"
     ]
    },
    {
     "name": "stderr",
     "output_type": "stream",
     "text": [
      "installing the source packages 'lifecycle', 'pillar', 'ggplot2', 'stringr', 'patchwork'\n",
      "\n",
      "Warning message in install.packages(c(\"lifecycle\", \"pillar\", \"ggplot2\", \"stringr\", :\n",
      "\"installation of package 'lifecycle' had non-zero exit status\"Warning message in install.packages(c(\"lifecycle\", \"pillar\", \"ggplot2\", \"stringr\", :\n",
      "\"installation of package 'pillar' had non-zero exit status\"Warning message in install.packages(c(\"lifecycle\", \"pillar\", \"ggplot2\", \"stringr\", :\n",
      "\"installation of package 'ggplot2' had non-zero exit status\"Warning message in install.packages(c(\"lifecycle\", \"pillar\", \"ggplot2\", \"stringr\", :\n",
      "\"installation of package 'stringr' had non-zero exit status\"Warning message in install.packages(c(\"lifecycle\", \"pillar\", \"ggplot2\", \"stringr\", :\n",
      "\"installation of package 'patchwork' had non-zero exit status\"Warning message:\n",
      "\"dependency 'broom.helpers' is not available\"also installing the dependencies 'isoband', 'rlang', 'vctrs', 'cli', 'glue', 'pillar', 'tibble', 'tidyselect', 'purrr', 'farver', 'stringi', 'ggplot2', 'dplyr', 'tidyr', 'lifecycle', 'scales', 'png', 'jpeg', 'bitops', 'stringr', 'igraph', 'patchwork'\n",
      "\n",
      "Warning message:\n",
      "\"unable to access index for repository https://cran.r-project.org/bin/windows/contrib/3.6:\n",
      "  cannot open URL 'https://cran.r-project.org/bin/windows/contrib/3.6/PACKAGES'\"Packages which are only available in source form, and may need\n",
      "  compilation of C/C++/Fortran: 'isoband' 'rlang' 'vctrs' 'cli' 'glue'\n",
      "  'tibble' 'tidyselect' 'purrr' 'farver' 'stringi' 'dplyr' 'tidyr'\n",
      "  'scales' 'png' 'jpeg' 'bitops' 'igraph'\n"
     ]
    },
    {
     "name": "stdout",
     "output_type": "stream",
     "text": [
      "  These will not be installed\n"
     ]
    },
    {
     "name": "stderr",
     "output_type": "stream",
     "text": [
      "installing the source packages 'pillar', 'ggplot2', 'lifecycle', 'stringr', 'patchwork', 'GGally', 'ggmap', 'treemap', 'ggstats'\n",
      "\n",
      "Warning message in install.packages(c(\"GGally\", \"ggmap\", \"treemap\", \"ggstats\")):\n",
      "\"installation of package 'lifecycle' had non-zero exit status\"Warning message in install.packages(c(\"GGally\", \"ggmap\", \"treemap\", \"ggstats\")):\n",
      "\"installation of package 'pillar' had non-zero exit status\"Warning message in install.packages(c(\"GGally\", \"ggmap\", \"treemap\", \"ggstats\")):\n",
      "\"installation of package 'ggplot2' had non-zero exit status\"Warning message in install.packages(c(\"GGally\", \"ggmap\", \"treemap\", \"ggstats\")):\n",
      "\"installation of package 'stringr' had non-zero exit status\"Warning message in install.packages(c(\"GGally\", \"ggmap\", \"treemap\", \"ggstats\")):\n",
      "\"installation of package 'patchwork' had non-zero exit status\"Warning message in install.packages(c(\"GGally\", \"ggmap\", \"treemap\", \"ggstats\")):\n",
      "\"installation of package 'ggmap' had non-zero exit status\"Warning message in install.packages(c(\"GGally\", \"ggmap\", \"treemap\", \"ggstats\")):\n",
      "\"installation of package 'treemap' had non-zero exit status\"Warning message in install.packages(c(\"GGally\", \"ggmap\", \"treemap\", \"ggstats\")):\n",
      "\"installation of package 'ggstats' had non-zero exit status\"Warning message in install.packages(c(\"GGally\", \"ggmap\", \"treemap\", \"ggstats\")):\n",
      "\"installation of package 'GGally' had non-zero exit status\""
     ]
    }
   ],
   "source": [
    "install.packages(c(\"lifecycle\", \"pillar\", \"ggplot2\", \"stringr\", \"patchwork\"))\n",
    "install.packages(c(\"GGally\", \"ggmap\", \"treemap\", \"ggstats\"))"
   ]
  },
  {
   "cell_type": "code",
   "execution_count": null,
   "id": "0a3123db-0558-4cc5-82f2-5004adcd0841",
   "metadata": {},
   "outputs": [],
   "source": []
  }
 ],
 "metadata": {
  "kernelspec": {
   "display_name": "R",
   "language": "R",
   "name": "ir"
  },
  "language_info": {
   "codemirror_mode": "r",
   "file_extension": ".r",
   "mimetype": "text/x-r-source",
   "name": "R",
   "pygments_lexer": "r",
   "version": "4.1.3"
  }
 },
 "nbformat": 4,
 "nbformat_minor": 5
}
