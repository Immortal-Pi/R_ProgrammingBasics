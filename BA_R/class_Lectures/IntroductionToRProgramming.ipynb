{
 "cells": [
  {
   "cell_type": "markdown",
   "id": "3c89efbd-1595-4201-aa91-1ea43216ad3f",
   "metadata": {},
   "source": [
    "# R Bootcamp: Session 1"
   ]
  },
  {
   "cell_type": "markdown",
   "id": "becc3357-e054-4f3a-b40f-b19f92eb7268",
   "metadata": {},
   "source": [
    "# R Variables\n",
    "- variables are containers for storing variables\n"
   ]
  },
  {
   "cell_type": "markdown",
   "id": "64281971-b668-4b07-b5ae-00deee241405",
   "metadata": {},
   "source": [
    "## Creating and using Variables"
   ]
  },
  {
   "cell_type": "code",
   "execution_count": 139,
   "id": "5e96ce91-84d1-4576-9c00-b8a2e2287e7c",
   "metadata": {},
   "outputs": [],
   "source": [
    "a<-10\n",
    "b<-5"
   ]
  },
  {
   "cell_type": "code",
   "execution_count": 140,
   "id": "7f87fa64-713a-4bfb-8003-74e191511df8",
   "metadata": {},
   "outputs": [
    {
     "data": {
      "text/html": [
       "15"
      ],
      "text/latex": [
       "15"
      ],
      "text/markdown": [
       "15"
      ],
      "text/plain": [
       "[1] 15"
      ]
     },
     "metadata": {},
     "output_type": "display_data"
    }
   ],
   "source": [
    "c<-a+b\n",
    "c"
   ]
  },
  {
   "cell_type": "markdown",
   "id": "a875f3bc-7752-4676-9807-30340dcea50d",
   "metadata": {},
   "source": [
    "#### difference between <- and = (= doesnt work in a loop)"
   ]
  },
  {
   "cell_type": "code",
   "execution_count": 141,
   "id": "277f8ab4-c7d1-4a41-b60e-1aa14c8804cf",
   "metadata": {},
   "outputs": [],
   "source": [
    "a<-20"
   ]
  },
  {
   "cell_type": "code",
   "execution_count": 142,
   "id": "a9c04735-33d4-47a7-a1ac-76f4b0099ff5",
   "metadata": {},
   "outputs": [],
   "source": [
    "a=10"
   ]
  },
  {
   "cell_type": "code",
   "execution_count": 143,
   "id": "1c774508-27ce-4a71-a1b8-0966b211b254",
   "metadata": {},
   "outputs": [
    {
     "data": {
      "text/html": [
       "10"
      ],
      "text/latex": [
       "10"
      ],
      "text/markdown": [
       "10"
      ],
      "text/plain": [
       "[1] 10"
      ]
     },
     "metadata": {},
     "output_type": "display_data"
    }
   ],
   "source": [
    "a"
   ]
  },
  {
   "cell_type": "code",
   "execution_count": 144,
   "id": "cc51c0f2-f525-4bde-aa6a-15ea7949fa52",
   "metadata": {},
   "outputs": [
    {
     "data": {
      "text/html": [
       "'double'"
      ],
      "text/latex": [
       "'double'"
      ],
      "text/markdown": [
       "'double'"
      ],
      "text/plain": [
       "[1] \"double\""
      ]
     },
     "metadata": {},
     "output_type": "display_data"
    }
   ],
   "source": [
    "typeof(a)"
   ]
  },
  {
   "cell_type": "code",
   "execution_count": 145,
   "id": "5f3141b7-b123-4def-a55d-82af9594d31e",
   "metadata": {},
   "outputs": [
    {
     "data": {
      "text/html": [
       "'double'"
      ],
      "text/latex": [
       "'double'"
      ],
      "text/markdown": [
       "'double'"
      ],
      "text/plain": [
       "[1] \"double\""
      ]
     },
     "metadata": {},
     "output_type": "display_data"
    }
   ],
   "source": [
    "c=15.0\n",
    "typeof(c)"
   ]
  },
  {
   "cell_type": "markdown",
   "id": "5bcb5530-5056-453d-bef6-94d9fcbab387",
   "metadata": {},
   "source": [
    "# performing operation\n",
    ". doesnt quantify anything \n",
    "we can have . in variable names"
   ]
  },
  {
   "cell_type": "code",
   "execution_count": 146,
   "id": "2c1b2e0b-fed3-4299-af3d-773718fa55a8",
   "metadata": {},
   "outputs": [],
   "source": [
    "var.a=2.5\n",
    "var.b<-4\n",
    "\n",
    "result<- var.a/var.b"
   ]
  },
  {
   "cell_type": "code",
   "execution_count": 147,
   "id": "a7044b69-2b8d-4dcc-9205-a586e998980c",
   "metadata": {},
   "outputs": [
    {
     "data": {
      "text/html": [
       "2.5"
      ],
      "text/latex": [
       "2.5"
      ],
      "text/markdown": [
       "2.5"
      ],
      "text/plain": [
       "[1] 2.5"
      ]
     },
     "metadata": {},
     "output_type": "display_data"
    }
   ],
   "source": [
    "var.a"
   ]
  },
  {
   "cell_type": "code",
   "execution_count": 148,
   "id": "f23352de-565f-4e2c-a13b-1148f0d26686",
   "metadata": {},
   "outputs": [
    {
     "data": {
      "text/html": [
       "1.58113883008419"
      ],
      "text/latex": [
       "1.58113883008419"
      ],
      "text/markdown": [
       "1.58113883008419"
      ],
      "text/plain": [
       "[1] 1.581139"
      ]
     },
     "metadata": {},
     "output_type": "display_data"
    }
   ],
   "source": [
    "result.a<-sqrt(var.a)\n",
    "result.a"
   ]
  },
  {
   "cell_type": "code",
   "execution_count": 149,
   "id": "4d6d92a6-8aaf-4c75-82fd-d15dc23613d7",
   "metadata": {},
   "outputs": [
    {
     "data": {
      "text/html": [
       "'double'"
      ],
      "text/latex": [
       "'double'"
      ],
      "text/markdown": [
       "'double'"
      ],
      "text/plain": [
       "[1] \"double\""
      ]
     },
     "metadata": {},
     "output_type": "display_data"
    }
   ],
   "source": [
    "typeof(result.a)"
   ]
  },
  {
   "cell_type": "code",
   "execution_count": 150,
   "id": "b424365b-1002-4c59-be74-78d52c91c2b6",
   "metadata": {},
   "outputs": [
    {
     "name": "stdout",
     "output_type": "stream",
     "text": [
      "[1] 1.581139\n"
     ]
    }
   ],
   "source": [
    "print(result.a)"
   ]
  },
  {
   "cell_type": "markdown",
   "id": "1af6bb68-eff9-44ef-90c7-5bec0a9d3abd",
   "metadata": {},
   "source": [
    "# Logical Variables and operators"
   ]
  },
  {
   "cell_type": "code",
   "execution_count": 151,
   "id": "21f51c29-585a-4f2e-b201-abba344953d2",
   "metadata": {},
   "outputs": [
    {
     "data": {
      "text/html": [
       "TRUE"
      ],
      "text/latex": [
       "TRUE"
      ],
      "text/markdown": [
       "TRUE"
      ],
      "text/plain": [
       "[1] TRUE"
      ]
     },
     "metadata": {},
     "output_type": "display_data"
    }
   ],
   "source": [
    "4<5"
   ]
  },
  {
   "cell_type": "code",
   "execution_count": 152,
   "id": "648241ed-4eb3-467a-bcd3-189e3d2246e8",
   "metadata": {},
   "outputs": [
    {
     "data": {
      "text/html": [
       "FALSE"
      ],
      "text/latex": [
       "FALSE"
      ],
      "text/markdown": [
       "FALSE"
      ],
      "text/plain": [
       "[1] FALSE"
      ]
     },
     "metadata": {},
     "output_type": "display_data"
    }
   ],
   "source": [
    "4==5"
   ]
  },
  {
   "cell_type": "code",
   "execution_count": 153,
   "id": "28a03b29-bf9d-4644-8a49-faf870fe6021",
   "metadata": {},
   "outputs": [
    {
     "data": {
      "text/html": [
       "TRUE"
      ],
      "text/latex": [
       "TRUE"
      ],
      "text/markdown": [
       "TRUE"
      ],
      "text/plain": [
       "[1] TRUE"
      ]
     },
     "metadata": {},
     "output_type": "display_data"
    }
   ],
   "source": [
    "result<-4<5\n",
    "result"
   ]
  },
  {
   "cell_type": "code",
   "execution_count": 154,
   "id": "62a69f97-e57e-4dc7-86fb-d5dd81c3fc83",
   "metadata": {},
   "outputs": [
    {
     "data": {
      "text/html": [
       "'logical'"
      ],
      "text/latex": [
       "'logical'"
      ],
      "text/markdown": [
       "'logical'"
      ],
      "text/plain": [
       "[1] \"logical\""
      ]
     },
     "metadata": {},
     "output_type": "display_data"
    }
   ],
   "source": [
    "typeof(result)"
   ]
  },
  {
   "cell_type": "markdown",
   "id": "0847ac7e-f7d3-44cc-b713-bc3b8e8258fa",
   "metadata": {},
   "source": [
    "# logical operators"
   ]
  },
  {
   "cell_type": "code",
   "execution_count": 155,
   "id": "b89f413e-a429-48ba-ba23-93f590fe5fc7",
   "metadata": {},
   "outputs": [
    {
     "data": {
      "text/html": [
       "FALSE"
      ],
      "text/latex": [
       "FALSE"
      ],
      "text/markdown": [
       "FALSE"
      ],
      "text/plain": [
       "[1] FALSE"
      ]
     },
     "metadata": {},
     "output_type": "display_data"
    }
   ],
   "source": [
    "resulta<-!TRUE\n",
    "resulta"
   ]
  },
  {
   "cell_type": "code",
   "execution_count": 156,
   "id": "ffde9324-44e8-442f-9edb-c7f0064fb24a",
   "metadata": {},
   "outputs": [
    {
     "data": {
      "text/html": [
       "TRUE"
      ],
      "text/latex": [
       "TRUE"
      ],
      "text/markdown": [
       "TRUE"
      ],
      "text/plain": [
       "[1] TRUE"
      ]
     },
     "metadata": {},
     "output_type": "display_data"
    }
   ],
   "source": [
    "resulta|result"
   ]
  },
  {
   "cell_type": "code",
   "execution_count": 157,
   "id": "3fea9cb0-2b05-455c-b89c-c1932eda23e4",
   "metadata": {},
   "outputs": [
    {
     "data": {
      "text/html": [
       "FALSE"
      ],
      "text/latex": [
       "FALSE"
      ],
      "text/markdown": [
       "FALSE"
      ],
      "text/plain": [
       "[1] FALSE"
      ]
     },
     "metadata": {},
     "output_type": "display_data"
    }
   ],
   "source": [
    "resulta & result"
   ]
  },
  {
   "cell_type": "markdown",
   "id": "13c0049d-8eaa-44a7-8230-1bae9d2de385",
   "metadata": {},
   "source": [
    "# Process Control"
   ]
  },
  {
   "cell_type": "markdown",
   "id": "4c6e0252-9607-40fd-b41a-6837f9ab8995",
   "metadata": {},
   "source": [
    "## while loop"
   ]
  },
  {
   "cell_type": "code",
   "execution_count": 158,
   "id": "edc5e09f-9a42-4af8-85cf-1f1224c48231",
   "metadata": {},
   "outputs": [
    {
     "name": "stdout",
     "output_type": "stream",
     "text": [
      "[1] 1\n",
      "[1] 2\n",
      "[1] 3\n",
      "[1] 4\n",
      "[1] 5\n",
      "[1] 6\n",
      "[1] 7\n",
      "[1] 8\n",
      "[1] 9\n",
      "[1] 10\n"
     ]
    }
   ],
   "source": [
    "n=0\n",
    "while(n<10){\n",
    "    n=n+1\n",
    "    print(n)\n",
    "}"
   ]
  },
  {
   "cell_type": "markdown",
   "id": "c1e43653-5718-4421-9bfc-94ecf0e32a07",
   "metadata": {},
   "source": [
    "## break"
   ]
  },
  {
   "cell_type": "code",
   "execution_count": 159,
   "id": "c060c328-e512-4c31-a288-7c9186e1931f",
   "metadata": {},
   "outputs": [
    {
     "name": "stdout",
     "output_type": "stream",
     "text": [
      "[1] 1\n",
      "[1] 2\n",
      "[1] 3\n"
     ]
    }
   ],
   "source": [
    "i<-1\n",
    "while(i<10){\n",
    "    print(i)\n",
    "    i<-i+1\n",
    "    if (i==4){\n",
    "        break\n",
    "    }\n",
    "}"
   ]
  },
  {
   "cell_type": "markdown",
   "id": "272773da-0b4d-4f9d-9c7d-ea3701114a69",
   "metadata": {},
   "source": [
    "## For"
   ]
  },
  {
   "cell_type": "code",
   "execution_count": 160,
   "id": "8b5fce4b-f05a-4100-bf5d-d1cc642816e8",
   "metadata": {},
   "outputs": [
    {
     "name": "stdout",
     "output_type": "stream",
     "text": [
      "[1] \"apples\"\n",
      "[1] \"banana\"\n",
      "[1] \"mango\"\n"
     ]
    }
   ],
   "source": [
    "## For Loop\n",
    "fruits <- list('apples','banana','mango')\n",
    "\n",
    "for (x in fruits){\n",
    "    print(x)\n",
    "}"
   ]
  },
  {
   "cell_type": "code",
   "execution_count": 161,
   "id": "7aed104e-0af1-4338-b61e-9760cad17681",
   "metadata": {},
   "outputs": [
    {
     "name": "stdout",
     "output_type": "stream",
     "text": [
      "[1] \"red\"\n",
      "[1] \"blue\"\n",
      "[1] \"green\"\n",
      "[[1]]\n",
      "[1] \"red\"\n",
      "\n",
      "[[2]]\n",
      "[1] \"blue\"\n",
      "\n",
      "[[3]]\n",
      "[1] \"green\"\n",
      "\n"
     ]
    }
   ],
   "source": [
    "# RStudio works differently\n",
    "colors <- list('red', 'blue', 'green')\n",
    "for (x in colors){\n",
    "    print(x)\n",
    "}\n",
    "print(colors)"
   ]
  },
  {
   "cell_type": "code",
   "execution_count": 162,
   "id": "968c9588-0fa7-480f-8f09-f50209a5acd5",
   "metadata": {},
   "outputs": [
    {
     "name": "stdout",
     "output_type": "stream",
     "text": [
      "[1] \"apples red\"\n",
      "[1] \"apples blue\"\n",
      "[1] \"apples green\"\n",
      "[1] \"banana red\"\n",
      "[1] \"banana blue\"\n",
      "[1] \"banana green\"\n",
      "[1] \"mango red\"\n",
      "[1] \"mango blue\"\n",
      "[1] \"mango green\"\n"
     ]
    }
   ],
   "source": [
    "# paste command\n",
    "for (x in fruits){\n",
    "    for (y in colors){\n",
    "        print(paste(x,y))\n",
    "    }\n",
    "}"
   ]
  },
  {
   "cell_type": "markdown",
   "id": "c52609f1-bbed-4274-b7a9-e59445aa04e4",
   "metadata": {},
   "source": [
    "# R bootcamp: Session 2"
   ]
  },
  {
   "cell_type": "markdown",
   "id": "3b4adab5-7cf4-4bfc-b1f4-4449bad615db",
   "metadata": {},
   "source": [
    "## Vectors\n",
    "A vector is a simply a list of items that are of the same type. To combine the list of items to a vecot,  use the c() function and separate the items by a comma"
   ]
  },
  {
   "cell_type": "code",
   "execution_count": 163,
   "id": "5fb59c4d-fbb3-4d74-bfb5-361d5f2f113b",
   "metadata": {},
   "outputs": [
    {
     "data": {
      "text/html": [
       "<ol class=list-inline>\n",
       "\t<li>3</li>\n",
       "\t<li>4</li>\n",
       "\t<li>56</li>\n",
       "\t<li>77</li>\n",
       "\t<li>4</li>\n",
       "\t<li>5</li>\n",
       "</ol>\n"
      ],
      "text/latex": [
       "\\begin{enumerate*}\n",
       "\\item 3\n",
       "\\item 4\n",
       "\\item 56\n",
       "\\item 77\n",
       "\\item 4\n",
       "\\item 5\n",
       "\\end{enumerate*}\n"
      ],
      "text/markdown": [
       "1. 3\n",
       "2. 4\n",
       "3. 56\n",
       "4. 77\n",
       "5. 4\n",
       "6. 5\n",
       "\n",
       "\n"
      ],
      "text/plain": [
       "[1]  3  4 56 77  4  5"
      ]
     },
     "metadata": {},
     "output_type": "display_data"
    }
   ],
   "source": [
    "v1<- c(3,4,56,77,4,5)\n",
    "v1"
   ]
  },
  {
   "cell_type": "code",
   "execution_count": 164,
   "id": "7cb12ed9-7cad-43aa-995e-ceeaa0006af7",
   "metadata": {},
   "outputs": [
    {
     "data": {
      "text/html": [
       "'double'"
      ],
      "text/latex": [
       "'double'"
      ],
      "text/markdown": [
       "'double'"
      ],
      "text/plain": [
       "[1] \"double\""
      ]
     },
     "metadata": {},
     "output_type": "display_data"
    }
   ],
   "source": [
    "typeof(v1)"
   ]
  },
  {
   "cell_type": "code",
   "execution_count": 165,
   "id": "cfa1facc-49f1-4021-8085-b1fd5fea2955",
   "metadata": {},
   "outputs": [
    {
     "data": {
      "text/html": [
       "'double'"
      ],
      "text/latex": [
       "'double'"
      ],
      "text/markdown": [
       "'double'"
      ],
      "text/plain": [
       "[1] \"double\""
      ]
     },
     "metadata": {},
     "output_type": "display_data"
    },
    {
     "data": {
      "text/html": [
       "FALSE"
      ],
      "text/latex": [
       "FALSE"
      ],
      "text/markdown": [
       "FALSE"
      ],
      "text/plain": [
       "[1] FALSE"
      ]
     },
     "metadata": {},
     "output_type": "display_data"
    }
   ],
   "source": [
    "v2<- c(23,55,66,88,12)\n",
    "# v2<-as.vector(v2)\n",
    "typeof(v2)\n",
    "is.integer(v2)"
   ]
  },
  {
   "cell_type": "code",
   "execution_count": 166,
   "id": "158fc875-8a15-4c9c-8ece-0f2d7a36a140",
   "metadata": {},
   "outputs": [
    {
     "name": "stdout",
     "output_type": "stream",
     "text": [
      "[1] 23\n",
      "[1] 55\n",
      "[1] 66\n",
      "[1] 88\n",
      "[1] 12\n"
     ]
    }
   ],
   "source": [
    "for(x in v2){\n",
    "    print(x)\n",
    "}"
   ]
  },
  {
   "cell_type": "code",
   "execution_count": 167,
   "id": "2df6a8f9-4e25-4850-ae36-f20658050372",
   "metadata": {},
   "outputs": [
    {
     "data": {
      "text/html": [
       "\n",
       "<table width=\"100%\" summary=\"page for c {base}\"><tr><td>c {base}</td><td style=\"text-align: right;\">R Documentation</td></tr></table>\n",
       "\n",
       "<h2>Combine Values into a Vector or List</h2>\n",
       "\n",
       "<h3>Description</h3>\n",
       "\n",
       "<p>This is a generic function which combines its arguments.\n",
       "</p>\n",
       "<p>The default method combines its arguments to form a vector.\n",
       "All arguments are coerced to a common type which is the type\n",
       "of the returned value, and all attributes except names are removed.\n",
       "</p>\n",
       "\n",
       "\n",
       "<h3>Usage</h3>\n",
       "\n",
       "<pre>\n",
       "## S3 Generic function\n",
       "c(...)\n",
       "\n",
       "## Default S3 method:\n",
       "c(..., recursive = FALSE, use.names = TRUE)\n",
       "</pre>\n",
       "\n",
       "\n",
       "<h3>Arguments</h3>\n",
       "\n",
       "<table summary=\"R argblock\">\n",
       "<tr valign=\"top\"><td><code>...</code></td>\n",
       "<td>\n",
       "<p>objects to be concatenated.</p>\n",
       "</td></tr>\n",
       "<tr valign=\"top\"><td><code>recursive</code></td>\n",
       "<td>\n",
       "<p>logical.  If <code>recursive = TRUE</code>, the function\n",
       "recursively descends through lists (and pairlists) combining all\n",
       "their elements into a vector.</p>\n",
       "</td></tr>\n",
       "<tr valign=\"top\"><td><code>use.names</code></td>\n",
       "<td>\n",
       "<p>logical indicating if <code>names</code> should be\n",
       "preserved.</p>\n",
       "</td></tr>\n",
       "</table>\n",
       "\n",
       "\n",
       "<h3>Details</h3>\n",
       "\n",
       "<p>The output type is determined from the highest type of the components\n",
       "in the hierarchy NULL &lt; raw &lt; logical &lt; integer &lt; double &lt; complex &lt; character\n",
       "&lt; list &lt; expression.  Pairlists are treated as lists, whereas non-vector\n",
       "components (such names and calls) are treated as one-element lists\n",
       "which cannot be unlisted even if <code>recursive = TRUE</code>.\n",
       "</p>\n",
       "\n",
       "<p>Note that <code>factor</code>s are treated only via their\n",
       "internal <code>integer</code> codes; one proposal has been to use\n",
       "</p>\n",
       "<pre>   c.factor &lt;- function(..., recursive=TRUE) unlist(list(...), recursive=recursive)</pre>\n",
       "<p>if factor concatenation by <code>c()</code> should give a <code>factor</code>.\n",
       "</p>\n",
       "<p><code>c</code> is sometimes used for its side effect of removing attributes\n",
       "except names, for example to turn an array into a vector.\n",
       "<code>as.vector</code> is a more intuitive way to do this, but also drops\n",
       "names.  Note that methods other than the default are not required\n",
       "to do this (and they will almost certainly preserve a class attribute).\n",
       "</p>\n",
       "<p>This is a primitive function.\n",
       "</p>\n",
       "\n",
       "\n",
       "<h3>Value</h3>\n",
       "\n",
       "<p><code>NULL</code> or an expression or a vector of an appropriate mode.\n",
       "(With no arguments the value is <code>NULL</code>.)\n",
       "</p>\n",
       "\n",
       "\n",
       "<h3>S4 methods</h3>\n",
       "\n",
       "<p>This function is S4 generic, but with argument list\n",
       "<code>(x, ...)</code>.\n",
       "</p>\n",
       "\n",
       "\n",
       "<h3>References</h3>\n",
       "\n",
       "<p>Becker, R. A., Chambers, J. M. and Wilks, A. R. (1988)\n",
       "<em>The New S Language</em>.\n",
       "Wadsworth &amp; Brooks/Cole.\n",
       "</p>\n",
       "\n",
       "\n",
       "<h3>See Also</h3>\n",
       "\n",
       "<p><code>unlist</code> and <code>as.vector</code> to produce\n",
       "attribute-free vectors.\n",
       "</p>\n",
       "\n",
       "\n",
       "<h3>Examples</h3>\n",
       "\n",
       "<pre>\n",
       "c(1,7:9)\n",
       "c(1:5, 10.5, \"next\")\n",
       "\n",
       "## uses with a single argument to drop attributes\n",
       "x &lt;- 1:4\n",
       "names(x) &lt;- letters[1:4]\n",
       "x\n",
       "c(x)          # has names\n",
       "as.vector(x)  # no names\n",
       "dim(x) &lt;- c(2,2)\n",
       "x\n",
       "c(x)\n",
       "as.vector(x)\n",
       "\n",
       "## append to a list:\n",
       "ll &lt;- list(A = 1, c = \"C\")\n",
       "## do *not* use\n",
       "c(ll, d = 1:3) # which is == c(ll, as.list(c(d = 1:3)))\n",
       "## but rather\n",
       "c(ll, d = list(1:3))  # c() combining two lists\n",
       "\n",
       "c(list(A = c(B = 1)), recursive = TRUE)\n",
       "\n",
       "c(options(), recursive = TRUE)\n",
       "c(list(A = c(B = 1, C = 2), B = c(E = 7)), recursive = TRUE)\n",
       "</pre>\n",
       "\n",
       "<hr /><div style=\"text-align: center;\">[Package <em>base</em> version 3.6.1 ]</div>"
      ],
      "text/latex": [
       "\\inputencoding{utf8}\n",
       "\\HeaderA{c}{Combine Values into a Vector or List}{c}\n",
       "\\methaliasA{c.default}{c}{c.default}\n",
       "\\keyword{manip}{c}\n",
       "%\n",
       "\\begin{Description}\\relax\n",
       "This is a generic function which combines its arguments.\n",
       "\n",
       "The default method combines its arguments to form a vector.\n",
       "All arguments are coerced to a common type which is the type\n",
       "of the returned value, and all attributes except names are removed.\n",
       "\\end{Description}\n",
       "%\n",
       "\\begin{Usage}\n",
       "\\begin{verbatim}\n",
       "## S3 Generic function\n",
       "c(...)\n",
       "\n",
       "## Default S3 method:\n",
       "c(..., recursive = FALSE, use.names = TRUE)\n",
       "\\end{verbatim}\n",
       "\\end{Usage}\n",
       "%\n",
       "\\begin{Arguments}\n",
       "\\begin{ldescription}\n",
       "\\item[\\code{...}] objects to be concatenated.\n",
       "\\item[\\code{recursive}] logical.  If \\code{recursive = TRUE}, the function\n",
       "recursively descends through lists (and pairlists) combining all\n",
       "their elements into a vector.\n",
       "\\item[\\code{use.names}] logical indicating if \\code{\\LinkA{names}{names}} should be\n",
       "preserved.\n",
       "\\end{ldescription}\n",
       "\\end{Arguments}\n",
       "%\n",
       "\\begin{Details}\\relax\n",
       "The output type is determined from the highest type of the components\n",
       "in the hierarchy NULL < raw < logical < integer < double < complex < character\n",
       "< list < expression.  Pairlists are treated as lists, whereas non-vector\n",
       "components (such names and calls) are treated as one-element lists\n",
       "which cannot be unlisted even if \\code{recursive = TRUE}.\n",
       "\n",
       "\n",
       "Note that \\code{\\LinkA{factor}{factor}}s are treated only via their\n",
       "internal \\code{\\LinkA{integer}{integer}} codes; one proposal has been to use\n",
       "\\begin{alltt}   c.factor <- function(..., recursive=TRUE) unlist(list(...), recursive=recursive)\\end{alltt}\n",
       "\n",
       "if factor concatenation by \\code{c()} should give a \\code{\\LinkA{factor}{factor}}.\n",
       "\n",
       "\\code{c} is sometimes used for its side effect of removing attributes\n",
       "except names, for example to turn an array into a vector.\n",
       "\\code{as.vector} is a more intuitive way to do this, but also drops\n",
       "names.  Note that methods other than the default are not required\n",
       "to do this (and they will almost certainly preserve a class attribute).\n",
       "\n",
       "This is a \\LinkA{primitive}{primitive} function.\n",
       "\\end{Details}\n",
       "%\n",
       "\\begin{Value}\n",
       "\\code{NULL} or an expression or a vector of an appropriate mode.\n",
       "(With no arguments the value is \\code{NULL}.)\n",
       "\\end{Value}\n",
       "%\n",
       "\\begin{Section}{S4 methods}\n",
       "This function is S4 generic, but with argument list\n",
       "\\code{(x, ...)}.\n",
       "\\end{Section}\n",
       "%\n",
       "\\begin{References}\\relax\n",
       "Becker, R. A., Chambers, J. M. and Wilks, A. R. (1988)\n",
       "\\emph{The New S Language}.\n",
       "Wadsworth \\& Brooks/Cole.\n",
       "\\end{References}\n",
       "%\n",
       "\\begin{SeeAlso}\\relax\n",
       "\\code{\\LinkA{unlist}{unlist}} and \\code{\\LinkA{as.vector}{as.vector}} to produce\n",
       "attribute-free vectors.\n",
       "\\end{SeeAlso}\n",
       "%\n",
       "\\begin{Examples}\n",
       "\\begin{ExampleCode}\n",
       "c(1,7:9)\n",
       "c(1:5, 10.5, \"next\")\n",
       "\n",
       "## uses with a single argument to drop attributes\n",
       "x <- 1:4\n",
       "names(x) <- letters[1:4]\n",
       "x\n",
       "c(x)          # has names\n",
       "as.vector(x)  # no names\n",
       "dim(x) <- c(2,2)\n",
       "x\n",
       "c(x)\n",
       "as.vector(x)\n",
       "\n",
       "## append to a list:\n",
       "ll <- list(A = 1, c = \"C\")\n",
       "## do *not* use\n",
       "c(ll, d = 1:3) # which is == c(ll, as.list(c(d = 1:3)))\n",
       "## but rather\n",
       "c(ll, d = list(1:3))  # c() combining two lists\n",
       "\n",
       "c(list(A = c(B = 1)), recursive = TRUE)\n",
       "\n",
       "c(options(), recursive = TRUE)\n",
       "c(list(A = c(B = 1, C = 2), B = c(E = 7)), recursive = TRUE)\n",
       "\\end{ExampleCode}\n",
       "\\end{Examples}"
      ],
      "text/plain": [
       "c                     package:base                     R Documentation\n",
       "\n",
       "_\bC_\bo_\bm_\bb_\bi_\bn_\be _\bV_\ba_\bl_\bu_\be_\bs _\bi_\bn_\bt_\bo _\ba _\bV_\be_\bc_\bt_\bo_\br _\bo_\br _\bL_\bi_\bs_\bt\n",
       "\n",
       "_\bD_\be_\bs_\bc_\br_\bi_\bp_\bt_\bi_\bo_\bn:\n",
       "\n",
       "     This is a generic function which combines its arguments.\n",
       "\n",
       "     The default method combines its arguments to form a vector.  All\n",
       "     arguments are coerced to a common type which is the type of the\n",
       "     returned value, and all attributes except names are removed.\n",
       "\n",
       "_\bU_\bs_\ba_\bg_\be:\n",
       "\n",
       "     ## S3 Generic function\n",
       "     c(...)\n",
       "     \n",
       "     ## Default S3 method:\n",
       "     c(..., recursive = FALSE, use.names = TRUE)\n",
       "     \n",
       "_\bA_\br_\bg_\bu_\bm_\be_\bn_\bt_\bs:\n",
       "\n",
       "     ...: objects to be concatenated.\n",
       "\n",
       "recursive: logical.  If 'recursive = TRUE', the function recursively\n",
       "          descends through lists (and pairlists) combining all their\n",
       "          elements into a vector.\n",
       "\n",
       "use.names: logical indicating if 'names' should be preserved.\n",
       "\n",
       "_\bD_\be_\bt_\ba_\bi_\bl_\bs:\n",
       "\n",
       "     The output type is determined from the highest type of the\n",
       "     components in the hierarchy NULL < raw < logical < integer <\n",
       "     double < complex < character < list < expression.  Pairlists are\n",
       "     treated as lists, whereas non-vector components (such names and\n",
       "     calls) are treated as one-element lists which cannot be unlisted\n",
       "     even if 'recursive = TRUE'.\n",
       "\n",
       "     Note that 'factor's are treated only via their internal 'integer'\n",
       "     codes; one proposal has been to use\n",
       "     \n",
       "        c.factor <- function(..., recursive=TRUE) unlist(list(...), recursive=recursive)\n",
       "\n",
       "     if factor concatenation by 'c()' should give a 'factor'.\n",
       "\n",
       "     'c' is sometimes used for its side effect of removing attributes\n",
       "     except names, for example to turn an array into a vector.\n",
       "     'as.vector' is a more intuitive way to do this, but also drops\n",
       "     names.  Note that methods other than the default are not required\n",
       "     to do this (and they will almost certainly preserve a class\n",
       "     attribute).\n",
       "\n",
       "     This is a primitive function.\n",
       "\n",
       "_\bV_\ba_\bl_\bu_\be:\n",
       "\n",
       "     'NULL' or an expression or a vector of an appropriate mode.  (With\n",
       "     no arguments the value is 'NULL'.)\n",
       "\n",
       "_\bS_\b4 _\bm_\be_\bt_\bh_\bo_\bd_\bs:\n",
       "\n",
       "     This function is S4 generic, but with argument list '(x, ...)'.\n",
       "\n",
       "_\bR_\be_\bf_\be_\br_\be_\bn_\bc_\be_\bs:\n",
       "\n",
       "     Becker, R. A., Chambers, J. M. and Wilks, A. R. (1988) _The New S\n",
       "     Language_.  Wadsworth & Brooks/Cole.\n",
       "\n",
       "_\bS_\be_\be _\bA_\bl_\bs_\bo:\n",
       "\n",
       "     'unlist' and 'as.vector' to produce attribute-free vectors.\n",
       "\n",
       "_\bE_\bx_\ba_\bm_\bp_\bl_\be_\bs:\n",
       "\n",
       "     c(1,7:9)\n",
       "     c(1:5, 10.5, \"next\")\n",
       "     \n",
       "     ## uses with a single argument to drop attributes\n",
       "     x <- 1:4\n",
       "     names(x) <- letters[1:4]\n",
       "     x\n",
       "     c(x)          # has names\n",
       "     as.vector(x)  # no names\n",
       "     dim(x) <- c(2,2)\n",
       "     x\n",
       "     c(x)\n",
       "     as.vector(x)\n",
       "     \n",
       "     ## append to a list:\n",
       "     ll <- list(A = 1, c = \"C\")\n",
       "     ## do *not* use\n",
       "     c(ll, d = 1:3) # which is == c(ll, as.list(c(d = 1:3)))\n",
       "     ## but rather\n",
       "     c(ll, d = list(1:3))  # c() combining two lists\n",
       "     \n",
       "     c(list(A = c(B = 1)), recursive = TRUE)\n",
       "     \n",
       "     c(options(), recursive = TRUE)\n",
       "     c(list(A = c(B = 1, C = 2), B = c(E = 7)), recursive = TRUE)\n",
       "     "
      ]
     },
     "metadata": {},
     "output_type": "display_data"
    }
   ],
   "source": [
    "?c"
   ]
  },
  {
   "cell_type": "code",
   "execution_count": 168,
   "id": "155a9baa-edcb-4866-898f-8531994f9e3a",
   "metadata": {},
   "outputs": [
    {
     "data": {
      "text/html": [
       "No documentation for 'data.' in specified packages and libraries:\n",
       "you could try '??data.'"
      ],
      "text/latex": [
       "No documentation for 'data.' in specified packages and libraries:\n",
       "you could try '??data.'"
      ],
      "text/plain": [
       "No documentation for 'data.' in specified packages and libraries:\n",
       "you could try '??data.'"
      ]
     },
     "metadata": {},
     "output_type": "display_data"
    }
   ],
   "source": [
    "?data."
   ]
  },
  {
   "cell_type": "code",
   "execution_count": 169,
   "id": "d7993cf7-9ca3-4d97-b7b3-a6d5cf0df713",
   "metadata": {},
   "outputs": [
    {
     "data": {
      "text/html": [
       "<ol class=list-inline>\n",
       "\t<li>3</li>\n",
       "\t<li>4</li>\n",
       "\t<li>56</li>\n",
       "\t<li>77</li>\n",
       "\t<li>4</li>\n",
       "\t<li>5</li>\n",
       "</ol>\n"
      ],
      "text/latex": [
       "\\begin{enumerate*}\n",
       "\\item 3\n",
       "\\item 4\n",
       "\\item 56\n",
       "\\item 77\n",
       "\\item 4\n",
       "\\item 5\n",
       "\\end{enumerate*}\n"
      ],
      "text/markdown": [
       "1. 3\n",
       "2. 4\n",
       "3. 56\n",
       "4. 77\n",
       "5. 4\n",
       "6. 5\n",
       "\n",
       "\n"
      ],
      "text/plain": [
       "[1]  3  4 56 77  4  5"
      ]
     },
     "metadata": {},
     "output_type": "display_data"
    }
   ],
   "source": [
    "v1"
   ]
  },
  {
   "cell_type": "code",
   "execution_count": 170,
   "id": "1069ced8-ca33-4103-a80c-aeb24c15caba",
   "metadata": {},
   "outputs": [
    {
     "data": {
      "text/html": [
       "TRUE"
      ],
      "text/latex": [
       "TRUE"
      ],
      "text/markdown": [
       "TRUE"
      ],
      "text/plain": [
       "[1] TRUE"
      ]
     },
     "metadata": {},
     "output_type": "display_data"
    }
   ],
   "source": [
    "is.numeric(v1)"
   ]
  },
  {
   "cell_type": "code",
   "execution_count": 171,
   "id": "b25b7b88-7822-4621-9fcb-7541cb738b95",
   "metadata": {},
   "outputs": [
    {
     "data": {
      "text/html": [
       "FALSE"
      ],
      "text/latex": [
       "FALSE"
      ],
      "text/markdown": [
       "FALSE"
      ],
      "text/plain": [
       "[1] FALSE"
      ]
     },
     "metadata": {},
     "output_type": "display_data"
    }
   ],
   "source": [
    "is.null(v1)"
   ]
  },
  {
   "cell_type": "code",
   "execution_count": 172,
   "id": "7ab9e662-30d6-4ba9-8252-3834d88a14c4",
   "metadata": {},
   "outputs": [
    {
     "data": {
      "text/html": [
       "4"
      ],
      "text/latex": [
       "4"
      ],
      "text/markdown": [
       "4"
      ],
      "text/plain": [
       "[1] 4"
      ]
     },
     "metadata": {},
     "output_type": "display_data"
    }
   ],
   "source": [
    "v1[5]"
   ]
  },
  {
   "cell_type": "code",
   "execution_count": 173,
   "id": "5e7e8e8e-cb1a-4b54-abfc-6e37762329dd",
   "metadata": {},
   "outputs": [
    {
     "data": {
      "text/html": [
       "<ol class=list-inline>\n",
       "\t<li>3</li>\n",
       "\t<li>4</li>\n",
       "\t<li>4</li>\n",
       "\t<li>5</li>\n",
       "\t<li>56</li>\n",
       "\t<li>77</li>\n",
       "</ol>\n"
      ],
      "text/latex": [
       "\\begin{enumerate*}\n",
       "\\item 3\n",
       "\\item 4\n",
       "\\item 4\n",
       "\\item 5\n",
       "\\item 56\n",
       "\\item 77\n",
       "\\end{enumerate*}\n"
      ],
      "text/markdown": [
       "1. 3\n",
       "2. 4\n",
       "3. 4\n",
       "4. 5\n",
       "5. 56\n",
       "6. 77\n",
       "\n",
       "\n"
      ],
      "text/plain": [
       "[1]  3  4  4  5 56 77"
      ]
     },
     "metadata": {},
     "output_type": "display_data"
    }
   ],
   "source": [
    "sort(v1)"
   ]
  },
  {
   "cell_type": "markdown",
   "id": "9fc95ab8-798f-4d0e-9e44-2ab8ca7589fd",
   "metadata": {},
   "source": [
    "## access specific intems within vector"
   ]
  },
  {
   "cell_type": "code",
   "execution_count": 174,
   "id": "e46c3dc8-7435-405c-b0b1-ca594f8f888a",
   "metadata": {},
   "outputs": [
    {
     "data": {
      "text/html": [
       "<ol class=list-inline>\n",
       "\t<li>4</li>\n",
       "\t<li>56</li>\n",
       "\t<li>77</li>\n",
       "\t<li>4</li>\n",
       "\t<li>5</li>\n",
       "</ol>\n"
      ],
      "text/latex": [
       "\\begin{enumerate*}\n",
       "\\item 4\n",
       "\\item 56\n",
       "\\item 77\n",
       "\\item 4\n",
       "\\item 5\n",
       "\\end{enumerate*}\n"
      ],
      "text/markdown": [
       "1. 4\n",
       "2. 56\n",
       "3. 77\n",
       "4. 4\n",
       "5. 5\n",
       "\n",
       "\n"
      ],
      "text/plain": [
       "[1]  4 56 77  4  5"
      ]
     },
     "metadata": {},
     "output_type": "display_data"
    }
   ],
   "source": [
    "v1[-1]"
   ]
  },
  {
   "cell_type": "code",
   "execution_count": 175,
   "id": "5235fb0c-2362-4ffc-95f0-98ced759a891",
   "metadata": {},
   "outputs": [
    {
     "data": {
      "text/html": [
       "<ol class=list-inline>\n",
       "\t<li>3</li>\n",
       "\t<li>4</li>\n",
       "\t<li>56</li>\n",
       "\t<li>77</li>\n",
       "</ol>\n"
      ],
      "text/latex": [
       "\\begin{enumerate*}\n",
       "\\item 3\n",
       "\\item 4\n",
       "\\item 56\n",
       "\\item 77\n",
       "\\end{enumerate*}\n"
      ],
      "text/markdown": [
       "1. 3\n",
       "2. 4\n",
       "3. 56\n",
       "4. 77\n",
       "\n",
       "\n"
      ],
      "text/plain": [
       "[1]  3  4 56 77"
      ]
     },
     "metadata": {},
     "output_type": "display_data"
    }
   ],
   "source": [
    "# range of index\n",
    "v1[1:4]"
   ]
  },
  {
   "cell_type": "code",
   "execution_count": 176,
   "id": "2a541cc8-5b77-421c-8938-6906b96c4634",
   "metadata": {},
   "outputs": [
    {
     "data": {
      "text/html": [
       "<ol class=list-inline>\n",
       "\t<li>56</li>\n",
       "\t<li>4</li>\n",
       "</ol>\n"
      ],
      "text/latex": [
       "\\begin{enumerate*}\n",
       "\\item 56\n",
       "\\item 4\n",
       "\\end{enumerate*}\n"
      ],
      "text/markdown": [
       "1. 56\n",
       "2. 4\n",
       "\n",
       "\n"
      ],
      "text/plain": [
       "[1] 56  4"
      ]
     },
     "metadata": {},
     "output_type": "display_data"
    }
   ],
   "source": [
    "# specific index \n",
    "v1[c(3,5)]"
   ]
  },
  {
   "cell_type": "code",
   "execution_count": 177,
   "id": "62522c59-fd28-41c7-b5bc-ea160800611b",
   "metadata": {},
   "outputs": [
    {
     "data": {
      "text/html": [
       "<ol class=list-inline>\n",
       "\t<li>3</li>\n",
       "\t<li>4</li>\n",
       "\t<li>56</li>\n",
       "\t<li>77</li>\n",
       "\t<li>4</li>\n",
       "\t<li>5</li>\n",
       "</ol>\n"
      ],
      "text/latex": [
       "\\begin{enumerate*}\n",
       "\\item 3\n",
       "\\item 4\n",
       "\\item 56\n",
       "\\item 77\n",
       "\\item 4\n",
       "\\item 5\n",
       "\\end{enumerate*}\n"
      ],
      "text/markdown": [
       "1. 3\n",
       "2. 4\n",
       "3. 56\n",
       "4. 77\n",
       "5. 4\n",
       "6. 5\n",
       "\n",
       "\n"
      ],
      "text/plain": [
       "[1]  3  4 56 77  4  5"
      ]
     },
     "metadata": {},
     "output_type": "display_data"
    }
   ],
   "source": [
    "v1"
   ]
  },
  {
   "cell_type": "markdown",
   "id": "821ff46a-205f-46cf-8d8d-ed4690179ca8",
   "metadata": {},
   "source": [
    "# Matrix \n",
    "A matrix is a 2d data set with columns and rows"
   ]
  },
  {
   "cell_type": "code",
   "execution_count": 178,
   "id": "3267afb2-ff48-4256-9c11-d7184c3cc33b",
   "metadata": {},
   "outputs": [
    {
     "name": "stdout",
     "output_type": "stream",
     "text": [
      "     [,1] [,2] [,3]\n",
      "[1,]    1    3    5\n",
      "[2,]    2    4    7\n"
     ]
    }
   ],
   "source": [
    "thismatrix<- matrix(c(1,2,3,4,5,7), ncol = 3, nrow = 2)\n",
    "print(thismatrix)"
   ]
  },
  {
   "cell_type": "code",
   "execution_count": 179,
   "id": "0cc81e91-d505-417e-9ced-c9648f436ca9",
   "metadata": {},
   "outputs": [
    {
     "data": {
      "text/html": [
       "<table>\n",
       "<tbody>\n",
       "\t<tr><td>1</td><td>3</td><td>5</td></tr>\n",
       "\t<tr><td>2</td><td>4</td><td>7</td></tr>\n",
       "</tbody>\n",
       "</table>\n"
      ],
      "text/latex": [
       "\\begin{tabular}{lll}\n",
       "\t 1 & 3 & 5\\\\\n",
       "\t 2 & 4 & 7\\\\\n",
       "\\end{tabular}\n"
      ],
      "text/markdown": [
       "\n",
       "| 1 | 3 | 5 |\n",
       "| 2 | 4 | 7 |\n",
       "\n"
      ],
      "text/plain": [
       "     [,1] [,2] [,3]\n",
       "[1,] 1    3    5   \n",
       "[2,] 2    4    7   "
      ]
     },
     "metadata": {},
     "output_type": "display_data"
    }
   ],
   "source": [
    "thismatrix"
   ]
  },
  {
   "cell_type": "markdown",
   "id": "5bf96122-535e-41fc-ad2b-d798783d9c0b",
   "metadata": {},
   "source": [
    "# Arrays\n",
    "array can have more than 2 dimensions"
   ]
  },
  {
   "cell_type": "code",
   "execution_count": 180,
   "id": "01f0e2db-70e9-4823-a113-3254577a0ecb",
   "metadata": {},
   "outputs": [
    {
     "data": {
      "text/html": [
       "<ol class=list-inline>\n",
       "\t<li>1</li>\n",
       "\t<li>2</li>\n",
       "\t<li>3</li>\n",
       "\t<li>4</li>\n",
       "\t<li>5</li>\n",
       "\t<li>6</li>\n",
       "\t<li>7</li>\n",
       "\t<li>8</li>\n",
       "\t<li>9</li>\n",
       "\t<li>10</li>\n",
       "\t<li>11</li>\n",
       "\t<li>12</li>\n",
       "\t<li>13</li>\n",
       "\t<li>14</li>\n",
       "\t<li>15</li>\n",
       "\t<li>16</li>\n",
       "\t<li>17</li>\n",
       "\t<li>18</li>\n",
       "\t<li>19</li>\n",
       "\t<li>20</li>\n",
       "\t<li>21</li>\n",
       "\t<li>22</li>\n",
       "\t<li>23</li>\n",
       "\t<li>24</li>\n",
       "</ol>\n"
      ],
      "text/latex": [
       "\\begin{enumerate*}\n",
       "\\item 1\n",
       "\\item 2\n",
       "\\item 3\n",
       "\\item 4\n",
       "\\item 5\n",
       "\\item 6\n",
       "\\item 7\n",
       "\\item 8\n",
       "\\item 9\n",
       "\\item 10\n",
       "\\item 11\n",
       "\\item 12\n",
       "\\item 13\n",
       "\\item 14\n",
       "\\item 15\n",
       "\\item 16\n",
       "\\item 17\n",
       "\\item 18\n",
       "\\item 19\n",
       "\\item 20\n",
       "\\item 21\n",
       "\\item 22\n",
       "\\item 23\n",
       "\\item 24\n",
       "\\end{enumerate*}\n"
      ],
      "text/markdown": [
       "1. 1\n",
       "2. 2\n",
       "3. 3\n",
       "4. 4\n",
       "5. 5\n",
       "6. 6\n",
       "7. 7\n",
       "8. 8\n",
       "9. 9\n",
       "10. 10\n",
       "11. 11\n",
       "12. 12\n",
       "13. 13\n",
       "14. 14\n",
       "15. 15\n",
       "16. 16\n",
       "17. 17\n",
       "18. 18\n",
       "19. 19\n",
       "20. 20\n",
       "21. 21\n",
       "22. 22\n",
       "23. 23\n",
       "24. 24\n",
       "\n",
       "\n"
      ],
      "text/plain": [
       " [1]  1  2  3  4  5  6  7  8  9 10 11 12 13 14 15 16 17 18 19 20 21 22 23 24"
      ]
     },
     "metadata": {},
     "output_type": "display_data"
    }
   ],
   "source": [
    "thisarray <-c(1:24)\n",
    "thisarray"
   ]
  },
  {
   "cell_type": "code",
   "execution_count": 181,
   "id": "dd0ea11d-60ee-4aa1-bd6a-658e4046138c",
   "metadata": {},
   "outputs": [
    {
     "name": "stdout",
     "output_type": "stream",
     "text": [
      ", , 1\n",
      "\n",
      "     [,1] [,2] [,3]\n",
      "[1,]    1    3    5\n",
      "[2,]    2    4    6\n",
      "\n",
      ", , 2\n",
      "\n",
      "     [,1] [,2] [,3]\n",
      "[1,]    7    9   11\n",
      "[2,]    8   10   12\n",
      "\n"
     ]
    }
   ],
   "source": [
    "multiArray<-array(thisarray, dim=c(2,3,2))\n",
    "print(multiArray)"
   ]
  },
  {
   "cell_type": "code",
   "execution_count": 182,
   "id": "dd748840-04d4-4e12-b047-b099fca3adef",
   "metadata": {},
   "outputs": [
    {
     "data": {
      "text/html": [
       "TRUE"
      ],
      "text/latex": [
       "TRUE"
      ],
      "text/markdown": [
       "TRUE"
      ],
      "text/plain": [
       "[1] TRUE"
      ]
     },
     "metadata": {},
     "output_type": "display_data"
    }
   ],
   "source": [
    "numbers=c(1L,2L,3L,4L)\n",
    "is.integer(numbers)"
   ]
  },
  {
   "cell_type": "code",
   "execution_count": 183,
   "id": "884d6f2e-f238-447d-9462-b93f834b3abe",
   "metadata": {},
   "outputs": [
    {
     "data": {
      "text/html": [
       "TRUE"
      ],
      "text/latex": [
       "TRUE"
      ],
      "text/markdown": [
       "TRUE"
      ],
      "text/plain": [
       "[1] TRUE"
      ]
     },
     "metadata": {},
     "output_type": "display_data"
    }
   ],
   "source": [
    "a=5.0L\n",
    "is.integer(a)"
   ]
  },
  {
   "cell_type": "markdown",
   "id": "ee385645-b356-454d-a3ba-54a418a00fe2",
   "metadata": {},
   "source": [
    "# R Bootcamp Session 3\n",
    "data.table\n",
    "this data.table is an alternative to R's default data.frame to handle tabular data\n",
    "the reason its so popular is because of the speed od execution on large data and the tense syntax"
   ]
  },
  {
   "cell_type": "code",
   "execution_count": 184,
   "id": "a4643233-19a3-412e-ad1c-991df7f41911",
   "metadata": {},
   "outputs": [],
   "source": [
    "library(data.table)"
   ]
  },
  {
   "cell_type": "code",
   "execution_count": 185,
   "id": "1dc24a67-cd2e-461a-8070-a0bed705c5d8",
   "metadata": {},
   "outputs": [
    {
     "data": {
      "text/html": [
       "\n",
       "<table width=\"100%\" summary=\"page for fread {data.table}\"><tr><td>fread {data.table}</td><td style=\"text-align: right;\">R Documentation</td></tr></table>\n",
       "\n",
       "<h2> Fast and friendly file finagler </h2>\n",
       "\n",
       "<h3>Description</h3>\n",
       "\n",
       "<p>Similar to <code>read.table</code> but faster and more convenient. All controls such as <code>sep</code>, <code>colClasses</code> and <code>nrows</code> are automatically detected. <code>bit64::integer64</code> types are also detected and read directly without needing to read as character before converting.\n",
       "</p>\n",
       "<p>Dates are read as character currently. They can be converted afterwards using the excellent <code>fasttime</code> package or standard base functions.\n",
       "</p>\n",
       "<p>'fread' is for <em>regular</em> delimited files; i.e., where every row has the same number of columns. In future, secondary separator (<code>sep2</code>) may be specified <em>within</em> each column. Such columns will be read as type <code>list</code> where each cell is itself a vector.\n",
       "</p>\n",
       "\n",
       "\n",
       "<h3>Usage</h3>\n",
       "\n",
       "<pre>\n",
       "fread(input, file, text, cmd, sep=\"auto\", sep2=\"auto\", dec=\".\", quote=\"\\\"\",\n",
       "nrows=Inf, header=\"auto\",\n",
       "na.strings=getOption(\"datatable.na.strings\",\"NA\"),  # due to change to \"\"; see NEWS\n",
       "stringsAsFactors=FALSE, verbose=getOption(\"datatable.verbose\", FALSE),\n",
       "skip=\"__auto__\", select=NULL, drop=NULL, colClasses=NULL,\n",
       "integer64=getOption(\"datatable.integer64\", \"integer64\"),\n",
       "col.names,\n",
       "check.names=FALSE, encoding=\"unknown\",\n",
       "strip.white=TRUE, fill=FALSE, blank.lines.skip=FALSE,\n",
       "key=NULL, index=NULL,\n",
       "showProgress=getOption(\"datatable.showProgress\", interactive()),\n",
       "data.table=getOption(\"datatable.fread.datatable\", TRUE),\n",
       "nThread=getDTthreads(verbose),\n",
       "logical01=getOption(\"datatable.logical01\", FALSE),  # due to change to TRUE; see NEWS\n",
       "keepLeadingZeros = getOption(\"datatable.keepLeadingZeros\", FALSE),\n",
       "autostart=NA\n",
       ")\n",
       "</pre>\n",
       "\n",
       "\n",
       "<h3>Arguments</h3>\n",
       "\n",
       "<table summary=\"R argblock\">\n",
       "<tr valign=\"top\"><td><code>input</code></td>\n",
       "<td>\n",
       "<p> A single character string. The value is inspected and deferred to either <code>file=</code> (if no \\n present), <code>text=</code> (if at least one \\n is present) or <code>cmd=</code> (if no \\n is present, at least one space is present, and it isn't a file name). Exactly one of <code>input=</code>, <code>file=</code>, <code>text=</code>, or <code>cmd=</code> should be used in the same call. </p>\n",
       "</td></tr>\n",
       "<tr valign=\"top\"><td><code>file</code></td>\n",
       "<td>\n",
       "<p> File name in working directory, path to file (passed through <code>path.expand</code> for convenience), or a URL starting http://, file://, etc. Compressed files ending <code>.gz</code> and <code>.bz2</code> are supported if the <code>R.utils</code> package is installed. </p>\n",
       "</td></tr>\n",
       "<tr valign=\"top\"><td><code>text</code></td>\n",
       "<td>\n",
       "<p> The input data itself as a character vector of one or more lines, for example as returned by <code>readLines()</code>. </p>\n",
       "</td></tr>\n",
       "<tr valign=\"top\"><td><code>cmd</code></td>\n",
       "<td>\n",
       "<p> A shell command that pre-processes the file; e.g. <code>fread(cmd=paste(\"grep\",word,\"filename\")</code>. </p>\n",
       "</td></tr>\n",
       "<tr valign=\"top\"><td><code>sep</code></td>\n",
       "<td>\n",
       "<p> The separator between columns. Defaults to the character in the set <code>[,\\t |;:]</code> that separates the sample of rows into the most number of lines with the same number of fields. Use <code>NULL</code> or <code>\"\"</code> to specify no separator; i.e. each line a single character column like <code>base::readLines</code> does.</p>\n",
       "</td></tr>\n",
       "<tr valign=\"top\"><td><code>sep2</code></td>\n",
       "<td>\n",
       "<p> The separator <em>within</em> columns. A <code>list</code> column will be returned where each cell is a vector of values. This is much faster using less working memory than <code>strsplit</code> afterwards or similar techniques. For each column <code>sep2</code> can be different and is the first character in the same set above [<code>,\\t |;</code>], other than <code>sep</code>, that exists inside each field outside quoted regions in the sample. NB: <code>sep2</code> is not yet implemented. </p>\n",
       "</td></tr>\n",
       "<tr valign=\"top\"><td><code>nrows</code></td>\n",
       "<td>\n",
       "<p> The maximum number of rows to read. Unlike <code>read.table</code>, you do not need to set this to an estimate of the number of rows in the file for better speed because that is already automatically determined by <code>fread</code> almost instantly using the large sample of lines. 'nrows=0' returns the column names and typed empty columns determined by the large sample; useful for a dry run of a large file or to quickly check format consistency of a set of files before starting to read any of them. </p>\n",
       "</td></tr>\n",
       "<tr valign=\"top\"><td><code>header</code></td>\n",
       "<td>\n",
       "<p> Does the first data line contain column names? Defaults according to whether every non-empty field on the first data line is type character. If so, or TRUE is supplied, any empty column names are given a default name. </p>\n",
       "</td></tr>\n",
       "<tr valign=\"top\"><td><code>na.strings</code></td>\n",
       "<td>\n",
       "<p> A character vector of strings which are to be interpreted as <code>NA</code> values. By default, <code>\",,\"</code> for columns of all types, including type 'character' is read as <code>NA</code> for consistency. <code>,\"\",</code> is unambiguous and read as an empty string. To read <code>,NA,</code> as <code>NA</code>, set <code>na.strings=\"NA\"</code>. To read <code>,,</code> as blank string <code>\"\"</code>, set <code>na.strings=NULL</code>. When they occur in the file, the strings in <code>na.strings</code> should not appear quoted since that is how the string literal <code>,\"NA\",</code> is distinguished from <code>,NA,</code>, for example, when <code>na.strings=\"NA\"</code>. </p>\n",
       "</td></tr>\n",
       "<tr valign=\"top\"><td><code>stringsAsFactors</code></td>\n",
       "<td>\n",
       "<p> Convert all character columns to factors? </p>\n",
       "</td></tr>\n",
       "<tr valign=\"top\"><td><code>verbose</code></td>\n",
       "<td>\n",
       "<p> Be chatty and report timings? </p>\n",
       "</td></tr>\n",
       "<tr valign=\"top\"><td><code>skip</code></td>\n",
       "<td>\n",
       "<p> If 0 (default) start on the first line and from there finds the first row with a consistent number of columns. This automatically avoids irregular header information before the column names row. <code>skip&gt;0</code> means ignore the first <code>skip</code> rows manually. <code>skip=\"string\"</code> searches for <code>\"string\"</code> in the file (e.g. a substring of the column names row) and starts on that line (inspired by read.xls in package gdata). </p>\n",
       "</td></tr>\n",
       "<tr valign=\"top\"><td><code>select</code></td>\n",
       "<td>\n",
       "<p> Vector of column names or numbers to keep, drop the rest. </p>\n",
       "</td></tr>\n",
       "<tr valign=\"top\"><td><code>drop</code></td>\n",
       "<td>\n",
       "<p> Vector of column names or numbers to drop, keep the rest. </p>\n",
       "</td></tr>\n",
       "<tr valign=\"top\"><td><code>colClasses</code></td>\n",
       "<td>\n",
       "<p> A character vector of classes (named or unnamed), as read.csv. Or a named list of vectors of column names or numbers, see examples. colClasses in fread is intended for rare overrides, not for routine use. fread will only promote a column to a higher type if colClasses requests it. It won't downgrade a column to a lower type since NAs would result. You have to coerce such columns afterwards yourself, if you really require data loss. </p>\n",
       "</td></tr>\n",
       "<tr valign=\"top\"><td><code>integer64</code></td>\n",
       "<td>\n",
       "<p> &quot;integer64&quot; (default) reads columns detected as containing integers larger than 2^31 as type <code>bit64::integer64</code>. Alternatively, <code>\"double\"|\"numeric\"</code> reads as <code>base::read.csv</code> does; i.e., possibly with loss of precision and if so silently. Or, &quot;character&quot;. </p>\n",
       "</td></tr>\n",
       "<tr valign=\"top\"><td><code>dec</code></td>\n",
       "<td>\n",
       "<p> The decimal separator as in <code>base::read.csv</code>. If not &quot;.&quot; (default) then usually &quot;,&quot;. See details. </p>\n",
       "</td></tr>\n",
       "<tr valign=\"top\"><td><code>col.names</code></td>\n",
       "<td>\n",
       "<p> A vector of optional names for the variables (columns). The default is to use the header column if present or detected, or if not &quot;V&quot; followed by the column number. This is applied after <code>check.names</code> and before <code>key</code> and <code>index</code>. </p>\n",
       "</td></tr>\n",
       "<tr valign=\"top\"><td><code>check.names</code></td>\n",
       "<td>\n",
       "<p>default is <code>FALSE</code>. If <code>TRUE</code> then the names of the variables in the <code>data.table</code> are checked to ensure that they are syntactically valid variable names. If necessary they are adjusted (by <code>make.names</code>) so that they are, and also to ensure that there are no duplicates.</p>\n",
       "</td></tr>\n",
       "<tr valign=\"top\"><td><code>encoding</code></td>\n",
       "<td>\n",
       "<p> default is <code>\"unknown\"</code>. Other possible options are <code>\"UTF-8\"</code> and <code>\"Latin-1\"</code>.  Note: it is not used to re-encode the input, rather enables handling of encoded strings in their native encoding. </p>\n",
       "</td></tr>\n",
       "<tr valign=\"top\"><td><code>quote</code></td>\n",
       "<td>\n",
       "<p> By default (<code>\"\\\"\"</code>), if a field starts with a double quote, <code>fread</code> handles embedded quotes robustly as explained under <code>Details</code>. If it fails, then another attempt is made to read the field <em>as is</em>, i.e., as if quotes are disabled. By setting <code>quote=\"\"</code>, the field is always read as if quotes are disabled. It is not expected to ever need to pass anything other than \\&quot;\\&quot; to quote; i.e., to turn it off. </p>\n",
       "</td></tr>\n",
       "<tr valign=\"top\"><td><code>strip.white</code></td>\n",
       "<td>\n",
       "<p> default is <code>TRUE</code>. Strips leading and trailing whitespaces of unquoted fields. If <code>FALSE</code>, only header trailing spaces are removed. </p>\n",
       "</td></tr>\n",
       "<tr valign=\"top\"><td><code>fill</code></td>\n",
       "<td>\n",
       "<p>logical (default is <code>FALSE</code>). If <code>TRUE</code> then in case the rows have unequal length, blank fields are implicitly filled.</p>\n",
       "</td></tr>\n",
       "<tr valign=\"top\"><td><code>blank.lines.skip</code></td>\n",
       "<td>\n",
       "<p><code>logical</code>, default is <code>FALSE</code>. If <code>TRUE</code> blank lines in the input are ignored.</p>\n",
       "</td></tr>\n",
       "<tr valign=\"top\"><td><code>key</code></td>\n",
       "<td>\n",
       "<p>Character vector of one or more column names which is passed to <code>setkey</code>. It may be a single comma separated string such as <code>key=\"x,y,z\"</code>, or a vector of names such as <code>key=c(\"x\",\"y\",\"z\")</code>. Only valid when argument <code>data.table=TRUE</code>. Where applicable, this should refer to column names given in <code>col.names</code>. </p>\n",
       "</td></tr>\n",
       "<tr valign=\"top\"><td><code>index</code></td>\n",
       "<td>\n",
       "<p> Character vector or list of character vectors of one or more column names which is passed to <code>setindexv</code>. As with <code>key</code>, comma-separated notation like <code>index=\"x,y,z\"</code> is accepted for convenience. Only valid when argument <code>data.table=TRUE</code>. Where applicable, this should refer to column names given in <code>col.names</code>. </p>\n",
       "</td></tr>\n",
       "<tr valign=\"top\"><td><code>showProgress</code></td>\n",
       "<td>\n",
       " <p><code>TRUE</code> displays progress on the console if the ETA is greater than 3 seconds. It is produced in fread's C code where the very nice (but R level) txtProgressBar and tkProgressBar are not easily available. </p>\n",
       "</td></tr>\n",
       "<tr valign=\"top\"><td><code>data.table</code></td>\n",
       "<td>\n",
       "<p> TRUE returns a <code>data.table</code>. FALSE returns a <code>data.frame</code>. The default for this argument can be changed with <code>options(datatable.fread.datatable=FALSE)</code>.</p>\n",
       "</td></tr>\n",
       "<tr valign=\"top\"><td><code>nThread</code></td>\n",
       "<td>\n",
       "<p>The number of threads to use. Experiment to see what works best for your data on your hardware.</p>\n",
       "</td></tr>\n",
       "<tr valign=\"top\"><td><code>logical01</code></td>\n",
       "<td>\n",
       "<p>If TRUE a column containing only 0s and 1s will be read as logical, otherwise as integer.</p>\n",
       "</td></tr>\n",
       "<tr valign=\"top\"><td><code>keepLeadingZeros</code></td>\n",
       "<td>\n",
       "<p>If TRUE a column containing numeric data with leading zeros will be read as character, otherwise leading zeros will be removed and converted to numeric.</p>\n",
       "</td></tr>\n",
       "<tr valign=\"top\"><td><code>autostart</code></td>\n",
       "<td>\n",
       "<p> Deprecated and ignored with warning. Please use <code>skip</code> instead. </p>\n",
       "</td></tr>\n",
       "</table>\n",
       "\n",
       "\n",
       "<h3>Details</h3>\n",
       "\n",
       "<p>A sample of 10,000 rows is used for a very good estimate of column types. 100 contiguous rows are read from 100 equally spaced points throughout the file including the beginning, middle and the very end. This results in a better guess when a column changes type later in the file (e.g. blank at the beginning/only populated near the end, or 001 at the start but 0A0 later on). This very good type guess enables a single allocation of the correct type up front once for speed, memory efficiency and convenience of avoiding the need to set <code>colClasses</code> after an error. Even though the sample is large and jumping over the file, it is almost instant regardless of the size of the file because a lazy on-demand memory map is used. If a jump lands inside a quoted field containing newlines, each newline is tested until 5 lines are found following it with the expected number of fields. The lowest type for each column is chosen from the ordered list: <code>logical</code>, <code>integer</code>, <code>integer64</code>, <code>double</code>, <code>character</code>. Rarely, the file may contain data of a higher type in rows outside the sample (referred to as an out-of-sample type exception). In this event <code>fread</code> will <em>automatically</em> reread just those columns from the beginning so that you don't have the inconvenience of having to set <code>colClasses</code> yourself; particularly helpful if you have a lot of columns. Such columns must be read from the beginning to correctly distinguish &quot;00&quot; from &quot;000&quot; when those have both been interpreted as integer 0 due to the sample but 00A occurs out of sample. Set <code>verbose=TRUE</code> to see a detailed report of the logic deployed to read your file.\n",
       "</p>\n",
       "<p>There is no line length limit, not even a very large one. Since we are encouraging <code>list</code> columns (i.e. <code>sep2</code>) this has the potential to encourage longer line lengths. So the approach of scanning each line into a buffer first and then rescanning that buffer is not used. There are no buffers used in <code>fread</code>'s C code at all. The field width limit is limited by R itself: the maximum width of a character string (currently 2^31-1 bytes, 2GB).\n",
       "</p>\n",
       "<p>The filename extension (such as .csv) is irrelevant for &quot;auto&quot; <code>sep</code> and <code>sep2</code>. Separator detection is entirely driven by the file contents. This can be useful when loading a set of different files which may not be named consistently, or may not have the extension .csv despite being csv. Some datasets have been collected over many years, one file per day for example. Sometimes the file name format has changed at some point in the past or even the format of the file itself. So the idea is that you can loop <code>fread</code> through a set of files and as long as each file is regular and delimited, <code>fread</code> can read them all. Whether they all stack is another matter but at least each one is read quickly without you needing to vary <code>colClasses</code> in <code>read.table</code> or <code>read.csv</code>.\n",
       "</p>\n",
       "<p>If an empty line is encountered then reading stops there with warning if any text exists after the empty line such as a footer. The first line of any text discarded is included in the warning message. Unless, it is single-column input. In that case blank lines are significant (even at the very end) and represent NA in the single column. So that <code>fread(fwrite(DT))==DT</code>. This default behaviour can be controlled using <code>blank.lines.skip=TRUE|FALSE</code>.\n",
       "</p>\n",
       "<p><b>Line endings:</b> All known line endings are detected automatically: <code>\\n</code> (*NIX including Mac), <code>\\r\\n</code> (Windows CRLF), <code>\\r</code> (old Mac) and <code>\\n\\r</code> (just in case). There is no need to convert input files first. <code>fread</code> running on any architecture will read a file from any architecture. Both <code>\\r</code> and <code>\\n</code> may be embedded in character strings (including column names) provided the field is quoted.\n",
       "</p>\n",
       "<p><b>Decimal separator and locale:</b> <code>fread(...,dec=\",\")</code> should just work. <code>fread</code> uses C function <code>strtod</code> to read numeric data; e.g., <code>1.23</code> or <code>1,23</code>. <code>strtod</code> retrieves the decimal separator (<code>.</code> or <code>,</code> usually) from the locale of the R session rather than as an argument passed to the <code>strtod</code> function. So for <code>fread(...,dec=\",\")</code> to work, <code>fread</code> changes this (and only this) R session's locale temporarily to a locale which provides the desired decimal separator.\n",
       "</p>\n",
       "<p>On Windows, &quot;French_France.1252&quot; is tried which should be available as standard (any locale with comma decimal separator would suffice) and on unix &quot;fr_FR.utf8&quot; (you may need to install this locale on unix). <code>fread()</code> is very careful to set the locale back again afterwards, even if the function fails with an error. The choice of locale is determined by <code>options()$datatable.fread.dec.locale</code>. This may be a <em>vector</em> of locale names and if so they will be tried in turn until the desired <code>dec</code> is obtained; thus allowing more than two different decimal separators to be selected. This is a new feature in v1.9.6 and is experimental. In case of problems, turn it off with <code>options(datatable.fread.dec.experiment=FALSE)</code>.\n",
       "</p>\n",
       "<p><b>Quotes:</b>\n",
       "</p>\n",
       "<p>When <code>quote</code> is a single character,\n",
       "</p>\n",
       "\n",
       "<ul>\n",
       "<li><p>Spaces and other whitespace (other than <code>sep</code> and <code>\\n</code>) may appear in unquoted character fields, e.g., <code>...,2,Joe Bloggs,3.14,...</code>.\n",
       "</p>\n",
       "</li>\n",
       "<li><p>When <code>character</code> columns are <em>quoted</em>, they must start and end with that quoting character immediately followed by <code>sep</code> or <code>\\n</code>, e.g., <code>...,2,\"Joe Bloggs\",3.14,...</code>.\n",
       "</p>\n",
       "<p>In essence quoting character fields are <em>required</em> only if <code>sep</code> or <code>\\n</code> appears in the string value. Quoting may be used to signify that numeric data should be read as text. Unescaped quotes may be present in a quoted field, e.g., <code>...,2,\"Joe, \"Bloggs\"\",3.14,...</code>, as well as escaped quotes, e.g., <code>...,2,\"Joe \\\",Bloggs\\\"\",3.14,...</code>.\n",
       "</p>\n",
       "<p>If an embedded quote is followed by the separator inside a quoted field, the embedded quotes up to that point in that field must be balanced; e.g. <code>...,2,\"www.blah?x=\"one\",y=\"two\"\",3.14,...</code>.\n",
       "</p>\n",
       "<p>On those fields that do not satisfy these conditions, e.g., fields with unbalanced quotes, <code>fread</code> re-attempts that field as if it isn't quoted. This is quite useful in reading files that contains fields with unbalanced quotes as well, automatically.\n",
       "</p>\n",
       "</li></ul>\n",
       "\n",
       "<p>To read fields <em>as is</em> instead, use <code>quote = \"\"</code>.\n",
       "</p>\n",
       "<p><b>File Download:</b>\n",
       "</p>\n",
       "<p>When <code>input</code> begins with http://, https://, ftp://, ftps://, or file://, <code>fread</code> detects this and <em>downloads</em> the target to a temporary file (at <code>tempfile()</code>) before proceeding to read the file as usual. Secure URLS (ftps:// and https://) are downloaded with <code>curl::curl_download</code>; ftp:// and http:// paths are downloaded with <code>download.file</code> and <code>method</code> set to <code>getOption(\"download.file.method\")</code>, defaulting to <code>\"auto\"</code>; and file:// is downloaded with <code>download.file</code> with <code>method=\"internal\"</code>. NB: this implies that for file://, even files found on the current machine will be &quot;downloaded&quot; (i.e., hard-copied) to a temporary file. See <code>download.file</code> for more details.\n",
       "</p>\n",
       "\n",
       "\n",
       "<h3>Value</h3>\n",
       "\n",
       "<p>A <code>data.table</code> by default, otherwise a <code>data.frame</code> when argument <code>data.table=FALSE</code>.\n",
       "</p>\n",
       "\n",
       "\n",
       "<h3>References</h3>\n",
       "\n",
       "<p>Background :<br />\n",
       "<a href=\"https://cran.r-project.org/doc/manuals/R-data.html\">https://cran.r-project.org/doc/manuals/R-data.html</a><br />\n",
       "<a href=\"http://stackoverflow.com/questions/1727772/quickly-reading-very-large-tables-as-dataframes-in-r\">http://stackoverflow.com/questions/1727772/quickly-reading-very-large-tables-as-dataframes-in-r</a><br />\n",
       "<a href=\"http://www.biostat.jhsph.edu/~rpeng/docs/R-large-tables.html\">http://www.biostat.jhsph.edu/~rpeng/docs/R-large-tables.html</a><br />\n",
       "<a href=\"http://www.cerebralmastication.com/2009/11/loading-big-data-into-r/\">http://www.cerebralmastication.com/2009/11/loading-big-data-into-r/</a><br />\n",
       "<a href=\"http://stackoverflow.com/questions/9061736/faster-than-scan-with-rcpp\">http://stackoverflow.com/questions/9061736/faster-than-scan-with-rcpp</a><br />\n",
       "<a href=\"http://stackoverflow.com/questions/415515/how-can-i-read-and-manipulate-csv-file-data-in-c\">http://stackoverflow.com/questions/415515/how-can-i-read-and-manipulate-csv-file-data-in-c</a><br />\n",
       "<a href=\"http://stackoverflow.com/questions/9352887/strategies-for-reading-in-csv-files-in-pieces\">http://stackoverflow.com/questions/9352887/strategies-for-reading-in-csv-files-in-pieces</a><br />\n",
       "<a href=\"http://stackoverflow.com/questions/11782084/reading-in-large-text-files-in-r\">http://stackoverflow.com/questions/11782084/reading-in-large-text-files-in-r</a><br />\n",
       "<a href=\"http://stackoverflow.com/questions/45972/mmap-vs-reading-blocks\">http://stackoverflow.com/questions/45972/mmap-vs-reading-blocks</a><br />\n",
       "<a href=\"http://stackoverflow.com/questions/258091/when-should-i-use-mmap-for-file-access\">http://stackoverflow.com/questions/258091/when-should-i-use-mmap-for-file-access</a><br />\n",
       "<a href=\"http://stackoverflow.com/a/9818473/403310\">http://stackoverflow.com/a/9818473/403310</a><br />\n",
       "<a href=\"http://stackoverflow.com/questions/9608950/reading-huge-files-using-memory-mapped-files\">http://stackoverflow.com/questions/9608950/reading-huge-files-using-memory-mapped-files</a>\n",
       "</p>\n",
       "<p>finagler = &quot;to get or achieve by guile or manipulation&quot; <a href=\"http://dictionary.reference.com/browse/finagler\">http://dictionary.reference.com/browse/finagler</a>\n",
       "</p>\n",
       "\n",
       "\n",
       "<h3>See Also</h3>\n",
       "\n",
       "<p><code>read.csv</code>, <code>url</code>, <code>Sys.setlocale</code>, <code>setDTthreads</code>, <code>fwrite</code>, <a href=\"https://CRAN.R-project.org/package=bit64\"><code>bit64::integer64</code></a>\n",
       "</p>\n",
       "\n",
       "\n",
       "<h3>Examples</h3>\n",
       "\n",
       "<pre>\n",
       "## Not run: \n",
       "\n",
       "# Demo speed-up\n",
       "n = 1e6\n",
       "DT = data.table( a=sample(1:1000,n,replace=TRUE),\n",
       "                 b=sample(1:1000,n,replace=TRUE),\n",
       "                 c=rnorm(n),\n",
       "                 d=sample(c(\"foo\",\"bar\",\"baz\",\"qux\",\"quux\"),n,replace=TRUE),\n",
       "                 e=rnorm(n),\n",
       "                 f=sample(1:1000,n,replace=TRUE) )\n",
       "DT[2,b:=NA_integer_]\n",
       "DT[4,c:=NA_real_]\n",
       "DT[3,d:=NA_character_]\n",
       "DT[5,d:=\"\"]\n",
       "DT[2,e:=+Inf]\n",
       "DT[3,e:=-Inf]\n",
       "\n",
       "write.table(DT,\"test.csv\",sep=\",\",row.names=FALSE,quote=FALSE)\n",
       "cat(\"File size (MB):\", round(file.info(\"test.csv\")$size/1024^2),\"\\n\")\n",
       "# 50 MB (1e6 rows x 6 columns)\n",
       "\n",
       "system.time(DF1 &lt;-read.csv(\"test.csv\",stringsAsFactors=FALSE))\n",
       "# 60 sec (first time in fresh R session)\n",
       "\n",
       "system.time(DF1 &lt;- read.csv(\"test.csv\",stringsAsFactors=FALSE))\n",
       "# 30 sec (immediate repeat is faster, varies)\n",
       "\n",
       "system.time(DF2 &lt;- read.table(\"test.csv\",header=TRUE,sep=\",\",quote=\"\",\n",
       "    stringsAsFactors=FALSE,comment.char=\"\",nrows=n,\n",
       "    colClasses=c(\"integer\",\"integer\",\"numeric\",\n",
       "                 \"character\",\"numeric\",\"integer\")))\n",
       "# 10 sec (consistently). All known tricks and known nrows, see references.\n",
       "\n",
       "require(data.table)\n",
       "if(all(sapply(c(\"sqldf\", \"ff\"), requireNamespace, quietly = TRUE))) {\n",
       "  require(sqldf)\n",
       "  require(ff)\n",
       "\n",
       "  system.time(DT &lt;- fread(\"test.csv\"))\n",
       "  #  3 sec (faster and friendlier)\n",
       "\n",
       "  system.time(SQLDF &lt;- read.csv.sql(\"test.csv\",dbname=NULL))\n",
       "  # 20 sec (friendly too, good defaults)\n",
       "\n",
       "  system.time(FFDF &lt;- read.csv.ffdf(file=\"test.csv\",nrows=n))\n",
       "  # 20 sec (friendly too, good defaults)\n",
       "\n",
       "  identical(DF1,DF2)\n",
       "  all.equal(as.data.table(DF1), DT)\n",
       "  identical(DF1,within(SQLDF,{b&lt;-as.integer(b);c&lt;-as.numeric(c)}))\n",
       "  identical(DF1,within(as.data.frame(FFDF),d&lt;-as.character(d)))\n",
       "}\n",
       "\n",
       "# Scaling up ...\n",
       "l = vector(\"list\",10)\n",
       "for (i in 1:10) l[[i]] = DT\n",
       "DTbig = rbindlist(l)\n",
       "tables()\n",
       "write.table(DTbig,\"testbig.csv\",sep=\",\",row.names=FALSE,quote=FALSE)\n",
       "# 500MB (10 million rows x 6 columns)\n",
       "\n",
       "system.time(DF &lt;- read.table(\"testbig.csv\",header=TRUE,sep=\",\",\n",
       "    quote=\"\",stringsAsFactors=FALSE,comment.char=\"\",nrows=1e7,\n",
       "    colClasses=c(\"integer\",\"integer\",\"numeric\",\n",
       "                 \"character\",\"numeric\",\"integer\")))\n",
       "# 100-200 sec (varies)\n",
       "\n",
       "system.time(DT &lt;- fread(\"testbig.csv\"))\n",
       "# 30-40 sec\n",
       "\n",
       "all(mapply(all.equal, DF, DT))\n",
       "\n",
       "\n",
       "# Real data example (Airline data)\n",
       "# http://stat-computing.org/dataexpo/2009/the-data.html\n",
       "\n",
       "download.file(\"http://stat-computing.org/dataexpo/2009/2008.csv.bz2\",\n",
       "              destfile=\"2008.csv.bz2\")\n",
       "# 109MB (compressed)\n",
       "\n",
       "system(\"bunzip2 2008.csv.bz2\")\n",
       "# 658MB (7,009,728 rows x 29 columns)\n",
       "\n",
       "colClasses = sapply(read.csv(\"2008.csv\",nrows=100),class)\n",
       "# 4 character, 24 integer, 1 logical. Incorrect.\n",
       "\n",
       "colClasses = sapply(read.csv(\"2008.csv\",nrows=200),class)\n",
       "# 5 character, 24 integer. Correct. Might have missed data only using 100 rows\n",
       "# since read.table assumes colClasses is correct.\n",
       "\n",
       "system.time(DF &lt;- read.table(\"2008.csv\", header=TRUE, sep=\",\",\n",
       "    quote=\"\",stringsAsFactors=FALSE,comment.char=\"\",nrows=7009730,\n",
       "    colClasses=colClasses))\n",
       "# 360 secs\n",
       "\n",
       "system.time(DT &lt;- fread(\"2008.csv\"))\n",
       "#  40 secs\n",
       "\n",
       "table(sapply(DT,class))\n",
       "# 5 character and 24 integer columns. Correct without needing to worry about colClasses\n",
       "# issue above.\n",
       "\n",
       "\n",
       "# Reads URLs directly :\n",
       "fread(\"http://www.stats.ox.ac.uk/pub/datasets/csb/ch11b.dat\")\n",
       "\n",
       "# Decompresses .gz and .bz2 automatically :\n",
       "fread(\"http://stat-computing.org/dataexpo/2009/2008.csv.bz2\")\n",
       "\n",
       "\n",
       "## End(Not run)\n",
       "\n",
       "# Reads text input directly :\n",
       "fread(\"A,B\\n1,2\\n3,4\")\n",
       "\n",
       "# Reads pasted input directly :\n",
       "fread(\"A,B\n",
       "1,2\n",
       "3,4\n",
       "\")\n",
       "\n",
       "# Finds the first data line automatically :\n",
       "fread(\"\n",
       "This is perhaps a banner line or two or ten.\n",
       "A,B\n",
       "1,2\n",
       "3,4\n",
       "\")\n",
       "\n",
       "# Detects whether column names are present automatically :\n",
       "fread(\"\n",
       "1,2\n",
       "3,4\n",
       "\")\n",
       "\n",
       "# Numerical precision :\n",
       "\n",
       "DT = fread(\"A\\n1.010203040506070809010203040506\\n\")\n",
       "# TODO: add numerals=c(\"allow.loss\", \"warn.loss\", \"no.loss\") from base::read.table, +\"use.Rmpfr\"\n",
       "typeof(DT$A)==\"double\"   # currently \"allow.loss\" with no option\n",
       "\n",
       "DT = fread(\"A\\n1.46761e-313\\n\")   # read as 'numeric'\n",
       "DT[,sprintf(\"%.15E\",A)]   # beyond what double precision can store accurately to 15 digits\n",
       "# For greater accuracy use colClasses to read as character, then package Rmpfr.\n",
       "\n",
       "# colClasses\n",
       "data = \"A,B,C,D\\n1,3,5,7\\n2,4,6,8\\n\"\n",
       "fread(data, colClasses=c(B=\"character\",C=\"character\",D=\"character\"))  # as read.csv\n",
       "fread(data, colClasses=list(character=c(\"B\",\"C\",\"D\")))    # saves typing\n",
       "fread(data, colClasses=list(character=2:4))     # same using column numbers\n",
       "\n",
       "# drop\n",
       "fread(data, colClasses=c(\"B\"=\"NULL\",\"C\"=\"NULL\"))   # as read.csv\n",
       "fread(data, colClasses=list(NULL=c(\"B\",\"C\")))      #\n",
       "fread(data, drop=c(\"B\",\"C\"))      # same but less typing, easier to read\n",
       "fread(data, drop=2:3)             # same using column numbers\n",
       "\n",
       "# select\n",
       "# (in read.csv you need to work out which to drop)\n",
       "fread(data, select=c(\"A\",\"D\"))    # less typing, easier to read\n",
       "fread(data, select=c(1,4))        # same using column numbers\n",
       "\n",
       "# skip blank lines\n",
       "fread(\"a,b\\n1,a\\n2,b\\n\\n\\n3,c\\n\", blank.lines.skip=TRUE)\n",
       "# fill\n",
       "fread(\"a,b\\n1,a\\n2\\n3,c\\n\", fill=TRUE)\n",
       "fread(\"a,b\\n\\n1,a\\n2\\n\\n3,c\\n\\n\", fill=TRUE)\n",
       "\n",
       "# fill with skip blank lines\n",
       "fread(\"a,b\\n\\n1,a\\n2\\n\\n3,c\\n\\n\", fill=TRUE, blank.lines.skip=TRUE)\n",
       "\n",
       "# check.names usage\n",
       "fread(\"a b,a b\\n1,2\\n\")\n",
       "fread(\"a b,a b\\n1,2\\n\", check.names=TRUE) # no duplicates + syntactically valid names\n",
       "</pre>\n",
       "\n",
       "<hr /><div style=\"text-align: center;\">[Package <em>data.table</em> version 1.12.2 ]</div>"
      ],
      "text/latex": [
       "\\inputencoding{utf8}\n",
       "\\HeaderA{fread}{ Fast and friendly file finagler }{fread}\n",
       "\\keyword{data}{fread}\n",
       "%\n",
       "\\begin{Description}\\relax\n",
       "Similar to \\code{read.table} but faster and more convenient. All controls such as \\code{sep}, \\code{colClasses} and \\code{nrows} are automatically detected. \\code{bit64::integer64} types are also detected and read directly without needing to read as character before converting.\n",
       "\n",
       "Dates are read as character currently. They can be converted afterwards using the excellent \\code{fasttime} package or standard base functions.\n",
       "\n",
       "`fread` is for \\emph{regular} delimited files; i.e., where every row has the same number of columns. In future, secondary separator (\\code{sep2}) may be specified \\emph{within} each column. Such columns will be read as type \\code{list} where each cell is itself a vector.\n",
       "\\end{Description}\n",
       "%\n",
       "\\begin{Usage}\n",
       "\\begin{verbatim}\n",
       "fread(input, file, text, cmd, sep=\"auto\", sep2=\"auto\", dec=\".\", quote=\"\\\"\",\n",
       "nrows=Inf, header=\"auto\",\n",
       "na.strings=getOption(\"datatable.na.strings\",\"NA\"),  # due to change to \"\"; see NEWS\n",
       "stringsAsFactors=FALSE, verbose=getOption(\"datatable.verbose\", FALSE),\n",
       "skip=\"__auto__\", select=NULL, drop=NULL, colClasses=NULL,\n",
       "integer64=getOption(\"datatable.integer64\", \"integer64\"),\n",
       "col.names,\n",
       "check.names=FALSE, encoding=\"unknown\",\n",
       "strip.white=TRUE, fill=FALSE, blank.lines.skip=FALSE,\n",
       "key=NULL, index=NULL,\n",
       "showProgress=getOption(\"datatable.showProgress\", interactive()),\n",
       "data.table=getOption(\"datatable.fread.datatable\", TRUE),\n",
       "nThread=getDTthreads(verbose),\n",
       "logical01=getOption(\"datatable.logical01\", FALSE),  # due to change to TRUE; see NEWS\n",
       "keepLeadingZeros = getOption(\"datatable.keepLeadingZeros\", FALSE),\n",
       "autostart=NA\n",
       ")\n",
       "\\end{verbatim}\n",
       "\\end{Usage}\n",
       "%\n",
       "\\begin{Arguments}\n",
       "\\begin{ldescription}\n",
       "\\item[\\code{input}]  A single character string. The value is inspected and deferred to either \\code{file=} (if no \\bsl{}n present), \\code{text=} (if at least one \\bsl{}n is present) or \\code{cmd=} (if no \\bsl{}n is present, at least one space is present, and it isn't a file name). Exactly one of \\code{input=}, \\code{file=}, \\code{text=}, or \\code{cmd=} should be used in the same call. \n",
       "\\item[\\code{file}]  File name in working directory, path to file (passed through \\code{\\LinkA{path.expand}{path.expand}} for convenience), or a URL starting http://, file://, etc. Compressed files ending \\code{.gz} and \\code{.bz2} are supported if the \\code{R.utils} package is installed. \n",
       "\\item[\\code{text}]  The input data itself as a character vector of one or more lines, for example as returned by \\code{readLines()}. \n",
       "\\item[\\code{cmd}]  A shell command that pre-processes the file; e.g. \\code{fread(cmd=paste(\"grep\",word,\"filename\")}. \n",
       "\\item[\\code{sep}]  The separator between columns. Defaults to the character in the set \\code{[,\\bsl{}t |;:]} that separates the sample of rows into the most number of lines with the same number of fields. Use \\code{NULL} or \\code{\"\"} to specify no separator; i.e. each line a single character column like \\code{base::readLines} does.\n",
       "\\item[\\code{sep2}]  The separator \\emph{within} columns. A \\code{list} column will be returned where each cell is a vector of values. This is much faster using less working memory than \\code{strsplit} afterwards or similar techniques. For each column \\code{sep2} can be different and is the first character in the same set above [\\code{,\\bsl{}t |;}], other than \\code{sep}, that exists inside each field outside quoted regions in the sample. NB: \\code{sep2} is not yet implemented. \n",
       "\\item[\\code{nrows}]  The maximum number of rows to read. Unlike \\code{read.table}, you do not need to set this to an estimate of the number of rows in the file for better speed because that is already automatically determined by \\code{fread} almost instantly using the large sample of lines. `nrows=0` returns the column names and typed empty columns determined by the large sample; useful for a dry run of a large file or to quickly check format consistency of a set of files before starting to read any of them. \n",
       "\\item[\\code{header}]  Does the first data line contain column names? Defaults according to whether every non-empty field on the first data line is type character. If so, or TRUE is supplied, any empty column names are given a default name. \n",
       "\\item[\\code{na.strings}]  A character vector of strings which are to be interpreted as \\code{NA} values. By default, \\code{\",{},\"} for columns of all types, including type `character` is read as \\code{NA} for consistency. \\code{,\"\",} is unambiguous and read as an empty string. To read \\code{,NA,} as \\code{NA}, set \\code{na.strings=\"NA\"}. To read \\code{,{},} as blank string \\code{\"\"}, set \\code{na.strings=NULL}. When they occur in the file, the strings in \\code{na.strings} should not appear quoted since that is how the string literal \\code{,\"NA\",} is distinguished from \\code{,NA,}, for example, when \\code{na.strings=\"NA\"}. \n",
       "\\item[\\code{stringsAsFactors}]  Convert all character columns to factors? \n",
       "\\item[\\code{verbose}]  Be chatty and report timings? \n",
       "\\item[\\code{skip}]  If 0 (default) start on the first line and from there finds the first row with a consistent number of columns. This automatically avoids irregular header information before the column names row. \\code{skip>0} means ignore the first \\code{skip} rows manually. \\code{skip=\"string\"} searches for \\code{\"string\"} in the file (e.g. a substring of the column names row) and starts on that line (inspired by read.xls in package gdata). \n",
       "\\item[\\code{select}]  Vector of column names or numbers to keep, drop the rest. \n",
       "\\item[\\code{drop}]  Vector of column names or numbers to drop, keep the rest. \n",
       "\\item[\\code{colClasses}]  A character vector of classes (named or unnamed), as read.csv. Or a named list of vectors of column names or numbers, see examples. colClasses in fread is intended for rare overrides, not for routine use. fread will only promote a column to a higher type if colClasses requests it. It won't downgrade a column to a lower type since NAs would result. You have to coerce such columns afterwards yourself, if you really require data loss. \n",
       "\\item[\\code{integer64}]  \"integer64\" (default) reads columns detected as containing integers larger than 2\\textasciicircum{}31 as type \\code{bit64::integer64}. Alternatively, \\code{\"double\"|\"numeric\"} reads as \\code{base::read.csv} does; i.e., possibly with loss of precision and if so silently. Or, \"character\". \n",
       "\\item[\\code{dec}]  The decimal separator as in \\code{base::read.csv}. If not \".\" (default) then usually \",\". See details. \n",
       "\\item[\\code{col.names}]  A vector of optional names for the variables (columns). The default is to use the header column if present or detected, or if not \"V\" followed by the column number. This is applied after \\code{check.names} and before \\code{key} and \\code{index}. \n",
       "\\item[\\code{check.names}] default is \\code{FALSE}. If \\code{TRUE} then the names of the variables in the \\code{data.table} are checked to ensure that they are syntactically valid variable names. If necessary they are adjusted (by \\code{\\LinkA{make.names}{make.names}}) so that they are, and also to ensure that there are no duplicates.\n",
       "\\item[\\code{encoding}]  default is \\code{\"unknown\"}. Other possible options are \\code{\"UTF-8\"} and \\code{\"Latin-1\"}.  Note: it is not used to re-encode the input, rather enables handling of encoded strings in their native encoding. \n",
       "\\item[\\code{quote}]  By default (\\code{\"\\bsl{}\"\"}), if a field starts with a double quote, \\code{fread} handles embedded quotes robustly as explained under \\code{Details}. If it fails, then another attempt is made to read the field \\emph{as is}, i.e., as if quotes are disabled. By setting \\code{quote=\"\"}, the field is always read as if quotes are disabled. It is not expected to ever need to pass anything other than \\bsl{}\"\\bsl{}\" to quote; i.e., to turn it off. \n",
       "\\item[\\code{strip.white}]  default is \\code{TRUE}. Strips leading and trailing whitespaces of unquoted fields. If \\code{FALSE}, only header trailing spaces are removed. \n",
       "\\item[\\code{fill}] logical (default is \\code{FALSE}). If \\code{TRUE} then in case the rows have unequal length, blank fields are implicitly filled.\n",
       "\\item[\\code{blank.lines.skip}] \\code{logical}, default is \\code{FALSE}. If \\code{TRUE} blank lines in the input are ignored.\n",
       "\\item[\\code{key}] Character vector of one or more column names which is passed to \\code{\\LinkA{setkey}{setkey}}. It may be a single comma separated string such as \\code{key=\"x,y,z\"}, or a vector of names such as \\code{key=c(\"x\",\"y\",\"z\")}. Only valid when argument \\code{data.table=TRUE}. Where applicable, this should refer to column names given in \\code{col.names}. \n",
       "\\item[\\code{index}]  Character vector or list of character vectors of one or more column names which is passed to \\code{\\LinkA{setindexv}{setindexv}}. As with \\code{key}, comma-separated notation like \\code{index=\"x,y,z\"} is accepted for convenience. Only valid when argument \\code{data.table=TRUE}. Where applicable, this should refer to column names given in \\code{col.names}. \n",
       "\\item[\\code{showProgress}]  \\code{TRUE} displays progress on the console if the ETA is greater than 3 seconds. It is produced in fread's C code where the very nice (but R level) txtProgressBar and tkProgressBar are not easily available. \n",
       "\\item[\\code{data.table}]  TRUE returns a \\code{data.table}. FALSE returns a \\code{data.frame}. The default for this argument can be changed with \\code{options(datatable.fread.datatable=FALSE)}.\n",
       "\\item[\\code{nThread}] The number of threads to use. Experiment to see what works best for your data on your hardware.\n",
       "\\item[\\code{logical01}] If TRUE a column containing only 0s and 1s will be read as logical, otherwise as integer.\n",
       "\\item[\\code{keepLeadingZeros}] If TRUE a column containing numeric data with leading zeros will be read as character, otherwise leading zeros will be removed and converted to numeric.\n",
       "\\item[\\code{autostart}]  Deprecated and ignored with warning. Please use \\code{skip} instead. \n",
       "\\end{ldescription}\n",
       "\\end{Arguments}\n",
       "%\n",
       "\\begin{Details}\\relax\n",
       "\n",
       "A sample of 10,000 rows is used for a very good estimate of column types. 100 contiguous rows are read from 100 equally spaced points throughout the file including the beginning, middle and the very end. This results in a better guess when a column changes type later in the file (e.g. blank at the beginning/only populated near the end, or 001 at the start but 0A0 later on). This very good type guess enables a single allocation of the correct type up front once for speed, memory efficiency and convenience of avoiding the need to set \\code{colClasses} after an error. Even though the sample is large and jumping over the file, it is almost instant regardless of the size of the file because a lazy on-demand memory map is used. If a jump lands inside a quoted field containing newlines, each newline is tested until 5 lines are found following it with the expected number of fields. The lowest type for each column is chosen from the ordered list: \\code{logical}, \\code{integer}, \\code{integer64}, \\code{double}, \\code{character}. Rarely, the file may contain data of a higher type in rows outside the sample (referred to as an out-of-sample type exception). In this event \\code{fread} will \\emph{automatically} reread just those columns from the beginning so that you don't have the inconvenience of having to set \\code{colClasses} yourself; particularly helpful if you have a lot of columns. Such columns must be read from the beginning to correctly distinguish \"00\" from \"000\" when those have both been interpreted as integer 0 due to the sample but 00A occurs out of sample. Set \\code{verbose=TRUE} to see a detailed report of the logic deployed to read your file.\n",
       "\n",
       "There is no line length limit, not even a very large one. Since we are encouraging \\code{list} columns (i.e. \\code{sep2}) this has the potential to encourage longer line lengths. So the approach of scanning each line into a buffer first and then rescanning that buffer is not used. There are no buffers used in \\code{fread}'s C code at all. The field width limit is limited by R itself: the maximum width of a character string (currently 2\\textasciicircum{}31-1 bytes, 2GB).\n",
       "\n",
       "The filename extension (such as .csv) is irrelevant for \"auto\" \\code{sep} and \\code{sep2}. Separator detection is entirely driven by the file contents. This can be useful when loading a set of different files which may not be named consistently, or may not have the extension .csv despite being csv. Some datasets have been collected over many years, one file per day for example. Sometimes the file name format has changed at some point in the past or even the format of the file itself. So the idea is that you can loop \\code{fread} through a set of files and as long as each file is regular and delimited, \\code{fread} can read them all. Whether they all stack is another matter but at least each one is read quickly without you needing to vary \\code{colClasses} in \\code{read.table} or \\code{read.csv}.\n",
       "\n",
       "If an empty line is encountered then reading stops there with warning if any text exists after the empty line such as a footer. The first line of any text discarded is included in the warning message. Unless, it is single-column input. In that case blank lines are significant (even at the very end) and represent NA in the single column. So that \\code{fread(fwrite(DT))==DT}. This default behaviour can be controlled using \\code{blank.lines.skip=TRUE|FALSE}.\n",
       "\n",
       "\\bold{Line endings:} All known line endings are detected automatically: \\code{\\bsl{}n} (*NIX including Mac), \\code{\\bsl{}r\\bsl{}n} (Windows CRLF), \\code{\\bsl{}r} (old Mac) and \\code{\\bsl{}n\\bsl{}r} (just in case). There is no need to convert input files first. \\code{fread} running on any architecture will read a file from any architecture. Both \\code{\\bsl{}r} and \\code{\\bsl{}n} may be embedded in character strings (including column names) provided the field is quoted.\n",
       "\n",
       "\\bold{Decimal separator and locale:} \\code{fread(...,dec=\",\")} should just work. \\code{fread} uses C function \\code{strtod} to read numeric data; e.g., \\code{1.23} or \\code{1,23}. \\code{strtod} retrieves the decimal separator (\\code{.} or \\code{,} usually) from the locale of the R session rather than as an argument passed to the \\code{strtod} function. So for \\code{fread(...,dec=\",\")} to work, \\code{fread} changes this (and only this) R session's locale temporarily to a locale which provides the desired decimal separator.\n",
       "\n",
       "On Windows, \"French\\_France.1252\" is tried which should be available as standard (any locale with comma decimal separator would suffice) and on unix \"fr\\_FR.utf8\" (you may need to install this locale on unix). \\code{fread()} is very careful to set the locale back again afterwards, even if the function fails with an error. The choice of locale is determined by \\code{options()\\$datatable.fread.dec.locale}. This may be a \\emph{vector} of locale names and if so they will be tried in turn until the desired \\code{dec} is obtained; thus allowing more than two different decimal separators to be selected. This is a new feature in v1.9.6 and is experimental. In case of problems, turn it off with \\code{options(datatable.fread.dec.experiment=FALSE)}.\n",
       "\n",
       "\\bold{Quotes:}\n",
       "\n",
       "When \\code{quote} is a single character,\n",
       "\n",
       "\\begin{itemize}\n",
       "\n",
       "\\item{} Spaces and other whitespace (other than \\code{sep} and \\code{\\bsl{}n}) may appear in unquoted character fields, e.g., \\code{...,2,Joe Bloggs,3.14,...}.\n",
       "\n",
       "\\item{} When \\code{character} columns are \\emph{quoted}, they must start and end with that quoting character immediately followed by \\code{sep} or \\code{\\bsl{}n}, e.g., \\code{...,2,\"Joe Bloggs\",3.14,...}.\n",
       "\n",
       "In essence quoting character fields are \\emph{required} only if \\code{sep} or \\code{\\bsl{}n} appears in the string value. Quoting may be used to signify that numeric data should be read as text. Unescaped quotes may be present in a quoted field, e.g., \\code{...,2,\"Joe, \"Bloggs\"\",3.14,...}, as well as escaped quotes, e.g., \\code{...,2,\"Joe \\bsl{}\",Bloggs\\bsl{}\"\",3.14,...}.\n",
       "\n",
       "If an embedded quote is followed by the separator inside a quoted field, the embedded quotes up to that point in that field must be balanced; e.g. \\code{...,2,\"www.blah?x=\"one\",y=\"two\"\",3.14,...}.\n",
       "\n",
       "On those fields that do not satisfy these conditions, e.g., fields with unbalanced quotes, \\code{fread} re-attempts that field as if it isn't quoted. This is quite useful in reading files that contains fields with unbalanced quotes as well, automatically.\n",
       "\n",
       "\\end{itemize}\n",
       "\n",
       "\n",
       "To read fields \\emph{as is} instead, use \\code{quote = \"\"}.\n",
       "\n",
       "\\bold{File Download:}\n",
       "\n",
       "When \\code{input} begins with http://, https://, ftp://, ftps://, or file://, \\code{fread} detects this and \\emph{downloads} the target to a temporary file (at \\code{tempfile()}) before proceeding to read the file as usual. Secure URLS (ftps:// and https://) are downloaded with \\code{curl::curl\\_download}; ftp:// and http:// paths are downloaded with \\code{download.file} and \\code{method} set to \\code{getOption(\"download.file.method\")}, defaulting to \\code{\"auto\"}; and file:// is downloaded with \\code{download.file} with \\code{method=\"internal\"}. NB: this implies that for file://, even files found on the current machine will be \"downloaded\" (i.e., hard-copied) to a temporary file. See \\code{\\LinkA{download.file}{download.file}} for more details.\n",
       "\n",
       "\\end{Details}\n",
       "%\n",
       "\\begin{Value}\n",
       "A \\code{data.table} by default, otherwise a \\code{data.frame} when argument \\code{data.table=FALSE}.\n",
       "\\end{Value}\n",
       "%\n",
       "\\begin{References}\\relax\n",
       "Background :\\\\{}\n",
       "\\url{https://cran.r-project.org/doc/manuals/R-data.html}\\\\{}\n",
       "\\url{http://stackoverflow.com/questions/1727772/quickly-reading-very-large-tables-as-dataframes-in-r}\\\\{}\n",
       "\\url{http://www.biostat.jhsph.edu/~rpeng/docs/R-large-tables.html}\\\\{}\n",
       "\\url{http://www.cerebralmastication.com/2009/11/loading-big-data-into-r/}\\\\{}\n",
       "\\url{http://stackoverflow.com/questions/9061736/faster-than-scan-with-rcpp}\\\\{}\n",
       "\\url{http://stackoverflow.com/questions/415515/how-can-i-read-and-manipulate-csv-file-data-in-c}\\\\{}\n",
       "\\url{http://stackoverflow.com/questions/9352887/strategies-for-reading-in-csv-files-in-pieces}\\\\{}\n",
       "\\url{http://stackoverflow.com/questions/11782084/reading-in-large-text-files-in-r}\\\\{}\n",
       "\\url{http://stackoverflow.com/questions/45972/mmap-vs-reading-blocks}\\\\{}\n",
       "\\url{http://stackoverflow.com/questions/258091/when-should-i-use-mmap-for-file-access}\\\\{}\n",
       "\\url{http://stackoverflow.com/a/9818473/403310}\\\\{}\n",
       "\\url{http://stackoverflow.com/questions/9608950/reading-huge-files-using-memory-mapped-files}\n",
       "\n",
       "finagler = \"to get or achieve by guile or manipulation\" \\url{http://dictionary.reference.com/browse/finagler}\n",
       "\\end{References}\n",
       "%\n",
       "\\begin{SeeAlso}\\relax\n",
       "\\code{\\LinkA{read.csv}{read.csv}}, \\code{\\LinkA{url}{url}}, \\code{\\LinkA{Sys.setlocale}{Sys.setlocale}}, \\code{\\LinkA{setDTthreads}{setDTthreads}}, \\code{\\LinkA{fwrite}{fwrite}}, \\Rhref{https://CRAN.R-project.org/package=bit64}{\\code{bit64::integer64}}\n",
       "\\end{SeeAlso}\n",
       "%\n",
       "\\begin{Examples}\n",
       "\\begin{ExampleCode}\n",
       "## Not run: \n",
       "\n",
       "# Demo speed-up\n",
       "n = 1e6\n",
       "DT = data.table( a=sample(1:1000,n,replace=TRUE),\n",
       "                 b=sample(1:1000,n,replace=TRUE),\n",
       "                 c=rnorm(n),\n",
       "                 d=sample(c(\"foo\",\"bar\",\"baz\",\"qux\",\"quux\"),n,replace=TRUE),\n",
       "                 e=rnorm(n),\n",
       "                 f=sample(1:1000,n,replace=TRUE) )\n",
       "DT[2,b:=NA_integer_]\n",
       "DT[4,c:=NA_real_]\n",
       "DT[3,d:=NA_character_]\n",
       "DT[5,d:=\"\"]\n",
       "DT[2,e:=+Inf]\n",
       "DT[3,e:=-Inf]\n",
       "\n",
       "write.table(DT,\"test.csv\",sep=\",\",row.names=FALSE,quote=FALSE)\n",
       "cat(\"File size (MB):\", round(file.info(\"test.csv\")$size/1024^2),\"\\n\")\n",
       "# 50 MB (1e6 rows x 6 columns)\n",
       "\n",
       "system.time(DF1 <-read.csv(\"test.csv\",stringsAsFactors=FALSE))\n",
       "# 60 sec (first time in fresh R session)\n",
       "\n",
       "system.time(DF1 <- read.csv(\"test.csv\",stringsAsFactors=FALSE))\n",
       "# 30 sec (immediate repeat is faster, varies)\n",
       "\n",
       "system.time(DF2 <- read.table(\"test.csv\",header=TRUE,sep=\",\",quote=\"\",\n",
       "    stringsAsFactors=FALSE,comment.char=\"\",nrows=n,\n",
       "    colClasses=c(\"integer\",\"integer\",\"numeric\",\n",
       "                 \"character\",\"numeric\",\"integer\")))\n",
       "# 10 sec (consistently). All known tricks and known nrows, see references.\n",
       "\n",
       "require(data.table)\n",
       "if(all(sapply(c(\"sqldf\", \"ff\"), requireNamespace, quietly = TRUE))) {\n",
       "  require(sqldf)\n",
       "  require(ff)\n",
       "\n",
       "  system.time(DT <- fread(\"test.csv\"))\n",
       "  #  3 sec (faster and friendlier)\n",
       "\n",
       "  system.time(SQLDF <- read.csv.sql(\"test.csv\",dbname=NULL))\n",
       "  # 20 sec (friendly too, good defaults)\n",
       "\n",
       "  system.time(FFDF <- read.csv.ffdf(file=\"test.csv\",nrows=n))\n",
       "  # 20 sec (friendly too, good defaults)\n",
       "\n",
       "  identical(DF1,DF2)\n",
       "  all.equal(as.data.table(DF1), DT)\n",
       "  identical(DF1,within(SQLDF,{b<-as.integer(b);c<-as.numeric(c)}))\n",
       "  identical(DF1,within(as.data.frame(FFDF),d<-as.character(d)))\n",
       "}\n",
       "\n",
       "# Scaling up ...\n",
       "l = vector(\"list\",10)\n",
       "for (i in 1:10) l[[i]] = DT\n",
       "DTbig = rbindlist(l)\n",
       "tables()\n",
       "write.table(DTbig,\"testbig.csv\",sep=\",\",row.names=FALSE,quote=FALSE)\n",
       "# 500MB (10 million rows x 6 columns)\n",
       "\n",
       "system.time(DF <- read.table(\"testbig.csv\",header=TRUE,sep=\",\",\n",
       "    quote=\"\",stringsAsFactors=FALSE,comment.char=\"\",nrows=1e7,\n",
       "    colClasses=c(\"integer\",\"integer\",\"numeric\",\n",
       "                 \"character\",\"numeric\",\"integer\")))\n",
       "# 100-200 sec (varies)\n",
       "\n",
       "system.time(DT <- fread(\"testbig.csv\"))\n",
       "# 30-40 sec\n",
       "\n",
       "all(mapply(all.equal, DF, DT))\n",
       "\n",
       "\n",
       "# Real data example (Airline data)\n",
       "# http://stat-computing.org/dataexpo/2009/the-data.html\n",
       "\n",
       "download.file(\"http://stat-computing.org/dataexpo/2009/2008.csv.bz2\",\n",
       "              destfile=\"2008.csv.bz2\")\n",
       "# 109MB (compressed)\n",
       "\n",
       "system(\"bunzip2 2008.csv.bz2\")\n",
       "# 658MB (7,009,728 rows x 29 columns)\n",
       "\n",
       "colClasses = sapply(read.csv(\"2008.csv\",nrows=100),class)\n",
       "# 4 character, 24 integer, 1 logical. Incorrect.\n",
       "\n",
       "colClasses = sapply(read.csv(\"2008.csv\",nrows=200),class)\n",
       "# 5 character, 24 integer. Correct. Might have missed data only using 100 rows\n",
       "# since read.table assumes colClasses is correct.\n",
       "\n",
       "system.time(DF <- read.table(\"2008.csv\", header=TRUE, sep=\",\",\n",
       "    quote=\"\",stringsAsFactors=FALSE,comment.char=\"\",nrows=7009730,\n",
       "    colClasses=colClasses))\n",
       "# 360 secs\n",
       "\n",
       "system.time(DT <- fread(\"2008.csv\"))\n",
       "#  40 secs\n",
       "\n",
       "table(sapply(DT,class))\n",
       "# 5 character and 24 integer columns. Correct without needing to worry about colClasses\n",
       "# issue above.\n",
       "\n",
       "\n",
       "# Reads URLs directly :\n",
       "fread(\"http://www.stats.ox.ac.uk/pub/datasets/csb/ch11b.dat\")\n",
       "\n",
       "# Decompresses .gz and .bz2 automatically :\n",
       "fread(\"http://stat-computing.org/dataexpo/2009/2008.csv.bz2\")\n",
       "\n",
       "\n",
       "## End(Not run)\n",
       "\n",
       "# Reads text input directly :\n",
       "fread(\"A,B\\n1,2\\n3,4\")\n",
       "\n",
       "# Reads pasted input directly :\n",
       "fread(\"A,B\n",
       "1,2\n",
       "3,4\n",
       "\")\n",
       "\n",
       "# Finds the first data line automatically :\n",
       "fread(\"\n",
       "This is perhaps a banner line or two or ten.\n",
       "A,B\n",
       "1,2\n",
       "3,4\n",
       "\")\n",
       "\n",
       "# Detects whether column names are present automatically :\n",
       "fread(\"\n",
       "1,2\n",
       "3,4\n",
       "\")\n",
       "\n",
       "# Numerical precision :\n",
       "\n",
       "DT = fread(\"A\\n1.010203040506070809010203040506\\n\")\n",
       "# TODO: add numerals=c(\"allow.loss\", \"warn.loss\", \"no.loss\") from base::read.table, +\"use.Rmpfr\"\n",
       "typeof(DT$A)==\"double\"   # currently \"allow.loss\" with no option\n",
       "\n",
       "DT = fread(\"A\\n1.46761e-313\\n\")   # read as 'numeric'\n",
       "DT[,sprintf(\"%.15E\",A)]   # beyond what double precision can store accurately to 15 digits\n",
       "# For greater accuracy use colClasses to read as character, then package Rmpfr.\n",
       "\n",
       "# colClasses\n",
       "data = \"A,B,C,D\\n1,3,5,7\\n2,4,6,8\\n\"\n",
       "fread(data, colClasses=c(B=\"character\",C=\"character\",D=\"character\"))  # as read.csv\n",
       "fread(data, colClasses=list(character=c(\"B\",\"C\",\"D\")))    # saves typing\n",
       "fread(data, colClasses=list(character=2:4))     # same using column numbers\n",
       "\n",
       "# drop\n",
       "fread(data, colClasses=c(\"B\"=\"NULL\",\"C\"=\"NULL\"))   # as read.csv\n",
       "fread(data, colClasses=list(NULL=c(\"B\",\"C\")))      #\n",
       "fread(data, drop=c(\"B\",\"C\"))      # same but less typing, easier to read\n",
       "fread(data, drop=2:3)             # same using column numbers\n",
       "\n",
       "# select\n",
       "# (in read.csv you need to work out which to drop)\n",
       "fread(data, select=c(\"A\",\"D\"))    # less typing, easier to read\n",
       "fread(data, select=c(1,4))        # same using column numbers\n",
       "\n",
       "# skip blank lines\n",
       "fread(\"a,b\\n1,a\\n2,b\\n\\n\\n3,c\\n\", blank.lines.skip=TRUE)\n",
       "# fill\n",
       "fread(\"a,b\\n1,a\\n2\\n3,c\\n\", fill=TRUE)\n",
       "fread(\"a,b\\n\\n1,a\\n2\\n\\n3,c\\n\\n\", fill=TRUE)\n",
       "\n",
       "# fill with skip blank lines\n",
       "fread(\"a,b\\n\\n1,a\\n2\\n\\n3,c\\n\\n\", fill=TRUE, blank.lines.skip=TRUE)\n",
       "\n",
       "# check.names usage\n",
       "fread(\"a b,a b\\n1,2\\n\")\n",
       "fread(\"a b,a b\\n1,2\\n\", check.names=TRUE) # no duplicates + syntactically valid names\n",
       "\\end{ExampleCode}\n",
       "\\end{Examples}"
      ],
      "text/plain": [
       "fread                package:data.table                R Documentation\n",
       "\n",
       "_\bF_\ba_\bs_\bt _\ba_\bn_\bd _\bf_\br_\bi_\be_\bn_\bd_\bl_\by _\bf_\bi_\bl_\be _\bf_\bi_\bn_\ba_\bg_\bl_\be_\br\n",
       "\n",
       "_\bD_\be_\bs_\bc_\br_\bi_\bp_\bt_\bi_\bo_\bn:\n",
       "\n",
       "     Similar to 'read.table' but faster and more convenient. All\n",
       "     controls such as 'sep', 'colClasses' and 'nrows' are automatically\n",
       "     detected. 'bit64::integer64' types are also detected and read\n",
       "     directly without needing to read as character before converting.\n",
       "\n",
       "     Dates are read as character currently. They can be converted\n",
       "     afterwards using the excellent 'fasttime' package or standard base\n",
       "     functions.\n",
       "\n",
       "     `fread` is for _regular_ delimited files; i.e., where every row\n",
       "     has the same number of columns. In future, secondary separator\n",
       "     ('sep2') may be specified _within_ each column. Such columns will\n",
       "     be read as type 'list' where each cell is itself a vector.\n",
       "\n",
       "_\bU_\bs_\ba_\bg_\be:\n",
       "\n",
       "     fread(input, file, text, cmd, sep=\"auto\", sep2=\"auto\", dec=\".\", quote=\"\\\"\",\n",
       "     nrows=Inf, header=\"auto\",\n",
       "     na.strings=getOption(\"datatable.na.strings\",\"NA\"),  # due to change to \"\"; see NEWS\n",
       "     stringsAsFactors=FALSE, verbose=getOption(\"datatable.verbose\", FALSE),\n",
       "     skip=\"__auto__\", select=NULL, drop=NULL, colClasses=NULL,\n",
       "     integer64=getOption(\"datatable.integer64\", \"integer64\"),\n",
       "     col.names,\n",
       "     check.names=FALSE, encoding=\"unknown\",\n",
       "     strip.white=TRUE, fill=FALSE, blank.lines.skip=FALSE,\n",
       "     key=NULL, index=NULL,\n",
       "     showProgress=getOption(\"datatable.showProgress\", interactive()),\n",
       "     data.table=getOption(\"datatable.fread.datatable\", TRUE),\n",
       "     nThread=getDTthreads(verbose),\n",
       "     logical01=getOption(\"datatable.logical01\", FALSE),  # due to change to TRUE; see NEWS\n",
       "     keepLeadingZeros = getOption(\"datatable.keepLeadingZeros\", FALSE),\n",
       "     autostart=NA\n",
       "     )\n",
       "     \n",
       "_\bA_\br_\bg_\bu_\bm_\be_\bn_\bt_\bs:\n",
       "\n",
       "   input: A single character string. The value is inspected and\n",
       "          deferred to either 'file=' (if no \\n present), 'text=' (if at\n",
       "          least one \\n is present) or 'cmd=' (if no \\n is present, at\n",
       "          least one space is present, and it isn't a file name).\n",
       "          Exactly one of 'input=', 'file=', 'text=', or 'cmd=' should\n",
       "          be used in the same call.\n",
       "\n",
       "    file: File name in working directory, path to file (passed through\n",
       "          'path.expand' for convenience), or a URL starting http://,\n",
       "          file://, etc. Compressed files ending '.gz' and '.bz2' are\n",
       "          supported if the 'R.utils' package is installed.\n",
       "\n",
       "    text: The input data itself as a character vector of one or more\n",
       "          lines, for example as returned by 'readLines()'.\n",
       "\n",
       "     cmd: A shell command that pre-processes the file; e.g.\n",
       "          'fread(cmd=paste(\"grep\",word,\"filename\")'.\n",
       "\n",
       "     sep: The separator between columns. Defaults to the character in\n",
       "          the set '[,\\t |;:]' that separates the sample of rows into\n",
       "          the most number of lines with the same number of fields. Use\n",
       "          'NULL' or '\"\"' to specify no separator; i.e. each line a\n",
       "          single character column like 'base::readLines' does.\n",
       "\n",
       "    sep2: The separator _within_ columns. A 'list' column will be\n",
       "          returned where each cell is a vector of values. This is much\n",
       "          faster using less working memory than 'strsplit' afterwards\n",
       "          or similar techniques. For each column 'sep2' can be\n",
       "          different and is the first character in the same set above\n",
       "          [',\\t |;'], other than 'sep', that exists inside each field\n",
       "          outside quoted regions in the sample. NB: 'sep2' is not yet\n",
       "          implemented.\n",
       "\n",
       "   nrows: The maximum number of rows to read. Unlike 'read.table', you\n",
       "          do not need to set this to an estimate of the number of rows\n",
       "          in the file for better speed because that is already\n",
       "          automatically determined by 'fread' almost instantly using\n",
       "          the large sample of lines. `nrows=0` returns the column names\n",
       "          and typed empty columns determined by the large sample;\n",
       "          useful for a dry run of a large file or to quickly check\n",
       "          format consistency of a set of files before starting to read\n",
       "          any of them.\n",
       "\n",
       "  header: Does the first data line contain column names? Defaults\n",
       "          according to whether every non-empty field on the first data\n",
       "          line is type character. If so, or TRUE is supplied, any empty\n",
       "          column names are given a default name.\n",
       "\n",
       "na.strings: A character vector of strings which are to be interpreted\n",
       "          as 'NA' values. By default, '\",,\"' for columns of all types,\n",
       "          including type `character` is read as 'NA' for consistency.\n",
       "          ',\"\",' is unambiguous and read as an empty string. To read\n",
       "          ',NA,' as 'NA', set 'na.strings=\"NA\"'. To read ',,' as blank\n",
       "          string '\"\"', set 'na.strings=NULL'. When they occur in the\n",
       "          file, the strings in 'na.strings' should not appear quoted\n",
       "          since that is how the string literal ',\"NA\",' is\n",
       "          distinguished from ',NA,', for example, when\n",
       "          'na.strings=\"NA\"'.\n",
       "\n",
       "stringsAsFactors: Convert all character columns to factors?\n",
       "\n",
       " verbose: Be chatty and report timings?\n",
       "\n",
       "    skip: If 0 (default) start on the first line and from there finds\n",
       "          the first row with a consistent number of columns. This\n",
       "          automatically avoids irregular header information before the\n",
       "          column names row. 'skip>0' means ignore the first 'skip' rows\n",
       "          manually. 'skip=\"string\"' searches for '\"string\"' in the file\n",
       "          (e.g. a substring of the column names row) and starts on that\n",
       "          line (inspired by read.xls in package gdata).\n",
       "\n",
       "  select: Vector of column names or numbers to keep, drop the rest.\n",
       "\n",
       "    drop: Vector of column names or numbers to drop, keep the rest.\n",
       "\n",
       "colClasses: A character vector of classes (named or unnamed), as\n",
       "          read.csv. Or a named list of vectors of column names or\n",
       "          numbers, see examples. colClasses in fread is intended for\n",
       "          rare overrides, not for routine use. fread will only promote\n",
       "          a column to a higher type if colClasses requests it. It won't\n",
       "          downgrade a column to a lower type since NAs would result.\n",
       "          You have to coerce such columns afterwards yourself, if you\n",
       "          really require data loss.\n",
       "\n",
       "integer64: \"integer64\" (default) reads columns detected as containing\n",
       "          integers larger than 2^31 as type 'bit64::integer64'.\n",
       "          Alternatively, '\"double\"|\"numeric\"' reads as 'base::read.csv'\n",
       "          does; i.e., possibly with loss of precision and if so\n",
       "          silently. Or, \"character\".\n",
       "\n",
       "     dec: The decimal separator as in 'base::read.csv'. If not \".\"\n",
       "          (default) then usually \",\". See details.\n",
       "\n",
       "col.names: A vector of optional names for the variables (columns). The\n",
       "          default is to use the header column if present or detected,\n",
       "          or if not \"V\" followed by the column number. This is applied\n",
       "          after 'check.names' and before 'key' and 'index'.\n",
       "\n",
       "check.names: default is 'FALSE'. If 'TRUE' then the names of the\n",
       "          variables in the 'data.table' are checked to ensure that they\n",
       "          are syntactically valid variable names. If necessary they are\n",
       "          adjusted (by 'make.names') so that they are, and also to\n",
       "          ensure that there are no duplicates.\n",
       "\n",
       "encoding: default is '\"unknown\"'. Other possible options are '\"UTF-8\"'\n",
       "          and '\"Latin-1\"'.  Note: it is not used to re-encode the\n",
       "          input, rather enables handling of encoded strings in their\n",
       "          native encoding.\n",
       "\n",
       "   quote: By default ('\"\\\"\"'), if a field starts with a double quote,\n",
       "          'fread' handles embedded quotes robustly as explained under\n",
       "          'Details'. If it fails, then another attempt is made to read\n",
       "          the field _as is_, i.e., as if quotes are disabled. By\n",
       "          setting 'quote=\"\"', the field is always read as if quotes are\n",
       "          disabled. It is not expected to ever need to pass anything\n",
       "          other than \\\"\\\" to quote; i.e., to turn it off.\n",
       "\n",
       "strip.white: default is 'TRUE'. Strips leading and trailing whitespaces\n",
       "          of unquoted fields. If 'FALSE', only header trailing spaces\n",
       "          are removed.\n",
       "\n",
       "    fill: logical (default is 'FALSE'). If 'TRUE' then in case the rows\n",
       "          have unequal length, blank fields are implicitly filled.\n",
       "\n",
       "blank.lines.skip: 'logical', default is 'FALSE'. If 'TRUE' blank lines\n",
       "          in the input are ignored.\n",
       "\n",
       "     key: Character vector of one or more column names which is passed\n",
       "          to 'setkey'. It may be a single comma separated string such\n",
       "          as 'key=\"x,y,z\"', or a vector of names such as\n",
       "          'key=c(\"x\",\"y\",\"z\")'. Only valid when argument\n",
       "          'data.table=TRUE'. Where applicable, this should refer to\n",
       "          column names given in 'col.names'.\n",
       "\n",
       "   index: Character vector or list of character vectors of one or more\n",
       "          column names which is passed to 'setindexv'. As with 'key',\n",
       "          comma-separated notation like 'index=\"x,y,z\"' is accepted for\n",
       "          convenience. Only valid when argument 'data.table=TRUE'.\n",
       "          Where applicable, this should refer to column names given in\n",
       "          'col.names'.\n",
       "\n",
       "showProgress: 'TRUE' displays progress on the console if the ETA is\n",
       "          greater than 3 seconds. It is produced in fread's C code\n",
       "          where the very nice (but R level) txtProgressBar and\n",
       "          tkProgressBar are not easily available.\n",
       "\n",
       "data.table: TRUE returns a 'data.table'. FALSE returns a 'data.frame'.\n",
       "          The default for this argument can be changed with\n",
       "          'options(datatable.fread.datatable=FALSE)'.\n",
       "\n",
       " nThread: The number of threads to use. Experiment to see what works\n",
       "          best for your data on your hardware.\n",
       "\n",
       "logical01: If TRUE a column containing only 0s and 1s will be read as\n",
       "          logical, otherwise as integer.\n",
       "\n",
       "keepLeadingZeros: If TRUE a column containing numeric data with leading\n",
       "          zeros will be read as character, otherwise leading zeros will\n",
       "          be removed and converted to numeric.\n",
       "\n",
       "autostart: Deprecated and ignored with warning. Please use 'skip'\n",
       "          instead.\n",
       "\n",
       "_\bD_\be_\bt_\ba_\bi_\bl_\bs:\n",
       "\n",
       "     A sample of 10,000 rows is used for a very good estimate of column\n",
       "     types. 100 contiguous rows are read from 100 equally spaced points\n",
       "     throughout the file including the beginning, middle and the very\n",
       "     end. This results in a better guess when a column changes type\n",
       "     later in the file (e.g. blank at the beginning/only populated near\n",
       "     the end, or 001 at the start but 0A0 later on). This very good\n",
       "     type guess enables a single allocation of the correct type up\n",
       "     front once for speed, memory efficiency and convenience of\n",
       "     avoiding the need to set 'colClasses' after an error. Even though\n",
       "     the sample is large and jumping over the file, it is almost\n",
       "     instant regardless of the size of the file because a lazy\n",
       "     on-demand memory map is used. If a jump lands inside a quoted\n",
       "     field containing newlines, each newline is tested until 5 lines\n",
       "     are found following it with the expected number of fields. The\n",
       "     lowest type for each column is chosen from the ordered list:\n",
       "     'logical', 'integer', 'integer64', 'double', 'character'. Rarely,\n",
       "     the file may contain data of a higher type in rows outside the\n",
       "     sample (referred to as an out-of-sample type exception). In this\n",
       "     event 'fread' will _automatically_ reread just those columns from\n",
       "     the beginning so that you don't have the inconvenience of having\n",
       "     to set 'colClasses' yourself; particularly helpful if you have a\n",
       "     lot of columns. Such columns must be read from the beginning to\n",
       "     correctly distinguish \"00\" from \"000\" when those have both been\n",
       "     interpreted as integer 0 due to the sample but 00A occurs out of\n",
       "     sample. Set 'verbose=TRUE' to see a detailed report of the logic\n",
       "     deployed to read your file.\n",
       "\n",
       "     There is no line length limit, not even a very large one. Since we\n",
       "     are encouraging 'list' columns (i.e. 'sep2') this has the\n",
       "     potential to encourage longer line lengths. So the approach of\n",
       "     scanning each line into a buffer first and then rescanning that\n",
       "     buffer is not used. There are no buffers used in 'fread''s C code\n",
       "     at all. The field width limit is limited by R itself: the maximum\n",
       "     width of a character string (currently 2^31-1 bytes, 2GB).\n",
       "\n",
       "     The filename extension (such as .csv) is irrelevant for \"auto\"\n",
       "     'sep' and 'sep2'. Separator detection is entirely driven by the\n",
       "     file contents. This can be useful when loading a set of different\n",
       "     files which may not be named consistently, or may not have the\n",
       "     extension .csv despite being csv. Some datasets have been\n",
       "     collected over many years, one file per day for example. Sometimes\n",
       "     the file name format has changed at some point in the past or even\n",
       "     the format of the file itself. So the idea is that you can loop\n",
       "     'fread' through a set of files and as long as each file is regular\n",
       "     and delimited, 'fread' can read them all. Whether they all stack\n",
       "     is another matter but at least each one is read quickly without\n",
       "     you needing to vary 'colClasses' in 'read.table' or 'read.csv'.\n",
       "\n",
       "     If an empty line is encountered then reading stops there with\n",
       "     warning if any text exists after the empty line such as a footer.\n",
       "     The first line of any text discarded is included in the warning\n",
       "     message. Unless, it is single-column input. In that case blank\n",
       "     lines are significant (even at the very end) and represent NA in\n",
       "     the single column. So that 'fread(fwrite(DT))==DT'. This default\n",
       "     behaviour can be controlled using 'blank.lines.skip=TRUE|FALSE'.\n",
       "\n",
       "     *Line endings:* All known line endings are detected automatically:\n",
       "     '\\n' (*NIX including Mac), '\\r\\n' (Windows CRLF), '\\r' (old Mac)\n",
       "     and '\\n\\r' (just in case). There is no need to convert input files\n",
       "     first. 'fread' running on any architecture will read a file from\n",
       "     any architecture. Both '\\r' and '\\n' may be embedded in character\n",
       "     strings (including column names) provided the field is quoted.\n",
       "\n",
       "     *Decimal separator and locale:* 'fread(...,dec=\",\")' should just\n",
       "     work. 'fread' uses C function 'strtod' to read numeric data; e.g.,\n",
       "     '1.23' or '1,23'. 'strtod' retrieves the decimal separator ('.' or\n",
       "     ',' usually) from the locale of the R session rather than as an\n",
       "     argument passed to the 'strtod' function. So for\n",
       "     'fread(...,dec=\",\")' to work, 'fread' changes this (and only this)\n",
       "     R session's locale temporarily to a locale which provides the\n",
       "     desired decimal separator.\n",
       "\n",
       "     On Windows, \"French_France.1252\" is tried which should be\n",
       "     available as standard (any locale with comma decimal separator\n",
       "     would suffice) and on unix \"fr_FR.utf8\" (you may need to install\n",
       "     this locale on unix). 'fread()' is very careful to set the locale\n",
       "     back again afterwards, even if the function fails with an error.\n",
       "     The choice of locale is determined by\n",
       "     'options()$datatable.fread.dec.locale'. This may be a _vector_ of\n",
       "     locale names and if so they will be tried in turn until the\n",
       "     desired 'dec' is obtained; thus allowing more than two different\n",
       "     decimal separators to be selected. This is a new feature in v1.9.6\n",
       "     and is experimental. In case of problems, turn it off with\n",
       "     'options(datatable.fread.dec.experiment=FALSE)'.\n",
       "\n",
       "     *Quotes:*\n",
       "\n",
       "     When 'quote' is a single character,\n",
       "\n",
       "        â€¢ Spaces and other whitespace (other than 'sep' and '\\n') may\n",
       "          appear in unquoted character fields, e.g., '...,2,Joe\n",
       "          Bloggs,3.14,...'.\n",
       "\n",
       "        â€¢ When 'character' columns are _quoted_, they must start and\n",
       "          end with that quoting character immediately followed by 'sep'\n",
       "          or '\\n', e.g., '...,2,\"Joe Bloggs\",3.14,...'.\n",
       "\n",
       "          In essence quoting character fields are _required_ only if\n",
       "          'sep' or '\\n' appears in the string value. Quoting may be\n",
       "          used to signify that numeric data should be read as text.\n",
       "          Unescaped quotes may be present in a quoted field, e.g.,\n",
       "          '...,2,\"Joe, \"Bloggs\"\",3.14,...', as well as escaped quotes,\n",
       "          e.g., '...,2,\"Joe \\\",Bloggs\\\"\",3.14,...'.\n",
       "\n",
       "          If an embedded quote is followed by the separator inside a\n",
       "          quoted field, the embedded quotes up to that point in that\n",
       "          field must be balanced; e.g.\n",
       "          '...,2,\"www.blah?x=\"one\",y=\"two\"\",3.14,...'.\n",
       "\n",
       "          On those fields that do not satisfy these conditions, e.g.,\n",
       "          fields with unbalanced quotes, 'fread' re-attempts that field\n",
       "          as if it isn't quoted. This is quite useful in reading files\n",
       "          that contains fields with unbalanced quotes as well,\n",
       "          automatically.\n",
       "\n",
       "     To read fields _as is_ instead, use 'quote = \"\"'.\n",
       "\n",
       "     *File Download:*\n",
       "\n",
       "     When 'input' begins with http://, https://, ftp://, ftps://, or\n",
       "     file://, 'fread' detects this and _downloads_ the target to a\n",
       "     temporary file (at 'tempfile()') before proceeding to read the\n",
       "     file as usual. Secure URLS (ftps:// and https://) are downloaded\n",
       "     with 'curl::curl_download'; ftp:// and http:// paths are\n",
       "     downloaded with 'download.file' and 'method' set to\n",
       "     'getOption(\"download.file.method\")', defaulting to '\"auto\"'; and\n",
       "     file:// is downloaded with 'download.file' with\n",
       "     'method=\"internal\"'. NB: this implies that for file://, even files\n",
       "     found on the current machine will be \"downloaded\" (i.e.,\n",
       "     hard-copied) to a temporary file. See 'download.file' for more\n",
       "     details.\n",
       "\n",
       "_\bV_\ba_\bl_\bu_\be:\n",
       "\n",
       "     A 'data.table' by default, otherwise a 'data.frame' when argument\n",
       "     'data.table=FALSE'.\n",
       "\n",
       "_\bR_\be_\bf_\be_\br_\be_\bn_\bc_\be_\bs:\n",
       "\n",
       "     Background :\n",
       "     <URL: https://cran.r-project.org/doc/manuals/R-data.html>\n",
       "     <URL:\n",
       "     http://stackoverflow.com/questions/1727772/quickly-reading-very-large-tables-as-dataframes-in-r>\n",
       "     <URL:\n",
       "     http://www.biostat.jhsph.edu/~rpeng/docs/R-large-tables.html>\n",
       "     <URL:\n",
       "     http://www.cerebralmastication.com/2009/11/loading-big-data-into-r/>\n",
       "     <URL:\n",
       "     http://stackoverflow.com/questions/9061736/faster-than-scan-with-rcpp>\n",
       "     <URL:\n",
       "     http://stackoverflow.com/questions/415515/how-can-i-read-and-manipulate-csv-file-data-in-c>\n",
       "     <URL:\n",
       "     http://stackoverflow.com/questions/9352887/strategies-for-reading-in-csv-files-in-pieces>\n",
       "     <URL:\n",
       "     http://stackoverflow.com/questions/11782084/reading-in-large-text-files-in-r>\n",
       "     <URL:\n",
       "     http://stackoverflow.com/questions/45972/mmap-vs-reading-blocks>\n",
       "     <URL:\n",
       "     http://stackoverflow.com/questions/258091/when-should-i-use-mmap-for-file-access>\n",
       "     <URL: http://stackoverflow.com/a/9818473/403310>\n",
       "     <URL:\n",
       "     http://stackoverflow.com/questions/9608950/reading-huge-files-using-memory-mapped-files>\n",
       "\n",
       "     finagler = \"to get or achieve by guile or manipulation\" <URL:\n",
       "     http://dictionary.reference.com/browse/finagler>\n",
       "\n",
       "_\bS_\be_\be _\bA_\bl_\bs_\bo:\n",
       "\n",
       "     'read.csv', 'url', 'Sys.setlocale', 'setDTthreads', 'fwrite',\n",
       "     'bit64::integer64'\n",
       "\n",
       "_\bE_\bx_\ba_\bm_\bp_\bl_\be_\bs:\n",
       "\n",
       "     ## Not run:\n",
       "     \n",
       "     \n",
       "     # Demo speed-up\n",
       "     n = 1e6\n",
       "     DT = data.table( a=sample(1:1000,n,replace=TRUE),\n",
       "                      b=sample(1:1000,n,replace=TRUE),\n",
       "                      c=rnorm(n),\n",
       "                      d=sample(c(\"foo\",\"bar\",\"baz\",\"qux\",\"quux\"),n,replace=TRUE),\n",
       "                      e=rnorm(n),\n",
       "                      f=sample(1:1000,n,replace=TRUE) )\n",
       "     DT[2,b:=NA_integer_]\n",
       "     DT[4,c:=NA_real_]\n",
       "     DT[3,d:=NA_character_]\n",
       "     DT[5,d:=\"\"]\n",
       "     DT[2,e:=+Inf]\n",
       "     DT[3,e:=-Inf]\n",
       "     \n",
       "     write.table(DT,\"test.csv\",sep=\",\",row.names=FALSE,quote=FALSE)\n",
       "     cat(\"File size (MB):\", round(file.info(\"test.csv\")$size/1024^2),\"\\n\")\n",
       "     # 50 MB (1e6 rows x 6 columns)\n",
       "     \n",
       "     system.time(DF1 <-read.csv(\"test.csv\",stringsAsFactors=FALSE))\n",
       "     # 60 sec (first time in fresh R session)\n",
       "     \n",
       "     system.time(DF1 <- read.csv(\"test.csv\",stringsAsFactors=FALSE))\n",
       "     # 30 sec (immediate repeat is faster, varies)\n",
       "     \n",
       "     system.time(DF2 <- read.table(\"test.csv\",header=TRUE,sep=\",\",quote=\"\",\n",
       "         stringsAsFactors=FALSE,comment.char=\"\",nrows=n,\n",
       "         colClasses=c(\"integer\",\"integer\",\"numeric\",\n",
       "                      \"character\",\"numeric\",\"integer\")))\n",
       "     # 10 sec (consistently). All known tricks and known nrows, see references.\n",
       "     \n",
       "     require(data.table)\n",
       "     if(all(sapply(c(\"sqldf\", \"ff\"), requireNamespace, quietly = TRUE))) {\n",
       "       require(sqldf)\n",
       "       require(ff)\n",
       "     \n",
       "       system.time(DT <- fread(\"test.csv\"))\n",
       "       #  3 sec (faster and friendlier)\n",
       "     \n",
       "       system.time(SQLDF <- read.csv.sql(\"test.csv\",dbname=NULL))\n",
       "       # 20 sec (friendly too, good defaults)\n",
       "     \n",
       "       system.time(FFDF <- read.csv.ffdf(file=\"test.csv\",nrows=n))\n",
       "       # 20 sec (friendly too, good defaults)\n",
       "     \n",
       "       identical(DF1,DF2)\n",
       "       all.equal(as.data.table(DF1), DT)\n",
       "       identical(DF1,within(SQLDF,{b<-as.integer(b);c<-as.numeric(c)}))\n",
       "       identical(DF1,within(as.data.frame(FFDF),d<-as.character(d)))\n",
       "     }\n",
       "     \n",
       "     # Scaling up ...\n",
       "     l = vector(\"list\",10)\n",
       "     for (i in 1:10) l[[i]] = DT\n",
       "     DTbig = rbindlist(l)\n",
       "     tables()\n",
       "     write.table(DTbig,\"testbig.csv\",sep=\",\",row.names=FALSE,quote=FALSE)\n",
       "     # 500MB (10 million rows x 6 columns)\n",
       "     \n",
       "     system.time(DF <- read.table(\"testbig.csv\",header=TRUE,sep=\",\",\n",
       "         quote=\"\",stringsAsFactors=FALSE,comment.char=\"\",nrows=1e7,\n",
       "         colClasses=c(\"integer\",\"integer\",\"numeric\",\n",
       "                      \"character\",\"numeric\",\"integer\")))\n",
       "     # 100-200 sec (varies)\n",
       "     \n",
       "     system.time(DT <- fread(\"testbig.csv\"))\n",
       "     # 30-40 sec\n",
       "     \n",
       "     all(mapply(all.equal, DF, DT))\n",
       "     \n",
       "     \n",
       "     # Real data example (Airline data)\n",
       "     # http://stat-computing.org/dataexpo/2009/the-data.html\n",
       "     \n",
       "     download.file(\"http://stat-computing.org/dataexpo/2009/2008.csv.bz2\",\n",
       "                   destfile=\"2008.csv.bz2\")\n",
       "     # 109MB (compressed)\n",
       "     \n",
       "     system(\"bunzip2 2008.csv.bz2\")\n",
       "     # 658MB (7,009,728 rows x 29 columns)\n",
       "     \n",
       "     colClasses = sapply(read.csv(\"2008.csv\",nrows=100),class)\n",
       "     # 4 character, 24 integer, 1 logical. Incorrect.\n",
       "     \n",
       "     colClasses = sapply(read.csv(\"2008.csv\",nrows=200),class)\n",
       "     # 5 character, 24 integer. Correct. Might have missed data only using 100 rows\n",
       "     # since read.table assumes colClasses is correct.\n",
       "     \n",
       "     system.time(DF <- read.table(\"2008.csv\", header=TRUE, sep=\",\",\n",
       "         quote=\"\",stringsAsFactors=FALSE,comment.char=\"\",nrows=7009730,\n",
       "         colClasses=colClasses))\n",
       "     # 360 secs\n",
       "     \n",
       "     system.time(DT <- fread(\"2008.csv\"))\n",
       "     #  40 secs\n",
       "     \n",
       "     table(sapply(DT,class))\n",
       "     # 5 character and 24 integer columns. Correct without needing to worry about colClasses\n",
       "     # issue above.\n",
       "     \n",
       "     \n",
       "     # Reads URLs directly :\n",
       "     fread(\"http://www.stats.ox.ac.uk/pub/datasets/csb/ch11b.dat\")\n",
       "     \n",
       "     # Decompresses .gz and .bz2 automatically :\n",
       "     fread(\"http://stat-computing.org/dataexpo/2009/2008.csv.bz2\")\n",
       "     ## End(Not run)\n",
       "     \n",
       "     \n",
       "     # Reads text input directly :\n",
       "     fread(\"A,B\\n1,2\\n3,4\")\n",
       "     \n",
       "     # Reads pasted input directly :\n",
       "     fread(\"A,B\n",
       "     1,2\n",
       "     3,4\n",
       "     \")\n",
       "     \n",
       "     # Finds the first data line automatically :\n",
       "     fread(\"\n",
       "     This is perhaps a banner line or two or ten.\n",
       "     A,B\n",
       "     1,2\n",
       "     3,4\n",
       "     \")\n",
       "     \n",
       "     # Detects whether column names are present automatically :\n",
       "     fread(\"\n",
       "     1,2\n",
       "     3,4\n",
       "     \")\n",
       "     \n",
       "     # Numerical precision :\n",
       "     \n",
       "     DT = fread(\"A\\n1.010203040506070809010203040506\\n\")\n",
       "     # TODO: add numerals=c(\"allow.loss\", \"warn.loss\", \"no.loss\") from base::read.table, +\"use.Rmpfr\"\n",
       "     typeof(DT$A)==\"double\"   # currently \"allow.loss\" with no option\n",
       "     \n",
       "     DT = fread(\"A\\n1.46761e-313\\n\")   # read as 'numeric'\n",
       "     DT[,sprintf(\"%.15E\",A)]   # beyond what double precision can store accurately to 15 digits\n",
       "     # For greater accuracy use colClasses to read as character, then package Rmpfr.\n",
       "     \n",
       "     # colClasses\n",
       "     data = \"A,B,C,D\\n1,3,5,7\\n2,4,6,8\\n\"\n",
       "     fread(data, colClasses=c(B=\"character\",C=\"character\",D=\"character\"))  # as read.csv\n",
       "     fread(data, colClasses=list(character=c(\"B\",\"C\",\"D\")))    # saves typing\n",
       "     fread(data, colClasses=list(character=2:4))     # same using column numbers\n",
       "     \n",
       "     # drop\n",
       "     fread(data, colClasses=c(\"B\"=\"NULL\",\"C\"=\"NULL\"))   # as read.csv\n",
       "     fread(data, colClasses=list(NULL=c(\"B\",\"C\")))      #\n",
       "     fread(data, drop=c(\"B\",\"C\"))      # same but less typing, easier to read\n",
       "     fread(data, drop=2:3)             # same using column numbers\n",
       "     \n",
       "     # select\n",
       "     # (in read.csv you need to work out which to drop)\n",
       "     fread(data, select=c(\"A\",\"D\"))    # less typing, easier to read\n",
       "     fread(data, select=c(1,4))        # same using column numbers\n",
       "     \n",
       "     # skip blank lines\n",
       "     fread(\"a,b\\n1,a\\n2,b\\n\\n\\n3,c\\n\", blank.lines.skip=TRUE)\n",
       "     # fill\n",
       "     fread(\"a,b\\n1,a\\n2\\n3,c\\n\", fill=TRUE)\n",
       "     fread(\"a,b\\n\\n1,a\\n2\\n\\n3,c\\n\\n\", fill=TRUE)\n",
       "     \n",
       "     # fill with skip blank lines\n",
       "     fread(\"a,b\\n\\n1,a\\n2\\n\\n3,c\\n\\n\", fill=TRUE, blank.lines.skip=TRUE)\n",
       "     \n",
       "     # check.names usage\n",
       "     fread(\"a b,a b\\n1,2\\n\")\n",
       "     fread(\"a b,a b\\n1,2\\n\", check.names=TRUE) # no duplicates + syntactically valid names\n",
       "     "
      ]
     },
     "metadata": {},
     "output_type": "display_data"
    }
   ],
   "source": [
    "?fread"
   ]
  },
  {
   "cell_type": "code",
   "execution_count": 186,
   "id": "165bcdaf-41f1-43c2-971e-d2689e6b7358",
   "metadata": {},
   "outputs": [],
   "source": [
    "mt<-fread('https://raw.githubusercontent.com/selva86/datasets/master/mtcars.csv')"
   ]
  },
  {
   "cell_type": "code",
   "execution_count": 187,
   "id": "41a89a47-81b2-43dd-b752-51d501f24a83",
   "metadata": {},
   "outputs": [
    {
     "data": {
      "text/html": [
       "<table>\n",
       "<thead><tr><th scope=col>mpg</th><th scope=col>cyl</th><th scope=col>disp</th><th scope=col>hp</th><th scope=col>drat</th><th scope=col>wt</th><th scope=col>qsec</th><th scope=col>vs</th><th scope=col>am</th><th scope=col>gear</th><th scope=col>carb</th><th scope=col>fast</th><th scope=col>cars</th><th scope=col>carname</th></tr></thead>\n",
       "<tbody>\n",
       "\t<tr><td>4.582576         </td><td>6                </td><td>160              </td><td>110              </td><td>3.90             </td><td>2.620            </td><td>16.46            </td><td>0                </td><td>1                </td><td>4                </td><td>4                </td><td>1                </td><td>Mazda RX4        </td><td>Mazda RX4        </td></tr>\n",
       "\t<tr><td>4.582576         </td><td>6                </td><td>160              </td><td>110              </td><td>3.90             </td><td>2.875            </td><td>17.02            </td><td>0                </td><td>1                </td><td>4                </td><td>4                </td><td>1                </td><td>Mazda RX4 Wag    </td><td>Mazda RX4 Wag    </td></tr>\n",
       "\t<tr><td>4.774935         </td><td>4                </td><td>108              </td><td> 93              </td><td>3.85             </td><td>2.320            </td><td>18.61            </td><td>1                </td><td>1                </td><td>4                </td><td>1                </td><td>1                </td><td>Datsun 710       </td><td>Datsun 710       </td></tr>\n",
       "\t<tr><td>4.626013         </td><td>6                </td><td>258              </td><td>110              </td><td>3.08             </td><td>3.215            </td><td>19.44            </td><td>1                </td><td>0                </td><td>3                </td><td>1                </td><td>1                </td><td>Hornet 4 Drive   </td><td>Hornet 4 Drive   </td></tr>\n",
       "\t<tr><td>4.324350         </td><td>8                </td><td>360              </td><td>175              </td><td>3.15             </td><td>3.440            </td><td>17.02            </td><td>0                </td><td>0                </td><td>3                </td><td>2                </td><td>1                </td><td>Hornet Sportabout</td><td>Hornet Sportabout</td></tr>\n",
       "\t<tr><td>4.254409         </td><td>6                </td><td>225              </td><td>105              </td><td>2.76             </td><td>3.460            </td><td>20.22            </td><td>1                </td><td>0                </td><td>3                </td><td>1                </td><td>1                </td><td>Valiant          </td><td>Valiant          </td></tr>\n",
       "</tbody>\n",
       "</table>\n"
      ],
      "text/latex": [
       "\\begin{tabular}{r|llllllllllllll}\n",
       " mpg & cyl & disp & hp & drat & wt & qsec & vs & am & gear & carb & fast & cars & carname\\\\\n",
       "\\hline\n",
       "\t 4.582576          & 6                 & 160               & 110               & 3.90              & 2.620             & 16.46             & 0                 & 1                 & 4                 & 4                 & 1                 & Mazda RX4         & Mazda RX4        \\\\\n",
       "\t 4.582576          & 6                 & 160               & 110               & 3.90              & 2.875             & 17.02             & 0                 & 1                 & 4                 & 4                 & 1                 & Mazda RX4 Wag     & Mazda RX4 Wag    \\\\\n",
       "\t 4.774935          & 4                 & 108               &  93               & 3.85              & 2.320             & 18.61             & 1                 & 1                 & 4                 & 1                 & 1                 & Datsun 710        & Datsun 710       \\\\\n",
       "\t 4.626013          & 6                 & 258               & 110               & 3.08              & 3.215             & 19.44             & 1                 & 0                 & 3                 & 1                 & 1                 & Hornet 4 Drive    & Hornet 4 Drive   \\\\\n",
       "\t 4.324350          & 8                 & 360               & 175               & 3.15              & 3.440             & 17.02             & 0                 & 0                 & 3                 & 2                 & 1                 & Hornet Sportabout & Hornet Sportabout\\\\\n",
       "\t 4.254409          & 6                 & 225               & 105               & 2.76              & 3.460             & 20.22             & 1                 & 0                 & 3                 & 1                 & 1                 & Valiant           & Valiant          \\\\\n",
       "\\end{tabular}\n"
      ],
      "text/markdown": [
       "\n",
       "| mpg | cyl | disp | hp | drat | wt | qsec | vs | am | gear | carb | fast | cars | carname |\n",
       "|---|---|---|---|---|---|---|---|---|---|---|---|---|---|\n",
       "| 4.582576          | 6                 | 160               | 110               | 3.90              | 2.620             | 16.46             | 0                 | 1                 | 4                 | 4                 | 1                 | Mazda RX4         | Mazda RX4         |\n",
       "| 4.582576          | 6                 | 160               | 110               | 3.90              | 2.875             | 17.02             | 0                 | 1                 | 4                 | 4                 | 1                 | Mazda RX4 Wag     | Mazda RX4 Wag     |\n",
       "| 4.774935          | 4                 | 108               |  93               | 3.85              | 2.320             | 18.61             | 1                 | 1                 | 4                 | 1                 | 1                 | Datsun 710        | Datsun 710        |\n",
       "| 4.626013          | 6                 | 258               | 110               | 3.08              | 3.215             | 19.44             | 1                 | 0                 | 3                 | 1                 | 1                 | Hornet 4 Drive    | Hornet 4 Drive    |\n",
       "| 4.324350          | 8                 | 360               | 175               | 3.15              | 3.440             | 17.02             | 0                 | 0                 | 3                 | 2                 | 1                 | Hornet Sportabout | Hornet Sportabout |\n",
       "| 4.254409          | 6                 | 225               | 105               | 2.76              | 3.460             | 20.22             | 1                 | 0                 | 3                 | 1                 | 1                 | Valiant           | Valiant           |\n",
       "\n"
      ],
      "text/plain": [
       "  mpg      cyl disp hp  drat wt    qsec  vs am gear carb fast cars             \n",
       "1 4.582576 6   160  110 3.90 2.620 16.46 0  1  4    4    1    Mazda RX4        \n",
       "2 4.582576 6   160  110 3.90 2.875 17.02 0  1  4    4    1    Mazda RX4 Wag    \n",
       "3 4.774935 4   108   93 3.85 2.320 18.61 1  1  4    1    1    Datsun 710       \n",
       "4 4.626013 6   258  110 3.08 3.215 19.44 1  0  3    1    1    Hornet 4 Drive   \n",
       "5 4.324350 8   360  175 3.15 3.440 17.02 0  0  3    2    1    Hornet Sportabout\n",
       "6 4.254409 6   225  105 2.76 3.460 20.22 1  0  3    1    1    Valiant          \n",
       "  carname          \n",
       "1 Mazda RX4        \n",
       "2 Mazda RX4 Wag    \n",
       "3 Datsun 710       \n",
       "4 Hornet 4 Drive   \n",
       "5 Hornet Sportabout\n",
       "6 Valiant          "
      ]
     },
     "metadata": {},
     "output_type": "display_data"
    }
   ],
   "source": [
    "head(mt)"
   ]
  },
  {
   "cell_type": "code",
   "execution_count": 188,
   "id": "90174a3c-64f7-4f52-811d-2561ff298304",
   "metadata": {},
   "outputs": [
    {
     "data": {
      "text/html": [
       "<ol class=list-inline>\n",
       "\t<li>'data.table'</li>\n",
       "\t<li>'data.frame'</li>\n",
       "</ol>\n"
      ],
      "text/latex": [
       "\\begin{enumerate*}\n",
       "\\item 'data.table'\n",
       "\\item 'data.frame'\n",
       "\\end{enumerate*}\n"
      ],
      "text/markdown": [
       "1. 'data.table'\n",
       "2. 'data.frame'\n",
       "\n",
       "\n"
      ],
      "text/plain": [
       "[1] \"data.table\" \"data.frame\""
      ]
     },
     "metadata": {},
     "output_type": "display_data"
    }
   ],
   "source": [
    "class(mt)"
   ]
  },
  {
   "cell_type": "code",
   "execution_count": 189,
   "id": "27264e26-351b-4090-a436-5627359c53b5",
   "metadata": {},
   "outputs": [
    {
     "data": {
      "text/html": [
       "32"
      ],
      "text/latex": [
       "32"
      ],
      "text/markdown": [
       "32"
      ],
      "text/plain": [
       "[1] 32"
      ]
     },
     "metadata": {},
     "output_type": "display_data"
    },
    {
     "data": {
      "text/html": [
       "14"
      ],
      "text/latex": [
       "14"
      ],
      "text/markdown": [
       "14"
      ],
      "text/plain": [
       "[1] 14"
      ]
     },
     "metadata": {},
     "output_type": "display_data"
    },
    {
     "name": "stdout",
     "output_type": "stream",
     "text": [
      "Classes 'data.table' and 'data.frame':\t32 obs. of  14 variables:\n",
      " $ mpg    : num  4.58 4.58 4.77 4.63 4.32 ...\n",
      " $ cyl    : int  6 6 4 6 8 6 8 4 4 6 ...\n",
      " $ disp   : num  160 160 108 258 360 ...\n",
      " $ hp     : int  110 110 93 110 175 105 245 62 95 123 ...\n",
      " $ drat   : num  3.9 3.9 3.85 3.08 3.15 2.76 3.21 3.69 3.92 3.92 ...\n",
      " $ wt     : num  2.62 2.88 2.32 3.21 3.44 ...\n",
      " $ qsec   : num  16.5 17 18.6 19.4 17 ...\n",
      " $ vs     : int  0 0 1 1 0 1 0 1 1 1 ...\n",
      " $ am     : int  1 1 1 0 0 0 0 0 0 0 ...\n",
      " $ gear   : int  4 4 4 3 3 3 3 4 4 4 ...\n",
      " $ carb   : int  4 4 1 1 2 1 4 2 2 4 ...\n",
      " $ fast   : int  1 1 1 1 1 1 0 1 1 1 ...\n",
      " $ cars   : chr  \"Mazda RX4\" \"Mazda RX4 Wag\" \"Datsun 710\" \"Hornet 4 Drive\" ...\n",
      " $ carname: chr  \"Mazda RX4\" \"Mazda RX4 Wag\" \"Datsun 710\" \"Hornet 4 Drive\" ...\n",
      " - attr(*, \".internal.selfref\")=<externalptr> \n"
     ]
    }
   ],
   "source": [
    "nrow(mt)\n",
    "ncol(mt)\n",
    "str(mt)\n"
   ]
  },
  {
   "cell_type": "code",
   "execution_count": 190,
   "id": "fda41cfc-4d56-4772-8d9e-240324ee5188",
   "metadata": {},
   "outputs": [
    {
     "data": {
      "text/plain": [
       "      mpg             cyl             disp             hp       \n",
       " Min.   :3.225   Min.   :4.000   Min.   : 71.1   Min.   : 52.0  \n",
       " 1st Qu.:3.927   1st Qu.:4.000   1st Qu.:120.8   1st Qu.: 96.5  \n",
       " Median :4.382   Median :6.000   Median :196.3   Median :123.0  \n",
       " Mean   :4.435   Mean   :6.188   Mean   :230.7   Mean   :146.7  \n",
       " 3rd Qu.:4.775   3rd Qu.:8.000   3rd Qu.:326.0   3rd Qu.:180.0  \n",
       " Max.   :5.822   Max.   :8.000   Max.   :472.0   Max.   :335.0  \n",
       "      drat             wt             qsec             vs        \n",
       " Min.   :2.760   Min.   :1.513   Min.   :14.50   Min.   :0.0000  \n",
       " 1st Qu.:3.080   1st Qu.:2.581   1st Qu.:16.89   1st Qu.:0.0000  \n",
       " Median :3.695   Median :3.325   Median :17.71   Median :0.0000  \n",
       " Mean   :3.597   Mean   :3.217   Mean   :17.85   Mean   :0.4375  \n",
       " 3rd Qu.:3.920   3rd Qu.:3.610   3rd Qu.:18.90   3rd Qu.:1.0000  \n",
       " Max.   :4.930   Max.   :5.424   Max.   :22.90   Max.   :1.0000  \n",
       "       am              gear            carb            fast       \n",
       " Min.   :0.0000   Min.   :3.000   Min.   :1.000   Min.   :0.0000  \n",
       " 1st Qu.:0.0000   1st Qu.:3.000   1st Qu.:2.000   1st Qu.:0.0000  \n",
       " Median :0.0000   Median :4.000   Median :2.000   Median :1.0000  \n",
       " Mean   :0.4062   Mean   :3.688   Mean   :2.812   Mean   :0.6875  \n",
       " 3rd Qu.:1.0000   3rd Qu.:4.000   3rd Qu.:4.000   3rd Qu.:1.0000  \n",
       " Max.   :1.0000   Max.   :5.000   Max.   :8.000   Max.   :1.0000  \n",
       "     cars             carname         \n",
       " Length:32          Length:32         \n",
       " Class :character   Class :character  \n",
       " Mode  :character   Mode  :character  \n",
       "                                      \n",
       "                                      \n",
       "                                      "
      ]
     },
     "metadata": {},
     "output_type": "display_data"
    }
   ],
   "source": [
    "summary(mt)"
   ]
  },
  {
   "cell_type": "markdown",
   "id": "60b591f0-2499-4746-ac33-fd3727322ae0",
   "metadata": {},
   "source": [
    "## $ operator will get the specific column form the dataframe"
   ]
  },
  {
   "cell_type": "code",
   "execution_count": 191,
   "id": "7607f522-160b-4a2c-b13b-b8c3e1884a62",
   "metadata": {},
   "outputs": [
    {
     "data": {
      "text/html": [
       "<ol class=list-inline>\n",
       "\t<li>0</li>\n",
       "\t<li>0</li>\n",
       "\t<li>1</li>\n",
       "\t<li>1</li>\n",
       "\t<li>0</li>\n",
       "\t<li>1</li>\n",
       "</ol>\n"
      ],
      "text/latex": [
       "\\begin{enumerate*}\n",
       "\\item 0\n",
       "\\item 0\n",
       "\\item 1\n",
       "\\item 1\n",
       "\\item 0\n",
       "\\item 1\n",
       "\\end{enumerate*}\n"
      ],
      "text/markdown": [
       "1. 0\n",
       "2. 0\n",
       "3. 1\n",
       "4. 1\n",
       "5. 0\n",
       "6. 1\n",
       "\n",
       "\n"
      ],
      "text/plain": [
       "[1] 0 0 1 1 0 1"
      ]
     },
     "metadata": {},
     "output_type": "display_data"
    }
   ],
   "source": [
    "head(mt$vs)"
   ]
  },
  {
   "cell_type": "code",
   "execution_count": 192,
   "id": "2d673d0f-19f8-4869-bc72-36aca2bb36a5",
   "metadata": {},
   "outputs": [
    {
     "data": {
      "text/plain": [
       "   Min. 1st Qu.  Median    Mean 3rd Qu.    Max. \n",
       " 0.0000  0.0000  0.0000  0.4375  1.0000  1.0000 "
      ]
     },
     "metadata": {},
     "output_type": "display_data"
    }
   ],
   "source": [
    "# summary of just one column\n",
    "summary(mt$vs)"
   ]
  },
  {
   "cell_type": "code",
   "execution_count": 193,
   "id": "ea559f3a-d73c-4d48-90b0-40a1c02ec2d9",
   "metadata": {},
   "outputs": [
    {
     "data": {
      "text/html": [
       "<dl class=dl-horizontal>\n",
       "\t<dt>0%</dt>\n",
       "\t\t<dd>0</dd>\n",
       "\t<dt>25%</dt>\n",
       "\t\t<dd>0</dd>\n",
       "\t<dt>50%</dt>\n",
       "\t\t<dd>0</dd>\n",
       "\t<dt>75%</dt>\n",
       "\t\t<dd>1</dd>\n",
       "\t<dt>100%</dt>\n",
       "\t\t<dd>1</dd>\n",
       "</dl>\n"
      ],
      "text/latex": [
       "\\begin{description*}\n",
       "\\item[0\\textbackslash{}\\%] 0\n",
       "\\item[25\\textbackslash{}\\%] 0\n",
       "\\item[50\\textbackslash{}\\%] 0\n",
       "\\item[75\\textbackslash{}\\%] 1\n",
       "\\item[100\\textbackslash{}\\%] 1\n",
       "\\end{description*}\n"
      ],
      "text/markdown": [
       "0%\n",
       ":   025%\n",
       ":   050%\n",
       ":   075%\n",
       ":   1100%\n",
       ":   1\n",
       "\n"
      ],
      "text/plain": [
       "  0%  25%  50%  75% 100% \n",
       "   0    0    0    1    1 "
      ]
     },
     "metadata": {},
     "output_type": "display_data"
    }
   ],
   "source": [
    "quantile(mt$vs)"
   ]
  },
  {
   "cell_type": "code",
   "execution_count": 194,
   "id": "1ac76548-d230-4f3e-b7ab-95fabdbd9fb2",
   "metadata": {},
   "outputs": [
    {
     "data": {
      "text/html": [
       "\n",
       "<table width=\"100%\" summary=\"page for quantile {stats}\"><tr><td>quantile {stats}</td><td style=\"text-align: right;\">R Documentation</td></tr></table>\n",
       "\n",
       "<h2>Sample Quantiles</h2>\n",
       "\n",
       "<h3>Description</h3>\n",
       "\n",
       "<p>The generic function <code>quantile</code> produces sample quantiles\n",
       "corresponding to the given probabilities.\n",
       "The smallest observation corresponds to a probability of 0 and the\n",
       "largest to a probability of 1.\n",
       "</p>\n",
       "\n",
       "\n",
       "<h3>Usage</h3>\n",
       "\n",
       "<pre>\n",
       "quantile(x, ...)\n",
       "\n",
       "## Default S3 method:\n",
       "quantile(x, probs = seq(0, 1, 0.25), na.rm = FALSE,\n",
       "         names = TRUE, type = 7, ...)\n",
       "</pre>\n",
       "\n",
       "\n",
       "<h3>Arguments</h3>\n",
       "\n",
       "<table summary=\"R argblock\">\n",
       "<tr valign=\"top\"><td><code>x</code></td>\n",
       "<td>\n",
       "<p>numeric vector whose sample quantiles are wanted, or an\n",
       "object of a class for which a method has been defined (see also\n",
       "&lsquo;details&rsquo;). <code>NA</code> and <code>NaN</code> values are not\n",
       "allowed in numeric vectors unless <code>na.rm</code> is <code>TRUE</code>.</p>\n",
       "</td></tr>\n",
       "<tr valign=\"top\"><td><code>probs</code></td>\n",
       "<td>\n",
       "<p>numeric vector of probabilities with values in\n",
       "<i>[0,1]</i>.  (Values up to <span class=\"samp\">2e-14</span> outside that\n",
       "range are accepted and moved to the nearby endpoint.)</p>\n",
       "</td></tr>\n",
       "<tr valign=\"top\"><td><code>na.rm</code></td>\n",
       "<td>\n",
       "<p>logical; if true, any <code>NA</code> and <code>NaN</code>'s\n",
       "are removed from <code>x</code> before the quantiles are computed.</p>\n",
       "</td></tr>\n",
       "<tr valign=\"top\"><td><code>names</code></td>\n",
       "<td>\n",
       "<p>logical; if true, the result has a <code>names</code>\n",
       "attribute.  Set to <code>FALSE</code> for speedup with many <code>probs</code>.</p>\n",
       "</td></tr>\n",
       "<tr valign=\"top\"><td><code>type</code></td>\n",
       "<td>\n",
       "<p>an integer between 1 and 9 selecting one of the\n",
       "nine quantile algorithms detailed below to be used.</p>\n",
       "</td></tr>\n",
       "<tr valign=\"top\"><td><code>...</code></td>\n",
       "<td>\n",
       "<p>further arguments passed to or from other methods.</p>\n",
       "</td></tr>\n",
       "</table>\n",
       "\n",
       "\n",
       "<h3>Details</h3>\n",
       "\n",
       "<p>A vector of length <code>length(probs)</code> is returned;\n",
       "if <code>names = TRUE</code>, it has a <code>names</code> attribute.\n",
       "</p>\n",
       "<p><code>NA</code> and <code>NaN</code> values in <code>probs</code> are\n",
       "propagated to the result.\n",
       "</p>\n",
       "<p>The default method works with classed objects sufficiently like\n",
       "numeric vectors that <code>sort</code> and (not needed by types 1 and 3)\n",
       "addition of elements and multiplication by a number work correctly.\n",
       "Note that as this is in a namespace, the copy of <code>sort</code> in\n",
       "<span class=\"pkg\">base</span> will be used, not some S4 generic of that name.  Also note\n",
       "that that is no check on the &lsquo;correctly&rsquo;, and so\n",
       "e.g. <code>quantile</code> can be applied to complex vectors which (apart\n",
       "from ties) will be ordered on their real parts.\n",
       "</p>\n",
       "<p>There is a method for the date-time classes (see\n",
       "<code>\"POSIXt\"</code>).  Types 1 and 3 can be used for class\n",
       "<code>\"Date\"</code> and for ordered factors.\n",
       "</p>\n",
       "\n",
       "\n",
       "<h3>Types</h3>\n",
       "\n",
       "<p><code>quantile</code> returns estimates of underlying distribution quantiles\n",
       "based on one or two order statistics from the supplied elements in\n",
       "<code>x</code> at probabilities in <code>probs</code>.  One of the nine quantile\n",
       "algorithms discussed in Hyndman and Fan (1996), selected by\n",
       "<code>type</code>, is employed.\n",
       "</p>\n",
       "<p>All sample quantiles are defined as weighted averages of\n",
       "consecutive order statistics. Sample quantiles of type <i>i</i>\n",
       "are defined by:\n",
       "</p>\n",
       "<p style=\"text-align: center;\"><i>Q[i](p) = (1 - &gamma;) x[j] + &gamma; x[j+1],</i></p>\n",
       "\n",
       "<p>where <i>1 &le; i &le; 9</i>,\n",
       "<i>(j-m)/n &le; p &lt; (j-m+1)/n</i>,\n",
       "<i>x[j]</i> is the <i>j</i>th order statistic, <i>n</i> is the\n",
       "sample size, the value of <i>&gamma;</i> is a function of\n",
       "<i>j = floor(np + m)</i> and <i>g = np + m - j</i>,\n",
       "and <i>m</i> is a constant determined by the sample quantile type.\n",
       "</p>\n",
       "<p><strong>Discontinuous sample quantile types 1, 2, and 3</strong>\n",
       "</p>\n",
       "<p>For types 1, 2 and 3, <i>Q[i](p)</i> is a discontinuous\n",
       "function of <i>p</i>, with <i>m = 0</i> when <i>i = 1</i> and <i>i =\n",
       "  2</i>, and <i>m = -1/2</i> when <i>i = 3</i>.\n",
       "</p>\n",
       "\n",
       "<dl>\n",
       "<dt>Type 1</dt><dd><p>Inverse of empirical distribution function.\n",
       "<i>&gamma; = 0</i> if <i>g = 0</i>, and 1 otherwise.</p>\n",
       "</dd>\n",
       "<dt>Type 2</dt><dd><p>Similar to type 1 but with averaging at discontinuities.\n",
       "<i>&gamma; = 0.5</i> if <i>g = 0</i>, and 1 otherwise.</p>\n",
       "</dd>\n",
       "<dt>Type 3</dt><dd><p>SAS definition: nearest even order statistic.\n",
       "<i>&gamma; = 0</i> if <i>g = 0</i> and <i>j</i> is even,\n",
       "and 1 otherwise.</p>\n",
       "</dd>\n",
       "</dl>\n",
       "\n",
       "<p><strong>Continuous sample quantile types 4 through 9</strong>\n",
       "</p>\n",
       "<p>For types 4 through 9, <i>Q[i](p)</i> is a continuous function\n",
       "of <i>p</i>, with <i>gamma = g</i> and <i>m</i> given below. The\n",
       "sample quantiles can be obtained equivalently by linear interpolation\n",
       "between the points <i>(p[k],x[k])</i> where <i>x[k]</i>\n",
       "is the <i>k</i>th order statistic.  Specific expressions for\n",
       "<i>p[k]</i> are given below.\n",
       "</p>\n",
       "\n",
       "<dl>\n",
       "<dt>Type 4</dt><dd><p><i>m = 0</i>. <i>p[k] = k / n</i>.\n",
       "That is, linear interpolation of the empirical cdf.\n",
       "</p>\n",
       "</dd>\n",
       "<dt>Type 5</dt><dd><p><i>m = 1/2</i>.\n",
       "<i>p[k] = (k - 0.5) / n</i>.\n",
       "That is a piecewise linear function where the knots are the values\n",
       "midway through the steps of the empirical cdf.  This is popular\n",
       "amongst hydrologists.\n",
       "</p>\n",
       "</dd>\n",
       "<dt>Type 6</dt><dd><p><i>m = p</i>. <i>p[k] = k / (n + 1)</i>.\n",
       "Thus <i>p[k] = E[F(x[k])]</i>.\n",
       "This is used by Minitab and by SPSS.\n",
       "</p>\n",
       "</dd>\n",
       "<dt>Type 7</dt><dd><p><i>m = 1-p</i>.\n",
       "<i>p[k] = (k - 1) / (n - 1)</i>.\n",
       "In this case, <i>p[k] = mode[F(x[k])]</i>.\n",
       "This is used by S.\n",
       "</p>\n",
       "</dd>\n",
       "<dt>Type 8</dt><dd><p><i>m = (p+1)/3</i>.\n",
       "<i>p[k] = (k - 1/3) / (n + 1/3)</i>.\n",
       "Then <i>p[k] =~ median[F(x[k])]</i>.\n",
       "The resulting quantile estimates are approximately median-unbiased\n",
       "regardless of the distribution of <code>x</code>.\n",
       "</p>\n",
       "</dd>\n",
       "<dt>Type 9</dt><dd><p><i>m = p/4 + 3/8</i>.\n",
       "<i>p[k] = (k - 3/8) / (n + 1/4)</i>.\n",
       "The resulting quantile estimates are approximately unbiased for\n",
       "the expected order statistics if <code>x</code> is normally distributed.\n",
       "</p>\n",
       "</dd>\n",
       "</dl>\n",
       "\n",
       "<p>Further details are provided in Hyndman and Fan (1996) who recommended type 8.\n",
       "The default method is type 7, as used by S and by <span style=\"font-family: Courier New, Courier; color: #666666;\"><b>R</b></span> &lt; 2.0.0.\n",
       "</p>\n",
       "\n",
       "\n",
       "<h3>Author(s)</h3>\n",
       "\n",
       "<p>of the version used in <span style=\"font-family: Courier New, Courier; color: #666666;\"><b>R</b></span> &gt;= 2.0.0, Ivan Frohne and Rob J Hyndman.\n",
       "</p>\n",
       "\n",
       "\n",
       "<h3>References</h3>\n",
       "\n",
       "<p>Becker, R. A., Chambers, J. M. and Wilks, A. R. (1988)\n",
       "<em>The New S Language</em>.\n",
       "Wadsworth &amp; Brooks/Cole.\n",
       "</p>\n",
       "<p>Hyndman, R. J. and Fan, Y. (1996) Sample quantiles in statistical\n",
       "packages, <em>American Statistician</em> <b>50</b>, 361&ndash;365.\n",
       "doi: <a href=\"https://doi.org/10.2307/2684934\">10.2307/2684934</a>.\n",
       "</p>\n",
       "\n",
       "\n",
       "<h3>See Also</h3>\n",
       "\n",
       "<p><code>ecdf</code> for empirical distributions of which\n",
       "<code>quantile</code> is an inverse;\n",
       "<code>boxplot.stats</code> and <code>fivenum</code> for computing\n",
       "other versions of quartiles, etc.\n",
       "</p>\n",
       "\n",
       "\n",
       "<h3>Examples</h3>\n",
       "\n",
       "<pre>\n",
       "quantile(x &lt;- rnorm(1001)) # Extremes &amp; Quartiles by default\n",
       "quantile(x,  probs = c(0.1, 0.5, 1, 2, 5, 10, 50, NA)/100)\n",
       "\n",
       "### Compare different types\n",
       "quantAll &lt;- function(x, prob, ...)\n",
       "  t(vapply(1:9, function(typ) quantile(x, prob=prob, type = typ, ...), quantile(x, prob, type=1)))\n",
       "p &lt;- c(0.1, 0.5, 1, 2, 5, 10, 50)/100\n",
       "signif(quantAll(x, p), 4)\n",
       "## for complex numbers:\n",
       "z &lt;- complex(re=x, im = -10*x)\n",
       "signif(quantAll(z, p), 4)\n",
       "</pre>\n",
       "\n",
       "<hr /><div style=\"text-align: center;\">[Package <em>stats</em> version 3.6.1 ]</div>"
      ],
      "text/latex": [
       "\\inputencoding{utf8}\n",
       "\\HeaderA{quantile}{Sample Quantiles}{quantile}\n",
       "\\methaliasA{quantile.default}{quantile}{quantile.default}\n",
       "\\keyword{univar}{quantile}\n",
       "%\n",
       "\\begin{Description}\\relax\n",
       "The generic function \\code{quantile} produces sample quantiles\n",
       "corresponding to the given probabilities.\n",
       "The smallest observation corresponds to a probability of 0 and the\n",
       "largest to a probability of 1.\n",
       "\\end{Description}\n",
       "%\n",
       "\\begin{Usage}\n",
       "\\begin{verbatim}\n",
       "quantile(x, ...)\n",
       "\n",
       "## Default S3 method:\n",
       "quantile(x, probs = seq(0, 1, 0.25), na.rm = FALSE,\n",
       "         names = TRUE, type = 7, ...)\n",
       "\\end{verbatim}\n",
       "\\end{Usage}\n",
       "%\n",
       "\\begin{Arguments}\n",
       "\\begin{ldescription}\n",
       "\\item[\\code{x}] numeric vector whose sample quantiles are wanted, or an\n",
       "object of a class for which a method has been defined (see also\n",
       "`details'). \\code{\\LinkA{NA}{NA}} and \\code{NaN} values are not\n",
       "allowed in numeric vectors unless \\code{na.rm} is \\code{TRUE}.\n",
       "\\item[\\code{probs}] numeric vector of probabilities with values in\n",
       "\\eqn{[0,1]}{}.  (Values up to \\samp{2e-14} outside that\n",
       "range are accepted and moved to the nearby endpoint.)\n",
       "\\item[\\code{na.rm}] logical; if true, any \\code{\\LinkA{NA}{NA}} and \\code{NaN}'s\n",
       "are removed from \\code{x} before the quantiles are computed.\n",
       "\\item[\\code{names}] logical; if true, the result has a \\code{\\LinkA{names}{names}}\n",
       "attribute.  Set to \\code{FALSE} for speedup with many \\code{probs}.\n",
       "\\item[\\code{type}] an integer between 1 and 9 selecting one of the\n",
       "nine quantile algorithms detailed below to be used.\n",
       "\\item[\\code{...}] further arguments passed to or from other methods.\n",
       "\\end{ldescription}\n",
       "\\end{Arguments}\n",
       "%\n",
       "\\begin{Details}\\relax\n",
       "A vector of length \\code{length(probs)} is returned;\n",
       "if \\code{names = TRUE}, it has a \\code{\\LinkA{names}{names}} attribute.\n",
       "\n",
       "\\code{\\LinkA{NA}{NA}} and \\code{\\LinkA{NaN}{NaN}} values in \\code{probs} are\n",
       "propagated to the result.\n",
       "\n",
       "The default method works with classed objects sufficiently like\n",
       "numeric vectors that \\code{sort} and (not needed by types 1 and 3)\n",
       "addition of elements and multiplication by a number work correctly.\n",
       "Note that as this is in a namespace, the copy of \\code{sort} in\n",
       "\\pkg{base} will be used, not some S4 generic of that name.  Also note\n",
       "that that is no check on the `correctly', and so\n",
       "e.g.~\\code{quantile} can be applied to complex vectors which (apart\n",
       "from ties) will be ordered on their real parts.\n",
       "\n",
       "There is a method for the date-time classes (see\n",
       "\\code{\"\\LinkA{POSIXt}{POSIXt}\"}).  Types 1 and 3 can be used for class\n",
       "\\code{\"\\LinkA{Date}{Date}\"} and for ordered factors.\n",
       "\\end{Details}\n",
       "%\n",
       "\\begin{Section}{Types}\n",
       "\\code{quantile} returns estimates of underlying distribution quantiles\n",
       "based on one or two order statistics from the supplied elements in\n",
       "\\code{x} at probabilities in \\code{probs}.  One of the nine quantile\n",
       "algorithms discussed in Hyndman and Fan (1996), selected by\n",
       "\\code{type}, is employed.\n",
       "\n",
       "All sample quantiles are defined as weighted averages of\n",
       "consecutive order statistics. Sample quantiles of type \\eqn{i}{}\n",
       "are defined by:\n",
       "\\deqn{Q_{i}(p) = (1 - \\gamma)x_{j} + \\gamma x_{j+1}}{}\n",
       "where \\eqn{1 \\le i \\le 9}{},\n",
       "\\eqn{\\frac{j - m}{n} \\le p < \\frac{j - m + 1}{n}}{},\n",
       "\\eqn{x_{j}}{} is the \\eqn{j}{}th order statistic, \\eqn{n}{} is the\n",
       "sample size, the value of \\eqn{\\gamma}{} is a function of\n",
       "\\eqn{j = \\lfloor np + m\\rfloor}{} and \\eqn{g = np + m - j}{},\n",
       "and \\eqn{m}{} is a constant determined by the sample quantile type.\n",
       "\n",
       "\\strong{Discontinuous sample quantile types 1, 2, and 3}\n",
       "\n",
       "For types 1, 2 and 3, \\eqn{Q_i(p)}{} is a discontinuous\n",
       "function of \\eqn{p}{}, with \\eqn{m = 0}{} when \\eqn{i = 1}{} and \\eqn{i =\n",
       "  2}{}, and \\eqn{m = -1/2}{} when \\eqn{i = 3}{}.\n",
       "\n",
       "\\begin{description}\n",
       "\n",
       "\\item[Type 1] Inverse of empirical distribution function.\n",
       "\\eqn{\\gamma = 0}{} if \\eqn{g = 0}{}, and 1 otherwise.\n",
       "\\item[Type 2] Similar to type 1 but with averaging at discontinuities.\n",
       "\\eqn{\\gamma = 0.5}{} if \\eqn{g = 0}{}, and 1 otherwise.\n",
       "\\item[Type 3] SAS definition: nearest even order statistic.\n",
       "\\eqn{\\gamma = 0}{} if \\eqn{g = 0}{} and \\eqn{j}{} is even,\n",
       "and 1 otherwise.\n",
       "\n",
       "\\end{description}\n",
       "\n",
       "\n",
       "\\strong{Continuous sample quantile types 4 through 9}\n",
       "\n",
       "For types 4 through 9, \\eqn{Q_i(p)}{} is a continuous function\n",
       "of \\eqn{p}{}, with \\eqn{\\gamma = g}{} and \\eqn{m}{} given below. The\n",
       "sample quantiles can be obtained equivalently by linear interpolation\n",
       "between the points \\eqn{(p_k,x_k)}{} where \\eqn{x_k}{}\n",
       "is the \\eqn{k}{}th order statistic.  Specific expressions for\n",
       "\\eqn{p_k}{} are given below.\n",
       "\n",
       "\\begin{description}\n",
       "\n",
       "\\item[Type 4] \\eqn{m = 0}{}. \\eqn{p_k = \\frac{k}{n}}{}.\n",
       "That is, linear interpolation of the empirical cdf.\n",
       "\n",
       "\n",
       "\\item[Type 5] \\eqn{m = 1/2}{}.\n",
       "\\eqn{p_k = \\frac{k - 0.5}{n}}{}.\n",
       "That is a piecewise linear function where the knots are the values\n",
       "midway through the steps of the empirical cdf.  This is popular\n",
       "amongst hydrologists.\n",
       "\n",
       "\n",
       "\\item[Type 6] \\eqn{m = p}{}. \\eqn{p_k = \\frac{k}{n + 1}}{}.\n",
       "Thus \\eqn{p_k = \\mbox{E}[F(x_{k})]}{}.\n",
       "This is used by Minitab and by SPSS.\n",
       "\n",
       "\n",
       "\\item[Type 7] \\eqn{m = 1-p}{}.\n",
       "\\eqn{p_k = \\frac{k - 1}{n - 1}}{}.\n",
       "In this case, \\eqn{p_k = \\mbox{mode}[F(x_{k})]}{}.\n",
       "This is used by S.\n",
       "\n",
       "\n",
       "\\item[Type 8] \\eqn{m = (p+1)/3}{}.\n",
       "\\eqn{p_k = \\frac{k - 1/3}{n + 1/3}}{}.\n",
       "Then \\eqn{p_k \\approx \\mbox{median}[F(x_{k})]}{}.\n",
       "The resulting quantile estimates are approximately median-unbiased\n",
       "regardless of the distribution of \\code{x}.\n",
       "\n",
       "\n",
       "\\item[Type 9] \\eqn{m = p/4 + 3/8}{}.\n",
       "\\eqn{p_k = \\frac{k - 3/8}{n + 1/4}}{}.\n",
       "The resulting quantile estimates are approximately unbiased for\n",
       "the expected order statistics if \\code{x} is normally distributed.\n",
       "\n",
       "\n",
       "\\end{description}\n",
       "\n",
       "Further details are provided in Hyndman and Fan (1996) who recommended type 8.\n",
       "The default method is type 7, as used by S and by \\R{} < 2.0.0.\n",
       "\\end{Section}\n",
       "%\n",
       "\\begin{Author}\\relax\n",
       "of the version used in \\R{} >= 2.0.0, Ivan Frohne and Rob J Hyndman.\n",
       "\\end{Author}\n",
       "%\n",
       "\\begin{References}\\relax\n",
       "Becker, R. A., Chambers, J. M. and Wilks, A. R. (1988)\n",
       "\\emph{The New S Language}.\n",
       "Wadsworth \\& Brooks/Cole.\n",
       "\n",
       "Hyndman, R. J. and Fan, Y. (1996) Sample quantiles in statistical\n",
       "packages, \\emph{American Statistician} \\bold{50}, 361--365.\n",
       "doi:\\nobreakspace{}\\Rhref{https://doi.org/10.2307/2684934}{10.2307\\slash{}2684934}.\n",
       "\\end{References}\n",
       "%\n",
       "\\begin{SeeAlso}\\relax\n",
       "\\code{\\LinkA{ecdf}{ecdf}} for empirical distributions of which\n",
       "\\code{quantile} is an inverse;\n",
       "\\code{\\LinkA{boxplot.stats}{boxplot.stats}} and \\code{\\LinkA{fivenum}{fivenum}} for computing\n",
       "other versions of quartiles, etc.\n",
       "\\end{SeeAlso}\n",
       "%\n",
       "\\begin{Examples}\n",
       "\\begin{ExampleCode}\n",
       "quantile(x <- rnorm(1001)) # Extremes & Quartiles by default\n",
       "quantile(x,  probs = c(0.1, 0.5, 1, 2, 5, 10, 50, NA)/100)\n",
       "\n",
       "### Compare different types\n",
       "quantAll <- function(x, prob, ...)\n",
       "  t(vapply(1:9, function(typ) quantile(x, prob=prob, type = typ, ...), quantile(x, prob, type=1)))\n",
       "p <- c(0.1, 0.5, 1, 2, 5, 10, 50)/100\n",
       "signif(quantAll(x, p), 4)\n",
       "## for complex numbers:\n",
       "z <- complex(re=x, im = -10*x)\n",
       "signif(quantAll(z, p), 4)\n",
       "\\end{ExampleCode}\n",
       "\\end{Examples}"
      ],
      "text/plain": [
       "quantile                 package:stats                 R Documentation\n",
       "\n",
       "_\bS_\ba_\bm_\bp_\bl_\be _\bQ_\bu_\ba_\bn_\bt_\bi_\bl_\be_\bs\n",
       "\n",
       "_\bD_\be_\bs_\bc_\br_\bi_\bp_\bt_\bi_\bo_\bn:\n",
       "\n",
       "     The generic function 'quantile' produces sample quantiles\n",
       "     corresponding to the given probabilities.  The smallest\n",
       "     observation corresponds to a probability of 0 and the largest to a\n",
       "     probability of 1.\n",
       "\n",
       "_\bU_\bs_\ba_\bg_\be:\n",
       "\n",
       "     quantile(x, ...)\n",
       "     \n",
       "     ## Default S3 method:\n",
       "     quantile(x, probs = seq(0, 1, 0.25), na.rm = FALSE,\n",
       "              names = TRUE, type = 7, ...)\n",
       "     \n",
       "_\bA_\br_\bg_\bu_\bm_\be_\bn_\bt_\bs:\n",
       "\n",
       "       x: numeric vector whose sample quantiles are wanted, or an\n",
       "          object of a class for which a method has been defined (see\n",
       "          also 'details'). 'NA' and 'NaN' values are not allowed in\n",
       "          numeric vectors unless 'na.rm' is 'TRUE'.\n",
       "\n",
       "   probs: numeric vector of probabilities with values in [0,1].\n",
       "          (Values up to '2e-14' outside that range are accepted and\n",
       "          moved to the nearby endpoint.)\n",
       "\n",
       "   na.rm: logical; if true, any 'NA' and 'NaN''s are removed from 'x'\n",
       "          before the quantiles are computed.\n",
       "\n",
       "   names: logical; if true, the result has a 'names' attribute.  Set to\n",
       "          'FALSE' for speedup with many 'probs'.\n",
       "\n",
       "    type: an integer between 1 and 9 selecting one of the nine quantile\n",
       "          algorithms detailed below to be used.\n",
       "\n",
       "     ...: further arguments passed to or from other methods.\n",
       "\n",
       "_\bD_\be_\bt_\ba_\bi_\bl_\bs:\n",
       "\n",
       "     A vector of length 'length(probs)' is returned; if 'names = TRUE',\n",
       "     it has a 'names' attribute.\n",
       "\n",
       "     'NA' and 'NaN' values in 'probs' are propagated to the result.\n",
       "\n",
       "     The default method works with classed objects sufficiently like\n",
       "     numeric vectors that 'sort' and (not needed by types 1 and 3)\n",
       "     addition of elements and multiplication by a number work\n",
       "     correctly.  Note that as this is in a namespace, the copy of\n",
       "     'sort' in 'base' will be used, not some S4 generic of that name.\n",
       "     Also note that that is no check on the 'correctly', and so e.g.\n",
       "     'quantile' can be applied to complex vectors which (apart from\n",
       "     ties) will be ordered on their real parts.\n",
       "\n",
       "     There is a method for the date-time classes (see '\"POSIXt\"').\n",
       "     Types 1 and 3 can be used for class '\"Date\"' and for ordered\n",
       "     factors.\n",
       "\n",
       "_\bT_\by_\bp_\be_\bs:\n",
       "\n",
       "     'quantile' returns estimates of underlying distribution quantiles\n",
       "     based on one or two order statistics from the supplied elements in\n",
       "     'x' at probabilities in 'probs'.  One of the nine quantile\n",
       "     algorithms discussed in Hyndman and Fan (1996), selected by\n",
       "     'type', is employed.\n",
       "\n",
       "     All sample quantiles are defined as weighted averages of\n",
       "     consecutive order statistics. Sample quantiles of type i are\n",
       "     defined by:\n",
       "\n",
       "                 Q[i](p) = (1 - gamma) x[j] + gamma x[j+1],             \n",
       "     \n",
       "     where 1 <= i <= 9, (j-m)/n <= p < (j-m+1)/n, x[j] is the jth order\n",
       "     statistic, n is the sample size, the value of gamma is a function\n",
       "     of j = floor(np + m) and g = np + m - j, and m is a constant\n",
       "     determined by the sample quantile type.\n",
       "\n",
       "     *Discontinuous sample quantile types 1, 2, and 3*\n",
       "\n",
       "     For types 1, 2 and 3, Q[i](p) is a discontinuous function of p,\n",
       "     with m = 0 when i = 1 and i = 2, and m = -1/2 when i = 3.\n",
       "\n",
       "     Type 1 Inverse of empirical distribution function.  gamma = 0 if g\n",
       "          = 0, and 1 otherwise.\n",
       "\n",
       "     Type 2 Similar to type 1 but with averaging at discontinuities.\n",
       "          gamma = 0.5 if g = 0, and 1 otherwise.\n",
       "\n",
       "     Type 3 SAS definition: nearest even order statistic.  gamma = 0 if\n",
       "          g = 0 and j is even, and 1 otherwise.\n",
       "\n",
       "     *Continuous sample quantile types 4 through 9*\n",
       "\n",
       "     For types 4 through 9, Q[i](p) is a continuous function of p, with\n",
       "     gamma = g and m given below. The sample quantiles can be obtained\n",
       "     equivalently by linear interpolation between the points\n",
       "     (p[k],x[k]) where x[k] is the kth order statistic.  Specific\n",
       "     expressions for p[k] are given below.\n",
       "\n",
       "     Type 4 m = 0. p[k] = k / n.  That is, linear interpolation of the\n",
       "          empirical cdf.\n",
       "\n",
       "     Type 5 m = 1/2.  p[k] = (k - 0.5) / n.  That is a piecewise linear\n",
       "          function where the knots are the values midway through the\n",
       "          steps of the empirical cdf.  This is popular amongst\n",
       "          hydrologists.\n",
       "\n",
       "     Type 6 m = p. p[k] = k / (n + 1).  Thus p[k] = E[F(x[k])].  This\n",
       "          is used by Minitab and by SPSS.\n",
       "\n",
       "     Type 7 m = 1-p.  p[k] = (k - 1) / (n - 1).  In this case, p[k] =\n",
       "          mode[F(x[k])].  This is used by S.\n",
       "\n",
       "     Type 8 m = (p+1)/3.  p[k] = (k - 1/3) / (n + 1/3).  Then p[k] =~\n",
       "          median[F(x[k])].  The resulting quantile estimates are\n",
       "          approximately median-unbiased regardless of the distribution\n",
       "          of 'x'.\n",
       "\n",
       "     Type 9 m = p/4 + 3/8.  p[k] = (k - 3/8) / (n + 1/4).  The\n",
       "          resulting quantile estimates are approximately unbiased for\n",
       "          the expected order statistics if 'x' is normally distributed.\n",
       "\n",
       "     Further details are provided in Hyndman and Fan (1996) who\n",
       "     recommended type 8.  The default method is type 7, as used by S\n",
       "     and by R < 2.0.0.\n",
       "\n",
       "_\bA_\bu_\bt_\bh_\bo_\br(_\bs):\n",
       "\n",
       "     of the version used in R >= 2.0.0, Ivan Frohne and Rob J Hyndman.\n",
       "\n",
       "_\bR_\be_\bf_\be_\br_\be_\bn_\bc_\be_\bs:\n",
       "\n",
       "     Becker, R. A., Chambers, J. M. and Wilks, A. R. (1988) _The New S\n",
       "     Language_.  Wadsworth & Brooks/Cole.\n",
       "\n",
       "     Hyndman, R. J. and Fan, Y. (1996) Sample quantiles in statistical\n",
       "     packages, _American Statistician_ *50*, 361-365.  doi:\n",
       "     10.2307/2684934 (URL: https://doi.org/10.2307/2684934).\n",
       "\n",
       "_\bS_\be_\be _\bA_\bl_\bs_\bo:\n",
       "\n",
       "     'ecdf' for empirical distributions of which 'quantile' is an\n",
       "     inverse; 'boxplot.stats' and 'fivenum' for computing other\n",
       "     versions of quartiles, etc.\n",
       "\n",
       "_\bE_\bx_\ba_\bm_\bp_\bl_\be_\bs:\n",
       "\n",
       "     quantile(x <- rnorm(1001)) # Extremes & Quartiles by default\n",
       "     quantile(x,  probs = c(0.1, 0.5, 1, 2, 5, 10, 50, NA)/100)\n",
       "     \n",
       "     ### Compare different types\n",
       "     quantAll <- function(x, prob, ...)\n",
       "       t(vapply(1:9, function(typ) quantile(x, prob=prob, type = typ, ...), quantile(x, prob, type=1)))\n",
       "     p <- c(0.1, 0.5, 1, 2, 5, 10, 50)/100\n",
       "     signif(quantAll(x, p), 4)\n",
       "     ## for complex numbers:\n",
       "     z <- complex(re=x, im = -10*x)\n",
       "     signif(quantAll(z, p), 4)\n",
       "     "
      ]
     },
     "metadata": {},
     "output_type": "display_data"
    }
   ],
   "source": [
    "?quantile"
   ]
  },
  {
   "cell_type": "markdown",
   "id": "b9e55b0b-33d1-4fcd-9f80-01793d39bda4",
   "metadata": {},
   "source": [
    "# manipulate 2 columns to get an other column\n",
    "can have it in the same column or new column"
   ]
  },
  {
   "cell_type": "code",
   "execution_count": 195,
   "id": "b2db6b7e-2f56-4c3a-b344-c4d3a6a914da",
   "metadata": {},
   "outputs": [],
   "source": [
    "mt$new_col<-mt$mpg*mt$hp"
   ]
  },
  {
   "cell_type": "code",
   "execution_count": 196,
   "id": "5a11c09a-5741-4f0b-8595-c0251d013bf2",
   "metadata": {},
   "outputs": [
    {
     "data": {
      "text/html": [
       "<table>\n",
       "<thead><tr><th scope=col>mpg</th><th scope=col>cyl</th><th scope=col>disp</th><th scope=col>hp</th><th scope=col>drat</th><th scope=col>wt</th><th scope=col>qsec</th><th scope=col>vs</th><th scope=col>am</th><th scope=col>gear</th><th scope=col>carb</th><th scope=col>fast</th><th scope=col>cars</th><th scope=col>carname</th><th scope=col>new_col</th></tr></thead>\n",
       "<tbody>\n",
       "\t<tr><td>4.582576         </td><td>6                </td><td>160              </td><td>110              </td><td>3.90             </td><td>2.620            </td><td>16.46            </td><td>0                </td><td>1                </td><td>4                </td><td>4                </td><td>1                </td><td>Mazda RX4        </td><td>Mazda RX4        </td><td>504.0833         </td></tr>\n",
       "\t<tr><td>4.582576         </td><td>6                </td><td>160              </td><td>110              </td><td>3.90             </td><td>2.875            </td><td>17.02            </td><td>0                </td><td>1                </td><td>4                </td><td>4                </td><td>1                </td><td>Mazda RX4 Wag    </td><td>Mazda RX4 Wag    </td><td>504.0833         </td></tr>\n",
       "\t<tr><td>4.774935         </td><td>4                </td><td>108              </td><td> 93              </td><td>3.85             </td><td>2.320            </td><td>18.61            </td><td>1                </td><td>1                </td><td>4                </td><td>1                </td><td>1                </td><td>Datsun 710       </td><td>Datsun 710       </td><td>444.0689         </td></tr>\n",
       "\t<tr><td>4.626013         </td><td>6                </td><td>258              </td><td>110              </td><td>3.08             </td><td>3.215            </td><td>19.44            </td><td>1                </td><td>0                </td><td>3                </td><td>1                </td><td>1                </td><td>Hornet 4 Drive   </td><td>Hornet 4 Drive   </td><td>508.8615         </td></tr>\n",
       "\t<tr><td>4.324350         </td><td>8                </td><td>360              </td><td>175              </td><td>3.15             </td><td>3.440            </td><td>17.02            </td><td>0                </td><td>0                </td><td>3                </td><td>2                </td><td>1                </td><td>Hornet Sportabout</td><td>Hornet Sportabout</td><td>756.7612         </td></tr>\n",
       "\t<tr><td>4.254409         </td><td>6                </td><td>225              </td><td>105              </td><td>2.76             </td><td>3.460            </td><td>20.22            </td><td>1                </td><td>0                </td><td>3                </td><td>1                </td><td>1                </td><td>Valiant          </td><td>Valiant          </td><td>446.7130         </td></tr>\n",
       "</tbody>\n",
       "</table>\n"
      ],
      "text/latex": [
       "\\begin{tabular}{r|lllllllllllllll}\n",
       " mpg & cyl & disp & hp & drat & wt & qsec & vs & am & gear & carb & fast & cars & carname & new\\_col\\\\\n",
       "\\hline\n",
       "\t 4.582576          & 6                 & 160               & 110               & 3.90              & 2.620             & 16.46             & 0                 & 1                 & 4                 & 4                 & 1                 & Mazda RX4         & Mazda RX4         & 504.0833         \\\\\n",
       "\t 4.582576          & 6                 & 160               & 110               & 3.90              & 2.875             & 17.02             & 0                 & 1                 & 4                 & 4                 & 1                 & Mazda RX4 Wag     & Mazda RX4 Wag     & 504.0833         \\\\\n",
       "\t 4.774935          & 4                 & 108               &  93               & 3.85              & 2.320             & 18.61             & 1                 & 1                 & 4                 & 1                 & 1                 & Datsun 710        & Datsun 710        & 444.0689         \\\\\n",
       "\t 4.626013          & 6                 & 258               & 110               & 3.08              & 3.215             & 19.44             & 1                 & 0                 & 3                 & 1                 & 1                 & Hornet 4 Drive    & Hornet 4 Drive    & 508.8615         \\\\\n",
       "\t 4.324350          & 8                 & 360               & 175               & 3.15              & 3.440             & 17.02             & 0                 & 0                 & 3                 & 2                 & 1                 & Hornet Sportabout & Hornet Sportabout & 756.7612         \\\\\n",
       "\t 4.254409          & 6                 & 225               & 105               & 2.76              & 3.460             & 20.22             & 1                 & 0                 & 3                 & 1                 & 1                 & Valiant           & Valiant           & 446.7130         \\\\\n",
       "\\end{tabular}\n"
      ],
      "text/markdown": [
       "\n",
       "| mpg | cyl | disp | hp | drat | wt | qsec | vs | am | gear | carb | fast | cars | carname | new_col |\n",
       "|---|---|---|---|---|---|---|---|---|---|---|---|---|---|---|\n",
       "| 4.582576          | 6                 | 160               | 110               | 3.90              | 2.620             | 16.46             | 0                 | 1                 | 4                 | 4                 | 1                 | Mazda RX4         | Mazda RX4         | 504.0833          |\n",
       "| 4.582576          | 6                 | 160               | 110               | 3.90              | 2.875             | 17.02             | 0                 | 1                 | 4                 | 4                 | 1                 | Mazda RX4 Wag     | Mazda RX4 Wag     | 504.0833          |\n",
       "| 4.774935          | 4                 | 108               |  93               | 3.85              | 2.320             | 18.61             | 1                 | 1                 | 4                 | 1                 | 1                 | Datsun 710        | Datsun 710        | 444.0689          |\n",
       "| 4.626013          | 6                 | 258               | 110               | 3.08              | 3.215             | 19.44             | 1                 | 0                 | 3                 | 1                 | 1                 | Hornet 4 Drive    | Hornet 4 Drive    | 508.8615          |\n",
       "| 4.324350          | 8                 | 360               | 175               | 3.15              | 3.440             | 17.02             | 0                 | 0                 | 3                 | 2                 | 1                 | Hornet Sportabout | Hornet Sportabout | 756.7612          |\n",
       "| 4.254409          | 6                 | 225               | 105               | 2.76              | 3.460             | 20.22             | 1                 | 0                 | 3                 | 1                 | 1                 | Valiant           | Valiant           | 446.7130          |\n",
       "\n"
      ],
      "text/plain": [
       "  mpg      cyl disp hp  drat wt    qsec  vs am gear carb fast cars             \n",
       "1 4.582576 6   160  110 3.90 2.620 16.46 0  1  4    4    1    Mazda RX4        \n",
       "2 4.582576 6   160  110 3.90 2.875 17.02 0  1  4    4    1    Mazda RX4 Wag    \n",
       "3 4.774935 4   108   93 3.85 2.320 18.61 1  1  4    1    1    Datsun 710       \n",
       "4 4.626013 6   258  110 3.08 3.215 19.44 1  0  3    1    1    Hornet 4 Drive   \n",
       "5 4.324350 8   360  175 3.15 3.440 17.02 0  0  3    2    1    Hornet Sportabout\n",
       "6 4.254409 6   225  105 2.76 3.460 20.22 1  0  3    1    1    Valiant          \n",
       "  carname           new_col \n",
       "1 Mazda RX4         504.0833\n",
       "2 Mazda RX4 Wag     504.0833\n",
       "3 Datsun 710        444.0689\n",
       "4 Hornet 4 Drive    508.8615\n",
       "5 Hornet Sportabout 756.7612\n",
       "6 Valiant           446.7130"
      ]
     },
     "metadata": {},
     "output_type": "display_data"
    }
   ],
   "source": [
    "head(mt)"
   ]
  },
  {
   "cell_type": "code",
   "execution_count": 197,
   "id": "1011e5c4-4f26-48a7-a629-dbcab37b64af",
   "metadata": {},
   "outputs": [
    {
     "name": "stdout",
     "output_type": "stream",
     "text": [
      "Classes 'data.table' and 'data.frame':\t32 obs. of  15 variables:\n",
      " $ mpg    : num  4.58 4.58 4.77 4.63 4.32 ...\n",
      " $ cyl    : int  6 6 4 6 8 6 8 4 4 6 ...\n",
      " $ disp   : num  160 160 108 258 360 ...\n",
      " $ hp     : int  110 110 93 110 175 105 245 62 95 123 ...\n",
      " $ drat   : num  3.9 3.9 3.85 3.08 3.15 2.76 3.21 3.69 3.92 3.92 ...\n",
      " $ wt     : num  2.62 2.88 2.32 3.21 3.44 ...\n",
      " $ qsec   : num  16.5 17 18.6 19.4 17 ...\n",
      " $ vs     : int  0 0 1 1 0 1 0 1 1 1 ...\n",
      " $ am     : int  1 1 1 0 0 0 0 0 0 0 ...\n",
      " $ gear   : int  4 4 4 3 3 3 3 4 4 4 ...\n",
      " $ carb   : int  4 4 1 1 2 1 4 2 2 4 ...\n",
      " $ fast   : int  1 1 1 1 1 1 0 1 1 1 ...\n",
      " $ cars   : chr  \"Mazda RX4\" \"Mazda RX4 Wag\" \"Datsun 710\" \"Hornet 4 Drive\" ...\n",
      " $ carname: chr  \"Mazda RX4\" \"Mazda RX4 Wag\" \"Datsun 710\" \"Hornet 4 Drive\" ...\n",
      " $ new_col: num  504 504 444 509 757 ...\n",
      " - attr(*, \".internal.selfref\")=<externalptr> \n"
     ]
    }
   ],
   "source": [
    "str(mt)"
   ]
  },
  {
   "cell_type": "code",
   "execution_count": 198,
   "id": "ce4ad322-6016-4c1a-9fbb-6b7afe94897e",
   "metadata": {},
   "outputs": [
    {
     "data": {
      "text/html": [
       "<table>\n",
       "<thead><tr><th scope=col>mpg</th><th scope=col>cyl</th><th scope=col>disp</th><th scope=col>hp</th><th scope=col>drat</th><th scope=col>wt</th><th scope=col>qsec</th><th scope=col>vs</th><th scope=col>am</th><th scope=col>gear</th><th scope=col>carb</th><th scope=col>fast</th><th scope=col>cars</th><th scope=col>carname</th><th scope=col>new_col</th></tr></thead>\n",
       "<tbody>\n",
       "\t<tr><td>4.774935      </td><td>4             </td><td>108.0         </td><td> 93           </td><td>3.85          </td><td>2.320         </td><td>18.61         </td><td>1             </td><td>1             </td><td>4             </td><td>1             </td><td>1             </td><td>Datsun 710    </td><td>Datsun 710    </td><td>444.0689      </td></tr>\n",
       "\t<tr><td>4.939636      </td><td>4             </td><td>146.7         </td><td> 62           </td><td>3.69          </td><td>3.190         </td><td>20.00         </td><td>1             </td><td>0             </td><td>4             </td><td>2             </td><td>1             </td><td>Merc 240D     </td><td>Merc 240D     </td><td>306.2574      </td></tr>\n",
       "\t<tr><td>4.774935      </td><td>4             </td><td>140.8         </td><td> 95           </td><td>3.92          </td><td>3.150         </td><td>22.90         </td><td>1             </td><td>0             </td><td>4             </td><td>2             </td><td>1             </td><td>Merc 230      </td><td>Merc 230      </td><td>453.6188      </td></tr>\n",
       "\t<tr><td>5.692100      </td><td>4             </td><td> 78.7         </td><td> 66           </td><td>4.08          </td><td>2.200         </td><td>19.47         </td><td>1             </td><td>1             </td><td>4             </td><td>1             </td><td>1             </td><td>Fiat 128      </td><td>Fiat 128      </td><td>375.6786      </td></tr>\n",
       "\t<tr><td>5.513620      </td><td>4             </td><td> 75.7         </td><td> 52           </td><td>4.93          </td><td>1.615         </td><td>18.52         </td><td>1             </td><td>1             </td><td>4             </td><td>2             </td><td>1             </td><td>Honda Civic   </td><td>Honda Civic   </td><td>286.7082      </td></tr>\n",
       "\t<tr><td>5.822371      </td><td>4             </td><td> 71.1         </td><td> 65           </td><td>4.22          </td><td>1.835         </td><td>19.90         </td><td>1             </td><td>1             </td><td>4             </td><td>1             </td><td>1             </td><td>Toyota Corolla</td><td>Toyota Corolla</td><td>378.4541      </td></tr>\n",
       "\t<tr><td>4.636809      </td><td>4             </td><td>120.1         </td><td> 97           </td><td>3.70          </td><td>2.465         </td><td>20.01         </td><td>1             </td><td>0             </td><td>3             </td><td>1             </td><td>1             </td><td>Toyota Corona </td><td>Toyota Corona </td><td>449.7705      </td></tr>\n",
       "\t<tr><td>5.224940      </td><td>4             </td><td> 79.0         </td><td> 66           </td><td>4.08          </td><td>1.935         </td><td>18.90         </td><td>1             </td><td>1             </td><td>4             </td><td>1             </td><td>1             </td><td>Fiat X1-9     </td><td>Fiat X1-9     </td><td>344.8461      </td></tr>\n",
       "\t<tr><td>5.099020      </td><td>4             </td><td>120.3         </td><td> 91           </td><td>4.43          </td><td>2.140         </td><td>16.70         </td><td>0             </td><td>1             </td><td>5             </td><td>2             </td><td>1             </td><td>Porsche 914-2 </td><td>Porsche 914-2 </td><td>464.0108      </td></tr>\n",
       "\t<tr><td>5.513620      </td><td>4             </td><td> 95.1         </td><td>113           </td><td>3.77          </td><td>1.513         </td><td>16.90         </td><td>1             </td><td>1             </td><td>5             </td><td>2             </td><td>1             </td><td>Lotus Europa  </td><td>Lotus Europa  </td><td>623.0390      </td></tr>\n",
       "\t<tr><td>4.626013      </td><td>4             </td><td>121.0         </td><td>109           </td><td>4.11          </td><td>2.780         </td><td>18.60         </td><td>1             </td><td>1             </td><td>4             </td><td>2             </td><td>1             </td><td>Volvo 142E    </td><td>Volvo 142E    </td><td>504.2355      </td></tr>\n",
       "</tbody>\n",
       "</table>\n"
      ],
      "text/latex": [
       "\\begin{tabular}{r|lllllllllllllll}\n",
       " mpg & cyl & disp & hp & drat & wt & qsec & vs & am & gear & carb & fast & cars & carname & new\\_col\\\\\n",
       "\\hline\n",
       "\t 4.774935       & 4              & 108.0          &  93            & 3.85           & 2.320          & 18.61          & 1              & 1              & 4              & 1              & 1              & Datsun 710     & Datsun 710     & 444.0689      \\\\\n",
       "\t 4.939636       & 4              & 146.7          &  62            & 3.69           & 3.190          & 20.00          & 1              & 0              & 4              & 2              & 1              & Merc 240D      & Merc 240D      & 306.2574      \\\\\n",
       "\t 4.774935       & 4              & 140.8          &  95            & 3.92           & 3.150          & 22.90          & 1              & 0              & 4              & 2              & 1              & Merc 230       & Merc 230       & 453.6188      \\\\\n",
       "\t 5.692100       & 4              &  78.7          &  66            & 4.08           & 2.200          & 19.47          & 1              & 1              & 4              & 1              & 1              & Fiat 128       & Fiat 128       & 375.6786      \\\\\n",
       "\t 5.513620       & 4              &  75.7          &  52            & 4.93           & 1.615          & 18.52          & 1              & 1              & 4              & 2              & 1              & Honda Civic    & Honda Civic    & 286.7082      \\\\\n",
       "\t 5.822371       & 4              &  71.1          &  65            & 4.22           & 1.835          & 19.90          & 1              & 1              & 4              & 1              & 1              & Toyota Corolla & Toyota Corolla & 378.4541      \\\\\n",
       "\t 4.636809       & 4              & 120.1          &  97            & 3.70           & 2.465          & 20.01          & 1              & 0              & 3              & 1              & 1              & Toyota Corona  & Toyota Corona  & 449.7705      \\\\\n",
       "\t 5.224940       & 4              &  79.0          &  66            & 4.08           & 1.935          & 18.90          & 1              & 1              & 4              & 1              & 1              & Fiat X1-9      & Fiat X1-9      & 344.8461      \\\\\n",
       "\t 5.099020       & 4              & 120.3          &  91            & 4.43           & 2.140          & 16.70          & 0              & 1              & 5              & 2              & 1              & Porsche 914-2  & Porsche 914-2  & 464.0108      \\\\\n",
       "\t 5.513620       & 4              &  95.1          & 113            & 3.77           & 1.513          & 16.90          & 1              & 1              & 5              & 2              & 1              & Lotus Europa   & Lotus Europa   & 623.0390      \\\\\n",
       "\t 4.626013       & 4              & 121.0          & 109            & 4.11           & 2.780          & 18.60          & 1              & 1              & 4              & 2              & 1              & Volvo 142E     & Volvo 142E     & 504.2355      \\\\\n",
       "\\end{tabular}\n"
      ],
      "text/markdown": [
       "\n",
       "| mpg | cyl | disp | hp | drat | wt | qsec | vs | am | gear | carb | fast | cars | carname | new_col |\n",
       "|---|---|---|---|---|---|---|---|---|---|---|---|---|---|---|\n",
       "| 4.774935       | 4              | 108.0          |  93            | 3.85           | 2.320          | 18.61          | 1              | 1              | 4              | 1              | 1              | Datsun 710     | Datsun 710     | 444.0689       |\n",
       "| 4.939636       | 4              | 146.7          |  62            | 3.69           | 3.190          | 20.00          | 1              | 0              | 4              | 2              | 1              | Merc 240D      | Merc 240D      | 306.2574       |\n",
       "| 4.774935       | 4              | 140.8          |  95            | 3.92           | 3.150          | 22.90          | 1              | 0              | 4              | 2              | 1              | Merc 230       | Merc 230       | 453.6188       |\n",
       "| 5.692100       | 4              |  78.7          |  66            | 4.08           | 2.200          | 19.47          | 1              | 1              | 4              | 1              | 1              | Fiat 128       | Fiat 128       | 375.6786       |\n",
       "| 5.513620       | 4              |  75.7          |  52            | 4.93           | 1.615          | 18.52          | 1              | 1              | 4              | 2              | 1              | Honda Civic    | Honda Civic    | 286.7082       |\n",
       "| 5.822371       | 4              |  71.1          |  65            | 4.22           | 1.835          | 19.90          | 1              | 1              | 4              | 1              | 1              | Toyota Corolla | Toyota Corolla | 378.4541       |\n",
       "| 4.636809       | 4              | 120.1          |  97            | 3.70           | 2.465          | 20.01          | 1              | 0              | 3              | 1              | 1              | Toyota Corona  | Toyota Corona  | 449.7705       |\n",
       "| 5.224940       | 4              |  79.0          |  66            | 4.08           | 1.935          | 18.90          | 1              | 1              | 4              | 1              | 1              | Fiat X1-9      | Fiat X1-9      | 344.8461       |\n",
       "| 5.099020       | 4              | 120.3          |  91            | 4.43           | 2.140          | 16.70          | 0              | 1              | 5              | 2              | 1              | Porsche 914-2  | Porsche 914-2  | 464.0108       |\n",
       "| 5.513620       | 4              |  95.1          | 113            | 3.77           | 1.513          | 16.90          | 1              | 1              | 5              | 2              | 1              | Lotus Europa   | Lotus Europa   | 623.0390       |\n",
       "| 4.626013       | 4              | 121.0          | 109            | 4.11           | 2.780          | 18.60          | 1              | 1              | 4              | 2              | 1              | Volvo 142E     | Volvo 142E     | 504.2355       |\n",
       "\n"
      ],
      "text/plain": [
       "   mpg      cyl disp  hp  drat wt    qsec  vs am gear carb fast cars          \n",
       "1  4.774935 4   108.0  93 3.85 2.320 18.61 1  1  4    1    1    Datsun 710    \n",
       "2  4.939636 4   146.7  62 3.69 3.190 20.00 1  0  4    2    1    Merc 240D     \n",
       "3  4.774935 4   140.8  95 3.92 3.150 22.90 1  0  4    2    1    Merc 230      \n",
       "4  5.692100 4    78.7  66 4.08 2.200 19.47 1  1  4    1    1    Fiat 128      \n",
       "5  5.513620 4    75.7  52 4.93 1.615 18.52 1  1  4    2    1    Honda Civic   \n",
       "6  5.822371 4    71.1  65 4.22 1.835 19.90 1  1  4    1    1    Toyota Corolla\n",
       "7  4.636809 4   120.1  97 3.70 2.465 20.01 1  0  3    1    1    Toyota Corona \n",
       "8  5.224940 4    79.0  66 4.08 1.935 18.90 1  1  4    1    1    Fiat X1-9     \n",
       "9  5.099020 4   120.3  91 4.43 2.140 16.70 0  1  5    2    1    Porsche 914-2 \n",
       "10 5.513620 4    95.1 113 3.77 1.513 16.90 1  1  5    2    1    Lotus Europa  \n",
       "11 4.626013 4   121.0 109 4.11 2.780 18.60 1  1  4    2    1    Volvo 142E    \n",
       "   carname        new_col \n",
       "1  Datsun 710     444.0689\n",
       "2  Merc 240D      306.2574\n",
       "3  Merc 230       453.6188\n",
       "4  Fiat 128       375.6786\n",
       "5  Honda Civic    286.7082\n",
       "6  Toyota Corolla 378.4541\n",
       "7  Toyota Corona  449.7705\n",
       "8  Fiat X1-9      344.8461\n",
       "9  Porsche 914-2  464.0108\n",
       "10 Lotus Europa   623.0390\n",
       "11 Volvo 142E     504.2355"
      ]
     },
     "metadata": {},
     "output_type": "display_data"
    }
   ],
   "source": [
    "mt[mt$cyl==4]"
   ]
  },
  {
   "cell_type": "code",
   "execution_count": 199,
   "id": "e5722aa8-5439-4d43-8394-c9e2c425612c",
   "metadata": {},
   "outputs": [
    {
     "data": {
      "text/html": [
       "<table>\n",
       "<thead><tr><th scope=col>mpg</th><th scope=col>cyl</th><th scope=col>disp</th><th scope=col>hp</th><th scope=col>drat</th><th scope=col>wt</th><th scope=col>qsec</th><th scope=col>vs</th><th scope=col>am</th><th scope=col>gear</th><th scope=col>carb</th><th scope=col>fast</th><th scope=col>cars</th><th scope=col>carname</th><th scope=col>new_col</th></tr></thead>\n",
       "<tbody>\n",
       "\t<tr><td>4.582576           </td><td>6                  </td><td>160.0              </td><td>110                </td><td>3.90               </td><td>2.620              </td><td>16.46              </td><td>0                  </td><td>1                  </td><td>4                  </td><td>4                  </td><td>1                  </td><td>Mazda RX4          </td><td>Mazda RX4          </td><td> 504.0833          </td></tr>\n",
       "\t<tr><td>4.582576           </td><td>6                  </td><td>160.0              </td><td>110                </td><td>3.90               </td><td>2.875              </td><td>17.02              </td><td>0                  </td><td>1                  </td><td>4                  </td><td>4                  </td><td>1                  </td><td>Mazda RX4 Wag      </td><td>Mazda RX4 Wag      </td><td> 504.0833          </td></tr>\n",
       "\t<tr><td>4.626013           </td><td>6                  </td><td>258.0              </td><td>110                </td><td>3.08               </td><td>3.215              </td><td>19.44              </td><td>1                  </td><td>0                  </td><td>3                  </td><td>1                  </td><td>1                  </td><td>Hornet 4 Drive     </td><td>Hornet 4 Drive     </td><td> 508.8615          </td></tr>\n",
       "\t<tr><td>4.324350           </td><td>8                  </td><td>360.0              </td><td>175                </td><td>3.15               </td><td>3.440              </td><td>17.02              </td><td>0                  </td><td>0                  </td><td>3                  </td><td>2                  </td><td>1                  </td><td>Hornet Sportabout  </td><td>Hornet Sportabout  </td><td> 756.7612          </td></tr>\n",
       "\t<tr><td>4.254409           </td><td>6                  </td><td>225.0              </td><td>105                </td><td>2.76               </td><td>3.460              </td><td>20.22              </td><td>1                  </td><td>0                  </td><td>3                  </td><td>1                  </td><td>1                  </td><td>Valiant            </td><td>Valiant            </td><td> 446.7130          </td></tr>\n",
       "\t<tr><td>3.781534           </td><td>8                  </td><td>360.0              </td><td>245                </td><td>3.21               </td><td>3.570              </td><td>15.84              </td><td>0                  </td><td>0                  </td><td>3                  </td><td>4                  </td><td>0                  </td><td>Duster 360         </td><td>Duster 360         </td><td> 926.4758          </td></tr>\n",
       "\t<tr><td>4.381780           </td><td>6                  </td><td>167.6              </td><td>123                </td><td>3.92               </td><td>3.440              </td><td>18.30              </td><td>1                  </td><td>0                  </td><td>4                  </td><td>4                  </td><td>1                  </td><td>Merc 280           </td><td>Merc 280           </td><td> 538.9590          </td></tr>\n",
       "\t<tr><td>4.219005           </td><td>6                  </td><td>167.6              </td><td>123                </td><td>3.92               </td><td>3.440              </td><td>18.90              </td><td>1                  </td><td>0                  </td><td>4                  </td><td>4                  </td><td>1                  </td><td>Merc 280C          </td><td>Merc 280C          </td><td> 518.9376          </td></tr>\n",
       "\t<tr><td>4.049691           </td><td>8                  </td><td>275.8              </td><td>180                </td><td>3.07               </td><td>4.070              </td><td>17.40              </td><td>0                  </td><td>0                  </td><td>3                  </td><td>3                  </td><td>1                  </td><td>Merc 450SE         </td><td>Merc 450SE         </td><td> 728.9444          </td></tr>\n",
       "\t<tr><td>4.159327           </td><td>8                  </td><td>275.8              </td><td>180                </td><td>3.07               </td><td>3.730              </td><td>17.60              </td><td>0                  </td><td>0                  </td><td>3                  </td><td>3                  </td><td>1                  </td><td>Merc 450SL         </td><td>Merc 450SL         </td><td> 748.6788          </td></tr>\n",
       "\t<tr><td>3.898718           </td><td>8                  </td><td>275.8              </td><td>180                </td><td>3.07               </td><td>3.780              </td><td>18.00              </td><td>0                  </td><td>0                  </td><td>3                  </td><td>3                  </td><td>0                  </td><td>Merc 450SLC        </td><td>Merc 450SLC        </td><td> 701.7692          </td></tr>\n",
       "\t<tr><td>3.224903           </td><td>8                  </td><td>472.0              </td><td>205                </td><td>2.93               </td><td>5.250              </td><td>17.98              </td><td>0                  </td><td>0                  </td><td>3                  </td><td>4                  </td><td>0                  </td><td>Cadillac Fleetwood </td><td>Cadillac Fleetwood </td><td> 661.1051          </td></tr>\n",
       "\t<tr><td>3.224903           </td><td>8                  </td><td>460.0              </td><td>215                </td><td>3.00               </td><td>5.424              </td><td>17.82              </td><td>0                  </td><td>0                  </td><td>3                  </td><td>4                  </td><td>0                  </td><td>Lincoln Continental</td><td>Lincoln Continental</td><td> 693.3542          </td></tr>\n",
       "\t<tr><td>3.834058           </td><td>8                  </td><td>440.0              </td><td>230                </td><td>3.23               </td><td>5.345              </td><td>17.42              </td><td>0                  </td><td>0                  </td><td>3                  </td><td>4                  </td><td>0                  </td><td>Chrysler Imperial  </td><td>Chrysler Imperial  </td><td> 881.8333          </td></tr>\n",
       "\t<tr><td>3.937004           </td><td>8                  </td><td>318.0              </td><td>150                </td><td>2.76               </td><td>3.520              </td><td>16.87              </td><td>0                  </td><td>0                  </td><td>3                  </td><td>2                  </td><td>0                  </td><td>Dodge Challenger   </td><td>Dodge Challenger   </td><td> 590.5506          </td></tr>\n",
       "\t<tr><td>3.898718           </td><td>8                  </td><td>304.0              </td><td>150                </td><td>3.15               </td><td>3.435              </td><td>17.30              </td><td>0                  </td><td>0                  </td><td>3                  </td><td>2                  </td><td>0                  </td><td>AMC Javelin        </td><td>AMC Javelin        </td><td> 584.8077          </td></tr>\n",
       "\t<tr><td>3.646917           </td><td>8                  </td><td>350.0              </td><td>245                </td><td>3.73               </td><td>3.840              </td><td>15.41              </td><td>0                  </td><td>0                  </td><td>3                  </td><td>4                  </td><td>0                  </td><td>Camaro Z28         </td><td>Camaro Z28         </td><td> 893.4945          </td></tr>\n",
       "\t<tr><td>4.381780           </td><td>8                  </td><td>400.0              </td><td>175                </td><td>3.08               </td><td>3.845              </td><td>17.05              </td><td>0                  </td><td>0                  </td><td>3                  </td><td>2                  </td><td>1                  </td><td>Pontiac Firebird   </td><td>Pontiac Firebird   </td><td> 766.8116          </td></tr>\n",
       "\t<tr><td>3.974921           </td><td>8                  </td><td>351.0              </td><td>264                </td><td>4.22               </td><td>3.170              </td><td>14.50              </td><td>0                  </td><td>1                  </td><td>5                  </td><td>4                  </td><td>0                  </td><td>Ford Pantera L     </td><td>Ford Pantera L     </td><td>1049.3792          </td></tr>\n",
       "\t<tr><td>4.438468           </td><td>6                  </td><td>145.0              </td><td>175                </td><td>3.62               </td><td>2.770              </td><td>15.50              </td><td>0                  </td><td>1                  </td><td>5                  </td><td>6                  </td><td>1                  </td><td>Ferrari Dino       </td><td>Ferrari Dino       </td><td> 776.7319          </td></tr>\n",
       "\t<tr><td>3.872983           </td><td>8                  </td><td>301.0              </td><td>335                </td><td>3.54               </td><td>3.570              </td><td>14.60              </td><td>0                  </td><td>1                  </td><td>5                  </td><td>8                  </td><td>0                  </td><td>Maserati Bora      </td><td>Maserati Bora      </td><td>1297.4494          </td></tr>\n",
       "</tbody>\n",
       "</table>\n"
      ],
      "text/latex": [
       "\\begin{tabular}{r|lllllllllllllll}\n",
       " mpg & cyl & disp & hp & drat & wt & qsec & vs & am & gear & carb & fast & cars & carname & new\\_col\\\\\n",
       "\\hline\n",
       "\t 4.582576            & 6                   & 160.0               & 110                 & 3.90                & 2.620               & 16.46               & 0                   & 1                   & 4                   & 4                   & 1                   & Mazda RX4           & Mazda RX4           &  504.0833          \\\\\n",
       "\t 4.582576            & 6                   & 160.0               & 110                 & 3.90                & 2.875               & 17.02               & 0                   & 1                   & 4                   & 4                   & 1                   & Mazda RX4 Wag       & Mazda RX4 Wag       &  504.0833          \\\\\n",
       "\t 4.626013            & 6                   & 258.0               & 110                 & 3.08                & 3.215               & 19.44               & 1                   & 0                   & 3                   & 1                   & 1                   & Hornet 4 Drive      & Hornet 4 Drive      &  508.8615          \\\\\n",
       "\t 4.324350            & 8                   & 360.0               & 175                 & 3.15                & 3.440               & 17.02               & 0                   & 0                   & 3                   & 2                   & 1                   & Hornet Sportabout   & Hornet Sportabout   &  756.7612          \\\\\n",
       "\t 4.254409            & 6                   & 225.0               & 105                 & 2.76                & 3.460               & 20.22               & 1                   & 0                   & 3                   & 1                   & 1                   & Valiant             & Valiant             &  446.7130          \\\\\n",
       "\t 3.781534            & 8                   & 360.0               & 245                 & 3.21                & 3.570               & 15.84               & 0                   & 0                   & 3                   & 4                   & 0                   & Duster 360          & Duster 360          &  926.4758          \\\\\n",
       "\t 4.381780            & 6                   & 167.6               & 123                 & 3.92                & 3.440               & 18.30               & 1                   & 0                   & 4                   & 4                   & 1                   & Merc 280            & Merc 280            &  538.9590          \\\\\n",
       "\t 4.219005            & 6                   & 167.6               & 123                 & 3.92                & 3.440               & 18.90               & 1                   & 0                   & 4                   & 4                   & 1                   & Merc 280C           & Merc 280C           &  518.9376          \\\\\n",
       "\t 4.049691            & 8                   & 275.8               & 180                 & 3.07                & 4.070               & 17.40               & 0                   & 0                   & 3                   & 3                   & 1                   & Merc 450SE          & Merc 450SE          &  728.9444          \\\\\n",
       "\t 4.159327            & 8                   & 275.8               & 180                 & 3.07                & 3.730               & 17.60               & 0                   & 0                   & 3                   & 3                   & 1                   & Merc 450SL          & Merc 450SL          &  748.6788          \\\\\n",
       "\t 3.898718            & 8                   & 275.8               & 180                 & 3.07                & 3.780               & 18.00               & 0                   & 0                   & 3                   & 3                   & 0                   & Merc 450SLC         & Merc 450SLC         &  701.7692          \\\\\n",
       "\t 3.224903            & 8                   & 472.0               & 205                 & 2.93                & 5.250               & 17.98               & 0                   & 0                   & 3                   & 4                   & 0                   & Cadillac Fleetwood  & Cadillac Fleetwood  &  661.1051          \\\\\n",
       "\t 3.224903            & 8                   & 460.0               & 215                 & 3.00                & 5.424               & 17.82               & 0                   & 0                   & 3                   & 4                   & 0                   & Lincoln Continental & Lincoln Continental &  693.3542          \\\\\n",
       "\t 3.834058            & 8                   & 440.0               & 230                 & 3.23                & 5.345               & 17.42               & 0                   & 0                   & 3                   & 4                   & 0                   & Chrysler Imperial   & Chrysler Imperial   &  881.8333          \\\\\n",
       "\t 3.937004            & 8                   & 318.0               & 150                 & 2.76                & 3.520               & 16.87               & 0                   & 0                   & 3                   & 2                   & 0                   & Dodge Challenger    & Dodge Challenger    &  590.5506          \\\\\n",
       "\t 3.898718            & 8                   & 304.0               & 150                 & 3.15                & 3.435               & 17.30               & 0                   & 0                   & 3                   & 2                   & 0                   & AMC Javelin         & AMC Javelin         &  584.8077          \\\\\n",
       "\t 3.646917            & 8                   & 350.0               & 245                 & 3.73                & 3.840               & 15.41               & 0                   & 0                   & 3                   & 4                   & 0                   & Camaro Z28          & Camaro Z28          &  893.4945          \\\\\n",
       "\t 4.381780            & 8                   & 400.0               & 175                 & 3.08                & 3.845               & 17.05               & 0                   & 0                   & 3                   & 2                   & 1                   & Pontiac Firebird    & Pontiac Firebird    &  766.8116          \\\\\n",
       "\t 3.974921            & 8                   & 351.0               & 264                 & 4.22                & 3.170               & 14.50               & 0                   & 1                   & 5                   & 4                   & 0                   & Ford Pantera L      & Ford Pantera L      & 1049.3792          \\\\\n",
       "\t 4.438468            & 6                   & 145.0               & 175                 & 3.62                & 2.770               & 15.50               & 0                   & 1                   & 5                   & 6                   & 1                   & Ferrari Dino        & Ferrari Dino        &  776.7319          \\\\\n",
       "\t 3.872983            & 8                   & 301.0               & 335                 & 3.54                & 3.570               & 14.60               & 0                   & 1                   & 5                   & 8                   & 0                   & Maserati Bora       & Maserati Bora       & 1297.4494          \\\\\n",
       "\\end{tabular}\n"
      ],
      "text/markdown": [
       "\n",
       "| mpg | cyl | disp | hp | drat | wt | qsec | vs | am | gear | carb | fast | cars | carname | new_col |\n",
       "|---|---|---|---|---|---|---|---|---|---|---|---|---|---|---|\n",
       "| 4.582576            | 6                   | 160.0               | 110                 | 3.90                | 2.620               | 16.46               | 0                   | 1                   | 4                   | 4                   | 1                   | Mazda RX4           | Mazda RX4           |  504.0833           |\n",
       "| 4.582576            | 6                   | 160.0               | 110                 | 3.90                | 2.875               | 17.02               | 0                   | 1                   | 4                   | 4                   | 1                   | Mazda RX4 Wag       | Mazda RX4 Wag       |  504.0833           |\n",
       "| 4.626013            | 6                   | 258.0               | 110                 | 3.08                | 3.215               | 19.44               | 1                   | 0                   | 3                   | 1                   | 1                   | Hornet 4 Drive      | Hornet 4 Drive      |  508.8615           |\n",
       "| 4.324350            | 8                   | 360.0               | 175                 | 3.15                | 3.440               | 17.02               | 0                   | 0                   | 3                   | 2                   | 1                   | Hornet Sportabout   | Hornet Sportabout   |  756.7612           |\n",
       "| 4.254409            | 6                   | 225.0               | 105                 | 2.76                | 3.460               | 20.22               | 1                   | 0                   | 3                   | 1                   | 1                   | Valiant             | Valiant             |  446.7130           |\n",
       "| 3.781534            | 8                   | 360.0               | 245                 | 3.21                | 3.570               | 15.84               | 0                   | 0                   | 3                   | 4                   | 0                   | Duster 360          | Duster 360          |  926.4758           |\n",
       "| 4.381780            | 6                   | 167.6               | 123                 | 3.92                | 3.440               | 18.30               | 1                   | 0                   | 4                   | 4                   | 1                   | Merc 280            | Merc 280            |  538.9590           |\n",
       "| 4.219005            | 6                   | 167.6               | 123                 | 3.92                | 3.440               | 18.90               | 1                   | 0                   | 4                   | 4                   | 1                   | Merc 280C           | Merc 280C           |  518.9376           |\n",
       "| 4.049691            | 8                   | 275.8               | 180                 | 3.07                | 4.070               | 17.40               | 0                   | 0                   | 3                   | 3                   | 1                   | Merc 450SE          | Merc 450SE          |  728.9444           |\n",
       "| 4.159327            | 8                   | 275.8               | 180                 | 3.07                | 3.730               | 17.60               | 0                   | 0                   | 3                   | 3                   | 1                   | Merc 450SL          | Merc 450SL          |  748.6788           |\n",
       "| 3.898718            | 8                   | 275.8               | 180                 | 3.07                | 3.780               | 18.00               | 0                   | 0                   | 3                   | 3                   | 0                   | Merc 450SLC         | Merc 450SLC         |  701.7692           |\n",
       "| 3.224903            | 8                   | 472.0               | 205                 | 2.93                | 5.250               | 17.98               | 0                   | 0                   | 3                   | 4                   | 0                   | Cadillac Fleetwood  | Cadillac Fleetwood  |  661.1051           |\n",
       "| 3.224903            | 8                   | 460.0               | 215                 | 3.00                | 5.424               | 17.82               | 0                   | 0                   | 3                   | 4                   | 0                   | Lincoln Continental | Lincoln Continental |  693.3542           |\n",
       "| 3.834058            | 8                   | 440.0               | 230                 | 3.23                | 5.345               | 17.42               | 0                   | 0                   | 3                   | 4                   | 0                   | Chrysler Imperial   | Chrysler Imperial   |  881.8333           |\n",
       "| 3.937004            | 8                   | 318.0               | 150                 | 2.76                | 3.520               | 16.87               | 0                   | 0                   | 3                   | 2                   | 0                   | Dodge Challenger    | Dodge Challenger    |  590.5506           |\n",
       "| 3.898718            | 8                   | 304.0               | 150                 | 3.15                | 3.435               | 17.30               | 0                   | 0                   | 3                   | 2                   | 0                   | AMC Javelin         | AMC Javelin         |  584.8077           |\n",
       "| 3.646917            | 8                   | 350.0               | 245                 | 3.73                | 3.840               | 15.41               | 0                   | 0                   | 3                   | 4                   | 0                   | Camaro Z28          | Camaro Z28          |  893.4945           |\n",
       "| 4.381780            | 8                   | 400.0               | 175                 | 3.08                | 3.845               | 17.05               | 0                   | 0                   | 3                   | 2                   | 1                   | Pontiac Firebird    | Pontiac Firebird    |  766.8116           |\n",
       "| 3.974921            | 8                   | 351.0               | 264                 | 4.22                | 3.170               | 14.50               | 0                   | 1                   | 5                   | 4                   | 0                   | Ford Pantera L      | Ford Pantera L      | 1049.3792           |\n",
       "| 4.438468            | 6                   | 145.0               | 175                 | 3.62                | 2.770               | 15.50               | 0                   | 1                   | 5                   | 6                   | 1                   | Ferrari Dino        | Ferrari Dino        |  776.7319           |\n",
       "| 3.872983            | 8                   | 301.0               | 335                 | 3.54                | 3.570               | 14.60               | 0                   | 1                   | 5                   | 8                   | 0                   | Maserati Bora       | Maserati Bora       | 1297.4494           |\n",
       "\n"
      ],
      "text/plain": [
       "   mpg      cyl disp  hp  drat wt    qsec  vs am gear carb fast\n",
       "1  4.582576 6   160.0 110 3.90 2.620 16.46 0  1  4    4    1   \n",
       "2  4.582576 6   160.0 110 3.90 2.875 17.02 0  1  4    4    1   \n",
       "3  4.626013 6   258.0 110 3.08 3.215 19.44 1  0  3    1    1   \n",
       "4  4.324350 8   360.0 175 3.15 3.440 17.02 0  0  3    2    1   \n",
       "5  4.254409 6   225.0 105 2.76 3.460 20.22 1  0  3    1    1   \n",
       "6  3.781534 8   360.0 245 3.21 3.570 15.84 0  0  3    4    0   \n",
       "7  4.381780 6   167.6 123 3.92 3.440 18.30 1  0  4    4    1   \n",
       "8  4.219005 6   167.6 123 3.92 3.440 18.90 1  0  4    4    1   \n",
       "9  4.049691 8   275.8 180 3.07 4.070 17.40 0  0  3    3    1   \n",
       "10 4.159327 8   275.8 180 3.07 3.730 17.60 0  0  3    3    1   \n",
       "11 3.898718 8   275.8 180 3.07 3.780 18.00 0  0  3    3    0   \n",
       "12 3.224903 8   472.0 205 2.93 5.250 17.98 0  0  3    4    0   \n",
       "13 3.224903 8   460.0 215 3.00 5.424 17.82 0  0  3    4    0   \n",
       "14 3.834058 8   440.0 230 3.23 5.345 17.42 0  0  3    4    0   \n",
       "15 3.937004 8   318.0 150 2.76 3.520 16.87 0  0  3    2    0   \n",
       "16 3.898718 8   304.0 150 3.15 3.435 17.30 0  0  3    2    0   \n",
       "17 3.646917 8   350.0 245 3.73 3.840 15.41 0  0  3    4    0   \n",
       "18 4.381780 8   400.0 175 3.08 3.845 17.05 0  0  3    2    1   \n",
       "19 3.974921 8   351.0 264 4.22 3.170 14.50 0  1  5    4    0   \n",
       "20 4.438468 6   145.0 175 3.62 2.770 15.50 0  1  5    6    1   \n",
       "21 3.872983 8   301.0 335 3.54 3.570 14.60 0  1  5    8    0   \n",
       "   cars                carname             new_col  \n",
       "1  Mazda RX4           Mazda RX4            504.0833\n",
       "2  Mazda RX4 Wag       Mazda RX4 Wag        504.0833\n",
       "3  Hornet 4 Drive      Hornet 4 Drive       508.8615\n",
       "4  Hornet Sportabout   Hornet Sportabout    756.7612\n",
       "5  Valiant             Valiant              446.7130\n",
       "6  Duster 360          Duster 360           926.4758\n",
       "7  Merc 280            Merc 280             538.9590\n",
       "8  Merc 280C           Merc 280C            518.9376\n",
       "9  Merc 450SE          Merc 450SE           728.9444\n",
       "10 Merc 450SL          Merc 450SL           748.6788\n",
       "11 Merc 450SLC         Merc 450SLC          701.7692\n",
       "12 Cadillac Fleetwood  Cadillac Fleetwood   661.1051\n",
       "13 Lincoln Continental Lincoln Continental  693.3542\n",
       "14 Chrysler Imperial   Chrysler Imperial    881.8333\n",
       "15 Dodge Challenger    Dodge Challenger     590.5506\n",
       "16 AMC Javelin         AMC Javelin          584.8077\n",
       "17 Camaro Z28          Camaro Z28           893.4945\n",
       "18 Pontiac Firebird    Pontiac Firebird     766.8116\n",
       "19 Ford Pantera L      Ford Pantera L      1049.3792\n",
       "20 Ferrari Dino        Ferrari Dino         776.7319\n",
       "21 Maserati Bora       Maserati Bora       1297.4494"
      ]
     },
     "metadata": {},
     "output_type": "display_data"
    }
   ],
   "source": [
    "mt[mt$cyl!=4]"
   ]
  },
  {
   "cell_type": "code",
   "execution_count": 200,
   "id": "8e134711-9a98-42a9-923d-e3ebeee0b211",
   "metadata": {},
   "outputs": [],
   "source": [
    "# sql join but in R its mearge"
   ]
  },
  {
   "cell_type": "code",
   "execution_count": 201,
   "id": "6ea5fee9-83d1-4896-9203-594679dbf013",
   "metadata": {},
   "outputs": [],
   "source": [
    "merged <- merge(mt,mt[mt$cyl>4],by='carname')"
   ]
  },
  {
   "cell_type": "code",
   "execution_count": 202,
   "id": "6217ad54-139b-4c6d-8b60-6a3ededb729e",
   "metadata": {},
   "outputs": [
    {
     "data": {
      "text/html": [
       "<table>\n",
       "<thead><tr><th scope=col>carname</th><th scope=col>mpg.x</th><th scope=col>cyl.x</th><th scope=col>disp.x</th><th scope=col>hp.x</th><th scope=col>drat.x</th><th scope=col>wt.x</th><th scope=col>qsec.x</th><th scope=col>vs.x</th><th scope=col>am.x</th><th scope=col>...</th><th scope=col>drat.y</th><th scope=col>wt.y</th><th scope=col>qsec.y</th><th scope=col>vs.y</th><th scope=col>am.y</th><th scope=col>gear.y</th><th scope=col>carb.y</th><th scope=col>fast.y</th><th scope=col>cars.y</th><th scope=col>new_col.y</th></tr></thead>\n",
       "<tbody>\n",
       "\t<tr><td>AMC Javelin        </td><td>3.898718           </td><td>8                  </td><td>304.0              </td><td>150                </td><td>3.15               </td><td>3.435              </td><td>17.30              </td><td>0                  </td><td>0                  </td><td>...                </td><td>3.15               </td><td>3.435              </td><td>17.30              </td><td>0                  </td><td>0                  </td><td>3                  </td><td>2                  </td><td>0                  </td><td>AMC Javelin        </td><td> 584.8077          </td></tr>\n",
       "\t<tr><td>Cadillac Fleetwood </td><td>3.224903           </td><td>8                  </td><td>472.0              </td><td>205                </td><td>2.93               </td><td>5.250              </td><td>17.98              </td><td>0                  </td><td>0                  </td><td>...                </td><td>2.93               </td><td>5.250              </td><td>17.98              </td><td>0                  </td><td>0                  </td><td>3                  </td><td>4                  </td><td>0                  </td><td>Cadillac Fleetwood </td><td> 661.1051          </td></tr>\n",
       "\t<tr><td>Camaro Z28         </td><td>3.646917           </td><td>8                  </td><td>350.0              </td><td>245                </td><td>3.73               </td><td>3.840              </td><td>15.41              </td><td>0                  </td><td>0                  </td><td>...                </td><td>3.73               </td><td>3.840              </td><td>15.41              </td><td>0                  </td><td>0                  </td><td>3                  </td><td>4                  </td><td>0                  </td><td>Camaro Z28         </td><td> 893.4945          </td></tr>\n",
       "\t<tr><td>Chrysler Imperial  </td><td>3.834058           </td><td>8                  </td><td>440.0              </td><td>230                </td><td>3.23               </td><td>5.345              </td><td>17.42              </td><td>0                  </td><td>0                  </td><td>...                </td><td>3.23               </td><td>5.345              </td><td>17.42              </td><td>0                  </td><td>0                  </td><td>3                  </td><td>4                  </td><td>0                  </td><td>Chrysler Imperial  </td><td> 881.8333          </td></tr>\n",
       "\t<tr><td>Dodge Challenger   </td><td>3.937004           </td><td>8                  </td><td>318.0              </td><td>150                </td><td>2.76               </td><td>3.520              </td><td>16.87              </td><td>0                  </td><td>0                  </td><td>...                </td><td>2.76               </td><td>3.520              </td><td>16.87              </td><td>0                  </td><td>0                  </td><td>3                  </td><td>2                  </td><td>0                  </td><td>Dodge Challenger   </td><td> 590.5506          </td></tr>\n",
       "\t<tr><td>Duster 360         </td><td>3.781534           </td><td>8                  </td><td>360.0              </td><td>245                </td><td>3.21               </td><td>3.570              </td><td>15.84              </td><td>0                  </td><td>0                  </td><td>...                </td><td>3.21               </td><td>3.570              </td><td>15.84              </td><td>0                  </td><td>0                  </td><td>3                  </td><td>4                  </td><td>0                  </td><td>Duster 360         </td><td> 926.4758          </td></tr>\n",
       "\t<tr><td>Ferrari Dino       </td><td>4.438468           </td><td>6                  </td><td>145.0              </td><td>175                </td><td>3.62               </td><td>2.770              </td><td>15.50              </td><td>0                  </td><td>1                  </td><td>...                </td><td>3.62               </td><td>2.770              </td><td>15.50              </td><td>0                  </td><td>1                  </td><td>5                  </td><td>6                  </td><td>1                  </td><td>Ferrari Dino       </td><td> 776.7319          </td></tr>\n",
       "\t<tr><td>Ford Pantera L     </td><td>3.974921           </td><td>8                  </td><td>351.0              </td><td>264                </td><td>4.22               </td><td>3.170              </td><td>14.50              </td><td>0                  </td><td>1                  </td><td>...                </td><td>4.22               </td><td>3.170              </td><td>14.50              </td><td>0                  </td><td>1                  </td><td>5                  </td><td>4                  </td><td>0                  </td><td>Ford Pantera L     </td><td>1049.3792          </td></tr>\n",
       "\t<tr><td>Hornet 4 Drive     </td><td>4.626013           </td><td>6                  </td><td>258.0              </td><td>110                </td><td>3.08               </td><td>3.215              </td><td>19.44              </td><td>1                  </td><td>0                  </td><td>...                </td><td>3.08               </td><td>3.215              </td><td>19.44              </td><td>1                  </td><td>0                  </td><td>3                  </td><td>1                  </td><td>1                  </td><td>Hornet 4 Drive     </td><td> 508.8615          </td></tr>\n",
       "\t<tr><td>Hornet Sportabout  </td><td>4.324350           </td><td>8                  </td><td>360.0              </td><td>175                </td><td>3.15               </td><td>3.440              </td><td>17.02              </td><td>0                  </td><td>0                  </td><td>...                </td><td>3.15               </td><td>3.440              </td><td>17.02              </td><td>0                  </td><td>0                  </td><td>3                  </td><td>2                  </td><td>1                  </td><td>Hornet Sportabout  </td><td> 756.7612          </td></tr>\n",
       "\t<tr><td>Lincoln Continental</td><td>3.224903           </td><td>8                  </td><td>460.0              </td><td>215                </td><td>3.00               </td><td>5.424              </td><td>17.82              </td><td>0                  </td><td>0                  </td><td>...                </td><td>3.00               </td><td>5.424              </td><td>17.82              </td><td>0                  </td><td>0                  </td><td>3                  </td><td>4                  </td><td>0                  </td><td>Lincoln Continental</td><td> 693.3542          </td></tr>\n",
       "\t<tr><td>Maserati Bora      </td><td>3.872983           </td><td>8                  </td><td>301.0              </td><td>335                </td><td>3.54               </td><td>3.570              </td><td>14.60              </td><td>0                  </td><td>1                  </td><td>...                </td><td>3.54               </td><td>3.570              </td><td>14.60              </td><td>0                  </td><td>1                  </td><td>5                  </td><td>8                  </td><td>0                  </td><td>Maserati Bora      </td><td>1297.4494          </td></tr>\n",
       "\t<tr><td>Mazda RX4          </td><td>4.582576           </td><td>6                  </td><td>160.0              </td><td>110                </td><td>3.90               </td><td>2.620              </td><td>16.46              </td><td>0                  </td><td>1                  </td><td>...                </td><td>3.90               </td><td>2.620              </td><td>16.46              </td><td>0                  </td><td>1                  </td><td>4                  </td><td>4                  </td><td>1                  </td><td>Mazda RX4          </td><td> 504.0833          </td></tr>\n",
       "\t<tr><td>Mazda RX4 Wag      </td><td>4.582576           </td><td>6                  </td><td>160.0              </td><td>110                </td><td>3.90               </td><td>2.875              </td><td>17.02              </td><td>0                  </td><td>1                  </td><td>...                </td><td>3.90               </td><td>2.875              </td><td>17.02              </td><td>0                  </td><td>1                  </td><td>4                  </td><td>4                  </td><td>1                  </td><td>Mazda RX4 Wag      </td><td> 504.0833          </td></tr>\n",
       "\t<tr><td>Merc 280           </td><td>4.381780           </td><td>6                  </td><td>167.6              </td><td>123                </td><td>3.92               </td><td>3.440              </td><td>18.30              </td><td>1                  </td><td>0                  </td><td>...                </td><td>3.92               </td><td>3.440              </td><td>18.30              </td><td>1                  </td><td>0                  </td><td>4                  </td><td>4                  </td><td>1                  </td><td>Merc 280           </td><td> 538.9590          </td></tr>\n",
       "\t<tr><td>Merc 280C          </td><td>4.219005           </td><td>6                  </td><td>167.6              </td><td>123                </td><td>3.92               </td><td>3.440              </td><td>18.90              </td><td>1                  </td><td>0                  </td><td>...                </td><td>3.92               </td><td>3.440              </td><td>18.90              </td><td>1                  </td><td>0                  </td><td>4                  </td><td>4                  </td><td>1                  </td><td>Merc 280C          </td><td> 518.9376          </td></tr>\n",
       "\t<tr><td>Merc 450SE         </td><td>4.049691           </td><td>8                  </td><td>275.8              </td><td>180                </td><td>3.07               </td><td>4.070              </td><td>17.40              </td><td>0                  </td><td>0                  </td><td>...                </td><td>3.07               </td><td>4.070              </td><td>17.40              </td><td>0                  </td><td>0                  </td><td>3                  </td><td>3                  </td><td>1                  </td><td>Merc 450SE         </td><td> 728.9444          </td></tr>\n",
       "\t<tr><td>Merc 450SL         </td><td>4.159327           </td><td>8                  </td><td>275.8              </td><td>180                </td><td>3.07               </td><td>3.730              </td><td>17.60              </td><td>0                  </td><td>0                  </td><td>...                </td><td>3.07               </td><td>3.730              </td><td>17.60              </td><td>0                  </td><td>0                  </td><td>3                  </td><td>3                  </td><td>1                  </td><td>Merc 450SL         </td><td> 748.6788          </td></tr>\n",
       "\t<tr><td>Merc 450SLC        </td><td>3.898718           </td><td>8                  </td><td>275.8              </td><td>180                </td><td>3.07               </td><td>3.780              </td><td>18.00              </td><td>0                  </td><td>0                  </td><td>...                </td><td>3.07               </td><td>3.780              </td><td>18.00              </td><td>0                  </td><td>0                  </td><td>3                  </td><td>3                  </td><td>0                  </td><td>Merc 450SLC        </td><td> 701.7692          </td></tr>\n",
       "\t<tr><td>Pontiac Firebird   </td><td>4.381780           </td><td>8                  </td><td>400.0              </td><td>175                </td><td>3.08               </td><td>3.845              </td><td>17.05              </td><td>0                  </td><td>0                  </td><td>...                </td><td>3.08               </td><td>3.845              </td><td>17.05              </td><td>0                  </td><td>0                  </td><td>3                  </td><td>2                  </td><td>1                  </td><td>Pontiac Firebird   </td><td> 766.8116          </td></tr>\n",
       "\t<tr><td>Valiant            </td><td>4.254409           </td><td>6                  </td><td>225.0              </td><td>105                </td><td>2.76               </td><td>3.460              </td><td>20.22              </td><td>1                  </td><td>0                  </td><td>...                </td><td>2.76               </td><td>3.460              </td><td>20.22              </td><td>1                  </td><td>0                  </td><td>3                  </td><td>1                  </td><td>1                  </td><td>Valiant            </td><td> 446.7130          </td></tr>\n",
       "</tbody>\n",
       "</table>\n"
      ],
      "text/latex": [
       "\\begin{tabular}{r|lllllllllllllllllllllllllllll}\n",
       " carname & mpg.x & cyl.x & disp.x & hp.x & drat.x & wt.x & qsec.x & vs.x & am.x & ... & drat.y & wt.y & qsec.y & vs.y & am.y & gear.y & carb.y & fast.y & cars.y & new\\_col.y\\\\\n",
       "\\hline\n",
       "\t AMC Javelin         & 3.898718            & 8                   & 304.0               & 150                 & 3.15                & 3.435               & 17.30               & 0                   & 0                   & ...                 & 3.15                & 3.435               & 17.30               & 0                   & 0                   & 3                   & 2                   & 0                   & AMC Javelin         &  584.8077          \\\\\n",
       "\t Cadillac Fleetwood  & 3.224903            & 8                   & 472.0               & 205                 & 2.93                & 5.250               & 17.98               & 0                   & 0                   & ...                 & 2.93                & 5.250               & 17.98               & 0                   & 0                   & 3                   & 4                   & 0                   & Cadillac Fleetwood  &  661.1051          \\\\\n",
       "\t Camaro Z28          & 3.646917            & 8                   & 350.0               & 245                 & 3.73                & 3.840               & 15.41               & 0                   & 0                   & ...                 & 3.73                & 3.840               & 15.41               & 0                   & 0                   & 3                   & 4                   & 0                   & Camaro Z28          &  893.4945          \\\\\n",
       "\t Chrysler Imperial   & 3.834058            & 8                   & 440.0               & 230                 & 3.23                & 5.345               & 17.42               & 0                   & 0                   & ...                 & 3.23                & 5.345               & 17.42               & 0                   & 0                   & 3                   & 4                   & 0                   & Chrysler Imperial   &  881.8333          \\\\\n",
       "\t Dodge Challenger    & 3.937004            & 8                   & 318.0               & 150                 & 2.76                & 3.520               & 16.87               & 0                   & 0                   & ...                 & 2.76                & 3.520               & 16.87               & 0                   & 0                   & 3                   & 2                   & 0                   & Dodge Challenger    &  590.5506          \\\\\n",
       "\t Duster 360          & 3.781534            & 8                   & 360.0               & 245                 & 3.21                & 3.570               & 15.84               & 0                   & 0                   & ...                 & 3.21                & 3.570               & 15.84               & 0                   & 0                   & 3                   & 4                   & 0                   & Duster 360          &  926.4758          \\\\\n",
       "\t Ferrari Dino        & 4.438468            & 6                   & 145.0               & 175                 & 3.62                & 2.770               & 15.50               & 0                   & 1                   & ...                 & 3.62                & 2.770               & 15.50               & 0                   & 1                   & 5                   & 6                   & 1                   & Ferrari Dino        &  776.7319          \\\\\n",
       "\t Ford Pantera L      & 3.974921            & 8                   & 351.0               & 264                 & 4.22                & 3.170               & 14.50               & 0                   & 1                   & ...                 & 4.22                & 3.170               & 14.50               & 0                   & 1                   & 5                   & 4                   & 0                   & Ford Pantera L      & 1049.3792          \\\\\n",
       "\t Hornet 4 Drive      & 4.626013            & 6                   & 258.0               & 110                 & 3.08                & 3.215               & 19.44               & 1                   & 0                   & ...                 & 3.08                & 3.215               & 19.44               & 1                   & 0                   & 3                   & 1                   & 1                   & Hornet 4 Drive      &  508.8615          \\\\\n",
       "\t Hornet Sportabout   & 4.324350            & 8                   & 360.0               & 175                 & 3.15                & 3.440               & 17.02               & 0                   & 0                   & ...                 & 3.15                & 3.440               & 17.02               & 0                   & 0                   & 3                   & 2                   & 1                   & Hornet Sportabout   &  756.7612          \\\\\n",
       "\t Lincoln Continental & 3.224903            & 8                   & 460.0               & 215                 & 3.00                & 5.424               & 17.82               & 0                   & 0                   & ...                 & 3.00                & 5.424               & 17.82               & 0                   & 0                   & 3                   & 4                   & 0                   & Lincoln Continental &  693.3542          \\\\\n",
       "\t Maserati Bora       & 3.872983            & 8                   & 301.0               & 335                 & 3.54                & 3.570               & 14.60               & 0                   & 1                   & ...                 & 3.54                & 3.570               & 14.60               & 0                   & 1                   & 5                   & 8                   & 0                   & Maserati Bora       & 1297.4494          \\\\\n",
       "\t Mazda RX4           & 4.582576            & 6                   & 160.0               & 110                 & 3.90                & 2.620               & 16.46               & 0                   & 1                   & ...                 & 3.90                & 2.620               & 16.46               & 0                   & 1                   & 4                   & 4                   & 1                   & Mazda RX4           &  504.0833          \\\\\n",
       "\t Mazda RX4 Wag       & 4.582576            & 6                   & 160.0               & 110                 & 3.90                & 2.875               & 17.02               & 0                   & 1                   & ...                 & 3.90                & 2.875               & 17.02               & 0                   & 1                   & 4                   & 4                   & 1                   & Mazda RX4 Wag       &  504.0833          \\\\\n",
       "\t Merc 280            & 4.381780            & 6                   & 167.6               & 123                 & 3.92                & 3.440               & 18.30               & 1                   & 0                   & ...                 & 3.92                & 3.440               & 18.30               & 1                   & 0                   & 4                   & 4                   & 1                   & Merc 280            &  538.9590          \\\\\n",
       "\t Merc 280C           & 4.219005            & 6                   & 167.6               & 123                 & 3.92                & 3.440               & 18.90               & 1                   & 0                   & ...                 & 3.92                & 3.440               & 18.90               & 1                   & 0                   & 4                   & 4                   & 1                   & Merc 280C           &  518.9376          \\\\\n",
       "\t Merc 450SE          & 4.049691            & 8                   & 275.8               & 180                 & 3.07                & 4.070               & 17.40               & 0                   & 0                   & ...                 & 3.07                & 4.070               & 17.40               & 0                   & 0                   & 3                   & 3                   & 1                   & Merc 450SE          &  728.9444          \\\\\n",
       "\t Merc 450SL          & 4.159327            & 8                   & 275.8               & 180                 & 3.07                & 3.730               & 17.60               & 0                   & 0                   & ...                 & 3.07                & 3.730               & 17.60               & 0                   & 0                   & 3                   & 3                   & 1                   & Merc 450SL          &  748.6788          \\\\\n",
       "\t Merc 450SLC         & 3.898718            & 8                   & 275.8               & 180                 & 3.07                & 3.780               & 18.00               & 0                   & 0                   & ...                 & 3.07                & 3.780               & 18.00               & 0                   & 0                   & 3                   & 3                   & 0                   & Merc 450SLC         &  701.7692          \\\\\n",
       "\t Pontiac Firebird    & 4.381780            & 8                   & 400.0               & 175                 & 3.08                & 3.845               & 17.05               & 0                   & 0                   & ...                 & 3.08                & 3.845               & 17.05               & 0                   & 0                   & 3                   & 2                   & 1                   & Pontiac Firebird    &  766.8116          \\\\\n",
       "\t Valiant             & 4.254409            & 6                   & 225.0               & 105                 & 2.76                & 3.460               & 20.22               & 1                   & 0                   & ...                 & 2.76                & 3.460               & 20.22               & 1                   & 0                   & 3                   & 1                   & 1                   & Valiant             &  446.7130          \\\\\n",
       "\\end{tabular}\n"
      ],
      "text/markdown": [
       "\n",
       "| carname | mpg.x | cyl.x | disp.x | hp.x | drat.x | wt.x | qsec.x | vs.x | am.x | ... | drat.y | wt.y | qsec.y | vs.y | am.y | gear.y | carb.y | fast.y | cars.y | new_col.y |\n",
       "|---|---|---|---|---|---|---|---|---|---|---|---|---|---|---|---|---|---|---|---|---|\n",
       "| AMC Javelin         | 3.898718            | 8                   | 304.0               | 150                 | 3.15                | 3.435               | 17.30               | 0                   | 0                   | ...                 | 3.15                | 3.435               | 17.30               | 0                   | 0                   | 3                   | 2                   | 0                   | AMC Javelin         |  584.8077           |\n",
       "| Cadillac Fleetwood  | 3.224903            | 8                   | 472.0               | 205                 | 2.93                | 5.250               | 17.98               | 0                   | 0                   | ...                 | 2.93                | 5.250               | 17.98               | 0                   | 0                   | 3                   | 4                   | 0                   | Cadillac Fleetwood  |  661.1051           |\n",
       "| Camaro Z28          | 3.646917            | 8                   | 350.0               | 245                 | 3.73                | 3.840               | 15.41               | 0                   | 0                   | ...                 | 3.73                | 3.840               | 15.41               | 0                   | 0                   | 3                   | 4                   | 0                   | Camaro Z28          |  893.4945           |\n",
       "| Chrysler Imperial   | 3.834058            | 8                   | 440.0               | 230                 | 3.23                | 5.345               | 17.42               | 0                   | 0                   | ...                 | 3.23                | 5.345               | 17.42               | 0                   | 0                   | 3                   | 4                   | 0                   | Chrysler Imperial   |  881.8333           |\n",
       "| Dodge Challenger    | 3.937004            | 8                   | 318.0               | 150                 | 2.76                | 3.520               | 16.87               | 0                   | 0                   | ...                 | 2.76                | 3.520               | 16.87               | 0                   | 0                   | 3                   | 2                   | 0                   | Dodge Challenger    |  590.5506           |\n",
       "| Duster 360          | 3.781534            | 8                   | 360.0               | 245                 | 3.21                | 3.570               | 15.84               | 0                   | 0                   | ...                 | 3.21                | 3.570               | 15.84               | 0                   | 0                   | 3                   | 4                   | 0                   | Duster 360          |  926.4758           |\n",
       "| Ferrari Dino        | 4.438468            | 6                   | 145.0               | 175                 | 3.62                | 2.770               | 15.50               | 0                   | 1                   | ...                 | 3.62                | 2.770               | 15.50               | 0                   | 1                   | 5                   | 6                   | 1                   | Ferrari Dino        |  776.7319           |\n",
       "| Ford Pantera L      | 3.974921            | 8                   | 351.0               | 264                 | 4.22                | 3.170               | 14.50               | 0                   | 1                   | ...                 | 4.22                | 3.170               | 14.50               | 0                   | 1                   | 5                   | 4                   | 0                   | Ford Pantera L      | 1049.3792           |\n",
       "| Hornet 4 Drive      | 4.626013            | 6                   | 258.0               | 110                 | 3.08                | 3.215               | 19.44               | 1                   | 0                   | ...                 | 3.08                | 3.215               | 19.44               | 1                   | 0                   | 3                   | 1                   | 1                   | Hornet 4 Drive      |  508.8615           |\n",
       "| Hornet Sportabout   | 4.324350            | 8                   | 360.0               | 175                 | 3.15                | 3.440               | 17.02               | 0                   | 0                   | ...                 | 3.15                | 3.440               | 17.02               | 0                   | 0                   | 3                   | 2                   | 1                   | Hornet Sportabout   |  756.7612           |\n",
       "| Lincoln Continental | 3.224903            | 8                   | 460.0               | 215                 | 3.00                | 5.424               | 17.82               | 0                   | 0                   | ...                 | 3.00                | 5.424               | 17.82               | 0                   | 0                   | 3                   | 4                   | 0                   | Lincoln Continental |  693.3542           |\n",
       "| Maserati Bora       | 3.872983            | 8                   | 301.0               | 335                 | 3.54                | 3.570               | 14.60               | 0                   | 1                   | ...                 | 3.54                | 3.570               | 14.60               | 0                   | 1                   | 5                   | 8                   | 0                   | Maserati Bora       | 1297.4494           |\n",
       "| Mazda RX4           | 4.582576            | 6                   | 160.0               | 110                 | 3.90                | 2.620               | 16.46               | 0                   | 1                   | ...                 | 3.90                | 2.620               | 16.46               | 0                   | 1                   | 4                   | 4                   | 1                   | Mazda RX4           |  504.0833           |\n",
       "| Mazda RX4 Wag       | 4.582576            | 6                   | 160.0               | 110                 | 3.90                | 2.875               | 17.02               | 0                   | 1                   | ...                 | 3.90                | 2.875               | 17.02               | 0                   | 1                   | 4                   | 4                   | 1                   | Mazda RX4 Wag       |  504.0833           |\n",
       "| Merc 280            | 4.381780            | 6                   | 167.6               | 123                 | 3.92                | 3.440               | 18.30               | 1                   | 0                   | ...                 | 3.92                | 3.440               | 18.30               | 1                   | 0                   | 4                   | 4                   | 1                   | Merc 280            |  538.9590           |\n",
       "| Merc 280C           | 4.219005            | 6                   | 167.6               | 123                 | 3.92                | 3.440               | 18.90               | 1                   | 0                   | ...                 | 3.92                | 3.440               | 18.90               | 1                   | 0                   | 4                   | 4                   | 1                   | Merc 280C           |  518.9376           |\n",
       "| Merc 450SE          | 4.049691            | 8                   | 275.8               | 180                 | 3.07                | 4.070               | 17.40               | 0                   | 0                   | ...                 | 3.07                | 4.070               | 17.40               | 0                   | 0                   | 3                   | 3                   | 1                   | Merc 450SE          |  728.9444           |\n",
       "| Merc 450SL          | 4.159327            | 8                   | 275.8               | 180                 | 3.07                | 3.730               | 17.60               | 0                   | 0                   | ...                 | 3.07                | 3.730               | 17.60               | 0                   | 0                   | 3                   | 3                   | 1                   | Merc 450SL          |  748.6788           |\n",
       "| Merc 450SLC         | 3.898718            | 8                   | 275.8               | 180                 | 3.07                | 3.780               | 18.00               | 0                   | 0                   | ...                 | 3.07                | 3.780               | 18.00               | 0                   | 0                   | 3                   | 3                   | 0                   | Merc 450SLC         |  701.7692           |\n",
       "| Pontiac Firebird    | 4.381780            | 8                   | 400.0               | 175                 | 3.08                | 3.845               | 17.05               | 0                   | 0                   | ...                 | 3.08                | 3.845               | 17.05               | 0                   | 0                   | 3                   | 2                   | 1                   | Pontiac Firebird    |  766.8116           |\n",
       "| Valiant             | 4.254409            | 6                   | 225.0               | 105                 | 2.76                | 3.460               | 20.22               | 1                   | 0                   | ...                 | 2.76                | 3.460               | 20.22               | 1                   | 0                   | 3                   | 1                   | 1                   | Valiant             |  446.7130           |\n",
       "\n"
      ],
      "text/plain": [
       "   carname             mpg.x    cyl.x disp.x hp.x drat.x wt.x  qsec.x vs.x am.x\n",
       "1  AMC Javelin         3.898718 8     304.0  150  3.15   3.435 17.30  0    0   \n",
       "2  Cadillac Fleetwood  3.224903 8     472.0  205  2.93   5.250 17.98  0    0   \n",
       "3  Camaro Z28          3.646917 8     350.0  245  3.73   3.840 15.41  0    0   \n",
       "4  Chrysler Imperial   3.834058 8     440.0  230  3.23   5.345 17.42  0    0   \n",
       "5  Dodge Challenger    3.937004 8     318.0  150  2.76   3.520 16.87  0    0   \n",
       "6  Duster 360          3.781534 8     360.0  245  3.21   3.570 15.84  0    0   \n",
       "7  Ferrari Dino        4.438468 6     145.0  175  3.62   2.770 15.50  0    1   \n",
       "8  Ford Pantera L      3.974921 8     351.0  264  4.22   3.170 14.50  0    1   \n",
       "9  Hornet 4 Drive      4.626013 6     258.0  110  3.08   3.215 19.44  1    0   \n",
       "10 Hornet Sportabout   4.324350 8     360.0  175  3.15   3.440 17.02  0    0   \n",
       "11 Lincoln Continental 3.224903 8     460.0  215  3.00   5.424 17.82  0    0   \n",
       "12 Maserati Bora       3.872983 8     301.0  335  3.54   3.570 14.60  0    1   \n",
       "13 Mazda RX4           4.582576 6     160.0  110  3.90   2.620 16.46  0    1   \n",
       "14 Mazda RX4 Wag       4.582576 6     160.0  110  3.90   2.875 17.02  0    1   \n",
       "15 Merc 280            4.381780 6     167.6  123  3.92   3.440 18.30  1    0   \n",
       "16 Merc 280C           4.219005 6     167.6  123  3.92   3.440 18.90  1    0   \n",
       "17 Merc 450SE          4.049691 8     275.8  180  3.07   4.070 17.40  0    0   \n",
       "18 Merc 450SL          4.159327 8     275.8  180  3.07   3.730 17.60  0    0   \n",
       "19 Merc 450SLC         3.898718 8     275.8  180  3.07   3.780 18.00  0    0   \n",
       "20 Pontiac Firebird    4.381780 8     400.0  175  3.08   3.845 17.05  0    0   \n",
       "21 Valiant             4.254409 6     225.0  105  2.76   3.460 20.22  1    0   \n",
       "   ... drat.y wt.y  qsec.y vs.y am.y gear.y carb.y fast.y cars.y             \n",
       "1  ... 3.15   3.435 17.30  0    0    3      2      0      AMC Javelin        \n",
       "2  ... 2.93   5.250 17.98  0    0    3      4      0      Cadillac Fleetwood \n",
       "3  ... 3.73   3.840 15.41  0    0    3      4      0      Camaro Z28         \n",
       "4  ... 3.23   5.345 17.42  0    0    3      4      0      Chrysler Imperial  \n",
       "5  ... 2.76   3.520 16.87  0    0    3      2      0      Dodge Challenger   \n",
       "6  ... 3.21   3.570 15.84  0    0    3      4      0      Duster 360         \n",
       "7  ... 3.62   2.770 15.50  0    1    5      6      1      Ferrari Dino       \n",
       "8  ... 4.22   3.170 14.50  0    1    5      4      0      Ford Pantera L     \n",
       "9  ... 3.08   3.215 19.44  1    0    3      1      1      Hornet 4 Drive     \n",
       "10 ... 3.15   3.440 17.02  0    0    3      2      1      Hornet Sportabout  \n",
       "11 ... 3.00   5.424 17.82  0    0    3      4      0      Lincoln Continental\n",
       "12 ... 3.54   3.570 14.60  0    1    5      8      0      Maserati Bora      \n",
       "13 ... 3.90   2.620 16.46  0    1    4      4      1      Mazda RX4          \n",
       "14 ... 3.90   2.875 17.02  0    1    4      4      1      Mazda RX4 Wag      \n",
       "15 ... 3.92   3.440 18.30  1    0    4      4      1      Merc 280           \n",
       "16 ... 3.92   3.440 18.90  1    0    4      4      1      Merc 280C          \n",
       "17 ... 3.07   4.070 17.40  0    0    3      3      1      Merc 450SE         \n",
       "18 ... 3.07   3.730 17.60  0    0    3      3      1      Merc 450SL         \n",
       "19 ... 3.07   3.780 18.00  0    0    3      3      0      Merc 450SLC        \n",
       "20 ... 3.08   3.845 17.05  0    0    3      2      1      Pontiac Firebird   \n",
       "21 ... 2.76   3.460 20.22  1    0    3      1      1      Valiant            \n",
       "   new_col.y\n",
       "1   584.8077\n",
       "2   661.1051\n",
       "3   893.4945\n",
       "4   881.8333\n",
       "5   590.5506\n",
       "6   926.4758\n",
       "7   776.7319\n",
       "8  1049.3792\n",
       "9   508.8615\n",
       "10  756.7612\n",
       "11  693.3542\n",
       "12 1297.4494\n",
       "13  504.0833\n",
       "14  504.0833\n",
       "15  538.9590\n",
       "16  518.9376\n",
       "17  728.9444\n",
       "18  748.6788\n",
       "19  701.7692\n",
       "20  766.8116\n",
       "21  446.7130"
      ]
     },
     "metadata": {},
     "output_type": "display_data"
    }
   ],
   "source": [
    "merged"
   ]
  },
  {
   "cell_type": "code",
   "execution_count": 203,
   "id": "286ce67a-b047-4a77-81cb-15f6b98ca4be",
   "metadata": {},
   "outputs": [
    {
     "name": "stdout",
     "output_type": "stream",
     "text": [
      "Classes 'data.table' and 'data.frame':\t21 obs. of  29 variables:\n",
      " $ carname  : chr  \"AMC Javelin\" \"Cadillac Fleetwood\" \"Camaro Z28\" \"Chrysler Imperial\" ...\n",
      " $ mpg.x    : num  3.9 3.22 3.65 3.83 3.94 ...\n",
      " $ cyl.x    : int  8 8 8 8 8 8 6 8 6 8 ...\n",
      " $ disp.x   : num  304 472 350 440 318 360 145 351 258 360 ...\n",
      " $ hp.x     : int  150 205 245 230 150 245 175 264 110 175 ...\n",
      " $ drat.x   : num  3.15 2.93 3.73 3.23 2.76 3.21 3.62 4.22 3.08 3.15 ...\n",
      " $ wt.x     : num  3.44 5.25 3.84 5.34 3.52 ...\n",
      " $ qsec.x   : num  17.3 18 15.4 17.4 16.9 ...\n",
      " $ vs.x     : int  0 0 0 0 0 0 0 0 1 0 ...\n",
      " $ am.x     : int  0 0 0 0 0 0 1 1 0 0 ...\n",
      " $ gear.x   : int  3 3 3 3 3 3 5 5 3 3 ...\n",
      " $ carb.x   : int  2 4 4 4 2 4 6 4 1 2 ...\n",
      " $ fast.x   : int  0 0 0 0 0 0 1 0 1 1 ...\n",
      " $ cars.x   : chr  \"AMC Javelin\" \"Cadillac Fleetwood\" \"Camaro Z28\" \"Chrysler Imperial\" ...\n",
      " $ new_col.x: num  585 661 893 882 591 ...\n",
      " $ mpg.y    : num  3.9 3.22 3.65 3.83 3.94 ...\n",
      " $ cyl.y    : int  8 8 8 8 8 8 6 8 6 8 ...\n",
      " $ disp.y   : num  304 472 350 440 318 360 145 351 258 360 ...\n",
      " $ hp.y     : int  150 205 245 230 150 245 175 264 110 175 ...\n",
      " $ drat.y   : num  3.15 2.93 3.73 3.23 2.76 3.21 3.62 4.22 3.08 3.15 ...\n",
      " $ wt.y     : num  3.44 5.25 3.84 5.34 3.52 ...\n",
      " $ qsec.y   : num  17.3 18 15.4 17.4 16.9 ...\n",
      " $ vs.y     : int  0 0 0 0 0 0 0 0 1 0 ...\n",
      " $ am.y     : int  0 0 0 0 0 0 1 1 0 0 ...\n",
      " $ gear.y   : int  3 3 3 3 3 3 5 5 3 3 ...\n",
      " $ carb.y   : int  2 4 4 4 2 4 6 4 1 2 ...\n",
      " $ fast.y   : int  0 0 0 0 0 0 1 0 1 1 ...\n",
      " $ cars.y   : chr  \"AMC Javelin\" \"Cadillac Fleetwood\" \"Camaro Z28\" \"Chrysler Imperial\" ...\n",
      " $ new_col.y: num  585 661 893 882 591 ...\n",
      " - attr(*, \".internal.selfref\")=<externalptr> \n",
      " - attr(*, \"sorted\")= chr \"carname\"\n"
     ]
    }
   ],
   "source": [
    "str(merged)"
   ]
  },
  {
   "attachments": {
    "f5ad587c-4472-43c8-9b15-4f5c5f07ae8d.png": {
     "image/png": "[encoded data removed]"
    }
   },
   "cell_type": "markdown",
   "id": "27841787-ff08-4a79-8db2-98dae35383cc",
   "metadata": {},
   "source": [
    "# SQL to Data.table query\n",
    "![image.png](attachment:f5ad587c-4472-43c8-9b15-4f5c5f07ae8d.png)\n",
    "\n",
    "- tbl[where, select, groupby][order][limit]"
   ]
  },
  {
   "cell_type": "code",
   "execution_count": 204,
   "id": "d39e4119-d0f5-43ac-ae20-b09b42e17639",
   "metadata": {},
   "outputs": [],
   "source": [
    "result<- mt[carb==4 & mpg >4,\n",
    "           .(avg_mpg=mean(mpg), count=.N),\n",
    "            by=.(carb)\n",
    "           \n",
    "           ][order(carb)][1:10]"
   ]
  },
  {
   "cell_type": "code",
   "execution_count": 205,
   "id": "549cc879-b79a-45f9-b5fe-0cf41df242b8",
   "metadata": {},
   "outputs": [
    {
     "data": {
      "text/html": [
       "<table>\n",
       "<thead><tr><th scope=col>carb</th><th scope=col>avg_mpg</th><th scope=col>count</th></tr></thead>\n",
       "<tbody>\n",
       "\t<tr><td> 4      </td><td>4.441484</td><td> 4      </td></tr>\n",
       "\t<tr><td>NA      </td><td>      NA</td><td>NA      </td></tr>\n",
       "\t<tr><td>NA      </td><td>      NA</td><td>NA      </td></tr>\n",
       "\t<tr><td>NA      </td><td>      NA</td><td>NA      </td></tr>\n",
       "\t<tr><td>NA      </td><td>      NA</td><td>NA      </td></tr>\n",
       "\t<tr><td>NA      </td><td>      NA</td><td>NA      </td></tr>\n",
       "\t<tr><td>NA      </td><td>      NA</td><td>NA      </td></tr>\n",
       "\t<tr><td>NA      </td><td>      NA</td><td>NA      </td></tr>\n",
       "\t<tr><td>NA      </td><td>      NA</td><td>NA      </td></tr>\n",
       "\t<tr><td>NA      </td><td>      NA</td><td>NA      </td></tr>\n",
       "</tbody>\n",
       "</table>\n"
      ],
      "text/latex": [
       "\\begin{tabular}{r|lll}\n",
       " carb & avg\\_mpg & count\\\\\n",
       "\\hline\n",
       "\t  4       & 4.441484 &  4      \\\\\n",
       "\t NA       &       NA & NA      \\\\\n",
       "\t NA       &       NA & NA      \\\\\n",
       "\t NA       &       NA & NA      \\\\\n",
       "\t NA       &       NA & NA      \\\\\n",
       "\t NA       &       NA & NA      \\\\\n",
       "\t NA       &       NA & NA      \\\\\n",
       "\t NA       &       NA & NA      \\\\\n",
       "\t NA       &       NA & NA      \\\\\n",
       "\t NA       &       NA & NA      \\\\\n",
       "\\end{tabular}\n"
      ],
      "text/markdown": [
       "\n",
       "| carb | avg_mpg | count |\n",
       "|---|---|---|\n",
       "|  4       | 4.441484 |  4       |\n",
       "| NA       |       NA | NA       |\n",
       "| NA       |       NA | NA       |\n",
       "| NA       |       NA | NA       |\n",
       "| NA       |       NA | NA       |\n",
       "| NA       |       NA | NA       |\n",
       "| NA       |       NA | NA       |\n",
       "| NA       |       NA | NA       |\n",
       "| NA       |       NA | NA       |\n",
       "| NA       |       NA | NA       |\n",
       "\n"
      ],
      "text/plain": [
       "   carb avg_mpg  count\n",
       "1   4   4.441484  4   \n",
       "2  NA         NA NA   \n",
       "3  NA         NA NA   \n",
       "4  NA         NA NA   \n",
       "5  NA         NA NA   \n",
       "6  NA         NA NA   \n",
       "7  NA         NA NA   \n",
       "8  NA         NA NA   \n",
       "9  NA         NA NA   \n",
       "10 NA         NA NA   "
      ]
     },
     "metadata": {},
     "output_type": "display_data"
    }
   ],
   "source": [
    "result"
   ]
  },
  {
   "cell_type": "code",
   "execution_count": 206,
   "id": "21f5ad01-b464-4d6b-8a50-9185a3bb3ed8",
   "metadata": {},
   "outputs": [],
   "source": [
    "# clean the variables from the environment\n",
    "# rm(list=ls())"
   ]
  },
  {
   "cell_type": "code",
   "execution_count": 207,
   "id": "3f15bea0-3062-44ac-8d48-fe72c78d2fcb",
   "metadata": {},
   "outputs": [
    {
     "data": {
      "text/html": [
       "<table>\n",
       "<thead><tr><th scope=col>carb</th><th scope=col>avg_mpg</th><th scope=col>count</th></tr></thead>\n",
       "<tbody>\n",
       "\t<tr><td> 4      </td><td>4.441484</td><td> 4      </td></tr>\n",
       "\t<tr><td>NA      </td><td>      NA</td><td>NA      </td></tr>\n",
       "\t<tr><td>NA      </td><td>      NA</td><td>NA      </td></tr>\n",
       "\t<tr><td>NA      </td><td>      NA</td><td>NA      </td></tr>\n",
       "\t<tr><td>NA      </td><td>      NA</td><td>NA      </td></tr>\n",
       "\t<tr><td>NA      </td><td>      NA</td><td>NA      </td></tr>\n",
       "\t<tr><td>NA      </td><td>      NA</td><td>NA      </td></tr>\n",
       "\t<tr><td>NA      </td><td>      NA</td><td>NA      </td></tr>\n",
       "\t<tr><td>NA      </td><td>      NA</td><td>NA      </td></tr>\n",
       "\t<tr><td>NA      </td><td>      NA</td><td>NA      </td></tr>\n",
       "</tbody>\n",
       "</table>\n"
      ],
      "text/latex": [
       "\\begin{tabular}{r|lll}\n",
       " carb & avg\\_mpg & count\\\\\n",
       "\\hline\n",
       "\t  4       & 4.441484 &  4      \\\\\n",
       "\t NA       &       NA & NA      \\\\\n",
       "\t NA       &       NA & NA      \\\\\n",
       "\t NA       &       NA & NA      \\\\\n",
       "\t NA       &       NA & NA      \\\\\n",
       "\t NA       &       NA & NA      \\\\\n",
       "\t NA       &       NA & NA      \\\\\n",
       "\t NA       &       NA & NA      \\\\\n",
       "\t NA       &       NA & NA      \\\\\n",
       "\t NA       &       NA & NA      \\\\\n",
       "\\end{tabular}\n"
      ],
      "text/markdown": [
       "\n",
       "| carb | avg_mpg | count |\n",
       "|---|---|---|\n",
       "|  4       | 4.441484 |  4       |\n",
       "| NA       |       NA | NA       |\n",
       "| NA       |       NA | NA       |\n",
       "| NA       |       NA | NA       |\n",
       "| NA       |       NA | NA       |\n",
       "| NA       |       NA | NA       |\n",
       "| NA       |       NA | NA       |\n",
       "| NA       |       NA | NA       |\n",
       "| NA       |       NA | NA       |\n",
       "| NA       |       NA | NA       |\n",
       "\n"
      ],
      "text/plain": [
       "   carb avg_mpg  count\n",
       "1   4   4.441484  4   \n",
       "2  NA         NA NA   \n",
       "3  NA         NA NA   \n",
       "4  NA         NA NA   \n",
       "5  NA         NA NA   \n",
       "6  NA         NA NA   \n",
       "7  NA         NA NA   \n",
       "8  NA         NA NA   \n",
       "9  NA         NA NA   \n",
       "10 NA         NA NA   "
      ]
     },
     "metadata": {},
     "output_type": "display_data"
    }
   ],
   "source": [
    "result"
   ]
  },
  {
   "cell_type": "markdown",
   "id": "e67342b2-e920-498e-b082-d7bc9e0b65cf",
   "metadata": {},
   "source": [
    "# R Bootcamp: Session 4\n",
    "- inbuilt functions are enough\n",
    "- but ggplot is more fancier"
   ]
  },
  {
   "cell_type": "markdown",
   "id": "9829680a-2a84-4d7b-824b-ccc083736f2b",
   "metadata": {},
   "source": [
    "## Plot"
   ]
  },
  {
   "cell_type": "code",
   "execution_count": 208,
   "id": "c2ad1e59-2c66-43eb-aa79-58db92d99243",
   "metadata": {},
   "outputs": [
    {
     "data": {
      "image/png": "[encoded data removed]",
      "text/plain": [
       "plot without title"
      ]
     },
     "metadata": {},
     "output_type": "display_data"
    }
   ],
   "source": [
    "plot(c(1,2,3,4),c(3,5,6,3))"
   ]
  },
  {
   "cell_type": "code",
   "execution_count": 209,
   "id": "398a3847-2f1e-43f1-86ce-615246d03d5c",
   "metadata": {},
   "outputs": [
    {
     "data": {
      "image/png": "[encoded data removed]",
      "text/plain": [
       "plot without title"
      ]
     },
     "metadata": {},
     "output_type": "display_data"
    }
   ],
   "source": [
    "# plotting a sequence of points\n",
    "plot(1:10,2:11, type='l')"
   ]
  },
  {
   "cell_type": "code",
   "execution_count": 210,
   "id": "d7c555f6-101b-4405-b4a5-96cca90ba59e",
   "metadata": {},
   "outputs": [
    {
     "data": {
      "image/png": "[encoded data removed]",
      "text/plain": [
       "Plot with title \"mt graph\""
      ]
     },
     "metadata": {},
     "output_type": "display_data"
    }
   ],
   "source": [
    "plot(1:10,2:11, type='b',main='mt graph',xlab='the x axis',ylab='the yaxis')"
   ]
  },
  {
   "cell_type": "markdown",
   "id": "4bc2e90c-55c5-40ec-a872-efd469f90589",
   "metadata": {},
   "source": [
    "# pie chart"
   ]
  },
  {
   "cell_type": "code",
   "execution_count": 211,
   "id": "c44b0eb6-b060-4178-b7c1-0de7de3d9e50",
   "metadata": {},
   "outputs": [
    {
     "data": {
      "image/png": "[encoded data removed]",
      "text/plain": [
       "plot without title"
      ]
     },
     "metadata": {},
     "output_type": "display_data"
    }
   ],
   "source": [
    "pie(c(10,30,22,50))"
   ]
  },
  {
   "cell_type": "code",
   "execution_count": 212,
   "id": "927a428f-524e-45ec-9cd9-a1a7e1b182aa",
   "metadata": {},
   "outputs": [
    {
     "data": {
      "image/png": "[encoded data removed]",
      "text/plain": [
       "plot without title"
      ]
     },
     "metadata": {},
     "output_type": "display_data"
    }
   ],
   "source": [
    "x<- c('a','b','c','d')\n",
    "y<-c(2,4,6,7)\n",
    "\n",
    "barplot(y,names.arg=x)"
   ]
  },
  {
   "cell_type": "markdown",
   "id": "8906c3f6-d314-4811-b8bc-3f5f35bde667",
   "metadata": {},
   "source": [
    "# Histogram"
   ]
  },
  {
   "cell_type": "code",
   "execution_count": 213,
   "id": "7e1573f1-e525-4431-a0b6-0920451a5025",
   "metadata": {},
   "outputs": [
    {
     "data": {
      "image/png": "[encoded data removed]",
      "text/plain": [
       "Plot with title \"Histogram of mt$wt\""
      ]
     },
     "metadata": {},
     "output_type": "display_data"
    }
   ],
   "source": [
    "hist(mt$wt)"
   ]
  },
  {
   "cell_type": "markdown",
   "id": "c2734201-4401-4be2-86e1-1d1b8828c2ce",
   "metadata": {},
   "source": [
    "# GG plot"
   ]
  },
  {
   "cell_type": "code",
   "execution_count": 215,
   "id": "2c4930a9-3999-4664-92a0-c1d99bffda1c",
   "metadata": {},
   "outputs": [
    {
     "name": "stderr",
     "output_type": "stream",
     "text": [
      "Registered S3 methods overwritten by 'ggplot2':\n",
      "  method         from \n",
      "  [.quosures     rlang\n",
      "  c.quosures     rlang\n",
      "  print.quosures rlang\n"
     ]
    }
   ],
   "source": [
    "library(ggplot2)"
   ]
  },
  {
   "cell_type": "code",
   "execution_count": 216,
   "id": "b6ff11b7-c593-41f4-b959-219849b99b2c",
   "metadata": {},
   "outputs": [],
   "source": [
    "g<- ggplot(midwest, aes(x=area, y=poptotal)) +geom_point() + geom_smooth(method='lm')"
   ]
  },
  {
   "cell_type": "code",
   "execution_count": 223,
   "id": "be649aad-6f2a-4345-8037-2e98207a103b",
   "metadata": {},
   "outputs": [],
   "source": [
    "g1<- g+ coord_cartesian(xlim=c(0,0.1), ylim=c(0,1000000))"
   ]
  },
  {
   "cell_type": "code",
   "execution_count": 224,
   "id": "aba86db9-3606-40f7-8c14-b6173b215b5f",
   "metadata": {},
   "outputs": [
    {
     "data": {
      "image/png": "[encoded data removed]",
      "text/plain": [
       "plot without title"
      ]
     },
     "metadata": {},
     "output_type": "display_data"
    }
   ],
   "source": [
    "g1+ labs(title='Area Vs Population', substile='From midwest dataset', y='Population', x='Area', caption='Midwest Demographic' )"
   ]
  },
  {
   "cell_type": "code",
   "execution_count": null,
   "id": "f2b4fe8c-cb37-4504-a080-ac2da4c6da0f",
   "metadata": {},
   "outputs": [],
   "source": []
  }
 ],
 "metadata": {
  "kernelspec": {
   "display_name": "R",
   "language": "R",
   "name": "ir"
  },
  "language_info": {
   "codemirror_mode": "r",
   "file_extension": ".r",
   "mimetype": "text/x-r-source",
   "name": "R",
   "pygments_lexer": "r",
   "version": "3.6.1"
  }
 },
 "nbformat": 4,
 "nbformat_minor": 5
}
