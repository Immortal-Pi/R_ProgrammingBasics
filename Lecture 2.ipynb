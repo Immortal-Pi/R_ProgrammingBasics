{
 "cells": [
  {
   "cell_type": "markdown",
   "id": "eab5cec0-88cb-4985-876f-31911d369614",
   "metadata": {},
   "source": [
    "# Class lecture 2 "
   ]
  },
  {
   "cell_type": "code",
   "execution_count": null,
   "id": "c8b8188a-9ed3-4da0-a0dd-c8deaa0abab3",
   "metadata": {},
   "outputs": [],
   "source": []
  }
 ],
 "metadata": {
  "kernelspec": {
   "display_name": "R",
   "language": "R",
   "name": "ir"
  },
  "language_info": {
   "codemirror_mode": "r",
   "file_extension": ".r",
   "mimetype": "text/x-r-source",
   "name": "R",
   "pygments_lexer": "r",
   "version": "3.6.1"
  }
 },
 "nbformat": 4,
 "nbformat_minor": 5
}
