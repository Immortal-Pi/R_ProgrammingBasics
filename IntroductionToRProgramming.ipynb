{
 "cells": [
  {
   "cell_type": "markdown",
   "id": "3c89efbd-1595-4201-aa91-1ea43216ad3f",
   "metadata": {},
   "source": [
    "# R Bootcamp: Session 1"
   ]
  },
  {
   "cell_type": "markdown",
   "id": "becc3357-e054-4f3a-b40f-b19f92eb7268",
   "metadata": {},
   "source": [
    "# R Variables\n",
    "- variables are containers for storing variables\n"
   ]
  },
  {
   "cell_type": "markdown",
   "id": "64281971-b668-4b07-b5ae-00deee241405",
   "metadata": {},
   "source": [
    "## Creating and using Variables"
   ]
  },
  {
   "cell_type": "code",
   "execution_count": 2,
   "id": "5e96ce91-84d1-4576-9c00-b8a2e2287e7c",
   "metadata": {},
   "outputs": [],
   "source": [
    "a<-10\n",
    "b<-5"
   ]
  },
  {
   "cell_type": "code",
   "execution_count": 3,
   "id": "7f87fa64-713a-4bfb-8003-74e191511df8",
   "metadata": {},
   "outputs": [
    {
     "data": {
      "text/html": [
       "15"
      ],
      "text/latex": [
       "15"
      ],
      "text/markdown": [
       "15"
      ],
      "text/plain": [
       "[1] 15"
      ]
     },
     "metadata": {},
     "output_type": "display_data"
    }
   ],
   "source": [
    "c<-a+b\n",
    "c"
   ]
  },
  {
   "cell_type": "markdown",
   "id": "a875f3bc-7752-4676-9807-30340dcea50d",
   "metadata": {},
   "source": [
    "#### difference between <- and = (= doesnt work in a loop)"
   ]
  },
  {
   "cell_type": "code",
   "execution_count": 4,
   "id": "277f8ab4-c7d1-4a41-b60e-1aa14c8804cf",
   "metadata": {},
   "outputs": [],
   "source": [
    "a<-20"
   ]
  },
  {
   "cell_type": "code",
   "execution_count": 5,
   "id": "a9c04735-33d4-47a7-a1ac-76f4b0099ff5",
   "metadata": {},
   "outputs": [],
   "source": [
    "a=10"
   ]
  },
  {
   "cell_type": "code",
   "execution_count": 6,
   "id": "1c774508-27ce-4a71-a1b8-0966b211b254",
   "metadata": {},
   "outputs": [
    {
     "data": {
      "text/html": [
       "10"
      ],
      "text/latex": [
       "10"
      ],
      "text/markdown": [
       "10"
      ],
      "text/plain": [
       "[1] 10"
      ]
     },
     "metadata": {},
     "output_type": "display_data"
    }
   ],
   "source": [
    "a"
   ]
  },
  {
   "cell_type": "code",
   "execution_count": 7,
   "id": "cc51c0f2-f525-4bde-aa6a-15ea7949fa52",
   "metadata": {},
   "outputs": [
    {
     "data": {
      "text/html": [
       "'double'"
      ],
      "text/latex": [
       "'double'"
      ],
      "text/markdown": [
       "'double'"
      ],
      "text/plain": [
       "[1] \"double\""
      ]
     },
     "metadata": {},
     "output_type": "display_data"
    }
   ],
   "source": [
    "typeof(a)"
   ]
  },
  {
   "cell_type": "code",
   "execution_count": 8,
   "id": "5f3141b7-b123-4def-a55d-82af9594d31e",
   "metadata": {},
   "outputs": [
    {
     "data": {
      "text/html": [
       "'double'"
      ],
      "text/latex": [
       "'double'"
      ],
      "text/markdown": [
       "'double'"
      ],
      "text/plain": [
       "[1] \"double\""
      ]
     },
     "metadata": {},
     "output_type": "display_data"
    }
   ],
   "source": [
    "c=15.0\n",
    "typeof(c)"
   ]
  },
  {
   "cell_type": "markdown",
   "id": "5bcb5530-5056-453d-bef6-94d9fcbab387",
   "metadata": {},
   "source": [
    "# performing operation\n",
    ". doesnt quantify anything \n",
    "we can have . in variable names"
   ]
  },
  {
   "cell_type": "code",
   "execution_count": 9,
   "id": "2c1b2e0b-fed3-4299-af3d-773718fa55a8",
   "metadata": {},
   "outputs": [],
   "source": [
    "var.a=2.5\n",
    "var.b<-4\n",
    "\n",
    "result<- var.a/var.b"
   ]
  },
  {
   "cell_type": "code",
   "execution_count": 10,
   "id": "a7044b69-2b8d-4dcc-9205-a586e998980c",
   "metadata": {},
   "outputs": [
    {
     "data": {
      "text/html": [
       "2.5"
      ],
      "text/latex": [
       "2.5"
      ],
      "text/markdown": [
       "2.5"
      ],
      "text/plain": [
       "[1] 2.5"
      ]
     },
     "metadata": {},
     "output_type": "display_data"
    }
   ],
   "source": [
    "var.a"
   ]
  },
  {
   "cell_type": "code",
   "execution_count": 11,
   "id": "f23352de-565f-4e2c-a13b-1148f0d26686",
   "metadata": {},
   "outputs": [
    {
     "data": {
      "text/html": [
       "1.58113883008419"
      ],
      "text/latex": [
       "1.58113883008419"
      ],
      "text/markdown": [
       "1.58113883008419"
      ],
      "text/plain": [
       "[1] 1.581139"
      ]
     },
     "metadata": {},
     "output_type": "display_data"
    }
   ],
   "source": [
    "result.a<-sqrt(var.a)\n",
    "result.a"
   ]
  },
  {
   "cell_type": "code",
   "execution_count": 12,
   "id": "4d6d92a6-8aaf-4c75-82fd-d15dc23613d7",
   "metadata": {},
   "outputs": [
    {
     "data": {
      "text/html": [
       "'double'"
      ],
      "text/latex": [
       "'double'"
      ],
      "text/markdown": [
       "'double'"
      ],
      "text/plain": [
       "[1] \"double\""
      ]
     },
     "metadata": {},
     "output_type": "display_data"
    }
   ],
   "source": [
    "typeof(result.a)"
   ]
  },
  {
   "cell_type": "code",
   "execution_count": 13,
   "id": "b424365b-1002-4c59-be74-78d52c91c2b6",
   "metadata": {},
   "outputs": [
    {
     "name": "stdout",
     "output_type": "stream",
     "text": [
      "[1] 1.581139\n"
     ]
    }
   ],
   "source": [
    "print(result.a)"
   ]
  },
  {
   "cell_type": "markdown",
   "id": "1af6bb68-eff9-44ef-90c7-5bec0a9d3abd",
   "metadata": {},
   "source": [
    "# Logical Variables and operators"
   ]
  },
  {
   "cell_type": "code",
   "execution_count": 16,
   "id": "21f51c29-585a-4f2e-b201-abba344953d2",
   "metadata": {},
   "outputs": [
    {
     "data": {
      "text/html": [
       "TRUE"
      ],
      "text/latex": [
       "TRUE"
      ],
      "text/markdown": [
       "TRUE"
      ],
      "text/plain": [
       "[1] TRUE"
      ]
     },
     "metadata": {},
     "output_type": "display_data"
    }
   ],
   "source": [
    "4<5"
   ]
  },
  {
   "cell_type": "code",
   "execution_count": 17,
   "id": "648241ed-4eb3-467a-bcd3-189e3d2246e8",
   "metadata": {},
   "outputs": [
    {
     "data": {
      "text/html": [
       "FALSE"
      ],
      "text/latex": [
       "FALSE"
      ],
      "text/markdown": [
       "FALSE"
      ],
      "text/plain": [
       "[1] FALSE"
      ]
     },
     "metadata": {},
     "output_type": "display_data"
    }
   ],
   "source": [
    "4==5"
   ]
  },
  {
   "cell_type": "code",
   "execution_count": 21,
   "id": "28a03b29-bf9d-4644-8a49-faf870fe6021",
   "metadata": {},
   "outputs": [
    {
     "data": {
      "text/html": [
       "TRUE"
      ],
      "text/latex": [
       "TRUE"
      ],
      "text/markdown": [
       "TRUE"
      ],
      "text/plain": [
       "[1] TRUE"
      ]
     },
     "metadata": {},
     "output_type": "display_data"
    }
   ],
   "source": [
    "result<-4<5\n",
    "result"
   ]
  },
  {
   "cell_type": "code",
   "execution_count": 22,
   "id": "62a69f97-e57e-4dc7-86fb-d5dd81c3fc83",
   "metadata": {},
   "outputs": [
    {
     "data": {
      "text/html": [
       "'logical'"
      ],
      "text/latex": [
       "'logical'"
      ],
      "text/markdown": [
       "'logical'"
      ],
      "text/plain": [
       "[1] \"logical\""
      ]
     },
     "metadata": {},
     "output_type": "display_data"
    }
   ],
   "source": [
    "typeof(result)"
   ]
  },
  {
   "cell_type": "code",
   "execution_count": null,
   "id": "b89f413e-a429-48ba-ba23-93f590fe5fc7",
   "metadata": {},
   "outputs": [],
   "source": []
  }
 ],
 "metadata": {
  "kernelspec": {
   "display_name": "R",
   "language": "R",
   "name": "ir"
  },
  "language_info": {
   "codemirror_mode": "r",
   "file_extension": ".r",
   "mimetype": "text/x-r-source",
   "name": "R",
   "pygments_lexer": "r",
   "version": "3.6.1"
  }
 },
 "nbformat": 4,
 "nbformat_minor": 5
}
