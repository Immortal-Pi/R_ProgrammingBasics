{
 "cells": [
  {
   "cell_type": "markdown",
   "id": "3c89efbd-1595-4201-aa91-1ea43216ad3f",
   "metadata": {},
   "source": [
    "# R Bootcamp: Session 1"
   ]
  },
  {
   "cell_type": "markdown",
   "id": "becc3357-e054-4f3a-b40f-b19f92eb7268",
   "metadata": {},
   "source": [
    "# R Variables\n",
    "- variables are containers for storing variables\n"
   ]
  },
  {
   "cell_type": "markdown",
   "id": "64281971-b668-4b07-b5ae-00deee241405",
   "metadata": {},
   "source": [
    "## Creating and using Variables"
   ]
  },
  {
   "cell_type": "code",
   "execution_count": 2,
   "id": "5e96ce91-84d1-4576-9c00-b8a2e2287e7c",
   "metadata": {},
   "outputs": [],
   "source": [
    "a<-10\n",
    "b<-5"
   ]
  },
  {
   "cell_type": "code",
   "execution_count": 3,
   "id": "7f87fa64-713a-4bfb-8003-74e191511df8",
   "metadata": {},
   "outputs": [
    {
     "data": {
      "text/html": [
       "15"
      ],
      "text/latex": [
       "15"
      ],
      "text/markdown": [
       "15"
      ],
      "text/plain": [
       "[1] 15"
      ]
     },
     "metadata": {},
     "output_type": "display_data"
    }
   ],
   "source": [
    "c<-a+b\n",
    "c"
   ]
  },
  {
   "cell_type": "markdown",
   "id": "a875f3bc-7752-4676-9807-30340dcea50d",
   "metadata": {},
   "source": [
    "#### difference between <- and = (= doesnt work in a loop)"
   ]
  },
  {
   "cell_type": "code",
   "execution_count": 4,
   "id": "277f8ab4-c7d1-4a41-b60e-1aa14c8804cf",
   "metadata": {},
   "outputs": [],
   "source": [
    "a<-20"
   ]
  },
  {
   "cell_type": "code",
   "execution_count": 5,
   "id": "a9c04735-33d4-47a7-a1ac-76f4b0099ff5",
   "metadata": {},
   "outputs": [],
   "source": [
    "a=10"
   ]
  },
  {
   "cell_type": "code",
   "execution_count": 6,
   "id": "1c774508-27ce-4a71-a1b8-0966b211b254",
   "metadata": {},
   "outputs": [
    {
     "data": {
      "text/html": [
       "10"
      ],
      "text/latex": [
       "10"
      ],
      "text/markdown": [
       "10"
      ],
      "text/plain": [
       "[1] 10"
      ]
     },
     "metadata": {},
     "output_type": "display_data"
    }
   ],
   "source": [
    "a"
   ]
  },
  {
   "cell_type": "code",
   "execution_count": 7,
   "id": "cc51c0f2-f525-4bde-aa6a-15ea7949fa52",
   "metadata": {},
   "outputs": [
    {
     "data": {
      "text/html": [
       "'double'"
      ],
      "text/latex": [
       "'double'"
      ],
      "text/markdown": [
       "'double'"
      ],
      "text/plain": [
       "[1] \"double\""
      ]
     },
     "metadata": {},
     "output_type": "display_data"
    }
   ],
   "source": [
    "typeof(a)"
   ]
  },
  {
   "cell_type": "code",
   "execution_count": 8,
   "id": "5f3141b7-b123-4def-a55d-82af9594d31e",
   "metadata": {},
   "outputs": [
    {
     "data": {
      "text/html": [
       "'double'"
      ],
      "text/latex": [
       "'double'"
      ],
      "text/markdown": [
       "'double'"
      ],
      "text/plain": [
       "[1] \"double\""
      ]
     },
     "metadata": {},
     "output_type": "display_data"
    }
   ],
   "source": [
    "c=15.0\n",
    "typeof(c)"
   ]
  },
  {
   "cell_type": "markdown",
   "id": "5bcb5530-5056-453d-bef6-94d9fcbab387",
   "metadata": {},
   "source": [
    "# performing operation\n",
    ". doesnt quantify anything \n",
    "we can have . in variable names"
   ]
  },
  {
   "cell_type": "code",
   "execution_count": 9,
   "id": "2c1b2e0b-fed3-4299-af3d-773718fa55a8",
   "metadata": {},
   "outputs": [],
   "source": [
    "var.a=2.5\n",
    "var.b<-4\n",
    "\n",
    "result<- var.a/var.b"
   ]
  },
  {
   "cell_type": "code",
   "execution_count": 10,
   "id": "a7044b69-2b8d-4dcc-9205-a586e998980c",
   "metadata": {},
   "outputs": [
    {
     "data": {
      "text/html": [
       "2.5"
      ],
      "text/latex": [
       "2.5"
      ],
      "text/markdown": [
       "2.5"
      ],
      "text/plain": [
       "[1] 2.5"
      ]
     },
     "metadata": {},
     "output_type": "display_data"
    }
   ],
   "source": [
    "var.a"
   ]
  },
  {
   "cell_type": "code",
   "execution_count": 11,
   "id": "f23352de-565f-4e2c-a13b-1148f0d26686",
   "metadata": {},
   "outputs": [
    {
     "data": {
      "text/html": [
       "1.58113883008419"
      ],
      "text/latex": [
       "1.58113883008419"
      ],
      "text/markdown": [
       "1.58113883008419"
      ],
      "text/plain": [
       "[1] 1.581139"
      ]
     },
     "metadata": {},
     "output_type": "display_data"
    }
   ],
   "source": [
    "result.a<-sqrt(var.a)\n",
    "result.a"
   ]
  },
  {
   "cell_type": "code",
   "execution_count": 12,
   "id": "4d6d92a6-8aaf-4c75-82fd-d15dc23613d7",
   "metadata": {},
   "outputs": [
    {
     "data": {
      "text/html": [
       "'double'"
      ],
      "text/latex": [
       "'double'"
      ],
      "text/markdown": [
       "'double'"
      ],
      "text/plain": [
       "[1] \"double\""
      ]
     },
     "metadata": {},
     "output_type": "display_data"
    }
   ],
   "source": [
    "typeof(result.a)"
   ]
  },
  {
   "cell_type": "code",
   "execution_count": 13,
   "id": "b424365b-1002-4c59-be74-78d52c91c2b6",
   "metadata": {},
   "outputs": [
    {
     "name": "stdout",
     "output_type": "stream",
     "text": [
      "[1] 1.581139\n"
     ]
    }
   ],
   "source": [
    "print(result.a)"
   ]
  },
  {
   "cell_type": "markdown",
   "id": "1af6bb68-eff9-44ef-90c7-5bec0a9d3abd",
   "metadata": {},
   "source": [
    "# Logical Variables and operators"
   ]
  },
  {
   "cell_type": "code",
   "execution_count": 14,
   "id": "21f51c29-585a-4f2e-b201-abba344953d2",
   "metadata": {},
   "outputs": [
    {
     "data": {
      "text/html": [
       "TRUE"
      ],
      "text/latex": [
       "TRUE"
      ],
      "text/markdown": [
       "TRUE"
      ],
      "text/plain": [
       "[1] TRUE"
      ]
     },
     "metadata": {},
     "output_type": "display_data"
    }
   ],
   "source": [
    "4<5"
   ]
  },
  {
   "cell_type": "code",
   "execution_count": 15,
   "id": "648241ed-4eb3-467a-bcd3-189e3d2246e8",
   "metadata": {},
   "outputs": [
    {
     "data": {
      "text/html": [
       "FALSE"
      ],
      "text/latex": [
       "FALSE"
      ],
      "text/markdown": [
       "FALSE"
      ],
      "text/plain": [
       "[1] FALSE"
      ]
     },
     "metadata": {},
     "output_type": "display_data"
    }
   ],
   "source": [
    "4==5"
   ]
  },
  {
   "cell_type": "code",
   "execution_count": 16,
   "id": "28a03b29-bf9d-4644-8a49-faf870fe6021",
   "metadata": {},
   "outputs": [
    {
     "data": {
      "text/html": [
       "TRUE"
      ],
      "text/latex": [
       "TRUE"
      ],
      "text/markdown": [
       "TRUE"
      ],
      "text/plain": [
       "[1] TRUE"
      ]
     },
     "metadata": {},
     "output_type": "display_data"
    }
   ],
   "source": [
    "result<-4<5\n",
    "result"
   ]
  },
  {
   "cell_type": "code",
   "execution_count": 17,
   "id": "62a69f97-e57e-4dc7-86fb-d5dd81c3fc83",
   "metadata": {},
   "outputs": [
    {
     "data": {
      "text/html": [
       "'logical'"
      ],
      "text/latex": [
       "'logical'"
      ],
      "text/markdown": [
       "'logical'"
      ],
      "text/plain": [
       "[1] \"logical\""
      ]
     },
     "metadata": {},
     "output_type": "display_data"
    }
   ],
   "source": [
    "typeof(result)"
   ]
  },
  {
   "cell_type": "markdown",
   "id": "0847ac7e-f7d3-44cc-b713-bc3b8e8258fa",
   "metadata": {},
   "source": [
    "# logical operators"
   ]
  },
  {
   "cell_type": "code",
   "execution_count": 18,
   "id": "b89f413e-a429-48ba-ba23-93f590fe5fc7",
   "metadata": {},
   "outputs": [
    {
     "data": {
      "text/html": [
       "FALSE"
      ],
      "text/latex": [
       "FALSE"
      ],
      "text/markdown": [
       "FALSE"
      ],
      "text/plain": [
       "[1] FALSE"
      ]
     },
     "metadata": {},
     "output_type": "display_data"
    }
   ],
   "source": [
    "resulta<-!TRUE\n",
    "resulta"
   ]
  },
  {
   "cell_type": "code",
   "execution_count": 19,
   "id": "ffde9324-44e8-442f-9edb-c7f0064fb24a",
   "metadata": {},
   "outputs": [
    {
     "data": {
      "text/html": [
       "TRUE"
      ],
      "text/latex": [
       "TRUE"
      ],
      "text/markdown": [
       "TRUE"
      ],
      "text/plain": [
       "[1] TRUE"
      ]
     },
     "metadata": {},
     "output_type": "display_data"
    }
   ],
   "source": [
    "resulta|result"
   ]
  },
  {
   "cell_type": "code",
   "execution_count": 20,
   "id": "3fea9cb0-2b05-455c-b89c-c1932eda23e4",
   "metadata": {},
   "outputs": [
    {
     "data": {
      "text/html": [
       "FALSE"
      ],
      "text/latex": [
       "FALSE"
      ],
      "text/markdown": [
       "FALSE"
      ],
      "text/plain": [
       "[1] FALSE"
      ]
     },
     "metadata": {},
     "output_type": "display_data"
    }
   ],
   "source": [
    "resulta & result"
   ]
  },
  {
   "cell_type": "markdown",
   "id": "13c0049d-8eaa-44a7-8230-1bae9d2de385",
   "metadata": {},
   "source": [
    "# Process Control"
   ]
  },
  {
   "cell_type": "markdown",
   "id": "4c6e0252-9607-40fd-b41a-6837f9ab8995",
   "metadata": {},
   "source": [
    "## while loop"
   ]
  },
  {
   "cell_type": "code",
   "execution_count": 21,
   "id": "edc5e09f-9a42-4af8-85cf-1f1224c48231",
   "metadata": {},
   "outputs": [
    {
     "name": "stdout",
     "output_type": "stream",
     "text": [
      "[1] 1\n",
      "[1] 2\n",
      "[1] 3\n",
      "[1] 4\n",
      "[1] 5\n",
      "[1] 6\n",
      "[1] 7\n",
      "[1] 8\n",
      "[1] 9\n",
      "[1] 10\n"
     ]
    }
   ],
   "source": [
    "n=0\n",
    "while(n<10){\n",
    "    n=n+1\n",
    "    print(n)\n",
    "}"
   ]
  },
  {
   "cell_type": "markdown",
   "id": "c1e43653-5718-4421-9bfc-94ecf0e32a07",
   "metadata": {},
   "source": [
    "## break"
   ]
  },
  {
   "cell_type": "code",
   "execution_count": 22,
   "id": "c060c328-e512-4c31-a288-7c9186e1931f",
   "metadata": {},
   "outputs": [
    {
     "name": "stdout",
     "output_type": "stream",
     "text": [
      "[1] 1\n",
      "[1] 2\n",
      "[1] 3\n"
     ]
    }
   ],
   "source": [
    "i<-1\n",
    "while(i<10){\n",
    "    print(i)\n",
    "    i<-i+1\n",
    "    if (i==4){\n",
    "        break\n",
    "    }\n",
    "}"
   ]
  },
  {
   "cell_type": "markdown",
   "id": "272773da-0b4d-4f9d-9c7d-ea3701114a69",
   "metadata": {},
   "source": [
    "## For"
   ]
  },
  {
   "cell_type": "code",
   "execution_count": 23,
   "id": "8b5fce4b-f05a-4100-bf5d-d1cc642816e8",
   "metadata": {},
   "outputs": [
    {
     "name": "stdout",
     "output_type": "stream",
     "text": [
      "[1] \"apples\"\n",
      "[1] \"banana\"\n",
      "[1] \"mango\"\n"
     ]
    }
   ],
   "source": [
    "## For Loop\n",
    "fruits <- list('apples','banana','mango')\n",
    "\n",
    "for (x in fruits){\n",
    "    print(x)\n",
    "}"
   ]
  },
  {
   "cell_type": "code",
   "execution_count": 24,
   "id": "7aed104e-0af1-4338-b61e-9760cad17681",
   "metadata": {},
   "outputs": [
    {
     "name": "stdout",
     "output_type": "stream",
     "text": [
      "[1] \"red\"\n",
      "[1] \"blue\"\n",
      "[1] \"green\"\n",
      "[[1]]\n",
      "[1] \"red\"\n",
      "\n",
      "[[2]]\n",
      "[1] \"blue\"\n",
      "\n",
      "[[3]]\n",
      "[1] \"green\"\n",
      "\n"
     ]
    }
   ],
   "source": [
    "# RStudio works differently\n",
    "colors <- list('red', 'blue', 'green')\n",
    "for (x in colors){\n",
    "    print(x)\n",
    "}\n",
    "print(colors)"
   ]
  },
  {
   "cell_type": "code",
   "execution_count": 25,
   "id": "968c9588-0fa7-480f-8f09-f50209a5acd5",
   "metadata": {},
   "outputs": [
    {
     "name": "stdout",
     "output_type": "stream",
     "text": [
      "[1] \"apples red\"\n",
      "[1] \"apples blue\"\n",
      "[1] \"apples green\"\n",
      "[1] \"banana red\"\n",
      "[1] \"banana blue\"\n",
      "[1] \"banana green\"\n",
      "[1] \"mango red\"\n",
      "[1] \"mango blue\"\n",
      "[1] \"mango green\"\n"
     ]
    }
   ],
   "source": [
    "# paste command\n",
    "for (x in fruits){\n",
    "    for (y in colors){\n",
    "        print(paste(x,y))\n",
    "    }\n",
    "}"
   ]
  },
  {
   "cell_type": "markdown",
   "id": "c52609f1-bbed-4274-b7a9-e59445aa04e4",
   "metadata": {},
   "source": [
    "# R bootcamp: Session 2"
   ]
  },
  {
   "cell_type": "markdown",
   "id": "3b4adab5-7cf4-4bfc-b1f4-4449bad615db",
   "metadata": {},
   "source": [
    "## Vectors\n",
    "A vector is a simply a list of items that are of the same type. To combine the list of items to a vecot,  use the c() function and separate the items by a comma"
   ]
  },
  {
   "cell_type": "code",
   "execution_count": 26,
   "id": "5fb59c4d-fbb3-4d74-bfb5-361d5f2f113b",
   "metadata": {},
   "outputs": [
    {
     "data": {
      "text/html": [
       "<ol class=list-inline>\n",
       "\t<li>3</li>\n",
       "\t<li>4</li>\n",
       "\t<li>56</li>\n",
       "\t<li>77</li>\n",
       "\t<li>4</li>\n",
       "\t<li>5</li>\n",
       "</ol>\n"
      ],
      "text/latex": [
       "\\begin{enumerate*}\n",
       "\\item 3\n",
       "\\item 4\n",
       "\\item 56\n",
       "\\item 77\n",
       "\\item 4\n",
       "\\item 5\n",
       "\\end{enumerate*}\n"
      ],
      "text/markdown": [
       "1. 3\n",
       "2. 4\n",
       "3. 56\n",
       "4. 77\n",
       "5. 4\n",
       "6. 5\n",
       "\n",
       "\n"
      ],
      "text/plain": [
       "[1]  3  4 56 77  4  5"
      ]
     },
     "metadata": {},
     "output_type": "display_data"
    }
   ],
   "source": [
    "v1<- c(3,4,56,77,4,5)\n",
    "v1"
   ]
  },
  {
   "cell_type": "code",
   "execution_count": 27,
   "id": "7cb12ed9-7cad-43aa-995e-ceeaa0006af7",
   "metadata": {},
   "outputs": [
    {
     "data": {
      "text/html": [
       "'double'"
      ],
      "text/latex": [
       "'double'"
      ],
      "text/markdown": [
       "'double'"
      ],
      "text/plain": [
       "[1] \"double\""
      ]
     },
     "metadata": {},
     "output_type": "display_data"
    }
   ],
   "source": [
    "typeof(v1)"
   ]
  },
  {
   "cell_type": "code",
   "execution_count": 28,
   "id": "cfa1facc-49f1-4021-8085-b1fd5fea2955",
   "metadata": {},
   "outputs": [
    {
     "data": {
      "text/html": [
       "'double'"
      ],
      "text/latex": [
       "'double'"
      ],
      "text/markdown": [
       "'double'"
      ],
      "text/plain": [
       "[1] \"double\""
      ]
     },
     "metadata": {},
     "output_type": "display_data"
    },
    {
     "data": {
      "text/html": [
       "FALSE"
      ],
      "text/latex": [
       "FALSE"
      ],
      "text/markdown": [
       "FALSE"
      ],
      "text/plain": [
       "[1] FALSE"
      ]
     },
     "metadata": {},
     "output_type": "display_data"
    }
   ],
   "source": [
    "v2<- c(23,55,66,88,12)\n",
    "# v2<-as.vector(v2)\n",
    "typeof(v2)\n",
    "is.integer(v2)"
   ]
  },
  {
   "cell_type": "code",
   "execution_count": 29,
   "id": "158fc875-8a15-4c9c-8ece-0f2d7a36a140",
   "metadata": {},
   "outputs": [
    {
     "name": "stdout",
     "output_type": "stream",
     "text": [
      "[1] 23\n",
      "[1] 55\n",
      "[1] 66\n",
      "[1] 88\n",
      "[1] 12\n"
     ]
    }
   ],
   "source": [
    "for(x in v2){\n",
    "    print(x)\n",
    "}"
   ]
  },
  {
   "cell_type": "code",
   "execution_count": 30,
   "id": "2df6a8f9-4e25-4850-ae36-f20658050372",
   "metadata": {},
   "outputs": [
    {
     "data": {
      "text/html": [
       "\n",
       "<table width=\"100%\" summary=\"page for c {base}\"><tr><td>c {base}</td><td style=\"text-align: right;\">R Documentation</td></tr></table>\n",
       "\n",
       "<h2>Combine Values into a Vector or List</h2>\n",
       "\n",
       "<h3>Description</h3>\n",
       "\n",
       "<p>This is a generic function which combines its arguments.\n",
       "</p>\n",
       "<p>The default method combines its arguments to form a vector.\n",
       "All arguments are coerced to a common type which is the type\n",
       "of the returned value, and all attributes except names are removed.\n",
       "</p>\n",
       "\n",
       "\n",
       "<h3>Usage</h3>\n",
       "\n",
       "<pre>\n",
       "## S3 Generic function\n",
       "c(...)\n",
       "\n",
       "## Default S3 method:\n",
       "c(..., recursive = FALSE, use.names = TRUE)\n",
       "</pre>\n",
       "\n",
       "\n",
       "<h3>Arguments</h3>\n",
       "\n",
       "<table summary=\"R argblock\">\n",
       "<tr valign=\"top\"><td><code>...</code></td>\n",
       "<td>\n",
       "<p>objects to be concatenated.</p>\n",
       "</td></tr>\n",
       "<tr valign=\"top\"><td><code>recursive</code></td>\n",
       "<td>\n",
       "<p>logical.  If <code>recursive = TRUE</code>, the function\n",
       "recursively descends through lists (and pairlists) combining all\n",
       "their elements into a vector.</p>\n",
       "</td></tr>\n",
       "<tr valign=\"top\"><td><code>use.names</code></td>\n",
       "<td>\n",
       "<p>logical indicating if <code>names</code> should be\n",
       "preserved.</p>\n",
       "</td></tr>\n",
       "</table>\n",
       "\n",
       "\n",
       "<h3>Details</h3>\n",
       "\n",
       "<p>The output type is determined from the highest type of the components\n",
       "in the hierarchy NULL &lt; raw &lt; logical &lt; integer &lt; double &lt; complex &lt; character\n",
       "&lt; list &lt; expression.  Pairlists are treated as lists, whereas non-vector\n",
       "components (such names and calls) are treated as one-element lists\n",
       "which cannot be unlisted even if <code>recursive = TRUE</code>.\n",
       "</p>\n",
       "\n",
       "<p>Note that <code>factor</code>s are treated only via their\n",
       "internal <code>integer</code> codes; one proposal has been to use\n",
       "</p>\n",
       "<pre>   c.factor &lt;- function(..., recursive=TRUE) unlist(list(...), recursive=recursive)</pre>\n",
       "<p>if factor concatenation by <code>c()</code> should give a <code>factor</code>.\n",
       "</p>\n",
       "<p><code>c</code> is sometimes used for its side effect of removing attributes\n",
       "except names, for example to turn an array into a vector.\n",
       "<code>as.vector</code> is a more intuitive way to do this, but also drops\n",
       "names.  Note that methods other than the default are not required\n",
       "to do this (and they will almost certainly preserve a class attribute).\n",
       "</p>\n",
       "<p>This is a primitive function.\n",
       "</p>\n",
       "\n",
       "\n",
       "<h3>Value</h3>\n",
       "\n",
       "<p><code>NULL</code> or an expression or a vector of an appropriate mode.\n",
       "(With no arguments the value is <code>NULL</code>.)\n",
       "</p>\n",
       "\n",
       "\n",
       "<h3>S4 methods</h3>\n",
       "\n",
       "<p>This function is S4 generic, but with argument list\n",
       "<code>(x, ...)</code>.\n",
       "</p>\n",
       "\n",
       "\n",
       "<h3>References</h3>\n",
       "\n",
       "<p>Becker, R. A., Chambers, J. M. and Wilks, A. R. (1988)\n",
       "<em>The New S Language</em>.\n",
       "Wadsworth &amp; Brooks/Cole.\n",
       "</p>\n",
       "\n",
       "\n",
       "<h3>See Also</h3>\n",
       "\n",
       "<p><code>unlist</code> and <code>as.vector</code> to produce\n",
       "attribute-free vectors.\n",
       "</p>\n",
       "\n",
       "\n",
       "<h3>Examples</h3>\n",
       "\n",
       "<pre>\n",
       "c(1,7:9)\n",
       "c(1:5, 10.5, \"next\")\n",
       "\n",
       "## uses with a single argument to drop attributes\n",
       "x &lt;- 1:4\n",
       "names(x) &lt;- letters[1:4]\n",
       "x\n",
       "c(x)          # has names\n",
       "as.vector(x)  # no names\n",
       "dim(x) &lt;- c(2,2)\n",
       "x\n",
       "c(x)\n",
       "as.vector(x)\n",
       "\n",
       "## append to a list:\n",
       "ll &lt;- list(A = 1, c = \"C\")\n",
       "## do *not* use\n",
       "c(ll, d = 1:3) # which is == c(ll, as.list(c(d = 1:3)))\n",
       "## but rather\n",
       "c(ll, d = list(1:3))  # c() combining two lists\n",
       "\n",
       "c(list(A = c(B = 1)), recursive = TRUE)\n",
       "\n",
       "c(options(), recursive = TRUE)\n",
       "c(list(A = c(B = 1, C = 2), B = c(E = 7)), recursive = TRUE)\n",
       "</pre>\n",
       "\n",
       "<hr /><div style=\"text-align: center;\">[Package <em>base</em> version 3.6.1 ]</div>"
      ],
      "text/latex": [
       "\\inputencoding{utf8}\n",
       "\\HeaderA{c}{Combine Values into a Vector or List}{c}\n",
       "\\methaliasA{c.default}{c}{c.default}\n",
       "\\keyword{manip}{c}\n",
       "%\n",
       "\\begin{Description}\\relax\n",
       "This is a generic function which combines its arguments.\n",
       "\n",
       "The default method combines its arguments to form a vector.\n",
       "All arguments are coerced to a common type which is the type\n",
       "of the returned value, and all attributes except names are removed.\n",
       "\\end{Description}\n",
       "%\n",
       "\\begin{Usage}\n",
       "\\begin{verbatim}\n",
       "## S3 Generic function\n",
       "c(...)\n",
       "\n",
       "## Default S3 method:\n",
       "c(..., recursive = FALSE, use.names = TRUE)\n",
       "\\end{verbatim}\n",
       "\\end{Usage}\n",
       "%\n",
       "\\begin{Arguments}\n",
       "\\begin{ldescription}\n",
       "\\item[\\code{...}] objects to be concatenated.\n",
       "\\item[\\code{recursive}] logical.  If \\code{recursive = TRUE}, the function\n",
       "recursively descends through lists (and pairlists) combining all\n",
       "their elements into a vector.\n",
       "\\item[\\code{use.names}] logical indicating if \\code{\\LinkA{names}{names}} should be\n",
       "preserved.\n",
       "\\end{ldescription}\n",
       "\\end{Arguments}\n",
       "%\n",
       "\\begin{Details}\\relax\n",
       "The output type is determined from the highest type of the components\n",
       "in the hierarchy NULL < raw < logical < integer < double < complex < character\n",
       "< list < expression.  Pairlists are treated as lists, whereas non-vector\n",
       "components (such names and calls) are treated as one-element lists\n",
       "which cannot be unlisted even if \\code{recursive = TRUE}.\n",
       "\n",
       "\n",
       "Note that \\code{\\LinkA{factor}{factor}}s are treated only via their\n",
       "internal \\code{\\LinkA{integer}{integer}} codes; one proposal has been to use\n",
       "\\begin{alltt}   c.factor <- function(..., recursive=TRUE) unlist(list(...), recursive=recursive)\\end{alltt}\n",
       "\n",
       "if factor concatenation by \\code{c()} should give a \\code{\\LinkA{factor}{factor}}.\n",
       "\n",
       "\\code{c} is sometimes used for its side effect of removing attributes\n",
       "except names, for example to turn an array into a vector.\n",
       "\\code{as.vector} is a more intuitive way to do this, but also drops\n",
       "names.  Note that methods other than the default are not required\n",
       "to do this (and they will almost certainly preserve a class attribute).\n",
       "\n",
       "This is a \\LinkA{primitive}{primitive} function.\n",
       "\\end{Details}\n",
       "%\n",
       "\\begin{Value}\n",
       "\\code{NULL} or an expression or a vector of an appropriate mode.\n",
       "(With no arguments the value is \\code{NULL}.)\n",
       "\\end{Value}\n",
       "%\n",
       "\\begin{Section}{S4 methods}\n",
       "This function is S4 generic, but with argument list\n",
       "\\code{(x, ...)}.\n",
       "\\end{Section}\n",
       "%\n",
       "\\begin{References}\\relax\n",
       "Becker, R. A., Chambers, J. M. and Wilks, A. R. (1988)\n",
       "\\emph{The New S Language}.\n",
       "Wadsworth \\& Brooks/Cole.\n",
       "\\end{References}\n",
       "%\n",
       "\\begin{SeeAlso}\\relax\n",
       "\\code{\\LinkA{unlist}{unlist}} and \\code{\\LinkA{as.vector}{as.vector}} to produce\n",
       "attribute-free vectors.\n",
       "\\end{SeeAlso}\n",
       "%\n",
       "\\begin{Examples}\n",
       "\\begin{ExampleCode}\n",
       "c(1,7:9)\n",
       "c(1:5, 10.5, \"next\")\n",
       "\n",
       "## uses with a single argument to drop attributes\n",
       "x <- 1:4\n",
       "names(x) <- letters[1:4]\n",
       "x\n",
       "c(x)          # has names\n",
       "as.vector(x)  # no names\n",
       "dim(x) <- c(2,2)\n",
       "x\n",
       "c(x)\n",
       "as.vector(x)\n",
       "\n",
       "## append to a list:\n",
       "ll <- list(A = 1, c = \"C\")\n",
       "## do *not* use\n",
       "c(ll, d = 1:3) # which is == c(ll, as.list(c(d = 1:3)))\n",
       "## but rather\n",
       "c(ll, d = list(1:3))  # c() combining two lists\n",
       "\n",
       "c(list(A = c(B = 1)), recursive = TRUE)\n",
       "\n",
       "c(options(), recursive = TRUE)\n",
       "c(list(A = c(B = 1, C = 2), B = c(E = 7)), recursive = TRUE)\n",
       "\\end{ExampleCode}\n",
       "\\end{Examples}"
      ],
      "text/plain": [
       "c                     package:base                     R Documentation\n",
       "\n",
       "_\bC_\bo_\bm_\bb_\bi_\bn_\be _\bV_\ba_\bl_\bu_\be_\bs _\bi_\bn_\bt_\bo _\ba _\bV_\be_\bc_\bt_\bo_\br _\bo_\br _\bL_\bi_\bs_\bt\n",
       "\n",
       "_\bD_\be_\bs_\bc_\br_\bi_\bp_\bt_\bi_\bo_\bn:\n",
       "\n",
       "     This is a generic function which combines its arguments.\n",
       "\n",
       "     The default method combines its arguments to form a vector.  All\n",
       "     arguments are coerced to a common type which is the type of the\n",
       "     returned value, and all attributes except names are removed.\n",
       "\n",
       "_\bU_\bs_\ba_\bg_\be:\n",
       "\n",
       "     ## S3 Generic function\n",
       "     c(...)\n",
       "     \n",
       "     ## Default S3 method:\n",
       "     c(..., recursive = FALSE, use.names = TRUE)\n",
       "     \n",
       "_\bA_\br_\bg_\bu_\bm_\be_\bn_\bt_\bs:\n",
       "\n",
       "     ...: objects to be concatenated.\n",
       "\n",
       "recursive: logical.  If 'recursive = TRUE', the function recursively\n",
       "          descends through lists (and pairlists) combining all their\n",
       "          elements into a vector.\n",
       "\n",
       "use.names: logical indicating if 'names' should be preserved.\n",
       "\n",
       "_\bD_\be_\bt_\ba_\bi_\bl_\bs:\n",
       "\n",
       "     The output type is determined from the highest type of the\n",
       "     components in the hierarchy NULL < raw < logical < integer <\n",
       "     double < complex < character < list < expression.  Pairlists are\n",
       "     treated as lists, whereas non-vector components (such names and\n",
       "     calls) are treated as one-element lists which cannot be unlisted\n",
       "     even if 'recursive = TRUE'.\n",
       "\n",
       "     Note that 'factor's are treated only via their internal 'integer'\n",
       "     codes; one proposal has been to use\n",
       "     \n",
       "        c.factor <- function(..., recursive=TRUE) unlist(list(...), recursive=recursive)\n",
       "\n",
       "     if factor concatenation by 'c()' should give a 'factor'.\n",
       "\n",
       "     'c' is sometimes used for its side effect of removing attributes\n",
       "     except names, for example to turn an array into a vector.\n",
       "     'as.vector' is a more intuitive way to do this, but also drops\n",
       "     names.  Note that methods other than the default are not required\n",
       "     to do this (and they will almost certainly preserve a class\n",
       "     attribute).\n",
       "\n",
       "     This is a primitive function.\n",
       "\n",
       "_\bV_\ba_\bl_\bu_\be:\n",
       "\n",
       "     'NULL' or an expression or a vector of an appropriate mode.  (With\n",
       "     no arguments the value is 'NULL'.)\n",
       "\n",
       "_\bS_\b4 _\bm_\be_\bt_\bh_\bo_\bd_\bs:\n",
       "\n",
       "     This function is S4 generic, but with argument list '(x, ...)'.\n",
       "\n",
       "_\bR_\be_\bf_\be_\br_\be_\bn_\bc_\be_\bs:\n",
       "\n",
       "     Becker, R. A., Chambers, J. M. and Wilks, A. R. (1988) _The New S\n",
       "     Language_.  Wadsworth & Brooks/Cole.\n",
       "\n",
       "_\bS_\be_\be _\bA_\bl_\bs_\bo:\n",
       "\n",
       "     'unlist' and 'as.vector' to produce attribute-free vectors.\n",
       "\n",
       "_\bE_\bx_\ba_\bm_\bp_\bl_\be_\bs:\n",
       "\n",
       "     c(1,7:9)\n",
       "     c(1:5, 10.5, \"next\")\n",
       "     \n",
       "     ## uses with a single argument to drop attributes\n",
       "     x <- 1:4\n",
       "     names(x) <- letters[1:4]\n",
       "     x\n",
       "     c(x)          # has names\n",
       "     as.vector(x)  # no names\n",
       "     dim(x) <- c(2,2)\n",
       "     x\n",
       "     c(x)\n",
       "     as.vector(x)\n",
       "     \n",
       "     ## append to a list:\n",
       "     ll <- list(A = 1, c = \"C\")\n",
       "     ## do *not* use\n",
       "     c(ll, d = 1:3) # which is == c(ll, as.list(c(d = 1:3)))\n",
       "     ## but rather\n",
       "     c(ll, d = list(1:3))  # c() combining two lists\n",
       "     \n",
       "     c(list(A = c(B = 1)), recursive = TRUE)\n",
       "     \n",
       "     c(options(), recursive = TRUE)\n",
       "     c(list(A = c(B = 1, C = 2), B = c(E = 7)), recursive = TRUE)\n",
       "     "
      ]
     },
     "metadata": {},
     "output_type": "display_data"
    }
   ],
   "source": [
    "?c"
   ]
  },
  {
   "cell_type": "code",
   "execution_count": 31,
   "id": "155a9baa-edcb-4866-898f-8531994f9e3a",
   "metadata": {},
   "outputs": [
    {
     "data": {
      "text/html": [
       "No documentation for 'data.' in specified packages and libraries:\n",
       "you could try '??data.'"
      ],
      "text/latex": [
       "No documentation for 'data.' in specified packages and libraries:\n",
       "you could try '??data.'"
      ],
      "text/plain": [
       "No documentation for 'data.' in specified packages and libraries:\n",
       "you could try '??data.'"
      ]
     },
     "metadata": {},
     "output_type": "display_data"
    }
   ],
   "source": [
    "?data."
   ]
  },
  {
   "cell_type": "code",
   "execution_count": 32,
   "id": "d7993cf7-9ca3-4d97-b7b3-a6d5cf0df713",
   "metadata": {},
   "outputs": [
    {
     "data": {
      "text/html": [
       "<ol class=list-inline>\n",
       "\t<li>3</li>\n",
       "\t<li>4</li>\n",
       "\t<li>56</li>\n",
       "\t<li>77</li>\n",
       "\t<li>4</li>\n",
       "\t<li>5</li>\n",
       "</ol>\n"
      ],
      "text/latex": [
       "\\begin{enumerate*}\n",
       "\\item 3\n",
       "\\item 4\n",
       "\\item 56\n",
       "\\item 77\n",
       "\\item 4\n",
       "\\item 5\n",
       "\\end{enumerate*}\n"
      ],
      "text/markdown": [
       "1. 3\n",
       "2. 4\n",
       "3. 56\n",
       "4. 77\n",
       "5. 4\n",
       "6. 5\n",
       "\n",
       "\n"
      ],
      "text/plain": [
       "[1]  3  4 56 77  4  5"
      ]
     },
     "metadata": {},
     "output_type": "display_data"
    }
   ],
   "source": [
    "v1"
   ]
  },
  {
   "cell_type": "code",
   "execution_count": 33,
   "id": "1069ced8-ca33-4103-a80c-aeb24c15caba",
   "metadata": {},
   "outputs": [
    {
     "data": {
      "text/html": [
       "TRUE"
      ],
      "text/latex": [
       "TRUE"
      ],
      "text/markdown": [
       "TRUE"
      ],
      "text/plain": [
       "[1] TRUE"
      ]
     },
     "metadata": {},
     "output_type": "display_data"
    }
   ],
   "source": [
    "is.numeric(v1)"
   ]
  },
  {
   "cell_type": "code",
   "execution_count": 34,
   "id": "b25b7b88-7822-4621-9fcb-7541cb738b95",
   "metadata": {},
   "outputs": [
    {
     "data": {
      "text/html": [
       "FALSE"
      ],
      "text/latex": [
       "FALSE"
      ],
      "text/markdown": [
       "FALSE"
      ],
      "text/plain": [
       "[1] FALSE"
      ]
     },
     "metadata": {},
     "output_type": "display_data"
    }
   ],
   "source": [
    "is.null(v1)"
   ]
  },
  {
   "cell_type": "code",
   "execution_count": 35,
   "id": "7ab9e662-30d6-4ba9-8252-3834d88a14c4",
   "metadata": {},
   "outputs": [
    {
     "data": {
      "text/html": [
       "4"
      ],
      "text/latex": [
       "4"
      ],
      "text/markdown": [
       "4"
      ],
      "text/plain": [
       "[1] 4"
      ]
     },
     "metadata": {},
     "output_type": "display_data"
    }
   ],
   "source": [
    "v1[5]"
   ]
  },
  {
   "cell_type": "code",
   "execution_count": 36,
   "id": "5e7e8e8e-cb1a-4b54-abfc-6e37762329dd",
   "metadata": {},
   "outputs": [
    {
     "data": {
      "text/html": [
       "<ol class=list-inline>\n",
       "\t<li>3</li>\n",
       "\t<li>4</li>\n",
       "\t<li>4</li>\n",
       "\t<li>5</li>\n",
       "\t<li>56</li>\n",
       "\t<li>77</li>\n",
       "</ol>\n"
      ],
      "text/latex": [
       "\\begin{enumerate*}\n",
       "\\item 3\n",
       "\\item 4\n",
       "\\item 4\n",
       "\\item 5\n",
       "\\item 56\n",
       "\\item 77\n",
       "\\end{enumerate*}\n"
      ],
      "text/markdown": [
       "1. 3\n",
       "2. 4\n",
       "3. 4\n",
       "4. 5\n",
       "5. 56\n",
       "6. 77\n",
       "\n",
       "\n"
      ],
      "text/plain": [
       "[1]  3  4  4  5 56 77"
      ]
     },
     "metadata": {},
     "output_type": "display_data"
    }
   ],
   "source": [
    "sort(v1)"
   ]
  },
  {
   "cell_type": "markdown",
   "id": "9fc95ab8-798f-4d0e-9e44-2ab8ca7589fd",
   "metadata": {},
   "source": [
    "## access specific intems within vector"
   ]
  },
  {
   "cell_type": "code",
   "execution_count": 37,
   "id": "e46c3dc8-7435-405c-b0b1-ca594f8f888a",
   "metadata": {},
   "outputs": [
    {
     "data": {
      "text/html": [
       "<ol class=list-inline>\n",
       "\t<li>4</li>\n",
       "\t<li>56</li>\n",
       "\t<li>77</li>\n",
       "\t<li>4</li>\n",
       "\t<li>5</li>\n",
       "</ol>\n"
      ],
      "text/latex": [
       "\\begin{enumerate*}\n",
       "\\item 4\n",
       "\\item 56\n",
       "\\item 77\n",
       "\\item 4\n",
       "\\item 5\n",
       "\\end{enumerate*}\n"
      ],
      "text/markdown": [
       "1. 4\n",
       "2. 56\n",
       "3. 77\n",
       "4. 4\n",
       "5. 5\n",
       "\n",
       "\n"
      ],
      "text/plain": [
       "[1]  4 56 77  4  5"
      ]
     },
     "metadata": {},
     "output_type": "display_data"
    }
   ],
   "source": [
    "v1[-1]"
   ]
  },
  {
   "cell_type": "code",
   "execution_count": 38,
   "id": "5235fb0c-2362-4ffc-95f0-98ced759a891",
   "metadata": {},
   "outputs": [
    {
     "data": {
      "text/html": [
       "<ol class=list-inline>\n",
       "\t<li>3</li>\n",
       "\t<li>4</li>\n",
       "\t<li>56</li>\n",
       "\t<li>77</li>\n",
       "</ol>\n"
      ],
      "text/latex": [
       "\\begin{enumerate*}\n",
       "\\item 3\n",
       "\\item 4\n",
       "\\item 56\n",
       "\\item 77\n",
       "\\end{enumerate*}\n"
      ],
      "text/markdown": [
       "1. 3\n",
       "2. 4\n",
       "3. 56\n",
       "4. 77\n",
       "\n",
       "\n"
      ],
      "text/plain": [
       "[1]  3  4 56 77"
      ]
     },
     "metadata": {},
     "output_type": "display_data"
    }
   ],
   "source": [
    "# range of index\n",
    "v1[1:4]"
   ]
  },
  {
   "cell_type": "code",
   "execution_count": 39,
   "id": "2a541cc8-5b77-421c-8938-6906b96c4634",
   "metadata": {},
   "outputs": [
    {
     "data": {
      "text/html": [
       "<ol class=list-inline>\n",
       "\t<li>56</li>\n",
       "\t<li>4</li>\n",
       "</ol>\n"
      ],
      "text/latex": [
       "\\begin{enumerate*}\n",
       "\\item 56\n",
       "\\item 4\n",
       "\\end{enumerate*}\n"
      ],
      "text/markdown": [
       "1. 56\n",
       "2. 4\n",
       "\n",
       "\n"
      ],
      "text/plain": [
       "[1] 56  4"
      ]
     },
     "metadata": {},
     "output_type": "display_data"
    }
   ],
   "source": [
    "# specific index \n",
    "v1[c(3,5)]"
   ]
  },
  {
   "cell_type": "code",
   "execution_count": 40,
   "id": "62522c59-fd28-41c7-b5bc-ea160800611b",
   "metadata": {},
   "outputs": [
    {
     "data": {
      "text/html": [
       "<ol class=list-inline>\n",
       "\t<li>3</li>\n",
       "\t<li>4</li>\n",
       "\t<li>56</li>\n",
       "\t<li>77</li>\n",
       "\t<li>4</li>\n",
       "\t<li>5</li>\n",
       "</ol>\n"
      ],
      "text/latex": [
       "\\begin{enumerate*}\n",
       "\\item 3\n",
       "\\item 4\n",
       "\\item 56\n",
       "\\item 77\n",
       "\\item 4\n",
       "\\item 5\n",
       "\\end{enumerate*}\n"
      ],
      "text/markdown": [
       "1. 3\n",
       "2. 4\n",
       "3. 56\n",
       "4. 77\n",
       "5. 4\n",
       "6. 5\n",
       "\n",
       "\n"
      ],
      "text/plain": [
       "[1]  3  4 56 77  4  5"
      ]
     },
     "metadata": {},
     "output_type": "display_data"
    }
   ],
   "source": [
    "v1"
   ]
  },
  {
   "cell_type": "markdown",
   "id": "821ff46a-205f-46cf-8d8d-ed4690179ca8",
   "metadata": {},
   "source": [
    "# Matrix \n",
    "A matrix is a 2d data set with columns and rows"
   ]
  },
  {
   "cell_type": "code",
   "execution_count": 41,
   "id": "3267afb2-ff48-4256-9c11-d7184c3cc33b",
   "metadata": {},
   "outputs": [
    {
     "name": "stdout",
     "output_type": "stream",
     "text": [
      "     [,1] [,2] [,3]\n",
      "[1,]    1    3    5\n",
      "[2,]    2    4    7\n"
     ]
    }
   ],
   "source": [
    "thismatrix<- matrix(c(1,2,3,4,5,7), ncol = 3, nrow = 2)\n",
    "print(thismatrix)"
   ]
  },
  {
   "cell_type": "code",
   "execution_count": 42,
   "id": "0cc81e91-d505-417e-9ced-c9648f436ca9",
   "metadata": {},
   "outputs": [
    {
     "data": {
      "text/html": [
       "<table>\n",
       "<tbody>\n",
       "\t<tr><td>1</td><td>3</td><td>5</td></tr>\n",
       "\t<tr><td>2</td><td>4</td><td>7</td></tr>\n",
       "</tbody>\n",
       "</table>\n"
      ],
      "text/latex": [
       "\\begin{tabular}{lll}\n",
       "\t 1 & 3 & 5\\\\\n",
       "\t 2 & 4 & 7\\\\\n",
       "\\end{tabular}\n"
      ],
      "text/markdown": [
       "\n",
       "| 1 | 3 | 5 |\n",
       "| 2 | 4 | 7 |\n",
       "\n"
      ],
      "text/plain": [
       "     [,1] [,2] [,3]\n",
       "[1,] 1    3    5   \n",
       "[2,] 2    4    7   "
      ]
     },
     "metadata": {},
     "output_type": "display_data"
    }
   ],
   "source": [
    "thismatrix"
   ]
  },
  {
   "cell_type": "markdown",
   "id": "5bf96122-535e-41fc-ad2b-d798783d9c0b",
   "metadata": {},
   "source": [
    "# Arrays\n",
    "array can have more than 2 dimensions"
   ]
  },
  {
   "cell_type": "code",
   "execution_count": 43,
   "id": "01f0e2db-70e9-4823-a113-3254577a0ecb",
   "metadata": {},
   "outputs": [
    {
     "data": {
      "text/html": [
       "<ol class=list-inline>\n",
       "\t<li>1</li>\n",
       "\t<li>2</li>\n",
       "\t<li>3</li>\n",
       "\t<li>4</li>\n",
       "\t<li>5</li>\n",
       "\t<li>6</li>\n",
       "\t<li>7</li>\n",
       "\t<li>8</li>\n",
       "\t<li>9</li>\n",
       "\t<li>10</li>\n",
       "\t<li>11</li>\n",
       "\t<li>12</li>\n",
       "\t<li>13</li>\n",
       "\t<li>14</li>\n",
       "\t<li>15</li>\n",
       "\t<li>16</li>\n",
       "\t<li>17</li>\n",
       "\t<li>18</li>\n",
       "\t<li>19</li>\n",
       "\t<li>20</li>\n",
       "\t<li>21</li>\n",
       "\t<li>22</li>\n",
       "\t<li>23</li>\n",
       "\t<li>24</li>\n",
       "</ol>\n"
      ],
      "text/latex": [
       "\\begin{enumerate*}\n",
       "\\item 1\n",
       "\\item 2\n",
       "\\item 3\n",
       "\\item 4\n",
       "\\item 5\n",
       "\\item 6\n",
       "\\item 7\n",
       "\\item 8\n",
       "\\item 9\n",
       "\\item 10\n",
       "\\item 11\n",
       "\\item 12\n",
       "\\item 13\n",
       "\\item 14\n",
       "\\item 15\n",
       "\\item 16\n",
       "\\item 17\n",
       "\\item 18\n",
       "\\item 19\n",
       "\\item 20\n",
       "\\item 21\n",
       "\\item 22\n",
       "\\item 23\n",
       "\\item 24\n",
       "\\end{enumerate*}\n"
      ],
      "text/markdown": [
       "1. 1\n",
       "2. 2\n",
       "3. 3\n",
       "4. 4\n",
       "5. 5\n",
       "6. 6\n",
       "7. 7\n",
       "8. 8\n",
       "9. 9\n",
       "10. 10\n",
       "11. 11\n",
       "12. 12\n",
       "13. 13\n",
       "14. 14\n",
       "15. 15\n",
       "16. 16\n",
       "17. 17\n",
       "18. 18\n",
       "19. 19\n",
       "20. 20\n",
       "21. 21\n",
       "22. 22\n",
       "23. 23\n",
       "24. 24\n",
       "\n",
       "\n"
      ],
      "text/plain": [
       " [1]  1  2  3  4  5  6  7  8  9 10 11 12 13 14 15 16 17 18 19 20 21 22 23 24"
      ]
     },
     "metadata": {},
     "output_type": "display_data"
    }
   ],
   "source": [
    "thisarray <-c(1:24)\n",
    "thisarray"
   ]
  },
  {
   "cell_type": "code",
   "execution_count": 44,
   "id": "dd0ea11d-60ee-4aa1-bd6a-658e4046138c",
   "metadata": {},
   "outputs": [
    {
     "name": "stdout",
     "output_type": "stream",
     "text": [
      ", , 1\n",
      "\n",
      "     [,1] [,2] [,3]\n",
      "[1,]    1    3    5\n",
      "[2,]    2    4    6\n",
      "\n",
      ", , 2\n",
      "\n",
      "     [,1] [,2] [,3]\n",
      "[1,]    7    9   11\n",
      "[2,]    8   10   12\n",
      "\n"
     ]
    }
   ],
   "source": [
    "multiArray<-array(thisarray, dim=c(2,3,2))\n",
    "print(multiArray)"
   ]
  },
  {
   "cell_type": "code",
   "execution_count": 45,
   "id": "dd748840-04d4-4e12-b047-b099fca3adef",
   "metadata": {},
   "outputs": [
    {
     "data": {
      "text/html": [
       "TRUE"
      ],
      "text/latex": [
       "TRUE"
      ],
      "text/markdown": [
       "TRUE"
      ],
      "text/plain": [
       "[1] TRUE"
      ]
     },
     "metadata": {},
     "output_type": "display_data"
    }
   ],
   "source": [
    "numbers=c(1L,2L,3L,4L)\n",
    "is.integer(numbers)"
   ]
  },
  {
   "cell_type": "code",
   "execution_count": 46,
   "id": "884d6f2e-f238-447d-9462-b93f834b3abe",
   "metadata": {},
   "outputs": [
    {
     "data": {
      "text/html": [
       "TRUE"
      ],
      "text/latex": [
       "TRUE"
      ],
      "text/markdown": [
       "TRUE"
      ],
      "text/plain": [
       "[1] TRUE"
      ]
     },
     "metadata": {},
     "output_type": "display_data"
    }
   ],
   "source": [
    "a=5.0L\n",
    "is.integer(a)"
   ]
  },
  {
   "cell_type": "markdown",
   "id": "ee385645-b356-454d-a3ba-54a418a00fe2",
   "metadata": {},
   "source": [
    "# R Bootcamp Session 3\n",
    "data.table\n",
    "this data.table is an alternative to R's default data.frame to handle tabular data\n",
    "the reason its so popular is because of the speed od execution on large data and the tense syntax"
   ]
  },
  {
   "cell_type": "code",
   "execution_count": 50,
   "id": "a4643233-19a3-412e-ad1c-991df7f41911",
   "metadata": {},
   "outputs": [],
   "source": [
    "library(data.table)"
   ]
  },
  {
   "cell_type": "code",
   "execution_count": 51,
   "id": "1dc24a67-cd2e-461a-8070-a0bed705c5d8",
   "metadata": {},
   "outputs": [
    {
     "data": {
      "text/html": [
       "\n",
       "<table width=\"100%\" summary=\"page for fread {data.table}\"><tr><td>fread {data.table}</td><td style=\"text-align: right;\">R Documentation</td></tr></table>\n",
       "\n",
       "<h2> Fast and friendly file finagler </h2>\n",
       "\n",
       "<h3>Description</h3>\n",
       "\n",
       "<p>Similar to <code>read.table</code> but faster and more convenient. All controls such as <code>sep</code>, <code>colClasses</code> and <code>nrows</code> are automatically detected. <code>bit64::integer64</code> types are also detected and read directly without needing to read as character before converting.\n",
       "</p>\n",
       "<p>Dates are read as character currently. They can be converted afterwards using the excellent <code>fasttime</code> package or standard base functions.\n",
       "</p>\n",
       "<p>'fread' is for <em>regular</em> delimited files; i.e., where every row has the same number of columns. In future, secondary separator (<code>sep2</code>) may be specified <em>within</em> each column. Such columns will be read as type <code>list</code> where each cell is itself a vector.\n",
       "</p>\n",
       "\n",
       "\n",
       "<h3>Usage</h3>\n",
       "\n",
       "<pre>\n",
       "fread(input, file, text, cmd, sep=\"auto\", sep2=\"auto\", dec=\".\", quote=\"\\\"\",\n",
       "nrows=Inf, header=\"auto\",\n",
       "na.strings=getOption(\"datatable.na.strings\",\"NA\"),  # due to change to \"\"; see NEWS\n",
       "stringsAsFactors=FALSE, verbose=getOption(\"datatable.verbose\", FALSE),\n",
       "skip=\"__auto__\", select=NULL, drop=NULL, colClasses=NULL,\n",
       "integer64=getOption(\"datatable.integer64\", \"integer64\"),\n",
       "col.names,\n",
       "check.names=FALSE, encoding=\"unknown\",\n",
       "strip.white=TRUE, fill=FALSE, blank.lines.skip=FALSE,\n",
       "key=NULL, index=NULL,\n",
       "showProgress=getOption(\"datatable.showProgress\", interactive()),\n",
       "data.table=getOption(\"datatable.fread.datatable\", TRUE),\n",
       "nThread=getDTthreads(verbose),\n",
       "logical01=getOption(\"datatable.logical01\", FALSE),  # due to change to TRUE; see NEWS\n",
       "keepLeadingZeros = getOption(\"datatable.keepLeadingZeros\", FALSE),\n",
       "autostart=NA\n",
       ")\n",
       "</pre>\n",
       "\n",
       "\n",
       "<h3>Arguments</h3>\n",
       "\n",
       "<table summary=\"R argblock\">\n",
       "<tr valign=\"top\"><td><code>input</code></td>\n",
       "<td>\n",
       "<p> A single character string. The value is inspected and deferred to either <code>file=</code> (if no \\n present), <code>text=</code> (if at least one \\n is present) or <code>cmd=</code> (if no \\n is present, at least one space is present, and it isn't a file name). Exactly one of <code>input=</code>, <code>file=</code>, <code>text=</code>, or <code>cmd=</code> should be used in the same call. </p>\n",
       "</td></tr>\n",
       "<tr valign=\"top\"><td><code>file</code></td>\n",
       "<td>\n",
       "<p> File name in working directory, path to file (passed through <code>path.expand</code> for convenience), or a URL starting http://, file://, etc. Compressed files ending <code>.gz</code> and <code>.bz2</code> are supported if the <code>R.utils</code> package is installed. </p>\n",
       "</td></tr>\n",
       "<tr valign=\"top\"><td><code>text</code></td>\n",
       "<td>\n",
       "<p> The input data itself as a character vector of one or more lines, for example as returned by <code>readLines()</code>. </p>\n",
       "</td></tr>\n",
       "<tr valign=\"top\"><td><code>cmd</code></td>\n",
       "<td>\n",
       "<p> A shell command that pre-processes the file; e.g. <code>fread(cmd=paste(\"grep\",word,\"filename\")</code>. </p>\n",
       "</td></tr>\n",
       "<tr valign=\"top\"><td><code>sep</code></td>\n",
       "<td>\n",
       "<p> The separator between columns. Defaults to the character in the set <code>[,\\t |;:]</code> that separates the sample of rows into the most number of lines with the same number of fields. Use <code>NULL</code> or <code>\"\"</code> to specify no separator; i.e. each line a single character column like <code>base::readLines</code> does.</p>\n",
       "</td></tr>\n",
       "<tr valign=\"top\"><td><code>sep2</code></td>\n",
       "<td>\n",
       "<p> The separator <em>within</em> columns. A <code>list</code> column will be returned where each cell is a vector of values. This is much faster using less working memory than <code>strsplit</code> afterwards or similar techniques. For each column <code>sep2</code> can be different and is the first character in the same set above [<code>,\\t |;</code>], other than <code>sep</code>, that exists inside each field outside quoted regions in the sample. NB: <code>sep2</code> is not yet implemented. </p>\n",
       "</td></tr>\n",
       "<tr valign=\"top\"><td><code>nrows</code></td>\n",
       "<td>\n",
       "<p> The maximum number of rows to read. Unlike <code>read.table</code>, you do not need to set this to an estimate of the number of rows in the file for better speed because that is already automatically determined by <code>fread</code> almost instantly using the large sample of lines. 'nrows=0' returns the column names and typed empty columns determined by the large sample; useful for a dry run of a large file or to quickly check format consistency of a set of files before starting to read any of them. </p>\n",
       "</td></tr>\n",
       "<tr valign=\"top\"><td><code>header</code></td>\n",
       "<td>\n",
       "<p> Does the first data line contain column names? Defaults according to whether every non-empty field on the first data line is type character. If so, or TRUE is supplied, any empty column names are given a default name. </p>\n",
       "</td></tr>\n",
       "<tr valign=\"top\"><td><code>na.strings</code></td>\n",
       "<td>\n",
       "<p> A character vector of strings which are to be interpreted as <code>NA</code> values. By default, <code>\",,\"</code> for columns of all types, including type 'character' is read as <code>NA</code> for consistency. <code>,\"\",</code> is unambiguous and read as an empty string. To read <code>,NA,</code> as <code>NA</code>, set <code>na.strings=\"NA\"</code>. To read <code>,,</code> as blank string <code>\"\"</code>, set <code>na.strings=NULL</code>. When they occur in the file, the strings in <code>na.strings</code> should not appear quoted since that is how the string literal <code>,\"NA\",</code> is distinguished from <code>,NA,</code>, for example, when <code>na.strings=\"NA\"</code>. </p>\n",
       "</td></tr>\n",
       "<tr valign=\"top\"><td><code>stringsAsFactors</code></td>\n",
       "<td>\n",
       "<p> Convert all character columns to factors? </p>\n",
       "</td></tr>\n",
       "<tr valign=\"top\"><td><code>verbose</code></td>\n",
       "<td>\n",
       "<p> Be chatty and report timings? </p>\n",
       "</td></tr>\n",
       "<tr valign=\"top\"><td><code>skip</code></td>\n",
       "<td>\n",
       "<p> If 0 (default) start on the first line and from there finds the first row with a consistent number of columns. This automatically avoids irregular header information before the column names row. <code>skip&gt;0</code> means ignore the first <code>skip</code> rows manually. <code>skip=\"string\"</code> searches for <code>\"string\"</code> in the file (e.g. a substring of the column names row) and starts on that line (inspired by read.xls in package gdata). </p>\n",
       "</td></tr>\n",
       "<tr valign=\"top\"><td><code>select</code></td>\n",
       "<td>\n",
       "<p> Vector of column names or numbers to keep, drop the rest. </p>\n",
       "</td></tr>\n",
       "<tr valign=\"top\"><td><code>drop</code></td>\n",
       "<td>\n",
       "<p> Vector of column names or numbers to drop, keep the rest. </p>\n",
       "</td></tr>\n",
       "<tr valign=\"top\"><td><code>colClasses</code></td>\n",
       "<td>\n",
       "<p> A character vector of classes (named or unnamed), as read.csv. Or a named list of vectors of column names or numbers, see examples. colClasses in fread is intended for rare overrides, not for routine use. fread will only promote a column to a higher type if colClasses requests it. It won't downgrade a column to a lower type since NAs would result. You have to coerce such columns afterwards yourself, if you really require data loss. </p>\n",
       "</td></tr>\n",
       "<tr valign=\"top\"><td><code>integer64</code></td>\n",
       "<td>\n",
       "<p> &quot;integer64&quot; (default) reads columns detected as containing integers larger than 2^31 as type <code>bit64::integer64</code>. Alternatively, <code>\"double\"|\"numeric\"</code> reads as <code>base::read.csv</code> does; i.e., possibly with loss of precision and if so silently. Or, &quot;character&quot;. </p>\n",
       "</td></tr>\n",
       "<tr valign=\"top\"><td><code>dec</code></td>\n",
       "<td>\n",
       "<p> The decimal separator as in <code>base::read.csv</code>. If not &quot;.&quot; (default) then usually &quot;,&quot;. See details. </p>\n",
       "</td></tr>\n",
       "<tr valign=\"top\"><td><code>col.names</code></td>\n",
       "<td>\n",
       "<p> A vector of optional names for the variables (columns). The default is to use the header column if present or detected, or if not &quot;V&quot; followed by the column number. This is applied after <code>check.names</code> and before <code>key</code> and <code>index</code>. </p>\n",
       "</td></tr>\n",
       "<tr valign=\"top\"><td><code>check.names</code></td>\n",
       "<td>\n",
       "<p>default is <code>FALSE</code>. If <code>TRUE</code> then the names of the variables in the <code>data.table</code> are checked to ensure that they are syntactically valid variable names. If necessary they are adjusted (by <code>make.names</code>) so that they are, and also to ensure that there are no duplicates.</p>\n",
       "</td></tr>\n",
       "<tr valign=\"top\"><td><code>encoding</code></td>\n",
       "<td>\n",
       "<p> default is <code>\"unknown\"</code>. Other possible options are <code>\"UTF-8\"</code> and <code>\"Latin-1\"</code>.  Note: it is not used to re-encode the input, rather enables handling of encoded strings in their native encoding. </p>\n",
       "</td></tr>\n",
       "<tr valign=\"top\"><td><code>quote</code></td>\n",
       "<td>\n",
       "<p> By default (<code>\"\\\"\"</code>), if a field starts with a double quote, <code>fread</code> handles embedded quotes robustly as explained under <code>Details</code>. If it fails, then another attempt is made to read the field <em>as is</em>, i.e., as if quotes are disabled. By setting <code>quote=\"\"</code>, the field is always read as if quotes are disabled. It is not expected to ever need to pass anything other than \\&quot;\\&quot; to quote; i.e., to turn it off. </p>\n",
       "</td></tr>\n",
       "<tr valign=\"top\"><td><code>strip.white</code></td>\n",
       "<td>\n",
       "<p> default is <code>TRUE</code>. Strips leading and trailing whitespaces of unquoted fields. If <code>FALSE</code>, only header trailing spaces are removed. </p>\n",
       "</td></tr>\n",
       "<tr valign=\"top\"><td><code>fill</code></td>\n",
       "<td>\n",
       "<p>logical (default is <code>FALSE</code>). If <code>TRUE</code> then in case the rows have unequal length, blank fields are implicitly filled.</p>\n",
       "</td></tr>\n",
       "<tr valign=\"top\"><td><code>blank.lines.skip</code></td>\n",
       "<td>\n",
       "<p><code>logical</code>, default is <code>FALSE</code>. If <code>TRUE</code> blank lines in the input are ignored.</p>\n",
       "</td></tr>\n",
       "<tr valign=\"top\"><td><code>key</code></td>\n",
       "<td>\n",
       "<p>Character vector of one or more column names which is passed to <code>setkey</code>. It may be a single comma separated string such as <code>key=\"x,y,z\"</code>, or a vector of names such as <code>key=c(\"x\",\"y\",\"z\")</code>. Only valid when argument <code>data.table=TRUE</code>. Where applicable, this should refer to column names given in <code>col.names</code>. </p>\n",
       "</td></tr>\n",
       "<tr valign=\"top\"><td><code>index</code></td>\n",
       "<td>\n",
       "<p> Character vector or list of character vectors of one or more column names which is passed to <code>setindexv</code>. As with <code>key</code>, comma-separated notation like <code>index=\"x,y,z\"</code> is accepted for convenience. Only valid when argument <code>data.table=TRUE</code>. Where applicable, this should refer to column names given in <code>col.names</code>. </p>\n",
       "</td></tr>\n",
       "<tr valign=\"top\"><td><code>showProgress</code></td>\n",
       "<td>\n",
       " <p><code>TRUE</code> displays progress on the console if the ETA is greater than 3 seconds. It is produced in fread's C code where the very nice (but R level) txtProgressBar and tkProgressBar are not easily available. </p>\n",
       "</td></tr>\n",
       "<tr valign=\"top\"><td><code>data.table</code></td>\n",
       "<td>\n",
       "<p> TRUE returns a <code>data.table</code>. FALSE returns a <code>data.frame</code>. The default for this argument can be changed with <code>options(datatable.fread.datatable=FALSE)</code>.</p>\n",
       "</td></tr>\n",
       "<tr valign=\"top\"><td><code>nThread</code></td>\n",
       "<td>\n",
       "<p>The number of threads to use. Experiment to see what works best for your data on your hardware.</p>\n",
       "</td></tr>\n",
       "<tr valign=\"top\"><td><code>logical01</code></td>\n",
       "<td>\n",
       "<p>If TRUE a column containing only 0s and 1s will be read as logical, otherwise as integer.</p>\n",
       "</td></tr>\n",
       "<tr valign=\"top\"><td><code>keepLeadingZeros</code></td>\n",
       "<td>\n",
       "<p>If TRUE a column containing numeric data with leading zeros will be read as character, otherwise leading zeros will be removed and converted to numeric.</p>\n",
       "</td></tr>\n",
       "<tr valign=\"top\"><td><code>autostart</code></td>\n",
       "<td>\n",
       "<p> Deprecated and ignored with warning. Please use <code>skip</code> instead. </p>\n",
       "</td></tr>\n",
       "</table>\n",
       "\n",
       "\n",
       "<h3>Details</h3>\n",
       "\n",
       "<p>A sample of 10,000 rows is used for a very good estimate of column types. 100 contiguous rows are read from 100 equally spaced points throughout the file including the beginning, middle and the very end. This results in a better guess when a column changes type later in the file (e.g. blank at the beginning/only populated near the end, or 001 at the start but 0A0 later on). This very good type guess enables a single allocation of the correct type up front once for speed, memory efficiency and convenience of avoiding the need to set <code>colClasses</code> after an error. Even though the sample is large and jumping over the file, it is almost instant regardless of the size of the file because a lazy on-demand memory map is used. If a jump lands inside a quoted field containing newlines, each newline is tested until 5 lines are found following it with the expected number of fields. The lowest type for each column is chosen from the ordered list: <code>logical</code>, <code>integer</code>, <code>integer64</code>, <code>double</code>, <code>character</code>. Rarely, the file may contain data of a higher type in rows outside the sample (referred to as an out-of-sample type exception). In this event <code>fread</code> will <em>automatically</em> reread just those columns from the beginning so that you don't have the inconvenience of having to set <code>colClasses</code> yourself; particularly helpful if you have a lot of columns. Such columns must be read from the beginning to correctly distinguish &quot;00&quot; from &quot;000&quot; when those have both been interpreted as integer 0 due to the sample but 00A occurs out of sample. Set <code>verbose=TRUE</code> to see a detailed report of the logic deployed to read your file.\n",
       "</p>\n",
       "<p>There is no line length limit, not even a very large one. Since we are encouraging <code>list</code> columns (i.e. <code>sep2</code>) this has the potential to encourage longer line lengths. So the approach of scanning each line into a buffer first and then rescanning that buffer is not used. There are no buffers used in <code>fread</code>'s C code at all. The field width limit is limited by R itself: the maximum width of a character string (currently 2^31-1 bytes, 2GB).\n",
       "</p>\n",
       "<p>The filename extension (such as .csv) is irrelevant for &quot;auto&quot; <code>sep</code> and <code>sep2</code>. Separator detection is entirely driven by the file contents. This can be useful when loading a set of different files which may not be named consistently, or may not have the extension .csv despite being csv. Some datasets have been collected over many years, one file per day for example. Sometimes the file name format has changed at some point in the past or even the format of the file itself. So the idea is that you can loop <code>fread</code> through a set of files and as long as each file is regular and delimited, <code>fread</code> can read them all. Whether they all stack is another matter but at least each one is read quickly without you needing to vary <code>colClasses</code> in <code>read.table</code> or <code>read.csv</code>.\n",
       "</p>\n",
       "<p>If an empty line is encountered then reading stops there with warning if any text exists after the empty line such as a footer. The first line of any text discarded is included in the warning message. Unless, it is single-column input. In that case blank lines are significant (even at the very end) and represent NA in the single column. So that <code>fread(fwrite(DT))==DT</code>. This default behaviour can be controlled using <code>blank.lines.skip=TRUE|FALSE</code>.\n",
       "</p>\n",
       "<p><b>Line endings:</b> All known line endings are detected automatically: <code>\\n</code> (*NIX including Mac), <code>\\r\\n</code> (Windows CRLF), <code>\\r</code> (old Mac) and <code>\\n\\r</code> (just in case). There is no need to convert input files first. <code>fread</code> running on any architecture will read a file from any architecture. Both <code>\\r</code> and <code>\\n</code> may be embedded in character strings (including column names) provided the field is quoted.\n",
       "</p>\n",
       "<p><b>Decimal separator and locale:</b> <code>fread(...,dec=\",\")</code> should just work. <code>fread</code> uses C function <code>strtod</code> to read numeric data; e.g., <code>1.23</code> or <code>1,23</code>. <code>strtod</code> retrieves the decimal separator (<code>.</code> or <code>,</code> usually) from the locale of the R session rather than as an argument passed to the <code>strtod</code> function. So for <code>fread(...,dec=\",\")</code> to work, <code>fread</code> changes this (and only this) R session's locale temporarily to a locale which provides the desired decimal separator.\n",
       "</p>\n",
       "<p>On Windows, &quot;French_France.1252&quot; is tried which should be available as standard (any locale with comma decimal separator would suffice) and on unix &quot;fr_FR.utf8&quot; (you may need to install this locale on unix). <code>fread()</code> is very careful to set the locale back again afterwards, even if the function fails with an error. The choice of locale is determined by <code>options()$datatable.fread.dec.locale</code>. This may be a <em>vector</em> of locale names and if so they will be tried in turn until the desired <code>dec</code> is obtained; thus allowing more than two different decimal separators to be selected. This is a new feature in v1.9.6 and is experimental. In case of problems, turn it off with <code>options(datatable.fread.dec.experiment=FALSE)</code>.\n",
       "</p>\n",
       "<p><b>Quotes:</b>\n",
       "</p>\n",
       "<p>When <code>quote</code> is a single character,\n",
       "</p>\n",
       "\n",
       "<ul>\n",
       "<li><p>Spaces and other whitespace (other than <code>sep</code> and <code>\\n</code>) may appear in unquoted character fields, e.g., <code>...,2,Joe Bloggs,3.14,...</code>.\n",
       "</p>\n",
       "</li>\n",
       "<li><p>When <code>character</code> columns are <em>quoted</em>, they must start and end with that quoting character immediately followed by <code>sep</code> or <code>\\n</code>, e.g., <code>...,2,\"Joe Bloggs\",3.14,...</code>.\n",
       "</p>\n",
       "<p>In essence quoting character fields are <em>required</em> only if <code>sep</code> or <code>\\n</code> appears in the string value. Quoting may be used to signify that numeric data should be read as text. Unescaped quotes may be present in a quoted field, e.g., <code>...,2,\"Joe, \"Bloggs\"\",3.14,...</code>, as well as escaped quotes, e.g., <code>...,2,\"Joe \\\",Bloggs\\\"\",3.14,...</code>.\n",
       "</p>\n",
       "<p>If an embedded quote is followed by the separator inside a quoted field, the embedded quotes up to that point in that field must be balanced; e.g. <code>...,2,\"www.blah?x=\"one\",y=\"two\"\",3.14,...</code>.\n",
       "</p>\n",
       "<p>On those fields that do not satisfy these conditions, e.g., fields with unbalanced quotes, <code>fread</code> re-attempts that field as if it isn't quoted. This is quite useful in reading files that contains fields with unbalanced quotes as well, automatically.\n",
       "</p>\n",
       "</li></ul>\n",
       "\n",
       "<p>To read fields <em>as is</em> instead, use <code>quote = \"\"</code>.\n",
       "</p>\n",
       "<p><b>File Download:</b>\n",
       "</p>\n",
       "<p>When <code>input</code> begins with http://, https://, ftp://, ftps://, or file://, <code>fread</code> detects this and <em>downloads</em> the target to a temporary file (at <code>tempfile()</code>) before proceeding to read the file as usual. Secure URLS (ftps:// and https://) are downloaded with <code>curl::curl_download</code>; ftp:// and http:// paths are downloaded with <code>download.file</code> and <code>method</code> set to <code>getOption(\"download.file.method\")</code>, defaulting to <code>\"auto\"</code>; and file:// is downloaded with <code>download.file</code> with <code>method=\"internal\"</code>. NB: this implies that for file://, even files found on the current machine will be &quot;downloaded&quot; (i.e., hard-copied) to a temporary file. See <code>download.file</code> for more details.\n",
       "</p>\n",
       "\n",
       "\n",
       "<h3>Value</h3>\n",
       "\n",
       "<p>A <code>data.table</code> by default, otherwise a <code>data.frame</code> when argument <code>data.table=FALSE</code>.\n",
       "</p>\n",
       "\n",
       "\n",
       "<h3>References</h3>\n",
       "\n",
       "<p>Background :<br />\n",
       "<a href=\"https://cran.r-project.org/doc/manuals/R-data.html\">https://cran.r-project.org/doc/manuals/R-data.html</a><br />\n",
       "<a href=\"http://stackoverflow.com/questions/1727772/quickly-reading-very-large-tables-as-dataframes-in-r\">http://stackoverflow.com/questions/1727772/quickly-reading-very-large-tables-as-dataframes-in-r</a><br />\n",
       "<a href=\"http://www.biostat.jhsph.edu/~rpeng/docs/R-large-tables.html\">http://www.biostat.jhsph.edu/~rpeng/docs/R-large-tables.html</a><br />\n",
       "<a href=\"http://www.cerebralmastication.com/2009/11/loading-big-data-into-r/\">http://www.cerebralmastication.com/2009/11/loading-big-data-into-r/</a><br />\n",
       "<a href=\"http://stackoverflow.com/questions/9061736/faster-than-scan-with-rcpp\">http://stackoverflow.com/questions/9061736/faster-than-scan-with-rcpp</a><br />\n",
       "<a href=\"http://stackoverflow.com/questions/415515/how-can-i-read-and-manipulate-csv-file-data-in-c\">http://stackoverflow.com/questions/415515/how-can-i-read-and-manipulate-csv-file-data-in-c</a><br />\n",
       "<a href=\"http://stackoverflow.com/questions/9352887/strategies-for-reading-in-csv-files-in-pieces\">http://stackoverflow.com/questions/9352887/strategies-for-reading-in-csv-files-in-pieces</a><br />\n",
       "<a href=\"http://stackoverflow.com/questions/11782084/reading-in-large-text-files-in-r\">http://stackoverflow.com/questions/11782084/reading-in-large-text-files-in-r</a><br />\n",
       "<a href=\"http://stackoverflow.com/questions/45972/mmap-vs-reading-blocks\">http://stackoverflow.com/questions/45972/mmap-vs-reading-blocks</a><br />\n",
       "<a href=\"http://stackoverflow.com/questions/258091/when-should-i-use-mmap-for-file-access\">http://stackoverflow.com/questions/258091/when-should-i-use-mmap-for-file-access</a><br />\n",
       "<a href=\"http://stackoverflow.com/a/9818473/403310\">http://stackoverflow.com/a/9818473/403310</a><br />\n",
       "<a href=\"http://stackoverflow.com/questions/9608950/reading-huge-files-using-memory-mapped-files\">http://stackoverflow.com/questions/9608950/reading-huge-files-using-memory-mapped-files</a>\n",
       "</p>\n",
       "<p>finagler = &quot;to get or achieve by guile or manipulation&quot; <a href=\"http://dictionary.reference.com/browse/finagler\">http://dictionary.reference.com/browse/finagler</a>\n",
       "</p>\n",
       "\n",
       "\n",
       "<h3>See Also</h3>\n",
       "\n",
       "<p><code>read.csv</code>, <code>url</code>, <code>Sys.setlocale</code>, <code>setDTthreads</code>, <code>fwrite</code>, <a href=\"https://CRAN.R-project.org/package=bit64\"><code>bit64::integer64</code></a>\n",
       "</p>\n",
       "\n",
       "\n",
       "<h3>Examples</h3>\n",
       "\n",
       "<pre>\n",
       "## Not run: \n",
       "\n",
       "# Demo speed-up\n",
       "n = 1e6\n",
       "DT = data.table( a=sample(1:1000,n,replace=TRUE),\n",
       "                 b=sample(1:1000,n,replace=TRUE),\n",
       "                 c=rnorm(n),\n",
       "                 d=sample(c(\"foo\",\"bar\",\"baz\",\"qux\",\"quux\"),n,replace=TRUE),\n",
       "                 e=rnorm(n),\n",
       "                 f=sample(1:1000,n,replace=TRUE) )\n",
       "DT[2,b:=NA_integer_]\n",
       "DT[4,c:=NA_real_]\n",
       "DT[3,d:=NA_character_]\n",
       "DT[5,d:=\"\"]\n",
       "DT[2,e:=+Inf]\n",
       "DT[3,e:=-Inf]\n",
       "\n",
       "write.table(DT,\"test.csv\",sep=\",\",row.names=FALSE,quote=FALSE)\n",
       "cat(\"File size (MB):\", round(file.info(\"test.csv\")$size/1024^2),\"\\n\")\n",
       "# 50 MB (1e6 rows x 6 columns)\n",
       "\n",
       "system.time(DF1 &lt;-read.csv(\"test.csv\",stringsAsFactors=FALSE))\n",
       "# 60 sec (first time in fresh R session)\n",
       "\n",
       "system.time(DF1 &lt;- read.csv(\"test.csv\",stringsAsFactors=FALSE))\n",
       "# 30 sec (immediate repeat is faster, varies)\n",
       "\n",
       "system.time(DF2 &lt;- read.table(\"test.csv\",header=TRUE,sep=\",\",quote=\"\",\n",
       "    stringsAsFactors=FALSE,comment.char=\"\",nrows=n,\n",
       "    colClasses=c(\"integer\",\"integer\",\"numeric\",\n",
       "                 \"character\",\"numeric\",\"integer\")))\n",
       "# 10 sec (consistently). All known tricks and known nrows, see references.\n",
       "\n",
       "require(data.table)\n",
       "if(all(sapply(c(\"sqldf\", \"ff\"), requireNamespace, quietly = TRUE))) {\n",
       "  require(sqldf)\n",
       "  require(ff)\n",
       "\n",
       "  system.time(DT &lt;- fread(\"test.csv\"))\n",
       "  #  3 sec (faster and friendlier)\n",
       "\n",
       "  system.time(SQLDF &lt;- read.csv.sql(\"test.csv\",dbname=NULL))\n",
       "  # 20 sec (friendly too, good defaults)\n",
       "\n",
       "  system.time(FFDF &lt;- read.csv.ffdf(file=\"test.csv\",nrows=n))\n",
       "  # 20 sec (friendly too, good defaults)\n",
       "\n",
       "  identical(DF1,DF2)\n",
       "  all.equal(as.data.table(DF1), DT)\n",
       "  identical(DF1,within(SQLDF,{b&lt;-as.integer(b);c&lt;-as.numeric(c)}))\n",
       "  identical(DF1,within(as.data.frame(FFDF),d&lt;-as.character(d)))\n",
       "}\n",
       "\n",
       "# Scaling up ...\n",
       "l = vector(\"list\",10)\n",
       "for (i in 1:10) l[[i]] = DT\n",
       "DTbig = rbindlist(l)\n",
       "tables()\n",
       "write.table(DTbig,\"testbig.csv\",sep=\",\",row.names=FALSE,quote=FALSE)\n",
       "# 500MB (10 million rows x 6 columns)\n",
       "\n",
       "system.time(DF &lt;- read.table(\"testbig.csv\",header=TRUE,sep=\",\",\n",
       "    quote=\"\",stringsAsFactors=FALSE,comment.char=\"\",nrows=1e7,\n",
       "    colClasses=c(\"integer\",\"integer\",\"numeric\",\n",
       "                 \"character\",\"numeric\",\"integer\")))\n",
       "# 100-200 sec (varies)\n",
       "\n",
       "system.time(DT &lt;- fread(\"testbig.csv\"))\n",
       "# 30-40 sec\n",
       "\n",
       "all(mapply(all.equal, DF, DT))\n",
       "\n",
       "\n",
       "# Real data example (Airline data)\n",
       "# http://stat-computing.org/dataexpo/2009/the-data.html\n",
       "\n",
       "download.file(\"http://stat-computing.org/dataexpo/2009/2008.csv.bz2\",\n",
       "              destfile=\"2008.csv.bz2\")\n",
       "# 109MB (compressed)\n",
       "\n",
       "system(\"bunzip2 2008.csv.bz2\")\n",
       "# 658MB (7,009,728 rows x 29 columns)\n",
       "\n",
       "colClasses = sapply(read.csv(\"2008.csv\",nrows=100),class)\n",
       "# 4 character, 24 integer, 1 logical. Incorrect.\n",
       "\n",
       "colClasses = sapply(read.csv(\"2008.csv\",nrows=200),class)\n",
       "# 5 character, 24 integer. Correct. Might have missed data only using 100 rows\n",
       "# since read.table assumes colClasses is correct.\n",
       "\n",
       "system.time(DF &lt;- read.table(\"2008.csv\", header=TRUE, sep=\",\",\n",
       "    quote=\"\",stringsAsFactors=FALSE,comment.char=\"\",nrows=7009730,\n",
       "    colClasses=colClasses))\n",
       "# 360 secs\n",
       "\n",
       "system.time(DT &lt;- fread(\"2008.csv\"))\n",
       "#  40 secs\n",
       "\n",
       "table(sapply(DT,class))\n",
       "# 5 character and 24 integer columns. Correct without needing to worry about colClasses\n",
       "# issue above.\n",
       "\n",
       "\n",
       "# Reads URLs directly :\n",
       "fread(\"http://www.stats.ox.ac.uk/pub/datasets/csb/ch11b.dat\")\n",
       "\n",
       "# Decompresses .gz and .bz2 automatically :\n",
       "fread(\"http://stat-computing.org/dataexpo/2009/2008.csv.bz2\")\n",
       "\n",
       "\n",
       "## End(Not run)\n",
       "\n",
       "# Reads text input directly :\n",
       "fread(\"A,B\\n1,2\\n3,4\")\n",
       "\n",
       "# Reads pasted input directly :\n",
       "fread(\"A,B\n",
       "1,2\n",
       "3,4\n",
       "\")\n",
       "\n",
       "# Finds the first data line automatically :\n",
       "fread(\"\n",
       "This is perhaps a banner line or two or ten.\n",
       "A,B\n",
       "1,2\n",
       "3,4\n",
       "\")\n",
       "\n",
       "# Detects whether column names are present automatically :\n",
       "fread(\"\n",
       "1,2\n",
       "3,4\n",
       "\")\n",
       "\n",
       "# Numerical precision :\n",
       "\n",
       "DT = fread(\"A\\n1.010203040506070809010203040506\\n\")\n",
       "# TODO: add numerals=c(\"allow.loss\", \"warn.loss\", \"no.loss\") from base::read.table, +\"use.Rmpfr\"\n",
       "typeof(DT$A)==\"double\"   # currently \"allow.loss\" with no option\n",
       "\n",
       "DT = fread(\"A\\n1.46761e-313\\n\")   # read as 'numeric'\n",
       "DT[,sprintf(\"%.15E\",A)]   # beyond what double precision can store accurately to 15 digits\n",
       "# For greater accuracy use colClasses to read as character, then package Rmpfr.\n",
       "\n",
       "# colClasses\n",
       "data = \"A,B,C,D\\n1,3,5,7\\n2,4,6,8\\n\"\n",
       "fread(data, colClasses=c(B=\"character\",C=\"character\",D=\"character\"))  # as read.csv\n",
       "fread(data, colClasses=list(character=c(\"B\",\"C\",\"D\")))    # saves typing\n",
       "fread(data, colClasses=list(character=2:4))     # same using column numbers\n",
       "\n",
       "# drop\n",
       "fread(data, colClasses=c(\"B\"=\"NULL\",\"C\"=\"NULL\"))   # as read.csv\n",
       "fread(data, colClasses=list(NULL=c(\"B\",\"C\")))      #\n",
       "fread(data, drop=c(\"B\",\"C\"))      # same but less typing, easier to read\n",
       "fread(data, drop=2:3)             # same using column numbers\n",
       "\n",
       "# select\n",
       "# (in read.csv you need to work out which to drop)\n",
       "fread(data, select=c(\"A\",\"D\"))    # less typing, easier to read\n",
       "fread(data, select=c(1,4))        # same using column numbers\n",
       "\n",
       "# skip blank lines\n",
       "fread(\"a,b\\n1,a\\n2,b\\n\\n\\n3,c\\n\", blank.lines.skip=TRUE)\n",
       "# fill\n",
       "fread(\"a,b\\n1,a\\n2\\n3,c\\n\", fill=TRUE)\n",
       "fread(\"a,b\\n\\n1,a\\n2\\n\\n3,c\\n\\n\", fill=TRUE)\n",
       "\n",
       "# fill with skip blank lines\n",
       "fread(\"a,b\\n\\n1,a\\n2\\n\\n3,c\\n\\n\", fill=TRUE, blank.lines.skip=TRUE)\n",
       "\n",
       "# check.names usage\n",
       "fread(\"a b,a b\\n1,2\\n\")\n",
       "fread(\"a b,a b\\n1,2\\n\", check.names=TRUE) # no duplicates + syntactically valid names\n",
       "</pre>\n",
       "\n",
       "<hr /><div style=\"text-align: center;\">[Package <em>data.table</em> version 1.12.2 ]</div>"
      ],
      "text/latex": [
       "\\inputencoding{utf8}\n",
       "\\HeaderA{fread}{ Fast and friendly file finagler }{fread}\n",
       "\\keyword{data}{fread}\n",
       "%\n",
       "\\begin{Description}\\relax\n",
       "Similar to \\code{read.table} but faster and more convenient. All controls such as \\code{sep}, \\code{colClasses} and \\code{nrows} are automatically detected. \\code{bit64::integer64} types are also detected and read directly without needing to read as character before converting.\n",
       "\n",
       "Dates are read as character currently. They can be converted afterwards using the excellent \\code{fasttime} package or standard base functions.\n",
       "\n",
       "`fread` is for \\emph{regular} delimited files; i.e., where every row has the same number of columns. In future, secondary separator (\\code{sep2}) may be specified \\emph{within} each column. Such columns will be read as type \\code{list} where each cell is itself a vector.\n",
       "\\end{Description}\n",
       "%\n",
       "\\begin{Usage}\n",
       "\\begin{verbatim}\n",
       "fread(input, file, text, cmd, sep=\"auto\", sep2=\"auto\", dec=\".\", quote=\"\\\"\",\n",
       "nrows=Inf, header=\"auto\",\n",
       "na.strings=getOption(\"datatable.na.strings\",\"NA\"),  # due to change to \"\"; see NEWS\n",
       "stringsAsFactors=FALSE, verbose=getOption(\"datatable.verbose\", FALSE),\n",
       "skip=\"__auto__\", select=NULL, drop=NULL, colClasses=NULL,\n",
       "integer64=getOption(\"datatable.integer64\", \"integer64\"),\n",
       "col.names,\n",
       "check.names=FALSE, encoding=\"unknown\",\n",
       "strip.white=TRUE, fill=FALSE, blank.lines.skip=FALSE,\n",
       "key=NULL, index=NULL,\n",
       "showProgress=getOption(\"datatable.showProgress\", interactive()),\n",
       "data.table=getOption(\"datatable.fread.datatable\", TRUE),\n",
       "nThread=getDTthreads(verbose),\n",
       "logical01=getOption(\"datatable.logical01\", FALSE),  # due to change to TRUE; see NEWS\n",
       "keepLeadingZeros = getOption(\"datatable.keepLeadingZeros\", FALSE),\n",
       "autostart=NA\n",
       ")\n",
       "\\end{verbatim}\n",
       "\\end{Usage}\n",
       "%\n",
       "\\begin{Arguments}\n",
       "\\begin{ldescription}\n",
       "\\item[\\code{input}]  A single character string. The value is inspected and deferred to either \\code{file=} (if no \\bsl{}n present), \\code{text=} (if at least one \\bsl{}n is present) or \\code{cmd=} (if no \\bsl{}n is present, at least one space is present, and it isn't a file name). Exactly one of \\code{input=}, \\code{file=}, \\code{text=}, or \\code{cmd=} should be used in the same call. \n",
       "\\item[\\code{file}]  File name in working directory, path to file (passed through \\code{\\LinkA{path.expand}{path.expand}} for convenience), or a URL starting http://, file://, etc. Compressed files ending \\code{.gz} and \\code{.bz2} are supported if the \\code{R.utils} package is installed. \n",
       "\\item[\\code{text}]  The input data itself as a character vector of one or more lines, for example as returned by \\code{readLines()}. \n",
       "\\item[\\code{cmd}]  A shell command that pre-processes the file; e.g. \\code{fread(cmd=paste(\"grep\",word,\"filename\")}. \n",
       "\\item[\\code{sep}]  The separator between columns. Defaults to the character in the set \\code{[,\\bsl{}t |;:]} that separates the sample of rows into the most number of lines with the same number of fields. Use \\code{NULL} or \\code{\"\"} to specify no separator; i.e. each line a single character column like \\code{base::readLines} does.\n",
       "\\item[\\code{sep2}]  The separator \\emph{within} columns. A \\code{list} column will be returned where each cell is a vector of values. This is much faster using less working memory than \\code{strsplit} afterwards or similar techniques. For each column \\code{sep2} can be different and is the first character in the same set above [\\code{,\\bsl{}t |;}], other than \\code{sep}, that exists inside each field outside quoted regions in the sample. NB: \\code{sep2} is not yet implemented. \n",
       "\\item[\\code{nrows}]  The maximum number of rows to read. Unlike \\code{read.table}, you do not need to set this to an estimate of the number of rows in the file for better speed because that is already automatically determined by \\code{fread} almost instantly using the large sample of lines. `nrows=0` returns the column names and typed empty columns determined by the large sample; useful for a dry run of a large file or to quickly check format consistency of a set of files before starting to read any of them. \n",
       "\\item[\\code{header}]  Does the first data line contain column names? Defaults according to whether every non-empty field on the first data line is type character. If so, or TRUE is supplied, any empty column names are given a default name. \n",
       "\\item[\\code{na.strings}]  A character vector of strings which are to be interpreted as \\code{NA} values. By default, \\code{\",{},\"} for columns of all types, including type `character` is read as \\code{NA} for consistency. \\code{,\"\",} is unambiguous and read as an empty string. To read \\code{,NA,} as \\code{NA}, set \\code{na.strings=\"NA\"}. To read \\code{,{},} as blank string \\code{\"\"}, set \\code{na.strings=NULL}. When they occur in the file, the strings in \\code{na.strings} should not appear quoted since that is how the string literal \\code{,\"NA\",} is distinguished from \\code{,NA,}, for example, when \\code{na.strings=\"NA\"}. \n",
       "\\item[\\code{stringsAsFactors}]  Convert all character columns to factors? \n",
       "\\item[\\code{verbose}]  Be chatty and report timings? \n",
       "\\item[\\code{skip}]  If 0 (default) start on the first line and from there finds the first row with a consistent number of columns. This automatically avoids irregular header information before the column names row. \\code{skip>0} means ignore the first \\code{skip} rows manually. \\code{skip=\"string\"} searches for \\code{\"string\"} in the file (e.g. a substring of the column names row) and starts on that line (inspired by read.xls in package gdata). \n",
       "\\item[\\code{select}]  Vector of column names or numbers to keep, drop the rest. \n",
       "\\item[\\code{drop}]  Vector of column names or numbers to drop, keep the rest. \n",
       "\\item[\\code{colClasses}]  A character vector of classes (named or unnamed), as read.csv. Or a named list of vectors of column names or numbers, see examples. colClasses in fread is intended for rare overrides, not for routine use. fread will only promote a column to a higher type if colClasses requests it. It won't downgrade a column to a lower type since NAs would result. You have to coerce such columns afterwards yourself, if you really require data loss. \n",
       "\\item[\\code{integer64}]  \"integer64\" (default) reads columns detected as containing integers larger than 2\\textasciicircum{}31 as type \\code{bit64::integer64}. Alternatively, \\code{\"double\"|\"numeric\"} reads as \\code{base::read.csv} does; i.e., possibly with loss of precision and if so silently. Or, \"character\". \n",
       "\\item[\\code{dec}]  The decimal separator as in \\code{base::read.csv}. If not \".\" (default) then usually \",\". See details. \n",
       "\\item[\\code{col.names}]  A vector of optional names for the variables (columns). The default is to use the header column if present or detected, or if not \"V\" followed by the column number. This is applied after \\code{check.names} and before \\code{key} and \\code{index}. \n",
       "\\item[\\code{check.names}] default is \\code{FALSE}. If \\code{TRUE} then the names of the variables in the \\code{data.table} are checked to ensure that they are syntactically valid variable names. If necessary they are adjusted (by \\code{\\LinkA{make.names}{make.names}}) so that they are, and also to ensure that there are no duplicates.\n",
       "\\item[\\code{encoding}]  default is \\code{\"unknown\"}. Other possible options are \\code{\"UTF-8\"} and \\code{\"Latin-1\"}.  Note: it is not used to re-encode the input, rather enables handling of encoded strings in their native encoding. \n",
       "\\item[\\code{quote}]  By default (\\code{\"\\bsl{}\"\"}), if a field starts with a double quote, \\code{fread} handles embedded quotes robustly as explained under \\code{Details}. If it fails, then another attempt is made to read the field \\emph{as is}, i.e., as if quotes are disabled. By setting \\code{quote=\"\"}, the field is always read as if quotes are disabled. It is not expected to ever need to pass anything other than \\bsl{}\"\\bsl{}\" to quote; i.e., to turn it off. \n",
       "\\item[\\code{strip.white}]  default is \\code{TRUE}. Strips leading and trailing whitespaces of unquoted fields. If \\code{FALSE}, only header trailing spaces are removed. \n",
       "\\item[\\code{fill}] logical (default is \\code{FALSE}). If \\code{TRUE} then in case the rows have unequal length, blank fields are implicitly filled.\n",
       "\\item[\\code{blank.lines.skip}] \\code{logical}, default is \\code{FALSE}. If \\code{TRUE} blank lines in the input are ignored.\n",
       "\\item[\\code{key}] Character vector of one or more column names which is passed to \\code{\\LinkA{setkey}{setkey}}. It may be a single comma separated string such as \\code{key=\"x,y,z\"}, or a vector of names such as \\code{key=c(\"x\",\"y\",\"z\")}. Only valid when argument \\code{data.table=TRUE}. Where applicable, this should refer to column names given in \\code{col.names}. \n",
       "\\item[\\code{index}]  Character vector or list of character vectors of one or more column names which is passed to \\code{\\LinkA{setindexv}{setindexv}}. As with \\code{key}, comma-separated notation like \\code{index=\"x,y,z\"} is accepted for convenience. Only valid when argument \\code{data.table=TRUE}. Where applicable, this should refer to column names given in \\code{col.names}. \n",
       "\\item[\\code{showProgress}]  \\code{TRUE} displays progress on the console if the ETA is greater than 3 seconds. It is produced in fread's C code where the very nice (but R level) txtProgressBar and tkProgressBar are not easily available. \n",
       "\\item[\\code{data.table}]  TRUE returns a \\code{data.table}. FALSE returns a \\code{data.frame}. The default for this argument can be changed with \\code{options(datatable.fread.datatable=FALSE)}.\n",
       "\\item[\\code{nThread}] The number of threads to use. Experiment to see what works best for your data on your hardware.\n",
       "\\item[\\code{logical01}] If TRUE a column containing only 0s and 1s will be read as logical, otherwise as integer.\n",
       "\\item[\\code{keepLeadingZeros}] If TRUE a column containing numeric data with leading zeros will be read as character, otherwise leading zeros will be removed and converted to numeric.\n",
       "\\item[\\code{autostart}]  Deprecated and ignored with warning. Please use \\code{skip} instead. \n",
       "\\end{ldescription}\n",
       "\\end{Arguments}\n",
       "%\n",
       "\\begin{Details}\\relax\n",
       "\n",
       "A sample of 10,000 rows is used for a very good estimate of column types. 100 contiguous rows are read from 100 equally spaced points throughout the file including the beginning, middle and the very end. This results in a better guess when a column changes type later in the file (e.g. blank at the beginning/only populated near the end, or 001 at the start but 0A0 later on). This very good type guess enables a single allocation of the correct type up front once for speed, memory efficiency and convenience of avoiding the need to set \\code{colClasses} after an error. Even though the sample is large and jumping over the file, it is almost instant regardless of the size of the file because a lazy on-demand memory map is used. If a jump lands inside a quoted field containing newlines, each newline is tested until 5 lines are found following it with the expected number of fields. The lowest type for each column is chosen from the ordered list: \\code{logical}, \\code{integer}, \\code{integer64}, \\code{double}, \\code{character}. Rarely, the file may contain data of a higher type in rows outside the sample (referred to as an out-of-sample type exception). In this event \\code{fread} will \\emph{automatically} reread just those columns from the beginning so that you don't have the inconvenience of having to set \\code{colClasses} yourself; particularly helpful if you have a lot of columns. Such columns must be read from the beginning to correctly distinguish \"00\" from \"000\" when those have both been interpreted as integer 0 due to the sample but 00A occurs out of sample. Set \\code{verbose=TRUE} to see a detailed report of the logic deployed to read your file.\n",
       "\n",
       "There is no line length limit, not even a very large one. Since we are encouraging \\code{list} columns (i.e. \\code{sep2}) this has the potential to encourage longer line lengths. So the approach of scanning each line into a buffer first and then rescanning that buffer is not used. There are no buffers used in \\code{fread}'s C code at all. The field width limit is limited by R itself: the maximum width of a character string (currently 2\\textasciicircum{}31-1 bytes, 2GB).\n",
       "\n",
       "The filename extension (such as .csv) is irrelevant for \"auto\" \\code{sep} and \\code{sep2}. Separator detection is entirely driven by the file contents. This can be useful when loading a set of different files which may not be named consistently, or may not have the extension .csv despite being csv. Some datasets have been collected over many years, one file per day for example. Sometimes the file name format has changed at some point in the past or even the format of the file itself. So the idea is that you can loop \\code{fread} through a set of files and as long as each file is regular and delimited, \\code{fread} can read them all. Whether they all stack is another matter but at least each one is read quickly without you needing to vary \\code{colClasses} in \\code{read.table} or \\code{read.csv}.\n",
       "\n",
       "If an empty line is encountered then reading stops there with warning if any text exists after the empty line such as a footer. The first line of any text discarded is included in the warning message. Unless, it is single-column input. In that case blank lines are significant (even at the very end) and represent NA in the single column. So that \\code{fread(fwrite(DT))==DT}. This default behaviour can be controlled using \\code{blank.lines.skip=TRUE|FALSE}.\n",
       "\n",
       "\\bold{Line endings:} All known line endings are detected automatically: \\code{\\bsl{}n} (*NIX including Mac), \\code{\\bsl{}r\\bsl{}n} (Windows CRLF), \\code{\\bsl{}r} (old Mac) and \\code{\\bsl{}n\\bsl{}r} (just in case). There is no need to convert input files first. \\code{fread} running on any architecture will read a file from any architecture. Both \\code{\\bsl{}r} and \\code{\\bsl{}n} may be embedded in character strings (including column names) provided the field is quoted.\n",
       "\n",
       "\\bold{Decimal separator and locale:} \\code{fread(...,dec=\",\")} should just work. \\code{fread} uses C function \\code{strtod} to read numeric data; e.g., \\code{1.23} or \\code{1,23}. \\code{strtod} retrieves the decimal separator (\\code{.} or \\code{,} usually) from the locale of the R session rather than as an argument passed to the \\code{strtod} function. So for \\code{fread(...,dec=\",\")} to work, \\code{fread} changes this (and only this) R session's locale temporarily to a locale which provides the desired decimal separator.\n",
       "\n",
       "On Windows, \"French\\_France.1252\" is tried which should be available as standard (any locale with comma decimal separator would suffice) and on unix \"fr\\_FR.utf8\" (you may need to install this locale on unix). \\code{fread()} is very careful to set the locale back again afterwards, even if the function fails with an error. The choice of locale is determined by \\code{options()\\$datatable.fread.dec.locale}. This may be a \\emph{vector} of locale names and if so they will be tried in turn until the desired \\code{dec} is obtained; thus allowing more than two different decimal separators to be selected. This is a new feature in v1.9.6 and is experimental. In case of problems, turn it off with \\code{options(datatable.fread.dec.experiment=FALSE)}.\n",
       "\n",
       "\\bold{Quotes:}\n",
       "\n",
       "When \\code{quote} is a single character,\n",
       "\n",
       "\\begin{itemize}\n",
       "\n",
       "\\item{} Spaces and other whitespace (other than \\code{sep} and \\code{\\bsl{}n}) may appear in unquoted character fields, e.g., \\code{...,2,Joe Bloggs,3.14,...}.\n",
       "\n",
       "\\item{} When \\code{character} columns are \\emph{quoted}, they must start and end with that quoting character immediately followed by \\code{sep} or \\code{\\bsl{}n}, e.g., \\code{...,2,\"Joe Bloggs\",3.14,...}.\n",
       "\n",
       "In essence quoting character fields are \\emph{required} only if \\code{sep} or \\code{\\bsl{}n} appears in the string value. Quoting may be used to signify that numeric data should be read as text. Unescaped quotes may be present in a quoted field, e.g., \\code{...,2,\"Joe, \"Bloggs\"\",3.14,...}, as well as escaped quotes, e.g., \\code{...,2,\"Joe \\bsl{}\",Bloggs\\bsl{}\"\",3.14,...}.\n",
       "\n",
       "If an embedded quote is followed by the separator inside a quoted field, the embedded quotes up to that point in that field must be balanced; e.g. \\code{...,2,\"www.blah?x=\"one\",y=\"two\"\",3.14,...}.\n",
       "\n",
       "On those fields that do not satisfy these conditions, e.g., fields with unbalanced quotes, \\code{fread} re-attempts that field as if it isn't quoted. This is quite useful in reading files that contains fields with unbalanced quotes as well, automatically.\n",
       "\n",
       "\\end{itemize}\n",
       "\n",
       "\n",
       "To read fields \\emph{as is} instead, use \\code{quote = \"\"}.\n",
       "\n",
       "\\bold{File Download:}\n",
       "\n",
       "When \\code{input} begins with http://, https://, ftp://, ftps://, or file://, \\code{fread} detects this and \\emph{downloads} the target to a temporary file (at \\code{tempfile()}) before proceeding to read the file as usual. Secure URLS (ftps:// and https://) are downloaded with \\code{curl::curl\\_download}; ftp:// and http:// paths are downloaded with \\code{download.file} and \\code{method} set to \\code{getOption(\"download.file.method\")}, defaulting to \\code{\"auto\"}; and file:// is downloaded with \\code{download.file} with \\code{method=\"internal\"}. NB: this implies that for file://, even files found on the current machine will be \"downloaded\" (i.e., hard-copied) to a temporary file. See \\code{\\LinkA{download.file}{download.file}} for more details.\n",
       "\n",
       "\\end{Details}\n",
       "%\n",
       "\\begin{Value}\n",
       "A \\code{data.table} by default, otherwise a \\code{data.frame} when argument \\code{data.table=FALSE}.\n",
       "\\end{Value}\n",
       "%\n",
       "\\begin{References}\\relax\n",
       "Background :\\\\{}\n",
       "\\url{https://cran.r-project.org/doc/manuals/R-data.html}\\\\{}\n",
       "\\url{http://stackoverflow.com/questions/1727772/quickly-reading-very-large-tables-as-dataframes-in-r}\\\\{}\n",
       "\\url{http://www.biostat.jhsph.edu/~rpeng/docs/R-large-tables.html}\\\\{}\n",
       "\\url{http://www.cerebralmastication.com/2009/11/loading-big-data-into-r/}\\\\{}\n",
       "\\url{http://stackoverflow.com/questions/9061736/faster-than-scan-with-rcpp}\\\\{}\n",
       "\\url{http://stackoverflow.com/questions/415515/how-can-i-read-and-manipulate-csv-file-data-in-c}\\\\{}\n",
       "\\url{http://stackoverflow.com/questions/9352887/strategies-for-reading-in-csv-files-in-pieces}\\\\{}\n",
       "\\url{http://stackoverflow.com/questions/11782084/reading-in-large-text-files-in-r}\\\\{}\n",
       "\\url{http://stackoverflow.com/questions/45972/mmap-vs-reading-blocks}\\\\{}\n",
       "\\url{http://stackoverflow.com/questions/258091/when-should-i-use-mmap-for-file-access}\\\\{}\n",
       "\\url{http://stackoverflow.com/a/9818473/403310}\\\\{}\n",
       "\\url{http://stackoverflow.com/questions/9608950/reading-huge-files-using-memory-mapped-files}\n",
       "\n",
       "finagler = \"to get or achieve by guile or manipulation\" \\url{http://dictionary.reference.com/browse/finagler}\n",
       "\\end{References}\n",
       "%\n",
       "\\begin{SeeAlso}\\relax\n",
       "\\code{\\LinkA{read.csv}{read.csv}}, \\code{\\LinkA{url}{url}}, \\code{\\LinkA{Sys.setlocale}{Sys.setlocale}}, \\code{\\LinkA{setDTthreads}{setDTthreads}}, \\code{\\LinkA{fwrite}{fwrite}}, \\Rhref{https://CRAN.R-project.org/package=bit64}{\\code{bit64::integer64}}\n",
       "\\end{SeeAlso}\n",
       "%\n",
       "\\begin{Examples}\n",
       "\\begin{ExampleCode}\n",
       "## Not run: \n",
       "\n",
       "# Demo speed-up\n",
       "n = 1e6\n",
       "DT = data.table( a=sample(1:1000,n,replace=TRUE),\n",
       "                 b=sample(1:1000,n,replace=TRUE),\n",
       "                 c=rnorm(n),\n",
       "                 d=sample(c(\"foo\",\"bar\",\"baz\",\"qux\",\"quux\"),n,replace=TRUE),\n",
       "                 e=rnorm(n),\n",
       "                 f=sample(1:1000,n,replace=TRUE) )\n",
       "DT[2,b:=NA_integer_]\n",
       "DT[4,c:=NA_real_]\n",
       "DT[3,d:=NA_character_]\n",
       "DT[5,d:=\"\"]\n",
       "DT[2,e:=+Inf]\n",
       "DT[3,e:=-Inf]\n",
       "\n",
       "write.table(DT,\"test.csv\",sep=\",\",row.names=FALSE,quote=FALSE)\n",
       "cat(\"File size (MB):\", round(file.info(\"test.csv\")$size/1024^2),\"\\n\")\n",
       "# 50 MB (1e6 rows x 6 columns)\n",
       "\n",
       "system.time(DF1 <-read.csv(\"test.csv\",stringsAsFactors=FALSE))\n",
       "# 60 sec (first time in fresh R session)\n",
       "\n",
       "system.time(DF1 <- read.csv(\"test.csv\",stringsAsFactors=FALSE))\n",
       "# 30 sec (immediate repeat is faster, varies)\n",
       "\n",
       "system.time(DF2 <- read.table(\"test.csv\",header=TRUE,sep=\",\",quote=\"\",\n",
       "    stringsAsFactors=FALSE,comment.char=\"\",nrows=n,\n",
       "    colClasses=c(\"integer\",\"integer\",\"numeric\",\n",
       "                 \"character\",\"numeric\",\"integer\")))\n",
       "# 10 sec (consistently). All known tricks and known nrows, see references.\n",
       "\n",
       "require(data.table)\n",
       "if(all(sapply(c(\"sqldf\", \"ff\"), requireNamespace, quietly = TRUE))) {\n",
       "  require(sqldf)\n",
       "  require(ff)\n",
       "\n",
       "  system.time(DT <- fread(\"test.csv\"))\n",
       "  #  3 sec (faster and friendlier)\n",
       "\n",
       "  system.time(SQLDF <- read.csv.sql(\"test.csv\",dbname=NULL))\n",
       "  # 20 sec (friendly too, good defaults)\n",
       "\n",
       "  system.time(FFDF <- read.csv.ffdf(file=\"test.csv\",nrows=n))\n",
       "  # 20 sec (friendly too, good defaults)\n",
       "\n",
       "  identical(DF1,DF2)\n",
       "  all.equal(as.data.table(DF1), DT)\n",
       "  identical(DF1,within(SQLDF,{b<-as.integer(b);c<-as.numeric(c)}))\n",
       "  identical(DF1,within(as.data.frame(FFDF),d<-as.character(d)))\n",
       "}\n",
       "\n",
       "# Scaling up ...\n",
       "l = vector(\"list\",10)\n",
       "for (i in 1:10) l[[i]] = DT\n",
       "DTbig = rbindlist(l)\n",
       "tables()\n",
       "write.table(DTbig,\"testbig.csv\",sep=\",\",row.names=FALSE,quote=FALSE)\n",
       "# 500MB (10 million rows x 6 columns)\n",
       "\n",
       "system.time(DF <- read.table(\"testbig.csv\",header=TRUE,sep=\",\",\n",
       "    quote=\"\",stringsAsFactors=FALSE,comment.char=\"\",nrows=1e7,\n",
       "    colClasses=c(\"integer\",\"integer\",\"numeric\",\n",
       "                 \"character\",\"numeric\",\"integer\")))\n",
       "# 100-200 sec (varies)\n",
       "\n",
       "system.time(DT <- fread(\"testbig.csv\"))\n",
       "# 30-40 sec\n",
       "\n",
       "all(mapply(all.equal, DF, DT))\n",
       "\n",
       "\n",
       "# Real data example (Airline data)\n",
       "# http://stat-computing.org/dataexpo/2009/the-data.html\n",
       "\n",
       "download.file(\"http://stat-computing.org/dataexpo/2009/2008.csv.bz2\",\n",
       "              destfile=\"2008.csv.bz2\")\n",
       "# 109MB (compressed)\n",
       "\n",
       "system(\"bunzip2 2008.csv.bz2\")\n",
       "# 658MB (7,009,728 rows x 29 columns)\n",
       "\n",
       "colClasses = sapply(read.csv(\"2008.csv\",nrows=100),class)\n",
       "# 4 character, 24 integer, 1 logical. Incorrect.\n",
       "\n",
       "colClasses = sapply(read.csv(\"2008.csv\",nrows=200),class)\n",
       "# 5 character, 24 integer. Correct. Might have missed data only using 100 rows\n",
       "# since read.table assumes colClasses is correct.\n",
       "\n",
       "system.time(DF <- read.table(\"2008.csv\", header=TRUE, sep=\",\",\n",
       "    quote=\"\",stringsAsFactors=FALSE,comment.char=\"\",nrows=7009730,\n",
       "    colClasses=colClasses))\n",
       "# 360 secs\n",
       "\n",
       "system.time(DT <- fread(\"2008.csv\"))\n",
       "#  40 secs\n",
       "\n",
       "table(sapply(DT,class))\n",
       "# 5 character and 24 integer columns. Correct without needing to worry about colClasses\n",
       "# issue above.\n",
       "\n",
       "\n",
       "# Reads URLs directly :\n",
       "fread(\"http://www.stats.ox.ac.uk/pub/datasets/csb/ch11b.dat\")\n",
       "\n",
       "# Decompresses .gz and .bz2 automatically :\n",
       "fread(\"http://stat-computing.org/dataexpo/2009/2008.csv.bz2\")\n",
       "\n",
       "\n",
       "## End(Not run)\n",
       "\n",
       "# Reads text input directly :\n",
       "fread(\"A,B\\n1,2\\n3,4\")\n",
       "\n",
       "# Reads pasted input directly :\n",
       "fread(\"A,B\n",
       "1,2\n",
       "3,4\n",
       "\")\n",
       "\n",
       "# Finds the first data line automatically :\n",
       "fread(\"\n",
       "This is perhaps a banner line or two or ten.\n",
       "A,B\n",
       "1,2\n",
       "3,4\n",
       "\")\n",
       "\n",
       "# Detects whether column names are present automatically :\n",
       "fread(\"\n",
       "1,2\n",
       "3,4\n",
       "\")\n",
       "\n",
       "# Numerical precision :\n",
       "\n",
       "DT = fread(\"A\\n1.010203040506070809010203040506\\n\")\n",
       "# TODO: add numerals=c(\"allow.loss\", \"warn.loss\", \"no.loss\") from base::read.table, +\"use.Rmpfr\"\n",
       "typeof(DT$A)==\"double\"   # currently \"allow.loss\" with no option\n",
       "\n",
       "DT = fread(\"A\\n1.46761e-313\\n\")   # read as 'numeric'\n",
       "DT[,sprintf(\"%.15E\",A)]   # beyond what double precision can store accurately to 15 digits\n",
       "# For greater accuracy use colClasses to read as character, then package Rmpfr.\n",
       "\n",
       "# colClasses\n",
       "data = \"A,B,C,D\\n1,3,5,7\\n2,4,6,8\\n\"\n",
       "fread(data, colClasses=c(B=\"character\",C=\"character\",D=\"character\"))  # as read.csv\n",
       "fread(data, colClasses=list(character=c(\"B\",\"C\",\"D\")))    # saves typing\n",
       "fread(data, colClasses=list(character=2:4))     # same using column numbers\n",
       "\n",
       "# drop\n",
       "fread(data, colClasses=c(\"B\"=\"NULL\",\"C\"=\"NULL\"))   # as read.csv\n",
       "fread(data, colClasses=list(NULL=c(\"B\",\"C\")))      #\n",
       "fread(data, drop=c(\"B\",\"C\"))      # same but less typing, easier to read\n",
       "fread(data, drop=2:3)             # same using column numbers\n",
       "\n",
       "# select\n",
       "# (in read.csv you need to work out which to drop)\n",
       "fread(data, select=c(\"A\",\"D\"))    # less typing, easier to read\n",
       "fread(data, select=c(1,4))        # same using column numbers\n",
       "\n",
       "# skip blank lines\n",
       "fread(\"a,b\\n1,a\\n2,b\\n\\n\\n3,c\\n\", blank.lines.skip=TRUE)\n",
       "# fill\n",
       "fread(\"a,b\\n1,a\\n2\\n3,c\\n\", fill=TRUE)\n",
       "fread(\"a,b\\n\\n1,a\\n2\\n\\n3,c\\n\\n\", fill=TRUE)\n",
       "\n",
       "# fill with skip blank lines\n",
       "fread(\"a,b\\n\\n1,a\\n2\\n\\n3,c\\n\\n\", fill=TRUE, blank.lines.skip=TRUE)\n",
       "\n",
       "# check.names usage\n",
       "fread(\"a b,a b\\n1,2\\n\")\n",
       "fread(\"a b,a b\\n1,2\\n\", check.names=TRUE) # no duplicates + syntactically valid names\n",
       "\\end{ExampleCode}\n",
       "\\end{Examples}"
      ],
      "text/plain": [
       "fread                package:data.table                R Documentation\n",
       "\n",
       "_\bF_\ba_\bs_\bt _\ba_\bn_\bd _\bf_\br_\bi_\be_\bn_\bd_\bl_\by _\bf_\bi_\bl_\be _\bf_\bi_\bn_\ba_\bg_\bl_\be_\br\n",
       "\n",
       "_\bD_\be_\bs_\bc_\br_\bi_\bp_\bt_\bi_\bo_\bn:\n",
       "\n",
       "     Similar to 'read.table' but faster and more convenient. All\n",
       "     controls such as 'sep', 'colClasses' and 'nrows' are automatically\n",
       "     detected. 'bit64::integer64' types are also detected and read\n",
       "     directly without needing to read as character before converting.\n",
       "\n",
       "     Dates are read as character currently. They can be converted\n",
       "     afterwards using the excellent 'fasttime' package or standard base\n",
       "     functions.\n",
       "\n",
       "     `fread` is for _regular_ delimited files; i.e., where every row\n",
       "     has the same number of columns. In future, secondary separator\n",
       "     ('sep2') may be specified _within_ each column. Such columns will\n",
       "     be read as type 'list' where each cell is itself a vector.\n",
       "\n",
       "_\bU_\bs_\ba_\bg_\be:\n",
       "\n",
       "     fread(input, file, text, cmd, sep=\"auto\", sep2=\"auto\", dec=\".\", quote=\"\\\"\",\n",
       "     nrows=Inf, header=\"auto\",\n",
       "     na.strings=getOption(\"datatable.na.strings\",\"NA\"),  # due to change to \"\"; see NEWS\n",
       "     stringsAsFactors=FALSE, verbose=getOption(\"datatable.verbose\", FALSE),\n",
       "     skip=\"__auto__\", select=NULL, drop=NULL, colClasses=NULL,\n",
       "     integer64=getOption(\"datatable.integer64\", \"integer64\"),\n",
       "     col.names,\n",
       "     check.names=FALSE, encoding=\"unknown\",\n",
       "     strip.white=TRUE, fill=FALSE, blank.lines.skip=FALSE,\n",
       "     key=NULL, index=NULL,\n",
       "     showProgress=getOption(\"datatable.showProgress\", interactive()),\n",
       "     data.table=getOption(\"datatable.fread.datatable\", TRUE),\n",
       "     nThread=getDTthreads(verbose),\n",
       "     logical01=getOption(\"datatable.logical01\", FALSE),  # due to change to TRUE; see NEWS\n",
       "     keepLeadingZeros = getOption(\"datatable.keepLeadingZeros\", FALSE),\n",
       "     autostart=NA\n",
       "     )\n",
       "     \n",
       "_\bA_\br_\bg_\bu_\bm_\be_\bn_\bt_\bs:\n",
       "\n",
       "   input: A single character string. The value is inspected and\n",
       "          deferred to either 'file=' (if no \\n present), 'text=' (if at\n",
       "          least one \\n is present) or 'cmd=' (if no \\n is present, at\n",
       "          least one space is present, and it isn't a file name).\n",
       "          Exactly one of 'input=', 'file=', 'text=', or 'cmd=' should\n",
       "          be used in the same call.\n",
       "\n",
       "    file: File name in working directory, path to file (passed through\n",
       "          'path.expand' for convenience), or a URL starting http://,\n",
       "          file://, etc. Compressed files ending '.gz' and '.bz2' are\n",
       "          supported if the 'R.utils' package is installed.\n",
       "\n",
       "    text: The input data itself as a character vector of one or more\n",
       "          lines, for example as returned by 'readLines()'.\n",
       "\n",
       "     cmd: A shell command that pre-processes the file; e.g.\n",
       "          'fread(cmd=paste(\"grep\",word,\"filename\")'.\n",
       "\n",
       "     sep: The separator between columns. Defaults to the character in\n",
       "          the set '[,\\t |;:]' that separates the sample of rows into\n",
       "          the most number of lines with the same number of fields. Use\n",
       "          'NULL' or '\"\"' to specify no separator; i.e. each line a\n",
       "          single character column like 'base::readLines' does.\n",
       "\n",
       "    sep2: The separator _within_ columns. A 'list' column will be\n",
       "          returned where each cell is a vector of values. This is much\n",
       "          faster using less working memory than 'strsplit' afterwards\n",
       "          or similar techniques. For each column 'sep2' can be\n",
       "          different and is the first character in the same set above\n",
       "          [',\\t |;'], other than 'sep', that exists inside each field\n",
       "          outside quoted regions in the sample. NB: 'sep2' is not yet\n",
       "          implemented.\n",
       "\n",
       "   nrows: The maximum number of rows to read. Unlike 'read.table', you\n",
       "          do not need to set this to an estimate of the number of rows\n",
       "          in the file for better speed because that is already\n",
       "          automatically determined by 'fread' almost instantly using\n",
       "          the large sample of lines. `nrows=0` returns the column names\n",
       "          and typed empty columns determined by the large sample;\n",
       "          useful for a dry run of a large file or to quickly check\n",
       "          format consistency of a set of files before starting to read\n",
       "          any of them.\n",
       "\n",
       "  header: Does the first data line contain column names? Defaults\n",
       "          according to whether every non-empty field on the first data\n",
       "          line is type character. If so, or TRUE is supplied, any empty\n",
       "          column names are given a default name.\n",
       "\n",
       "na.strings: A character vector of strings which are to be interpreted\n",
       "          as 'NA' values. By default, '\",,\"' for columns of all types,\n",
       "          including type `character` is read as 'NA' for consistency.\n",
       "          ',\"\",' is unambiguous and read as an empty string. To read\n",
       "          ',NA,' as 'NA', set 'na.strings=\"NA\"'. To read ',,' as blank\n",
       "          string '\"\"', set 'na.strings=NULL'. When they occur in the\n",
       "          file, the strings in 'na.strings' should not appear quoted\n",
       "          since that is how the string literal ',\"NA\",' is\n",
       "          distinguished from ',NA,', for example, when\n",
       "          'na.strings=\"NA\"'.\n",
       "\n",
       "stringsAsFactors: Convert all character columns to factors?\n",
       "\n",
       " verbose: Be chatty and report timings?\n",
       "\n",
       "    skip: If 0 (default) start on the first line and from there finds\n",
       "          the first row with a consistent number of columns. This\n",
       "          automatically avoids irregular header information before the\n",
       "          column names row. 'skip>0' means ignore the first 'skip' rows\n",
       "          manually. 'skip=\"string\"' searches for '\"string\"' in the file\n",
       "          (e.g. a substring of the column names row) and starts on that\n",
       "          line (inspired by read.xls in package gdata).\n",
       "\n",
       "  select: Vector of column names or numbers to keep, drop the rest.\n",
       "\n",
       "    drop: Vector of column names or numbers to drop, keep the rest.\n",
       "\n",
       "colClasses: A character vector of classes (named or unnamed), as\n",
       "          read.csv. Or a named list of vectors of column names or\n",
       "          numbers, see examples. colClasses in fread is intended for\n",
       "          rare overrides, not for routine use. fread will only promote\n",
       "          a column to a higher type if colClasses requests it. It won't\n",
       "          downgrade a column to a lower type since NAs would result.\n",
       "          You have to coerce such columns afterwards yourself, if you\n",
       "          really require data loss.\n",
       "\n",
       "integer64: \"integer64\" (default) reads columns detected as containing\n",
       "          integers larger than 2^31 as type 'bit64::integer64'.\n",
       "          Alternatively, '\"double\"|\"numeric\"' reads as 'base::read.csv'\n",
       "          does; i.e., possibly with loss of precision and if so\n",
       "          silently. Or, \"character\".\n",
       "\n",
       "     dec: The decimal separator as in 'base::read.csv'. If not \".\"\n",
       "          (default) then usually \",\". See details.\n",
       "\n",
       "col.names: A vector of optional names for the variables (columns). The\n",
       "          default is to use the header column if present or detected,\n",
       "          or if not \"V\" followed by the column number. This is applied\n",
       "          after 'check.names' and before 'key' and 'index'.\n",
       "\n",
       "check.names: default is 'FALSE'. If 'TRUE' then the names of the\n",
       "          variables in the 'data.table' are checked to ensure that they\n",
       "          are syntactically valid variable names. If necessary they are\n",
       "          adjusted (by 'make.names') so that they are, and also to\n",
       "          ensure that there are no duplicates.\n",
       "\n",
       "encoding: default is '\"unknown\"'. Other possible options are '\"UTF-8\"'\n",
       "          and '\"Latin-1\"'.  Note: it is not used to re-encode the\n",
       "          input, rather enables handling of encoded strings in their\n",
       "          native encoding.\n",
       "\n",
       "   quote: By default ('\"\\\"\"'), if a field starts with a double quote,\n",
       "          'fread' handles embedded quotes robustly as explained under\n",
       "          'Details'. If it fails, then another attempt is made to read\n",
       "          the field _as is_, i.e., as if quotes are disabled. By\n",
       "          setting 'quote=\"\"', the field is always read as if quotes are\n",
       "          disabled. It is not expected to ever need to pass anything\n",
       "          other than \\\"\\\" to quote; i.e., to turn it off.\n",
       "\n",
       "strip.white: default is 'TRUE'. Strips leading and trailing whitespaces\n",
       "          of unquoted fields. If 'FALSE', only header trailing spaces\n",
       "          are removed.\n",
       "\n",
       "    fill: logical (default is 'FALSE'). If 'TRUE' then in case the rows\n",
       "          have unequal length, blank fields are implicitly filled.\n",
       "\n",
       "blank.lines.skip: 'logical', default is 'FALSE'. If 'TRUE' blank lines\n",
       "          in the input are ignored.\n",
       "\n",
       "     key: Character vector of one or more column names which is passed\n",
       "          to 'setkey'. It may be a single comma separated string such\n",
       "          as 'key=\"x,y,z\"', or a vector of names such as\n",
       "          'key=c(\"x\",\"y\",\"z\")'. Only valid when argument\n",
       "          'data.table=TRUE'. Where applicable, this should refer to\n",
       "          column names given in 'col.names'.\n",
       "\n",
       "   index: Character vector or list of character vectors of one or more\n",
       "          column names which is passed to 'setindexv'. As with 'key',\n",
       "          comma-separated notation like 'index=\"x,y,z\"' is accepted for\n",
       "          convenience. Only valid when argument 'data.table=TRUE'.\n",
       "          Where applicable, this should refer to column names given in\n",
       "          'col.names'.\n",
       "\n",
       "showProgress: 'TRUE' displays progress on the console if the ETA is\n",
       "          greater than 3 seconds. It is produced in fread's C code\n",
       "          where the very nice (but R level) txtProgressBar and\n",
       "          tkProgressBar are not easily available.\n",
       "\n",
       "data.table: TRUE returns a 'data.table'. FALSE returns a 'data.frame'.\n",
       "          The default for this argument can be changed with\n",
       "          'options(datatable.fread.datatable=FALSE)'.\n",
       "\n",
       " nThread: The number of threads to use. Experiment to see what works\n",
       "          best for your data on your hardware.\n",
       "\n",
       "logical01: If TRUE a column containing only 0s and 1s will be read as\n",
       "          logical, otherwise as integer.\n",
       "\n",
       "keepLeadingZeros: If TRUE a column containing numeric data with leading\n",
       "          zeros will be read as character, otherwise leading zeros will\n",
       "          be removed and converted to numeric.\n",
       "\n",
       "autostart: Deprecated and ignored with warning. Please use 'skip'\n",
       "          instead.\n",
       "\n",
       "_\bD_\be_\bt_\ba_\bi_\bl_\bs:\n",
       "\n",
       "     A sample of 10,000 rows is used for a very good estimate of column\n",
       "     types. 100 contiguous rows are read from 100 equally spaced points\n",
       "     throughout the file including the beginning, middle and the very\n",
       "     end. This results in a better guess when a column changes type\n",
       "     later in the file (e.g. blank at the beginning/only populated near\n",
       "     the end, or 001 at the start but 0A0 later on). This very good\n",
       "     type guess enables a single allocation of the correct type up\n",
       "     front once for speed, memory efficiency and convenience of\n",
       "     avoiding the need to set 'colClasses' after an error. Even though\n",
       "     the sample is large and jumping over the file, it is almost\n",
       "     instant regardless of the size of the file because a lazy\n",
       "     on-demand memory map is used. If a jump lands inside a quoted\n",
       "     field containing newlines, each newline is tested until 5 lines\n",
       "     are found following it with the expected number of fields. The\n",
       "     lowest type for each column is chosen from the ordered list:\n",
       "     'logical', 'integer', 'integer64', 'double', 'character'. Rarely,\n",
       "     the file may contain data of a higher type in rows outside the\n",
       "     sample (referred to as an out-of-sample type exception). In this\n",
       "     event 'fread' will _automatically_ reread just those columns from\n",
       "     the beginning so that you don't have the inconvenience of having\n",
       "     to set 'colClasses' yourself; particularly helpful if you have a\n",
       "     lot of columns. Such columns must be read from the beginning to\n",
       "     correctly distinguish \"00\" from \"000\" when those have both been\n",
       "     interpreted as integer 0 due to the sample but 00A occurs out of\n",
       "     sample. Set 'verbose=TRUE' to see a detailed report of the logic\n",
       "     deployed to read your file.\n",
       "\n",
       "     There is no line length limit, not even a very large one. Since we\n",
       "     are encouraging 'list' columns (i.e. 'sep2') this has the\n",
       "     potential to encourage longer line lengths. So the approach of\n",
       "     scanning each line into a buffer first and then rescanning that\n",
       "     buffer is not used. There are no buffers used in 'fread''s C code\n",
       "     at all. The field width limit is limited by R itself: the maximum\n",
       "     width of a character string (currently 2^31-1 bytes, 2GB).\n",
       "\n",
       "     The filename extension (such as .csv) is irrelevant for \"auto\"\n",
       "     'sep' and 'sep2'. Separator detection is entirely driven by the\n",
       "     file contents. This can be useful when loading a set of different\n",
       "     files which may not be named consistently, or may not have the\n",
       "     extension .csv despite being csv. Some datasets have been\n",
       "     collected over many years, one file per day for example. Sometimes\n",
       "     the file name format has changed at some point in the past or even\n",
       "     the format of the file itself. So the idea is that you can loop\n",
       "     'fread' through a set of files and as long as each file is regular\n",
       "     and delimited, 'fread' can read them all. Whether they all stack\n",
       "     is another matter but at least each one is read quickly without\n",
       "     you needing to vary 'colClasses' in 'read.table' or 'read.csv'.\n",
       "\n",
       "     If an empty line is encountered then reading stops there with\n",
       "     warning if any text exists after the empty line such as a footer.\n",
       "     The first line of any text discarded is included in the warning\n",
       "     message. Unless, it is single-column input. In that case blank\n",
       "     lines are significant (even at the very end) and represent NA in\n",
       "     the single column. So that 'fread(fwrite(DT))==DT'. This default\n",
       "     behaviour can be controlled using 'blank.lines.skip=TRUE|FALSE'.\n",
       "\n",
       "     *Line endings:* All known line endings are detected automatically:\n",
       "     '\\n' (*NIX including Mac), '\\r\\n' (Windows CRLF), '\\r' (old Mac)\n",
       "     and '\\n\\r' (just in case). There is no need to convert input files\n",
       "     first. 'fread' running on any architecture will read a file from\n",
       "     any architecture. Both '\\r' and '\\n' may be embedded in character\n",
       "     strings (including column names) provided the field is quoted.\n",
       "\n",
       "     *Decimal separator and locale:* 'fread(...,dec=\",\")' should just\n",
       "     work. 'fread' uses C function 'strtod' to read numeric data; e.g.,\n",
       "     '1.23' or '1,23'. 'strtod' retrieves the decimal separator ('.' or\n",
       "     ',' usually) from the locale of the R session rather than as an\n",
       "     argument passed to the 'strtod' function. So for\n",
       "     'fread(...,dec=\",\")' to work, 'fread' changes this (and only this)\n",
       "     R session's locale temporarily to a locale which provides the\n",
       "     desired decimal separator.\n",
       "\n",
       "     On Windows, \"French_France.1252\" is tried which should be\n",
       "     available as standard (any locale with comma decimal separator\n",
       "     would suffice) and on unix \"fr_FR.utf8\" (you may need to install\n",
       "     this locale on unix). 'fread()' is very careful to set the locale\n",
       "     back again afterwards, even if the function fails with an error.\n",
       "     The choice of locale is determined by\n",
       "     'options()$datatable.fread.dec.locale'. This may be a _vector_ of\n",
       "     locale names and if so they will be tried in turn until the\n",
       "     desired 'dec' is obtained; thus allowing more than two different\n",
       "     decimal separators to be selected. This is a new feature in v1.9.6\n",
       "     and is experimental. In case of problems, turn it off with\n",
       "     'options(datatable.fread.dec.experiment=FALSE)'.\n",
       "\n",
       "     *Quotes:*\n",
       "\n",
       "     When 'quote' is a single character,\n",
       "\n",
       "        â€¢ Spaces and other whitespace (other than 'sep' and '\\n') may\n",
       "          appear in unquoted character fields, e.g., '...,2,Joe\n",
       "          Bloggs,3.14,...'.\n",
       "\n",
       "        â€¢ When 'character' columns are _quoted_, they must start and\n",
       "          end with that quoting character immediately followed by 'sep'\n",
       "          or '\\n', e.g., '...,2,\"Joe Bloggs\",3.14,...'.\n",
       "\n",
       "          In essence quoting character fields are _required_ only if\n",
       "          'sep' or '\\n' appears in the string value. Quoting may be\n",
       "          used to signify that numeric data should be read as text.\n",
       "          Unescaped quotes may be present in a quoted field, e.g.,\n",
       "          '...,2,\"Joe, \"Bloggs\"\",3.14,...', as well as escaped quotes,\n",
       "          e.g., '...,2,\"Joe \\\",Bloggs\\\"\",3.14,...'.\n",
       "\n",
       "          If an embedded quote is followed by the separator inside a\n",
       "          quoted field, the embedded quotes up to that point in that\n",
       "          field must be balanced; e.g.\n",
       "          '...,2,\"www.blah?x=\"one\",y=\"two\"\",3.14,...'.\n",
       "\n",
       "          On those fields that do not satisfy these conditions, e.g.,\n",
       "          fields with unbalanced quotes, 'fread' re-attempts that field\n",
       "          as if it isn't quoted. This is quite useful in reading files\n",
       "          that contains fields with unbalanced quotes as well,\n",
       "          automatically.\n",
       "\n",
       "     To read fields _as is_ instead, use 'quote = \"\"'.\n",
       "\n",
       "     *File Download:*\n",
       "\n",
       "     When 'input' begins with http://, https://, ftp://, ftps://, or\n",
       "     file://, 'fread' detects this and _downloads_ the target to a\n",
       "     temporary file (at 'tempfile()') before proceeding to read the\n",
       "     file as usual. Secure URLS (ftps:// and https://) are downloaded\n",
       "     with 'curl::curl_download'; ftp:// and http:// paths are\n",
       "     downloaded with 'download.file' and 'method' set to\n",
       "     'getOption(\"download.file.method\")', defaulting to '\"auto\"'; and\n",
       "     file:// is downloaded with 'download.file' with\n",
       "     'method=\"internal\"'. NB: this implies that for file://, even files\n",
       "     found on the current machine will be \"downloaded\" (i.e.,\n",
       "     hard-copied) to a temporary file. See 'download.file' for more\n",
       "     details.\n",
       "\n",
       "_\bV_\ba_\bl_\bu_\be:\n",
       "\n",
       "     A 'data.table' by default, otherwise a 'data.frame' when argument\n",
       "     'data.table=FALSE'.\n",
       "\n",
       "_\bR_\be_\bf_\be_\br_\be_\bn_\bc_\be_\bs:\n",
       "\n",
       "     Background :\n",
       "     <URL: https://cran.r-project.org/doc/manuals/R-data.html>\n",
       "     <URL:\n",
       "     http://stackoverflow.com/questions/1727772/quickly-reading-very-large-tables-as-dataframes-in-r>\n",
       "     <URL:\n",
       "     http://www.biostat.jhsph.edu/~rpeng/docs/R-large-tables.html>\n",
       "     <URL:\n",
       "     http://www.cerebralmastication.com/2009/11/loading-big-data-into-r/>\n",
       "     <URL:\n",
       "     http://stackoverflow.com/questions/9061736/faster-than-scan-with-rcpp>\n",
       "     <URL:\n",
       "     http://stackoverflow.com/questions/415515/how-can-i-read-and-manipulate-csv-file-data-in-c>\n",
       "     <URL:\n",
       "     http://stackoverflow.com/questions/9352887/strategies-for-reading-in-csv-files-in-pieces>\n",
       "     <URL:\n",
       "     http://stackoverflow.com/questions/11782084/reading-in-large-text-files-in-r>\n",
       "     <URL:\n",
       "     http://stackoverflow.com/questions/45972/mmap-vs-reading-blocks>\n",
       "     <URL:\n",
       "     http://stackoverflow.com/questions/258091/when-should-i-use-mmap-for-file-access>\n",
       "     <URL: http://stackoverflow.com/a/9818473/403310>\n",
       "     <URL:\n",
       "     http://stackoverflow.com/questions/9608950/reading-huge-files-using-memory-mapped-files>\n",
       "\n",
       "     finagler = \"to get or achieve by guile or manipulation\" <URL:\n",
       "     http://dictionary.reference.com/browse/finagler>\n",
       "\n",
       "_\bS_\be_\be _\bA_\bl_\bs_\bo:\n",
       "\n",
       "     'read.csv', 'url', 'Sys.setlocale', 'setDTthreads', 'fwrite',\n",
       "     'bit64::integer64'\n",
       "\n",
       "_\bE_\bx_\ba_\bm_\bp_\bl_\be_\bs:\n",
       "\n",
       "     ## Not run:\n",
       "     \n",
       "     \n",
       "     # Demo speed-up\n",
       "     n = 1e6\n",
       "     DT = data.table( a=sample(1:1000,n,replace=TRUE),\n",
       "                      b=sample(1:1000,n,replace=TRUE),\n",
       "                      c=rnorm(n),\n",
       "                      d=sample(c(\"foo\",\"bar\",\"baz\",\"qux\",\"quux\"),n,replace=TRUE),\n",
       "                      e=rnorm(n),\n",
       "                      f=sample(1:1000,n,replace=TRUE) )\n",
       "     DT[2,b:=NA_integer_]\n",
       "     DT[4,c:=NA_real_]\n",
       "     DT[3,d:=NA_character_]\n",
       "     DT[5,d:=\"\"]\n",
       "     DT[2,e:=+Inf]\n",
       "     DT[3,e:=-Inf]\n",
       "     \n",
       "     write.table(DT,\"test.csv\",sep=\",\",row.names=FALSE,quote=FALSE)\n",
       "     cat(\"File size (MB):\", round(file.info(\"test.csv\")$size/1024^2),\"\\n\")\n",
       "     # 50 MB (1e6 rows x 6 columns)\n",
       "     \n",
       "     system.time(DF1 <-read.csv(\"test.csv\",stringsAsFactors=FALSE))\n",
       "     # 60 sec (first time in fresh R session)\n",
       "     \n",
       "     system.time(DF1 <- read.csv(\"test.csv\",stringsAsFactors=FALSE))\n",
       "     # 30 sec (immediate repeat is faster, varies)\n",
       "     \n",
       "     system.time(DF2 <- read.table(\"test.csv\",header=TRUE,sep=\",\",quote=\"\",\n",
       "         stringsAsFactors=FALSE,comment.char=\"\",nrows=n,\n",
       "         colClasses=c(\"integer\",\"integer\",\"numeric\",\n",
       "                      \"character\",\"numeric\",\"integer\")))\n",
       "     # 10 sec (consistently). All known tricks and known nrows, see references.\n",
       "     \n",
       "     require(data.table)\n",
       "     if(all(sapply(c(\"sqldf\", \"ff\"), requireNamespace, quietly = TRUE))) {\n",
       "       require(sqldf)\n",
       "       require(ff)\n",
       "     \n",
       "       system.time(DT <- fread(\"test.csv\"))\n",
       "       #  3 sec (faster and friendlier)\n",
       "     \n",
       "       system.time(SQLDF <- read.csv.sql(\"test.csv\",dbname=NULL))\n",
       "       # 20 sec (friendly too, good defaults)\n",
       "     \n",
       "       system.time(FFDF <- read.csv.ffdf(file=\"test.csv\",nrows=n))\n",
       "       # 20 sec (friendly too, good defaults)\n",
       "     \n",
       "       identical(DF1,DF2)\n",
       "       all.equal(as.data.table(DF1), DT)\n",
       "       identical(DF1,within(SQLDF,{b<-as.integer(b);c<-as.numeric(c)}))\n",
       "       identical(DF1,within(as.data.frame(FFDF),d<-as.character(d)))\n",
       "     }\n",
       "     \n",
       "     # Scaling up ...\n",
       "     l = vector(\"list\",10)\n",
       "     for (i in 1:10) l[[i]] = DT\n",
       "     DTbig = rbindlist(l)\n",
       "     tables()\n",
       "     write.table(DTbig,\"testbig.csv\",sep=\",\",row.names=FALSE,quote=FALSE)\n",
       "     # 500MB (10 million rows x 6 columns)\n",
       "     \n",
       "     system.time(DF <- read.table(\"testbig.csv\",header=TRUE,sep=\",\",\n",
       "         quote=\"\",stringsAsFactors=FALSE,comment.char=\"\",nrows=1e7,\n",
       "         colClasses=c(\"integer\",\"integer\",\"numeric\",\n",
       "                      \"character\",\"numeric\",\"integer\")))\n",
       "     # 100-200 sec (varies)\n",
       "     \n",
       "     system.time(DT <- fread(\"testbig.csv\"))\n",
       "     # 30-40 sec\n",
       "     \n",
       "     all(mapply(all.equal, DF, DT))\n",
       "     \n",
       "     \n",
       "     # Real data example (Airline data)\n",
       "     # http://stat-computing.org/dataexpo/2009/the-data.html\n",
       "     \n",
       "     download.file(\"http://stat-computing.org/dataexpo/2009/2008.csv.bz2\",\n",
       "                   destfile=\"2008.csv.bz2\")\n",
       "     # 109MB (compressed)\n",
       "     \n",
       "     system(\"bunzip2 2008.csv.bz2\")\n",
       "     # 658MB (7,009,728 rows x 29 columns)\n",
       "     \n",
       "     colClasses = sapply(read.csv(\"2008.csv\",nrows=100),class)\n",
       "     # 4 character, 24 integer, 1 logical. Incorrect.\n",
       "     \n",
       "     colClasses = sapply(read.csv(\"2008.csv\",nrows=200),class)\n",
       "     # 5 character, 24 integer. Correct. Might have missed data only using 100 rows\n",
       "     # since read.table assumes colClasses is correct.\n",
       "     \n",
       "     system.time(DF <- read.table(\"2008.csv\", header=TRUE, sep=\",\",\n",
       "         quote=\"\",stringsAsFactors=FALSE,comment.char=\"\",nrows=7009730,\n",
       "         colClasses=colClasses))\n",
       "     # 360 secs\n",
       "     \n",
       "     system.time(DT <- fread(\"2008.csv\"))\n",
       "     #  40 secs\n",
       "     \n",
       "     table(sapply(DT,class))\n",
       "     # 5 character and 24 integer columns. Correct without needing to worry about colClasses\n",
       "     # issue above.\n",
       "     \n",
       "     \n",
       "     # Reads URLs directly :\n",
       "     fread(\"http://www.stats.ox.ac.uk/pub/datasets/csb/ch11b.dat\")\n",
       "     \n",
       "     # Decompresses .gz and .bz2 automatically :\n",
       "     fread(\"http://stat-computing.org/dataexpo/2009/2008.csv.bz2\")\n",
       "     ## End(Not run)\n",
       "     \n",
       "     \n",
       "     # Reads text input directly :\n",
       "     fread(\"A,B\\n1,2\\n3,4\")\n",
       "     \n",
       "     # Reads pasted input directly :\n",
       "     fread(\"A,B\n",
       "     1,2\n",
       "     3,4\n",
       "     \")\n",
       "     \n",
       "     # Finds the first data line automatically :\n",
       "     fread(\"\n",
       "     This is perhaps a banner line or two or ten.\n",
       "     A,B\n",
       "     1,2\n",
       "     3,4\n",
       "     \")\n",
       "     \n",
       "     # Detects whether column names are present automatically :\n",
       "     fread(\"\n",
       "     1,2\n",
       "     3,4\n",
       "     \")\n",
       "     \n",
       "     # Numerical precision :\n",
       "     \n",
       "     DT = fread(\"A\\n1.010203040506070809010203040506\\n\")\n",
       "     # TODO: add numerals=c(\"allow.loss\", \"warn.loss\", \"no.loss\") from base::read.table, +\"use.Rmpfr\"\n",
       "     typeof(DT$A)==\"double\"   # currently \"allow.loss\" with no option\n",
       "     \n",
       "     DT = fread(\"A\\n1.46761e-313\\n\")   # read as 'numeric'\n",
       "     DT[,sprintf(\"%.15E\",A)]   # beyond what double precision can store accurately to 15 digits\n",
       "     # For greater accuracy use colClasses to read as character, then package Rmpfr.\n",
       "     \n",
       "     # colClasses\n",
       "     data = \"A,B,C,D\\n1,3,5,7\\n2,4,6,8\\n\"\n",
       "     fread(data, colClasses=c(B=\"character\",C=\"character\",D=\"character\"))  # as read.csv\n",
       "     fread(data, colClasses=list(character=c(\"B\",\"C\",\"D\")))    # saves typing\n",
       "     fread(data, colClasses=list(character=2:4))     # same using column numbers\n",
       "     \n",
       "     # drop\n",
       "     fread(data, colClasses=c(\"B\"=\"NULL\",\"C\"=\"NULL\"))   # as read.csv\n",
       "     fread(data, colClasses=list(NULL=c(\"B\",\"C\")))      #\n",
       "     fread(data, drop=c(\"B\",\"C\"))      # same but less typing, easier to read\n",
       "     fread(data, drop=2:3)             # same using column numbers\n",
       "     \n",
       "     # select\n",
       "     # (in read.csv you need to work out which to drop)\n",
       "     fread(data, select=c(\"A\",\"D\"))    # less typing, easier to read\n",
       "     fread(data, select=c(1,4))        # same using column numbers\n",
       "     \n",
       "     # skip blank lines\n",
       "     fread(\"a,b\\n1,a\\n2,b\\n\\n\\n3,c\\n\", blank.lines.skip=TRUE)\n",
       "     # fill\n",
       "     fread(\"a,b\\n1,a\\n2\\n3,c\\n\", fill=TRUE)\n",
       "     fread(\"a,b\\n\\n1,a\\n2\\n\\n3,c\\n\\n\", fill=TRUE)\n",
       "     \n",
       "     # fill with skip blank lines\n",
       "     fread(\"a,b\\n\\n1,a\\n2\\n\\n3,c\\n\\n\", fill=TRUE, blank.lines.skip=TRUE)\n",
       "     \n",
       "     # check.names usage\n",
       "     fread(\"a b,a b\\n1,2\\n\")\n",
       "     fread(\"a b,a b\\n1,2\\n\", check.names=TRUE) # no duplicates + syntactically valid names\n",
       "     "
      ]
     },
     "metadata": {},
     "output_type": "display_data"
    }
   ],
   "source": [
    "?fread"
   ]
  },
  {
   "cell_type": "code",
   "execution_count": 52,
   "id": "165bcdaf-41f1-43c2-971e-d2689e6b7358",
   "metadata": {},
   "outputs": [],
   "source": [
    "mt<-fread('https://raw.githubusercontent.com/selva86/datasets/master/mtcars.csv')"
   ]
  },
  {
   "cell_type": "code",
   "execution_count": 55,
   "id": "41a89a47-81b2-43dd-b752-51d501f24a83",
   "metadata": {},
   "outputs": [
    {
     "data": {
      "text/html": [
       "<table>\n",
       "<thead><tr><th scope=col>mpg</th><th scope=col>cyl</th><th scope=col>disp</th><th scope=col>hp</th><th scope=col>drat</th><th scope=col>wt</th><th scope=col>qsec</th><th scope=col>vs</th><th scope=col>am</th><th scope=col>gear</th><th scope=col>carb</th><th scope=col>fast</th><th scope=col>cars</th><th scope=col>carname</th></tr></thead>\n",
       "<tbody>\n",
       "\t<tr><td>4.582576         </td><td>6                </td><td>160              </td><td>110              </td><td>3.90             </td><td>2.620            </td><td>16.46            </td><td>0                </td><td>1                </td><td>4                </td><td>4                </td><td>1                </td><td>Mazda RX4        </td><td>Mazda RX4        </td></tr>\n",
       "\t<tr><td>4.582576         </td><td>6                </td><td>160              </td><td>110              </td><td>3.90             </td><td>2.875            </td><td>17.02            </td><td>0                </td><td>1                </td><td>4                </td><td>4                </td><td>1                </td><td>Mazda RX4 Wag    </td><td>Mazda RX4 Wag    </td></tr>\n",
       "\t<tr><td>4.774935         </td><td>4                </td><td>108              </td><td> 93              </td><td>3.85             </td><td>2.320            </td><td>18.61            </td><td>1                </td><td>1                </td><td>4                </td><td>1                </td><td>1                </td><td>Datsun 710       </td><td>Datsun 710       </td></tr>\n",
       "\t<tr><td>4.626013         </td><td>6                </td><td>258              </td><td>110              </td><td>3.08             </td><td>3.215            </td><td>19.44            </td><td>1                </td><td>0                </td><td>3                </td><td>1                </td><td>1                </td><td>Hornet 4 Drive   </td><td>Hornet 4 Drive   </td></tr>\n",
       "\t<tr><td>4.324350         </td><td>8                </td><td>360              </td><td>175              </td><td>3.15             </td><td>3.440            </td><td>17.02            </td><td>0                </td><td>0                </td><td>3                </td><td>2                </td><td>1                </td><td>Hornet Sportabout</td><td>Hornet Sportabout</td></tr>\n",
       "\t<tr><td>4.254409         </td><td>6                </td><td>225              </td><td>105              </td><td>2.76             </td><td>3.460            </td><td>20.22            </td><td>1                </td><td>0                </td><td>3                </td><td>1                </td><td>1                </td><td>Valiant          </td><td>Valiant          </td></tr>\n",
       "</tbody>\n",
       "</table>\n"
      ],
      "text/latex": [
       "\\begin{tabular}{r|llllllllllllll}\n",
       " mpg & cyl & disp & hp & drat & wt & qsec & vs & am & gear & carb & fast & cars & carname\\\\\n",
       "\\hline\n",
       "\t 4.582576          & 6                 & 160               & 110               & 3.90              & 2.620             & 16.46             & 0                 & 1                 & 4                 & 4                 & 1                 & Mazda RX4         & Mazda RX4        \\\\\n",
       "\t 4.582576          & 6                 & 160               & 110               & 3.90              & 2.875             & 17.02             & 0                 & 1                 & 4                 & 4                 & 1                 & Mazda RX4 Wag     & Mazda RX4 Wag    \\\\\n",
       "\t 4.774935          & 4                 & 108               &  93               & 3.85              & 2.320             & 18.61             & 1                 & 1                 & 4                 & 1                 & 1                 & Datsun 710        & Datsun 710       \\\\\n",
       "\t 4.626013          & 6                 & 258               & 110               & 3.08              & 3.215             & 19.44             & 1                 & 0                 & 3                 & 1                 & 1                 & Hornet 4 Drive    & Hornet 4 Drive   \\\\\n",
       "\t 4.324350          & 8                 & 360               & 175               & 3.15              & 3.440             & 17.02             & 0                 & 0                 & 3                 & 2                 & 1                 & Hornet Sportabout & Hornet Sportabout\\\\\n",
       "\t 4.254409          & 6                 & 225               & 105               & 2.76              & 3.460             & 20.22             & 1                 & 0                 & 3                 & 1                 & 1                 & Valiant           & Valiant          \\\\\n",
       "\\end{tabular}\n"
      ],
      "text/markdown": [
       "\n",
       "| mpg | cyl | disp | hp | drat | wt | qsec | vs | am | gear | carb | fast | cars | carname |\n",
       "|---|---|---|---|---|---|---|---|---|---|---|---|---|---|\n",
       "| 4.582576          | 6                 | 160               | 110               | 3.90              | 2.620             | 16.46             | 0                 | 1                 | 4                 | 4                 | 1                 | Mazda RX4         | Mazda RX4         |\n",
       "| 4.582576          | 6                 | 160               | 110               | 3.90              | 2.875             | 17.02             | 0                 | 1                 | 4                 | 4                 | 1                 | Mazda RX4 Wag     | Mazda RX4 Wag     |\n",
       "| 4.774935          | 4                 | 108               |  93               | 3.85              | 2.320             | 18.61             | 1                 | 1                 | 4                 | 1                 | 1                 | Datsun 710        | Datsun 710        |\n",
       "| 4.626013          | 6                 | 258               | 110               | 3.08              | 3.215             | 19.44             | 1                 | 0                 | 3                 | 1                 | 1                 | Hornet 4 Drive    | Hornet 4 Drive    |\n",
       "| 4.324350          | 8                 | 360               | 175               | 3.15              | 3.440             | 17.02             | 0                 | 0                 | 3                 | 2                 | 1                 | Hornet Sportabout | Hornet Sportabout |\n",
       "| 4.254409          | 6                 | 225               | 105               | 2.76              | 3.460             | 20.22             | 1                 | 0                 | 3                 | 1                 | 1                 | Valiant           | Valiant           |\n",
       "\n"
      ],
      "text/plain": [
       "  mpg      cyl disp hp  drat wt    qsec  vs am gear carb fast cars             \n",
       "1 4.582576 6   160  110 3.90 2.620 16.46 0  1  4    4    1    Mazda RX4        \n",
       "2 4.582576 6   160  110 3.90 2.875 17.02 0  1  4    4    1    Mazda RX4 Wag    \n",
       "3 4.774935 4   108   93 3.85 2.320 18.61 1  1  4    1    1    Datsun 710       \n",
       "4 4.626013 6   258  110 3.08 3.215 19.44 1  0  3    1    1    Hornet 4 Drive   \n",
       "5 4.324350 8   360  175 3.15 3.440 17.02 0  0  3    2    1    Hornet Sportabout\n",
       "6 4.254409 6   225  105 2.76 3.460 20.22 1  0  3    1    1    Valiant          \n",
       "  carname          \n",
       "1 Mazda RX4        \n",
       "2 Mazda RX4 Wag    \n",
       "3 Datsun 710       \n",
       "4 Hornet 4 Drive   \n",
       "5 Hornet Sportabout\n",
       "6 Valiant          "
      ]
     },
     "metadata": {},
     "output_type": "display_data"
    }
   ],
   "source": [
    "head(mt)"
   ]
  },
  {
   "cell_type": "code",
   "execution_count": 56,
   "id": "90174a3c-64f7-4f52-811d-2561ff298304",
   "metadata": {},
   "outputs": [
    {
     "data": {
      "text/html": [
       "<ol class=list-inline>\n",
       "\t<li>'data.table'</li>\n",
       "\t<li>'data.frame'</li>\n",
       "</ol>\n"
      ],
      "text/latex": [
       "\\begin{enumerate*}\n",
       "\\item 'data.table'\n",
       "\\item 'data.frame'\n",
       "\\end{enumerate*}\n"
      ],
      "text/markdown": [
       "1. 'data.table'\n",
       "2. 'data.frame'\n",
       "\n",
       "\n"
      ],
      "text/plain": [
       "[1] \"data.table\" \"data.frame\""
      ]
     },
     "metadata": {},
     "output_type": "display_data"
    }
   ],
   "source": [
    "class(mt)"
   ]
  },
  {
   "cell_type": "code",
   "execution_count": 59,
   "id": "27264e26-351b-4090-a436-5627359c53b5",
   "metadata": {},
   "outputs": [
    {
     "data": {
      "text/html": [
       "32"
      ],
      "text/latex": [
       "32"
      ],
      "text/markdown": [
       "32"
      ],
      "text/plain": [
       "[1] 32"
      ]
     },
     "metadata": {},
     "output_type": "display_data"
    },
    {
     "data": {
      "text/html": [
       "14"
      ],
      "text/latex": [
       "14"
      ],
      "text/markdown": [
       "14"
      ],
      "text/plain": [
       "[1] 14"
      ]
     },
     "metadata": {},
     "output_type": "display_data"
    },
    {
     "name": "stdout",
     "output_type": "stream",
     "text": [
      "Classes 'data.table' and 'data.frame':\t32 obs. of  14 variables:\n",
      " $ mpg    : num  4.58 4.58 4.77 4.63 4.32 ...\n",
      " $ cyl    : int  6 6 4 6 8 6 8 4 4 6 ...\n",
      " $ disp   : num  160 160 108 258 360 ...\n",
      " $ hp     : int  110 110 93 110 175 105 245 62 95 123 ...\n",
      " $ drat   : num  3.9 3.9 3.85 3.08 3.15 2.76 3.21 3.69 3.92 3.92 ...\n",
      " $ wt     : num  2.62 2.88 2.32 3.21 3.44 ...\n",
      " $ qsec   : num  16.5 17 18.6 19.4 17 ...\n",
      " $ vs     : int  0 0 1 1 0 1 0 1 1 1 ...\n",
      " $ am     : int  1 1 1 0 0 0 0 0 0 0 ...\n",
      " $ gear   : int  4 4 4 3 3 3 3 4 4 4 ...\n",
      " $ carb   : int  4 4 1 1 2 1 4 2 2 4 ...\n",
      " $ fast   : int  1 1 1 1 1 1 0 1 1 1 ...\n",
      " $ cars   : chr  \"Mazda RX4\" \"Mazda RX4 Wag\" \"Datsun 710\" \"Hornet 4 Drive\" ...\n",
      " $ carname: chr  \"Mazda RX4\" \"Mazda RX4 Wag\" \"Datsun 710\" \"Hornet 4 Drive\" ...\n",
      " - attr(*, \".internal.selfref\")=<externalptr> \n"
     ]
    }
   ],
   "source": [
    "nrow(mt)\n",
    "ncol(mt)\n",
    "str(mt)\n"
   ]
  },
  {
   "cell_type": "code",
   "execution_count": 60,
   "id": "fda41cfc-4d56-4772-8d9e-240324ee5188",
   "metadata": {},
   "outputs": [
    {
     "data": {
      "text/plain": [
       "      mpg             cyl             disp             hp       \n",
       " Min.   :3.225   Min.   :4.000   Min.   : 71.1   Min.   : 52.0  \n",
       " 1st Qu.:3.927   1st Qu.:4.000   1st Qu.:120.8   1st Qu.: 96.5  \n",
       " Median :4.382   Median :6.000   Median :196.3   Median :123.0  \n",
       " Mean   :4.435   Mean   :6.188   Mean   :230.7   Mean   :146.7  \n",
       " 3rd Qu.:4.775   3rd Qu.:8.000   3rd Qu.:326.0   3rd Qu.:180.0  \n",
       " Max.   :5.822   Max.   :8.000   Max.   :472.0   Max.   :335.0  \n",
       "      drat             wt             qsec             vs        \n",
       " Min.   :2.760   Min.   :1.513   Min.   :14.50   Min.   :0.0000  \n",
       " 1st Qu.:3.080   1st Qu.:2.581   1st Qu.:16.89   1st Qu.:0.0000  \n",
       " Median :3.695   Median :3.325   Median :17.71   Median :0.0000  \n",
       " Mean   :3.597   Mean   :3.217   Mean   :17.85   Mean   :0.4375  \n",
       " 3rd Qu.:3.920   3rd Qu.:3.610   3rd Qu.:18.90   3rd Qu.:1.0000  \n",
       " Max.   :4.930   Max.   :5.424   Max.   :22.90   Max.   :1.0000  \n",
       "       am              gear            carb            fast       \n",
       " Min.   :0.0000   Min.   :3.000   Min.   :1.000   Min.   :0.0000  \n",
       " 1st Qu.:0.0000   1st Qu.:3.000   1st Qu.:2.000   1st Qu.:0.0000  \n",
       " Median :0.0000   Median :4.000   Median :2.000   Median :1.0000  \n",
       " Mean   :0.4062   Mean   :3.688   Mean   :2.812   Mean   :0.6875  \n",
       " 3rd Qu.:1.0000   3rd Qu.:4.000   3rd Qu.:4.000   3rd Qu.:1.0000  \n",
       " Max.   :1.0000   Max.   :5.000   Max.   :8.000   Max.   :1.0000  \n",
       "     cars             carname         \n",
       " Length:32          Length:32         \n",
       " Class :character   Class :character  \n",
       " Mode  :character   Mode  :character  \n",
       "                                      \n",
       "                                      \n",
       "                                      "
      ]
     },
     "metadata": {},
     "output_type": "display_data"
    }
   ],
   "source": [
    "summary(mt)"
   ]
  },
  {
   "cell_type": "markdown",
   "id": "60b591f0-2499-4746-ac33-fd3727322ae0",
   "metadata": {},
   "source": [
    "## $ operator will get the specific column form the dataframe"
   ]
  },
  {
   "cell_type": "code",
   "execution_count": 64,
   "id": "7607f522-160b-4a2c-b13b-b8c3e1884a62",
   "metadata": {},
   "outputs": [
    {
     "data": {
      "text/html": [
       "<ol class=list-inline>\n",
       "\t<li>0</li>\n",
       "\t<li>0</li>\n",
       "\t<li>1</li>\n",
       "\t<li>1</li>\n",
       "\t<li>0</li>\n",
       "\t<li>1</li>\n",
       "</ol>\n"
      ],
      "text/latex": [
       "\\begin{enumerate*}\n",
       "\\item 0\n",
       "\\item 0\n",
       "\\item 1\n",
       "\\item 1\n",
       "\\item 0\n",
       "\\item 1\n",
       "\\end{enumerate*}\n"
      ],
      "text/markdown": [
       "1. 0\n",
       "2. 0\n",
       "3. 1\n",
       "4. 1\n",
       "5. 0\n",
       "6. 1\n",
       "\n",
       "\n"
      ],
      "text/plain": [
       "[1] 0 0 1 1 0 1"
      ]
     },
     "metadata": {},
     "output_type": "display_data"
    }
   ],
   "source": [
    "head(mt$vs)"
   ]
  },
  {
   "cell_type": "code",
   "execution_count": null,
   "id": "2d673d0f-19f8-4869-bc72-36aca2bb36a5",
   "metadata": {},
   "outputs": [],
   "source": []
  }
 ],
 "metadata": {
  "kernelspec": {
   "display_name": "R",
   "language": "R",
   "name": "ir"
  },
  "language_info": {
   "codemirror_mode": "r",
   "file_extension": ".r",
   "mimetype": "text/x-r-source",
   "name": "R",
   "pygments_lexer": "r",
   "version": "3.6.1"
  }
 },
 "nbformat": 4,
 "nbformat_minor": 5
}
