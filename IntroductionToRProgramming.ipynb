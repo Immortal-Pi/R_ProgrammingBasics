{
 "cells": [
  {
   "cell_type": "code",
   "execution_count": null,
   "id": "34ed3c88-b431-4640-abbe-45fb257ee31f",
   "metadata": {},
   "outputs": [],
   "source": []
  }
 ],
 "metadata": {
  "kernelspec": {
   "display_name": "R",
   "language": "R",
   "name": "ir"
  },
  "language_info": {
   "codemirror_mode": "r",
   "file_extension": ".r",
   "mimetype": "text/x-r-source",
   "name": "R",
   "pygments_lexer": "r",
   "version": "3.6.1"
  }
 },
 "nbformat": 4,
 "nbformat_minor": 5
}
